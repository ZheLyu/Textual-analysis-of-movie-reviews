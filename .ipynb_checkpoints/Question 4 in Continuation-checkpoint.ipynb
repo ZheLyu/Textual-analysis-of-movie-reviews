{
 "cells": [
  {
   "cell_type": "markdown",
   "metadata": {},
   "source": [
    "# Case Study 3 : Textual analysis of movie reviews\n",
    "\n",
    "** Due Date: November 16, 2017, BEFORE the beginning of class at 6:00pm **\n",
    "\n",
    "NOTE: There are always last minute issues submitting the case studies. DO NOT WAIT UNTIL THE LAST MINUTE!\n",
    "\n",
    "*------------"
   ]
  },
  {
   "cell_type": "markdown",
   "metadata": {},
   "source": [
    "<img src=\"http://www.conversational-technologies.com/nldemos/nlWordle.GIF\">"
   ]
  },
  {
   "cell_type": "markdown",
   "metadata": {},
   "source": [
    "**TEAM Members:** Please EDIT this cell and add the names of all the team members in your team\n",
    "\n",
    "TEAM 14\n",
    "\n",
    "Mickey K.\n",
    "Andrew L.\n",
    "Robin L.\n",
    "Brandon W.\n",
    "Todd H."
   ]
  },
  {
   "cell_type": "markdown",
   "metadata": {},
   "source": [
    "**Desired outcome of the case study.**\n",
    "* In this case study we will look at movie reviews from the v2.0 polarity dataset comes from\n",
    "the http://www.cs.cornell.edu/people/pabo/movie-review-data.\n",
    "    * It contains written reviews of movies divided into positive and negative reviews.\n",
    "* As in Case Study 2 idea is to *analyze* the data set, make *conjectures*, support or refute those conjectures with *data*, and *tell a story* about the data!\n",
    "    \n",
    "**Required Readings:** \n",
    "* This case study will be based upon the scikit-learn Python library\n",
    "* We will build upon the turtorial \"Working With Text Data\" which can be found at http://scikit-learn.org/stable/tutorial/text_analytics/working_with_text_data.html\n",
    "\n",
    "**Case study assumptions:**\n",
    "* You have access to a python installation\n",
    "\n",
    "**Required Python libraries:**\n",
    "* Numpy (www.numpy.org) (should already be installed from Case Study 2)\n",
    "* Matplotlib (matplotlib.org) (should already be installed from Case Study 2)\n",
    "* Scikit-learn (scikit-learn.org) (avaiable from Anaconda)\n",
    "* You are also welcome to use the Python Natural Language Processing Toolkit (www.nltk.org) (though it is not required).\n",
    "\n",
    "** NOTE **\n",
    "* Please don't forget to save the notebook frequently when working in IPython Notebook, otherwise the changes you made can be lost.\n",
    "\n",
    "*----------------------"
   ]
  },
  {
   "cell_type": "markdown",
   "metadata": {},
   "source": [
    "## Problem 1 (20 points): Complete Exercise 2: Sentiment Analysis on movie reviews from http://scikit-learn.org/stable/tutorial/text_analytics/working_with_text_data.html"
   ]
  },
  {
   "cell_type": "markdown",
   "metadata": {},
   "source": [
    "* Assuming that you have downloaded the scikit-learn source code (depending on your distribution, you may need to download this directly from Gitub at https://github.com/scikit-learn/scikit-learn):\n",
    "    * The data cane be downloaded using doc/tutorial/text_analytics/data/movie_reviews/fetch_data.py\n",
    "    * A skeleton for the solution can be found in doc/tutorial/text_analytics/skeletons/exercise_02_sentiment.py\n",
    "    * A completed solution can be found in doc/tutorial/text_analytics/solutions/exercise_02_sentiment.py\n",
    "* **It is ok to use the solution provided in the scikit-learn distribution as a starting place for your work.**\n",
    "\n",
    "### Modify the solution to Exercise 2 so that it can run in this iPython notebook\n",
    "* This will likely involved moving around data files and/or small modifications to the script."
   ]
  },
  {
   "cell_type": "code",
   "execution_count": 2,
   "metadata": {
    "collapsed": true
   },
   "outputs": [],
   "source": [
    "# script to download the data\n",
    "# ---------------------------\n",
    "# it will create a subfolder called 'txt_sentoken' in the path where this script was executed.\n",
    "# in my case, the full Windows path is 'C:\\Users\\hayfa\\Documents\\DS 501\\Case Study 3\\txt_sentoken'\n",
    "\n",
    "\"\"\"Script to download the movie review dataset\"\"\"\n",
    "import os\n",
    "import tarfile\n",
    "from contextlib import closing\n",
    "try:\n",
    "    from urllib import urlopen\n",
    "except ImportError:\n",
    "    from urllib.request import urlopen\n",
    "\n",
    "\n",
    "URL = (\"http://www.cs.cornell.edu/people/pabo/\"\n",
    "       \"movie-review-data/review_polarity.tar.gz\")\n",
    "\n",
    "ARCHIVE_NAME = URL.rsplit('/', 1)[1]\n",
    "DATA_FOLDER = \"txt_sentoken\"\n",
    "\n",
    "\n",
    "if not os.path.exists(DATA_FOLDER):\n",
    "\n",
    "    if not os.path.exists(ARCHIVE_NAME):\n",
    "        print(\"Downloading dataset from %s (3 MB)\" % URL)\n",
    "        opener = urlopen(URL)\n",
    "        with open(ARCHIVE_NAME, 'wb') as archive:\n",
    "            archive.write(opener.read())\n",
    "\n",
    "    print(\"Decompressing %s\" % ARCHIVE_NAME)\n",
    "    with closing(tarfile.open(ARCHIVE_NAME, \"r:gz\")) as archive:\n",
    "        archive.extractall(path='.')\n",
    "    os.remove(ARCHIVE_NAME)"
   ]
  },
  {
   "cell_type": "code",
   "execution_count": 23,
   "metadata": {
    "collapsed": true
   },
   "outputs": [],
   "source": [
    "# Modify the solution to Exercise 2 so that it can run in this iPython notebook\n",
    "# ------------------------------------------------------------------------------\n",
    "# breaking the code into separate cells for readability\n",
    "# import the required libraries\n",
    "#\n",
    "\"\"\"Build a sentiment analysis / polarity model\n",
    "Sentiment analysis can be casted as a binary text classification problem,\n",
    "that is fitting a linear classifier on features extracted from the text\n",
    "of the user messages so as to guess wether the opinion of the author is\n",
    "positive or negative.\n",
    "In this examples we will use a movie review dataset.\n",
    "\"\"\"\n",
    "# Author: Olivier Grisel <olivier.grisel@ensta.org>\n",
    "# License: Simplified BSD\n",
    "\n",
    "import sys\n",
    "from sklearn.feature_extraction.text import TfidfVectorizer\n",
    "from sklearn.svm import LinearSVC\n",
    "from sklearn.pipeline import Pipeline\n",
    "from sklearn.model_selection import GridSearchCV\n",
    "from sklearn.datasets import load_files\n",
    "from sklearn.model_selection import train_test_split\n",
    "from sklearn import metrics  \n",
    "from sklearn.naive_bayes import MultinomialNB\n",
    "\n",
    "import numpy as np\n",
    "\n",
    "import pandas as pd\n",
    "\n",
    "import matplotlib.pyplot as plt\n",
    "%matplotlib inline"
   ]
  },
  {
   "cell_type": "code",
   "execution_count": 24,
   "metadata": {},
   "outputs": [
    {
     "name": "stdout",
     "output_type": "stream",
     "text": [
      "n_samples: 2000\n"
     ]
    }
   ],
   "source": [
    "# the way the data is loaded it ends up in the folder where this script runs so just skip to \"dataset = ...\"\n",
    "dataset = load_files('./txt_sentoken/', shuffle=False)\n",
    "print(\"n_samples: %d\" % len(dataset.data))"
   ]
  },
  {
   "cell_type": "code",
   "execution_count": 25,
   "metadata": {
    "collapsed": true
   },
   "outputs": [],
   "source": [
    "# split the dataset into training and test set:\n",
    "docs_train, docs_test, y_train, y_test = train_test_split(\n",
    "    dataset.data, dataset.target, test_size=0.25, random_state=False)"
   ]
  },
  {
   "cell_type": "code",
   "execution_count": 26,
   "metadata": {},
   "outputs": [
    {
     "data": {
      "text/plain": [
       "2000"
      ]
     },
     "execution_count": 26,
     "metadata": {},
     "output_type": "execute_result"
    }
   ],
   "source": [
    "# confirm the source datset contains 2000 reviews\n",
    "len(dataset.data)"
   ]
  },
  {
   "cell_type": "code",
   "execution_count": 27,
   "metadata": {},
   "outputs": [
    {
     "name": "stdout",
     "output_type": "stream",
     "text": [
      "1500\n",
      "2000\n"
     ]
    },
    {
     "data": {
      "text/plain": [
       "'75.0%'"
      ]
     },
     "execution_count": 27,
     "metadata": {},
     "output_type": "execute_result"
    }
   ],
   "source": [
    "# confirm that the train size is 75% of the total dataset \n",
    "print(len(docs_train))\n",
    "print(len(dataset.data))\n",
    "str(len(docs_train) / len(dataset.data) * 100) + '%'"
   ]
  },
  {
   "cell_type": "code",
   "execution_count": 28,
   "metadata": {},
   "outputs": [
    {
     "name": "stdout",
     "output_type": "stream",
     "text": [
      "500\n",
      "2000\n"
     ]
    },
    {
     "data": {
      "text/plain": [
       "'25.0%'"
      ]
     },
     "execution_count": 28,
     "metadata": {},
     "output_type": "execute_result"
    }
   ],
   "source": [
    "# confirm that the test size is 25% of total dataset\n",
    "print(len(docs_test))\n",
    "print(len(dataset.data))\n",
    "str(len(docs_test) / len(dataset.data) * 100) + '%'"
   ]
  },
  {
   "cell_type": "code",
   "execution_count": 29,
   "metadata": {},
   "outputs": [
    {
     "name": "stdout",
     "output_type": "stream",
     "text": [
      "[0, 1]\n",
      "['neg', 'pos']\n"
     ]
    }
   ],
   "source": [
    "# check the index values and names of the target (category label)\n",
    "list = dataset.target; new_list = []; [new_list.append(x) for x in list if x not in new_list]\n",
    "print(new_list)\n",
    "print(dataset.target_names)"
   ]
  },
  {
   "cell_type": "code",
   "execution_count": 61,
   "metadata": {},
   "outputs": [
    {
     "name": "stdout",
     "output_type": "stream",
     "text": [
      "1\n",
      "0\n"
     ]
    }
   ],
   "source": [
    "# check the target attribute (integer) of text review #1500\n",
    "print(dataset.target[1500]) \n",
    "# chek the target attribute (integer) of text review #25\n",
    "print(dataset.target[25])"
   ]
  },
  {
   "cell_type": "code",
   "execution_count": 31,
   "metadata": {},
   "outputs": [
    {
     "name": "stdout",
     "output_type": "stream",
     "text": [
      "./txt_sentoken/pos\\cv500_10251.txt\n",
      "b\"losing a job is not an all too uncommon thing . \\nreacting to such a personal setback by taking a group of small children hostage is a bit more rare . \\nwhile we all might feel the desire to blow someone's head off with a shotg\"\n"
     ]
    }
   ],
   "source": [
    "# Check the filename and text review of text review #1500\n",
    "# The files themselves are loaded in memory in the data attribute. For reference the filenames are also available\n",
    "print(dataset.filenames[1500])\n",
    "print(dataset.data[1500][:225])  #print the first 225 characters of review # 1500"
   ]
  },
  {
   "cell_type": "code",
   "execution_count": 32,
   "metadata": {},
   "outputs": [
    {
     "data": {
      "text/plain": [
       "list"
      ]
     },
     "execution_count": 32,
     "metadata": {},
     "output_type": "execute_result"
    }
   ],
   "source": [
    "#check the datatype for docs_train\n",
    "type(docs_train)"
   ]
  },
  {
   "cell_type": "markdown",
   "metadata": {},
   "source": [
    "**Use the solution provided in the scikit-learn distribution as a starting place for your work.**"
   ]
  },
  {
   "cell_type": "code",
   "execution_count": 33,
   "metadata": {},
   "outputs": [
    {
     "name": "stdout",
     "output_type": "stream",
     "text": [
      "0 params - {'vect__ngram_range': (1, 1)}; mean - 0.81; std - 0.01\n",
      "1 params - {'vect__ngram_range': (1, 2)}; mean - 0.81; std - 0.01\n"
     ]
    }
   ],
   "source": [
    "# TASK: Build a vectorizer / classifier pipeline that filters out tokens\n",
    "# that are too rare or too frequent\n",
    "pipeline = Pipeline([\n",
    "    ('vect', TfidfVectorizer(stop_words='english', min_df=3, max_df=0.95)),\n",
    "    ('clf', LinearSVC(C=1000)),\n",
    "])\n",
    "\n",
    "# TASK: Build a grid search to find out whether unigrams or bigrams are\n",
    "# more useful.\n",
    "# Fit the pipeline on the training set using grid search for the parameters\n",
    "parameters = {\n",
    "    'vect__ngram_range': [(1, 1), (1, 2)],\n",
    "    }\n",
    "grid_search = GridSearchCV(pipeline, parameters, n_jobs=-1) #'n_jobs = -1' means use all the CPU cores\n",
    "grid_search.fit(docs_train, y_train)\n",
    "\n",
    "# TASK: print the mean and std for each grid search candidate along with the parameter\n",
    "# settings for all the candidates explored by grid search.\n",
    "n_candidates = len(grid_search.cv_results_['params'])\n",
    "for i in range(n_candidates):\n",
    "    print(i, 'params - %s; mean - %0.2f; std - %0.2f'\n",
    "             % (grid_search.cv_results_['params'][i],\n",
    "                grid_search.cv_results_['mean_test_score'][i],\n",
    "                grid_search.cv_results_['std_test_score'][i]))\n",
    "    "
   ]
  },
  {
   "cell_type": "code",
   "execution_count": 34,
   "metadata": {},
   "outputs": [
    {
     "name": "stdout",
     "output_type": "stream",
     "text": [
      "[0.81266666666666665, 0.81266666666666665]\n"
     ]
    },
    {
     "name": "stderr",
     "output_type": "stream",
     "text": [
      "C:\\Users\\hayfa\\Anaconda3\\lib\\site-packages\\sklearn\\model_selection\\_search.py:761: DeprecationWarning: The grid_scores_ attribute was deprecated in version 0.18 in favor of the more elaborate cv_results_ attribute. The grid_scores_ attribute will not be available from 0.20\n",
      "  DeprecationWarning)\n"
     ]
    },
    {
     "data": {
      "text/plain": [
       "<matplotlib.text.Text at 0x20847a54b00>"
      ]
     },
     "execution_count": 34,
     "metadata": {},
     "output_type": "execute_result"
    },
    {
     "data": {
      "image/png": "[encoded data removed]",
      "text/plain": [
       "<matplotlib.figure.Figure at 0x2084bf03588>"
      ]
     },
     "metadata": {},
     "output_type": "display_data"
    }
   ],
   "source": [
    "# graph the results of different parameters\n",
    "grid_mean_scores = [result.mean_validation_score for result in grid_search.grid_scores_]\n",
    "print(grid_mean_scores)\n",
    "plt.plot( grid_mean_scores)\n",
    "plt.xlabel('Parameter Combo')\n",
    "plt.ylabel('Mean Score from Grid Search')\n",
    "plt.title('Performance of each Parameter')"
   ]
  },
  {
   "cell_type": "markdown",
   "metadata": {},
   "source": [
    "---"
   ]
  },
  {
   "cell_type": "markdown",
   "metadata": {},
   "source": [
    "## Problem 2 (20 points): Explore the scikit-learn TfidVectorizer class\n",
    "\n",
    "**Read the documentation for the TfidVectorizer class at http://scikit-learn.org/stable/modules/generated/sklearn.feature_extraction.text.TfidfVectorizer.html.** \n",
    "* Define the term frequency–inverse document frequency (TF-IDF) statistic (http://en.wikipedia.org/wiki/Tf%E2%80%93idf will likely help).\n",
    "* Run the TfidVectorizer class on the training data above (docs_train).\n",
    "* Explore the min_df and max_df parameters of TfidVectorizer.  What do they mean? How do they change the features you get?\n",
    "* Explore the ngram_range parameter of TfidVectorizer.  What does it mean? How does it change the features you get? (Note, large values  of ngram_range may take a long time to run!)"
   ]
  },
  {
   "cell_type": "markdown",
   "metadata": {
    "collapsed": true
   },
   "source": [
    "**Q: Define the term frequency–inverse document frequency (TF-IDF) statistic**\n",
    "\n",
    "**A: Term Frequency–Inverse Document Frequency (TF-IDF) Is a numerical statistic that is intended to reflect how important a word is to a document in a collection or corpus. It is often used as a weighting factor in information retrieval, text mining, and user modeling. The tf-idf value increases proportionally to the number of times a word appears in the document, but is often offset by the frequency of the word in the corpus, which helps to adjust for the fact that some words appear more frequently in general.**"
   ]
  },
  {
   "cell_type": "markdown",
   "metadata": {},
   "source": [
    "**Run the TfidfVectorizer class on the training data above (docs_train)**"
   ]
  },
  {
   "cell_type": "code",
   "execution_count": 35,
   "metadata": {},
   "outputs": [
    {
     "data": {
      "text/plain": [
       "(1500, 35321)"
      ]
     },
     "execution_count": 35,
     "metadata": {},
     "output_type": "execute_result"
    }
   ],
   "source": [
    "# run thenTfidfVectorizer class on the training data\n",
    "docs_train_tfidf = TfidfVectorizer().fit_transform(docs_train)\n",
    "docs_train_tfidf.shape"
   ]
  },
  {
   "cell_type": "code",
   "execution_count": 36,
   "metadata": {},
   "outputs": [
    {
     "data": {
      "text/plain": [
       "scipy.sparse.csr.csr_matrix"
      ]
     },
     "execution_count": 36,
     "metadata": {},
     "output_type": "execute_result"
    }
   ],
   "source": [
    "# check the type returned by the TfidfVectorizer class\n",
    "type(docs_train_tfidf)"
   ]
  },
  {
   "cell_type": "code",
   "execution_count": 37,
   "metadata": {},
   "outputs": [
    {
     "name": "stdout",
     "output_type": "stream",
     "text": [
      "  (0, 34287)\t0.033761978762\n",
      "  (0, 26832)\t0.107100974565\n",
      "  (0, 31733)\t0.160225937218\n",
      "  (0, 9283)\t0.0263195873761\n",
      "  (0, 29200)\t0.0231502713954\n",
      "  (0, 1031)\t0.0329599504009\n",
      "  (0, 12551)\t0.0243572460659\n",
      "  (0, 4882)\t0.242754213518\n",
      "  (0, 22722)\t0.0496638489517\n",
      "  (0, 4785)\t0.0655461011377\n",
      "  (0, 31794)\t0.112357594951\n",
      "  (0, 14760)\t0.111470698955\n",
      "  (0, 29580)\t0.0534086457393\n",
      "  (0, 21905)\t0.00950602271053\n",
      "  (0, 22609)\t0.0569831982567\n",
      "  (0, 12090)\t0.0485508427036\n",
      "  (0, 34712)\t0.0505670131275\n",
      "  (0, 3192)\t0.0380097744442\n",
      "  (0, 16722)\t0.274255260551\n",
      "  (0, 11745)\t0.0713715016918\n",
      "  (0, 28171)\t0.0420595133729\n",
      "  (0, 10518)\t0.0265005032512\n",
      "  (0, 21782)\t0.0528273398567\n",
      "  (0, 33764)\t0.0433609621054\n",
      "  (0, 11529)\t0.0294560949324\n",
      "  :\t:\n",
      "  (1499, 7526)\t0.0589620690689\n",
      "  (1499, 29345)\t0.047633493367\n",
      "  (1499, 3707)\t0.0589620690689\n",
      "  (1499, 33289)\t0.0469793971673\n",
      "  (1499, 15284)\t0.0547876838073\n",
      "  (1499, 13927)\t0.0939587943346\n",
      "  (1499, 22428)\t0.0939587943346\n",
      "  (1499, 8487)\t0.053297781218\n",
      "  (1499, 22753)\t0.0547876838073\n",
      "  (1499, 25722)\t0.0566111772041\n",
      "  (1499, 33321)\t0.0547876838073\n",
      "  (1499, 33800)\t0.113222354408\n",
      "  (1499, 20478)\t0.113222354408\n",
      "  (1499, 8951)\t0.0589620690689\n",
      "  (1499, 16570)\t0.062275465055\n",
      "  (1499, 17516)\t0.062275465055\n",
      "  (1499, 20579)\t0.062275465055\n",
      "  (1499, 27924)\t0.062275465055\n",
      "  (1499, 12928)\t0.062275465055\n",
      "  (1499, 30389)\t0.062275465055\n",
      "  (1499, 23605)\t0.062275465055\n",
      "  (1499, 27101)\t0.062275465055\n",
      "  (1499, 5632)\t0.062275465055\n",
      "  (1499, 17161)\t0.062275465055\n",
      "  (1499, 30696)\t0.062275465055\n"
     ]
    }
   ],
   "source": [
    "# check the contents of the object holding the training data \n",
    "# which has been TfidfVectorizer fitted and transformed \n",
    "print(docs_train_tfidf)"
   ]
  },
  {
   "cell_type": "markdown",
   "metadata": {},
   "source": [
    "**Explore the min_df and max_df parameters of TfidVectorizer**\n",
    "\n",
    "**What do they mean?**\n",
    "\n",
    "**How do they change the features you get?**\n",
    "\n",
    "==========================================================\n",
    "\n",
    "**min_df**\n",
    "\n",
    "When building the vocabulary ignore terms that have a document frequency strictly lower \n",
    "than the given threshold. This value is also called cut-off in the literature. \n",
    "\n",
    "If float, the parameter represents a proportion of documents, integer absolute counts. \n",
    "\n",
    "This parameter is ignored if vocabulary is not None.\n",
    "\n",
    "The higher the min_df, the more words that are excluded as features. **(see plot below)**"
   ]
  },
  {
   "cell_type": "code",
   "execution_count": 38,
   "metadata": {},
   "outputs": [
    {
     "data": {
      "text/plain": [
       "<matplotlib.text.Text at 0x2084e0aee80>"
      ]
     },
     "execution_count": 38,
     "metadata": {},
     "output_type": "execute_result"
    },
    {
     "data": {
      "image/png": "[encoded data removed]",
      "text/plain": [
       "<matplotlib.figure.Figure at 0x2084b760978>"
      ]
     },
     "metadata": {},
     "output_type": "display_data"
    }
   ],
   "source": [
    "# integer - the higher the min_df, it excludes more words \n",
    "# float - the higher the min_df, it excludes more words\n",
    "for i in np.arange(1, 11, 1): \n",
    "    vector = TfidfVectorizer(min_df=i, max_df=0.95)\n",
    "    matrix = vector.fit_transform(docs_train)\n",
    "    plt.plot(i,matrix.shape[1],'ro')  #shape[1] gives the columns\n",
    "plt.xlabel('Value of min_df')\n",
    "plt.ylabel('Num. features')\n",
    "plt.title('How min_df changes the available features')"
   ]
  },
  {
   "cell_type": "markdown",
   "metadata": {},
   "source": [
    "**max_df**\n",
    "\n",
    "When building the vocabulary ignore terms that have a document frequency strictly higher\n",
    "than the given threshold (corpus-specific stop words). \n",
    "\n",
    "If float, the parameter represents a proportion of documents, integer absolute counts. \n",
    "\n",
    "This parameter is ignored if vocabulary is not None.\n",
    "\n",
    "The lower the max_df, the more words that are excluded as features. **(see plot below)**"
   ]
  },
  {
   "cell_type": "code",
   "execution_count": 53,
   "metadata": {
    "scrolled": true
   },
   "outputs": [
    {
     "data": {
      "text/plain": [
       "<matplotlib.text.Text at 0x208062d5eb8>"
      ]
     },
     "execution_count": 53,
     "metadata": {},
     "output_type": "execute_result"
    },
    {
     "data": {
      "image/png": "[encoded data removed]",
      "text/plain": [
       "<matplotlib.figure.Figure at 0x208151c75f8>"
      ]
     },
     "metadata": {},
     "output_type": "display_data"
    }
   ],
   "source": [
    "#integer - the lower the max_df, excludes more words\n",
    "#float - the lower the max_df, excludes more words\n",
    "for i in np.arange(0.60, 0.99, 0.01): \n",
    "    vector = TfidfVectorizer(min_df=3, max_df=i)\n",
    "    matrix = vector.fit_transform(docs_train)\n",
    "    plt.plot(i,matrix.shape[1],'ro')  #shape[1] gives the columns\n",
    "plt.xlabel('Value of max_df')\n",
    "plt.ylabel('Num. features')\n",
    "plt.title('How max_df changes the available features')"
   ]
  },
  {
   "cell_type": "markdown",
   "metadata": {},
   "source": [
    "**Explore the ngram_range parameter of TfidVectorizer. **\n",
    "\n",
    "**What does it mean? **\n",
    "\n",
    "**How does it change the features you get? **\n",
    "\n",
    "**(Note, large values of ngram_range may take a long time to run!)**\n",
    "\n",
    "==========================================================\n",
    "\n",
    "**ngram range**\n",
    "\n",
    "In the fields of computational linguistics and probability, an n-gram is a contiguous sequence of n items from a given sequence of text or speech. The items can be phonemes, syllables, letters, words or base pairs according to the application. The n-grams typically are collected from a text or speech corpus. When the items are words, n-grams may also be called shingles.\n",
    "[Source: Wikipedia]\n",
    "\n",
    "With the ngram_range used below we’re telling it to generate 2, 3, 4, 5, 6 and 7 word phrases along with the single words from the corpus.**(see plot below)**\n",
    "\n",
    "e.g. if ngram_range=(1,3) and if we had the sentence “Python is cool” we’d end up with 6 phrases – ‘Python’, ‘is’, ‘cool’, ‘Python is’, ‘Python is cool’ and ‘is cool’. "
   ]
  },
  {
   "cell_type": "code",
   "execution_count": 54,
   "metadata": {
    "scrolled": false
   },
   "outputs": [
    {
     "data": {
      "text/plain": [
       "<matplotlib.text.Text at 0x208153e7908>"
      ]
     },
     "execution_count": 54,
     "metadata": {},
     "output_type": "execute_result"
    },
    {
     "data": {
      "image/png": "[encoded data removed]",
      "text/plain": [
       "<matplotlib.figure.Figure at 0x2084c0c7898>"
      ]
     },
     "metadata": {},
     "output_type": "display_data"
    }
   ],
   "source": [
    "# ngram_range : tuple (min_n, max_n)\n",
    "# The lower and upper boundary of the range of n-values for different n-grams to be extracted. \n",
    "# All values of n such that min_n <= n <= max_n will be used.\n",
    "ngram_candidate = range(1,7)\n",
    "for ngram in ngram_candidate:\n",
    "    vector = TfidfVectorizer(min_df=3, max_df=0.95, ngram_range=(1,ngram))\n",
    "    matrix = vector.fit_transform(docs_train)\n",
    "    plt.plot(ngram,matrix.shape[1],'ro')\n",
    "plt.xlabel('Upper boundary of ngram')\n",
    "plt.ylabel('Num. features')\n",
    "plt.title('How ngram_range changes the available features')"
   ]
  },
  {
   "cell_type": "markdown",
   "metadata": {},
   "source": [
    "*------------------------\n",
    "\n",
    "## Problem 3 (20 points): Machine learning algorithms"
   ]
  },
  {
   "cell_type": "markdown",
   "metadata": {},
   "source": [
    "* Based upon Problem 2 pick some parameters for TfidfVectorizer\n",
    "    * \"fit\" your TfidfVectorizer using docs_train\n",
    "    * Compute \"Xtrain\", a Tf-idf-weighted document-term matrix using the transform function on docs_train\n",
    "    * Compute \"Xtest\", a Tf-idf-weighted document-term matrix using the transform function on docs_test\n",
    "    * Note, be sure to use the same Tf-idf-weighted class (**\"fit\" using docs_train**) to transform **both** docs_test and docs_train\n",
    "* Examine two classifiers provided by scikit-learn \n",
    "    * LinearSVC\n",
    "    * KNeighborsClassifier\n",
    "    * Try a number of different parameter settings for each and judge your performance using a confusion matrix (see Problem 1 for an example).\n",
    "* Does one classifier, or one set of parameters work better?\n",
    "    * Why do you think it might be working better?\n",
    "* For a particular choice of parameters and classifier, look at 2 examples where the prediction was incorrect.\n",
    "    * Can you conjecture on why the classifier made a mistake for this prediction?"
   ]
  },
  {
   "cell_type": "code",
   "execution_count": 97,
   "metadata": {},
   "outputs": [
    {
     "name": "stdout",
     "output_type": "stream",
     "text": [
      "(1500, 172570)\n",
      "(500, 60470)\n"
     ]
    }
   ],
   "source": [
    "# Based upon Problem 2 pick some parameters for TfidfVectorizer and...\n",
    "\n",
    "# \"fit\" your TfidfVectorizer using docs_train\n",
    "count_vect = TfidfVectorizer(ngram_range=(1,3),min_df=2, max_df=0.95)\n",
    "\n",
    "# Compute \"Xtrain\"\n",
    "X_train= count_vect.fit_transform(docs_train)\n",
    "\n",
    "# Compute \"Xtest\"\n",
    "X_test = count_vect.fit_transform(docs_test)\n",
    "\n",
    "print(X_train.shape)\n",
    "print(X_test.shape)"
   ]
  },
  {
   "cell_type": "code",
   "execution_count": 65,
   "metadata": {},
   "outputs": [
    {
     "name": "stdout",
     "output_type": "stream",
     "text": [
      "0 params - {'vect__max_df': 0.98, 'vect__min_df': 2, 'vect__ngram_range': (1, 1)}; mean - 0.81; std - 0.01\n",
      "1 params - {'vect__max_df': 0.98, 'vect__min_df': 2, 'vect__ngram_range': (1, 2)}; mean - 0.81; std - 0.02\n",
      "2 params - {'vect__max_df': 0.98, 'vect__min_df': 2, 'vect__ngram_range': (1, 3)}; mean - 0.81; std - 0.02\n",
      "3 params - {'vect__max_df': 0.98, 'vect__min_df': 3, 'vect__ngram_range': (1, 1)}; mean - 0.81; std - 0.01\n",
      "4 params - {'vect__max_df': 0.98, 'vect__min_df': 3, 'vect__ngram_range': (1, 2)}; mean - 0.81; std - 0.01\n",
      "5 params - {'vect__max_df': 0.98, 'vect__min_df': 3, 'vect__ngram_range': (1, 3)}; mean - 0.81; std - 0.01\n",
      "6 params - {'vect__max_df': 0.98, 'vect__min_df': 4, 'vect__ngram_range': (1, 1)}; mean - 0.81; std - 0.01\n",
      "7 params - {'vect__max_df': 0.98, 'vect__min_df': 4, 'vect__ngram_range': (1, 2)}; mean - 0.82; std - 0.01\n",
      "8 params - {'vect__max_df': 0.98, 'vect__min_df': 4, 'vect__ngram_range': (1, 3)}; mean - 0.82; std - 0.02\n",
      "9 params - {'vect__max_df': 0.95, 'vect__min_df': 2, 'vect__ngram_range': (1, 1)}; mean - 0.81; std - 0.01\n",
      "10 params - {'vect__max_df': 0.95, 'vect__min_df': 2, 'vect__ngram_range': (1, 2)}; mean - 0.81; std - 0.02\n",
      "11 params - {'vect__max_df': 0.95, 'vect__min_df': 2, 'vect__ngram_range': (1, 3)}; mean - 0.81; std - 0.02\n",
      "12 params - {'vect__max_df': 0.95, 'vect__min_df': 3, 'vect__ngram_range': (1, 1)}; mean - 0.81; std - 0.01\n",
      "13 params - {'vect__max_df': 0.95, 'vect__min_df': 3, 'vect__ngram_range': (1, 2)}; mean - 0.81; std - 0.01\n",
      "14 params - {'vect__max_df': 0.95, 'vect__min_df': 3, 'vect__ngram_range': (1, 3)}; mean - 0.81; std - 0.01\n",
      "15 params - {'vect__max_df': 0.95, 'vect__min_df': 4, 'vect__ngram_range': (1, 1)}; mean - 0.81; std - 0.01\n",
      "16 params - {'vect__max_df': 0.95, 'vect__min_df': 4, 'vect__ngram_range': (1, 2)}; mean - 0.82; std - 0.01\n",
      "17 params - {'vect__max_df': 0.95, 'vect__min_df': 4, 'vect__ngram_range': (1, 3)}; mean - 0.82; std - 0.02\n",
      "18 params - {'vect__max_df': 0.92, 'vect__min_df': 2, 'vect__ngram_range': (1, 1)}; mean - 0.81; std - 0.01\n",
      "19 params - {'vect__max_df': 0.92, 'vect__min_df': 2, 'vect__ngram_range': (1, 2)}; mean - 0.81; std - 0.02\n",
      "20 params - {'vect__max_df': 0.92, 'vect__min_df': 2, 'vect__ngram_range': (1, 3)}; mean - 0.81; std - 0.02\n",
      "21 params - {'vect__max_df': 0.92, 'vect__min_df': 3, 'vect__ngram_range': (1, 1)}; mean - 0.81; std - 0.01\n",
      "22 params - {'vect__max_df': 0.92, 'vect__min_df': 3, 'vect__ngram_range': (1, 2)}; mean - 0.81; std - 0.01\n",
      "23 params - {'vect__max_df': 0.92, 'vect__min_df': 3, 'vect__ngram_range': (1, 3)}; mean - 0.81; std - 0.01\n",
      "24 params - {'vect__max_df': 0.92, 'vect__min_df': 4, 'vect__ngram_range': (1, 1)}; mean - 0.81; std - 0.01\n",
      "25 params - {'vect__max_df': 0.92, 'vect__min_df': 4, 'vect__ngram_range': (1, 2)}; mean - 0.82; std - 0.01\n",
      "26 params - {'vect__max_df': 0.92, 'vect__min_df': 4, 'vect__ngram_range': (1, 3)}; mean - 0.82; std - 0.02\n",
      "27 params - {'vect__max_df': 0.9, 'vect__min_df': 2, 'vect__ngram_range': (1, 1)}; mean - 0.81; std - 0.01\n",
      "28 params - {'vect__max_df': 0.9, 'vect__min_df': 2, 'vect__ngram_range': (1, 2)}; mean - 0.81; std - 0.02\n",
      "29 params - {'vect__max_df': 0.9, 'vect__min_df': 2, 'vect__ngram_range': (1, 3)}; mean - 0.81; std - 0.02\n",
      "30 params - {'vect__max_df': 0.9, 'vect__min_df': 3, 'vect__ngram_range': (1, 1)}; mean - 0.81; std - 0.01\n",
      "31 params - {'vect__max_df': 0.9, 'vect__min_df': 3, 'vect__ngram_range': (1, 2)}; mean - 0.81; std - 0.01\n",
      "32 params - {'vect__max_df': 0.9, 'vect__min_df': 3, 'vect__ngram_range': (1, 3)}; mean - 0.81; std - 0.01\n",
      "33 params - {'vect__max_df': 0.9, 'vect__min_df': 4, 'vect__ngram_range': (1, 1)}; mean - 0.81; std - 0.01\n",
      "34 params - {'vect__max_df': 0.9, 'vect__min_df': 4, 'vect__ngram_range': (1, 2)}; mean - 0.82; std - 0.01\n",
      "35 params - {'vect__max_df': 0.9, 'vect__min_df': 4, 'vect__ngram_range': (1, 3)}; mean - 0.82; std - 0.02\n",
      "             precision    recall  f1-score   support\n",
      "\n",
      "        neg       0.86      0.85      0.86       254\n",
      "        pos       0.85      0.86      0.85       246\n",
      "\n",
      "avg / total       0.85      0.85      0.85       500\n",
      "\n"
     ]
    }
   ],
   "source": [
    "# try LinearSVC\n",
    "# -----------------------------------------------------------------------\n",
    "# The C parameter tells the SVM optimization how much you want to avoid \n",
    "# misclassifying each training example. For large values of C, the \n",
    "# optimization will choose a smaller-margin hyperplane if that hyperplane \n",
    "# does a better job of getting all the training points classified correctly. \n",
    "# Conversely, a very small value of C will cause the optimizer to look for \n",
    "# a larger-margin separating hyperplane, even if that hyperplane \n",
    "# misclassifies more points.\n",
    "\n",
    "pipeline = Pipeline([\n",
    "    ('vect', TfidfVectorizer(stop_words='english')),\n",
    "    ('clf', LinearSVC(C=1000)),\n",
    "])\n",
    "\n",
    "# TASK: Build a grid search to find out whether unigrams or bigrams are\n",
    "# more useful.\n",
    "# Fit the pipeline on the training set using grid search for the parameters\n",
    "parameters = {\n",
    "    'vect__ngram_range': [(1, 1), (1, 2), (1,3)],\n",
    "    'vect__min_df': [2, 3, 4],\n",
    "    'vect__max_df': [0.98, 0.95, 0.92, 0.90],\n",
    "}\n",
    "grid_search = GridSearchCV(pipeline, parameters, n_jobs=-1) #'n_jobs = -1' means use all the CPU cores\n",
    "grid_search.fit(docs_train, y_train)\n",
    "\n",
    "# TASK: print the mean and std for each grid search candidate along with the parameter\n",
    "# settings for all the candidates explored by grid search.\n",
    "n_candidates = len(grid_search.cv_results_['params'])\n",
    "for i in range(n_candidates):\n",
    "    print(i, 'params - %s; mean - %0.2f; std - %0.2f'\n",
    "             % (grid_search.cv_results_['params'][i],\n",
    "                grid_search.cv_results_['mean_test_score'][i],\n",
    "                grid_search.cv_results_['std_test_score'][i]))\n",
    "    \n",
    "y_predicted = grid_search.predict(docs_test)\n",
    "print(metrics.classification_report(y_test, y_predicted,\n",
    "                                    target_names=dataset.target_names))"
   ]
  },
  {
   "cell_type": "code",
   "execution_count": 66,
   "metadata": {},
   "outputs": [
    {
     "name": "stdout",
     "output_type": "stream",
     "text": [
      "[0.81200000000000006, 0.81133333333333335, 0.81200000000000006, 0.81266666666666665, 0.81266666666666665, 0.81000000000000005, 0.81333333333333335, 0.81799999999999995, 0.81733333333333336, 0.81200000000000006, 0.81133333333333335, 0.81200000000000006, 0.81266666666666665, 0.81266666666666665, 0.81000000000000005, 0.81333333333333335, 0.81799999999999995, 0.81733333333333336, 0.81200000000000006, 0.81133333333333335, 0.81200000000000006, 0.81266666666666665, 0.81266666666666665, 0.81000000000000005, 0.81333333333333335, 0.81799999999999995, 0.81733333333333336, 0.81200000000000006, 0.81133333333333335, 0.81200000000000006, 0.81266666666666665, 0.81266666666666665, 0.81000000000000005, 0.81333333333333335, 0.81799999999999995, 0.81733333333333336]\n"
     ]
    },
    {
     "name": "stderr",
     "output_type": "stream",
     "text": [
      "C:\\Users\\hayfa\\Anaconda3\\lib\\site-packages\\sklearn\\model_selection\\_search.py:761: DeprecationWarning: The grid_scores_ attribute was deprecated in version 0.18 in favor of the more elaborate cv_results_ attribute. The grid_scores_ attribute will not be available from 0.20\n",
      "  DeprecationWarning)\n"
     ]
    },
    {
     "data": {
      "text/plain": [
       "<matplotlib.text.Text at 0x20818235a20>"
      ]
     },
     "execution_count": 66,
     "metadata": {},
     "output_type": "execute_result"
    },
    {
     "data": {
      "image/png": "[encoded data removed]",
      "text/plain": [
       "<matplotlib.figure.Figure at 0x20817ae1fd0>"
      ]
     },
     "metadata": {},
     "output_type": "display_data"
    }
   ],
   "source": [
    "# graph the results of the parameter combinations for LinearSVC\n",
    "grid_mean_scores = [result.mean_validation_score for result in grid_search.grid_scores_]\n",
    "print(grid_mean_scores)\n",
    "plt.plot( grid_mean_scores)\n",
    "plt.xlabel('Parameter Combo')\n",
    "plt.ylabel('Mean Score from Grid Search')"
   ]
  },
  {
   "cell_type": "code",
   "execution_count": 67,
   "metadata": {},
   "outputs": [
    {
     "data": {
      "text/plain": [
       "0.81799999999999995"
      ]
     },
     "execution_count": 67,
     "metadata": {},
     "output_type": "execute_result"
    }
   ],
   "source": [
    "# find best score from grid search for LinearSVC\n",
    "grid_search.best_score_"
   ]
  },
  {
   "cell_type": "code",
   "execution_count": 68,
   "metadata": {},
   "outputs": [
    {
     "data": {
      "text/plain": [
       "{'vect__max_df': 0.98, 'vect__min_df': 4, 'vect__ngram_range': (1, 2)}"
      ]
     },
     "execution_count": 68,
     "metadata": {},
     "output_type": "execute_result"
    }
   ],
   "source": [
    "# find best parameters from grid search for LinearSVC\n",
    "grid_search.best_params_"
   ]
  },
  {
   "cell_type": "code",
   "execution_count": 69,
   "metadata": {},
   "outputs": [
    {
     "name": "stdout",
     "output_type": "stream",
     "text": [
      "[[216  38]\n",
      " [ 35 211]]\n"
     ]
    }
   ],
   "source": [
    "# confusion matrix for LinearSVC\n",
    "cm = metrics.confusion_matrix(y_test, y_predicted)\n",
    "print(cm)"
   ]
  },
  {
   "cell_type": "code",
   "execution_count": 70,
   "metadata": {},
   "outputs": [
    {
     "data": {
      "image/png": "[encoded data removed]",
      "text/plain": [
       "<matplotlib.figure.Figure at 0x2081241c198>"
      ]
     },
     "metadata": {},
     "output_type": "display_data"
    }
   ],
   "source": [
    "plt.matshow(cm)\n",
    "plt.show()"
   ]
  },
  {
   "cell_type": "markdown",
   "metadata": {},
   "source": [
    "---"
   ]
  },
  {
   "cell_type": "code",
   "execution_count": 84,
   "metadata": {
    "scrolled": false
   },
   "outputs": [
    {
     "name": "stdout",
     "output_type": "stream",
     "text": [
      "0 params - {'clf__n_neighbors': 2, 'vect__max_df': 0.98, 'vect__min_df': 2, 'vect__ngram_range': (1, 1)}; mean - 0.64; std - 0.02\n",
      "1 params - {'clf__n_neighbors': 2, 'vect__max_df': 0.98, 'vect__min_df': 2, 'vect__ngram_range': (1, 2)}; mean - 0.65; std - 0.02\n",
      "2 params - {'clf__n_neighbors': 2, 'vect__max_df': 0.98, 'vect__min_df': 2, 'vect__ngram_range': (1, 3)}; mean - 0.66; std - 0.02\n",
      "3 params - {'clf__n_neighbors': 2, 'vect__max_df': 0.98, 'vect__min_df': 3, 'vect__ngram_range': (1, 1)}; mean - 0.66; std - 0.02\n",
      "4 params - {'clf__n_neighbors': 2, 'vect__max_df': 0.98, 'vect__min_df': 3, 'vect__ngram_range': (1, 2)}; mean - 0.66; std - 0.02\n",
      "5 params - {'clf__n_neighbors': 2, 'vect__max_df': 0.98, 'vect__min_df': 3, 'vect__ngram_range': (1, 3)}; mean - 0.66; std - 0.02\n",
      "6 params - {'clf__n_neighbors': 2, 'vect__max_df': 0.98, 'vect__min_df': 4, 'vect__ngram_range': (1, 1)}; mean - 0.65; std - 0.02\n",
      "7 params - {'clf__n_neighbors': 2, 'vect__max_df': 0.98, 'vect__min_df': 4, 'vect__ngram_range': (1, 2)}; mean - 0.66; std - 0.02\n",
      "8 params - {'clf__n_neighbors': 2, 'vect__max_df': 0.98, 'vect__min_df': 4, 'vect__ngram_range': (1, 3)}; mean - 0.66; std - 0.02\n",
      "9 params - {'clf__n_neighbors': 2, 'vect__max_df': 0.95, 'vect__min_df': 2, 'vect__ngram_range': (1, 1)}; mean - 0.64; std - 0.02\n",
      "10 params - {'clf__n_neighbors': 2, 'vect__max_df': 0.95, 'vect__min_df': 2, 'vect__ngram_range': (1, 2)}; mean - 0.65; std - 0.02\n",
      "11 params - {'clf__n_neighbors': 2, 'vect__max_df': 0.95, 'vect__min_df': 2, 'vect__ngram_range': (1, 3)}; mean - 0.66; std - 0.02\n",
      "12 params - {'clf__n_neighbors': 2, 'vect__max_df': 0.95, 'vect__min_df': 3, 'vect__ngram_range': (1, 1)}; mean - 0.66; std - 0.02\n",
      "13 params - {'clf__n_neighbors': 2, 'vect__max_df': 0.95, 'vect__min_df': 3, 'vect__ngram_range': (1, 2)}; mean - 0.66; std - 0.02\n",
      "14 params - {'clf__n_neighbors': 2, 'vect__max_df': 0.95, 'vect__min_df': 3, 'vect__ngram_range': (1, 3)}; mean - 0.66; std - 0.02\n",
      "15 params - {'clf__n_neighbors': 2, 'vect__max_df': 0.95, 'vect__min_df': 4, 'vect__ngram_range': (1, 1)}; mean - 0.65; std - 0.02\n",
      "16 params - {'clf__n_neighbors': 2, 'vect__max_df': 0.95, 'vect__min_df': 4, 'vect__ngram_range': (1, 2)}; mean - 0.66; std - 0.02\n",
      "17 params - {'clf__n_neighbors': 2, 'vect__max_df': 0.95, 'vect__min_df': 4, 'vect__ngram_range': (1, 3)}; mean - 0.66; std - 0.02\n",
      "18 params - {'clf__n_neighbors': 2, 'vect__max_df': 0.92, 'vect__min_df': 2, 'vect__ngram_range': (1, 1)}; mean - 0.64; std - 0.02\n",
      "19 params - {'clf__n_neighbors': 2, 'vect__max_df': 0.92, 'vect__min_df': 2, 'vect__ngram_range': (1, 2)}; mean - 0.65; std - 0.02\n",
      "20 params - {'clf__n_neighbors': 2, 'vect__max_df': 0.92, 'vect__min_df': 2, 'vect__ngram_range': (1, 3)}; mean - 0.66; std - 0.02\n",
      "21 params - {'clf__n_neighbors': 2, 'vect__max_df': 0.92, 'vect__min_df': 3, 'vect__ngram_range': (1, 1)}; mean - 0.66; std - 0.02\n",
      "22 params - {'clf__n_neighbors': 2, 'vect__max_df': 0.92, 'vect__min_df': 3, 'vect__ngram_range': (1, 2)}; mean - 0.66; std - 0.02\n",
      "23 params - {'clf__n_neighbors': 2, 'vect__max_df': 0.92, 'vect__min_df': 3, 'vect__ngram_range': (1, 3)}; mean - 0.66; std - 0.02\n",
      "24 params - {'clf__n_neighbors': 2, 'vect__max_df': 0.92, 'vect__min_df': 4, 'vect__ngram_range': (1, 1)}; mean - 0.65; std - 0.02\n",
      "25 params - {'clf__n_neighbors': 2, 'vect__max_df': 0.92, 'vect__min_df': 4, 'vect__ngram_range': (1, 2)}; mean - 0.66; std - 0.02\n",
      "26 params - {'clf__n_neighbors': 2, 'vect__max_df': 0.92, 'vect__min_df': 4, 'vect__ngram_range': (1, 3)}; mean - 0.66; std - 0.02\n",
      "27 params - {'clf__n_neighbors': 2, 'vect__max_df': 0.9, 'vect__min_df': 2, 'vect__ngram_range': (1, 1)}; mean - 0.64; std - 0.02\n",
      "28 params - {'clf__n_neighbors': 2, 'vect__max_df': 0.9, 'vect__min_df': 2, 'vect__ngram_range': (1, 2)}; mean - 0.65; std - 0.02\n",
      "29 params - {'clf__n_neighbors': 2, 'vect__max_df': 0.9, 'vect__min_df': 2, 'vect__ngram_range': (1, 3)}; mean - 0.66; std - 0.02\n",
      "30 params - {'clf__n_neighbors': 2, 'vect__max_df': 0.9, 'vect__min_df': 3, 'vect__ngram_range': (1, 1)}; mean - 0.66; std - 0.02\n",
      "31 params - {'clf__n_neighbors': 2, 'vect__max_df': 0.9, 'vect__min_df': 3, 'vect__ngram_range': (1, 2)}; mean - 0.66; std - 0.02\n",
      "32 params - {'clf__n_neighbors': 2, 'vect__max_df': 0.9, 'vect__min_df': 3, 'vect__ngram_range': (1, 3)}; mean - 0.66; std - 0.02\n",
      "33 params - {'clf__n_neighbors': 2, 'vect__max_df': 0.9, 'vect__min_df': 4, 'vect__ngram_range': (1, 1)}; mean - 0.65; std - 0.02\n",
      "34 params - {'clf__n_neighbors': 2, 'vect__max_df': 0.9, 'vect__min_df': 4, 'vect__ngram_range': (1, 2)}; mean - 0.66; std - 0.02\n",
      "35 params - {'clf__n_neighbors': 2, 'vect__max_df': 0.9, 'vect__min_df': 4, 'vect__ngram_range': (1, 3)}; mean - 0.66; std - 0.02\n",
      "36 params - {'clf__n_neighbors': 8, 'vect__max_df': 0.98, 'vect__min_df': 2, 'vect__ngram_range': (1, 1)}; mean - 0.66; std - 0.03\n",
      "37 params - {'clf__n_neighbors': 8, 'vect__max_df': 0.98, 'vect__min_df': 2, 'vect__ngram_range': (1, 2)}; mean - 0.67; std - 0.02\n",
      "38 params - {'clf__n_neighbors': 8, 'vect__max_df': 0.98, 'vect__min_df': 2, 'vect__ngram_range': (1, 3)}; mean - 0.67; std - 0.01\n",
      "39 params - {'clf__n_neighbors': 8, 'vect__max_df': 0.98, 'vect__min_df': 3, 'vect__ngram_range': (1, 1)}; mean - 0.67; std - 0.03\n",
      "40 params - {'clf__n_neighbors': 8, 'vect__max_df': 0.98, 'vect__min_df': 3, 'vect__ngram_range': (1, 2)}; mean - 0.67; std - 0.01\n",
      "41 params - {'clf__n_neighbors': 8, 'vect__max_df': 0.98, 'vect__min_df': 3, 'vect__ngram_range': (1, 3)}; mean - 0.68; std - 0.02\n",
      "42 params - {'clf__n_neighbors': 8, 'vect__max_df': 0.98, 'vect__min_df': 4, 'vect__ngram_range': (1, 1)}; mean - 0.67; std - 0.04\n",
      "43 params - {'clf__n_neighbors': 8, 'vect__max_df': 0.98, 'vect__min_df': 4, 'vect__ngram_range': (1, 2)}; mean - 0.67; std - 0.02\n",
      "44 params - {'clf__n_neighbors': 8, 'vect__max_df': 0.98, 'vect__min_df': 4, 'vect__ngram_range': (1, 3)}; mean - 0.68; std - 0.02\n",
      "45 params - {'clf__n_neighbors': 8, 'vect__max_df': 0.95, 'vect__min_df': 2, 'vect__ngram_range': (1, 1)}; mean - 0.66; std - 0.03\n",
      "46 params - {'clf__n_neighbors': 8, 'vect__max_df': 0.95, 'vect__min_df': 2, 'vect__ngram_range': (1, 2)}; mean - 0.67; std - 0.02\n",
      "47 params - {'clf__n_neighbors': 8, 'vect__max_df': 0.95, 'vect__min_df': 2, 'vect__ngram_range': (1, 3)}; mean - 0.67; std - 0.01\n",
      "48 params - {'clf__n_neighbors': 8, 'vect__max_df': 0.95, 'vect__min_df': 3, 'vect__ngram_range': (1, 1)}; mean - 0.67; std - 0.03\n",
      "49 params - {'clf__n_neighbors': 8, 'vect__max_df': 0.95, 'vect__min_df': 3, 'vect__ngram_range': (1, 2)}; mean - 0.67; std - 0.01\n",
      "50 params - {'clf__n_neighbors': 8, 'vect__max_df': 0.95, 'vect__min_df': 3, 'vect__ngram_range': (1, 3)}; mean - 0.68; std - 0.02\n",
      "51 params - {'clf__n_neighbors': 8, 'vect__max_df': 0.95, 'vect__min_df': 4, 'vect__ngram_range': (1, 1)}; mean - 0.67; std - 0.04\n",
      "52 params - {'clf__n_neighbors': 8, 'vect__max_df': 0.95, 'vect__min_df': 4, 'vect__ngram_range': (1, 2)}; mean - 0.67; std - 0.02\n",
      "53 params - {'clf__n_neighbors': 8, 'vect__max_df': 0.95, 'vect__min_df': 4, 'vect__ngram_range': (1, 3)}; mean - 0.68; std - 0.02\n",
      "54 params - {'clf__n_neighbors': 8, 'vect__max_df': 0.92, 'vect__min_df': 2, 'vect__ngram_range': (1, 1)}; mean - 0.66; std - 0.03\n",
      "55 params - {'clf__n_neighbors': 8, 'vect__max_df': 0.92, 'vect__min_df': 2, 'vect__ngram_range': (1, 2)}; mean - 0.67; std - 0.02\n",
      "56 params - {'clf__n_neighbors': 8, 'vect__max_df': 0.92, 'vect__min_df': 2, 'vect__ngram_range': (1, 3)}; mean - 0.67; std - 0.01\n",
      "57 params - {'clf__n_neighbors': 8, 'vect__max_df': 0.92, 'vect__min_df': 3, 'vect__ngram_range': (1, 1)}; mean - 0.67; std - 0.03\n",
      "58 params - {'clf__n_neighbors': 8, 'vect__max_df': 0.92, 'vect__min_df': 3, 'vect__ngram_range': (1, 2)}; mean - 0.67; std - 0.01\n",
      "59 params - {'clf__n_neighbors': 8, 'vect__max_df': 0.92, 'vect__min_df': 3, 'vect__ngram_range': (1, 3)}; mean - 0.68; std - 0.02\n",
      "60 params - {'clf__n_neighbors': 8, 'vect__max_df': 0.92, 'vect__min_df': 4, 'vect__ngram_range': (1, 1)}; mean - 0.67; std - 0.04\n",
      "61 params - {'clf__n_neighbors': 8, 'vect__max_df': 0.92, 'vect__min_df': 4, 'vect__ngram_range': (1, 2)}; mean - 0.67; std - 0.02\n",
      "62 params - {'clf__n_neighbors': 8, 'vect__max_df': 0.92, 'vect__min_df': 4, 'vect__ngram_range': (1, 3)}; mean - 0.68; std - 0.02\n",
      "63 params - {'clf__n_neighbors': 8, 'vect__max_df': 0.9, 'vect__min_df': 2, 'vect__ngram_range': (1, 1)}; mean - 0.66; std - 0.03\n",
      "64 params - {'clf__n_neighbors': 8, 'vect__max_df': 0.9, 'vect__min_df': 2, 'vect__ngram_range': (1, 2)}; mean - 0.67; std - 0.02\n",
      "65 params - {'clf__n_neighbors': 8, 'vect__max_df': 0.9, 'vect__min_df': 2, 'vect__ngram_range': (1, 3)}; mean - 0.67; std - 0.01\n",
      "66 params - {'clf__n_neighbors': 8, 'vect__max_df': 0.9, 'vect__min_df': 3, 'vect__ngram_range': (1, 1)}; mean - 0.67; std - 0.03\n",
      "67 params - {'clf__n_neighbors': 8, 'vect__max_df': 0.9, 'vect__min_df': 3, 'vect__ngram_range': (1, 2)}; mean - 0.67; std - 0.01\n",
      "68 params - {'clf__n_neighbors': 8, 'vect__max_df': 0.9, 'vect__min_df': 3, 'vect__ngram_range': (1, 3)}; mean - 0.68; std - 0.02\n",
      "69 params - {'clf__n_neighbors': 8, 'vect__max_df': 0.9, 'vect__min_df': 4, 'vect__ngram_range': (1, 1)}; mean - 0.67; std - 0.04\n",
      "70 params - {'clf__n_neighbors': 8, 'vect__max_df': 0.9, 'vect__min_df': 4, 'vect__ngram_range': (1, 2)}; mean - 0.67; std - 0.02\n",
      "71 params - {'clf__n_neighbors': 8, 'vect__max_df': 0.9, 'vect__min_df': 4, 'vect__ngram_range': (1, 3)}; mean - 0.68; std - 0.02\n",
      "72 params - {'clf__n_neighbors': 32, 'vect__max_df': 0.98, 'vect__min_df': 2, 'vect__ngram_range': (1, 1)}; mean - 0.70; std - 0.02\n",
      "73 params - {'clf__n_neighbors': 32, 'vect__max_df': 0.98, 'vect__min_df': 2, 'vect__ngram_range': (1, 2)}; mean - 0.70; std - 0.02\n",
      "74 params - {'clf__n_neighbors': 32, 'vect__max_df': 0.98, 'vect__min_df': 2, 'vect__ngram_range': (1, 3)}; mean - 0.71; std - 0.02\n",
      "75 params - {'clf__n_neighbors': 32, 'vect__max_df': 0.98, 'vect__min_df': 3, 'vect__ngram_range': (1, 1)}; mean - 0.71; std - 0.02\n",
      "76 params - {'clf__n_neighbors': 32, 'vect__max_df': 0.98, 'vect__min_df': 3, 'vect__ngram_range': (1, 2)}; mean - 0.70; std - 0.02\n",
      "77 params - {'clf__n_neighbors': 32, 'vect__max_df': 0.98, 'vect__min_df': 3, 'vect__ngram_range': (1, 3)}; mean - 0.70; std - 0.02\n",
      "78 params - {'clf__n_neighbors': 32, 'vect__max_df': 0.98, 'vect__min_df': 4, 'vect__ngram_range': (1, 1)}; mean - 0.71; std - 0.02\n",
      "79 params - {'clf__n_neighbors': 32, 'vect__max_df': 0.98, 'vect__min_df': 4, 'vect__ngram_range': (1, 2)}; mean - 0.69; std - 0.02\n",
      "80 params - {'clf__n_neighbors': 32, 'vect__max_df': 0.98, 'vect__min_df': 4, 'vect__ngram_range': (1, 3)}; mean - 0.69; std - 0.01\n",
      "81 params - {'clf__n_neighbors': 32, 'vect__max_df': 0.95, 'vect__min_df': 2, 'vect__ngram_range': (1, 1)}; mean - 0.70; std - 0.02\n",
      "82 params - {'clf__n_neighbors': 32, 'vect__max_df': 0.95, 'vect__min_df': 2, 'vect__ngram_range': (1, 2)}; mean - 0.70; std - 0.02\n",
      "83 params - {'clf__n_neighbors': 32, 'vect__max_df': 0.95, 'vect__min_df': 2, 'vect__ngram_range': (1, 3)}; mean - 0.71; std - 0.02\n",
      "84 params - {'clf__n_neighbors': 32, 'vect__max_df': 0.95, 'vect__min_df': 3, 'vect__ngram_range': (1, 1)}; mean - 0.71; std - 0.02\n",
      "85 params - {'clf__n_neighbors': 32, 'vect__max_df': 0.95, 'vect__min_df': 3, 'vect__ngram_range': (1, 2)}; mean - 0.70; std - 0.02\n",
      "86 params - {'clf__n_neighbors': 32, 'vect__max_df': 0.95, 'vect__min_df': 3, 'vect__ngram_range': (1, 3)}; mean - 0.70; std - 0.02\n",
      "87 params - {'clf__n_neighbors': 32, 'vect__max_df': 0.95, 'vect__min_df': 4, 'vect__ngram_range': (1, 1)}; mean - 0.71; std - 0.02\n",
      "88 params - {'clf__n_neighbors': 32, 'vect__max_df': 0.95, 'vect__min_df': 4, 'vect__ngram_range': (1, 2)}; mean - 0.69; std - 0.02\n",
      "89 params - {'clf__n_neighbors': 32, 'vect__max_df': 0.95, 'vect__min_df': 4, 'vect__ngram_range': (1, 3)}; mean - 0.69; std - 0.01\n",
      "90 params - {'clf__n_neighbors': 32, 'vect__max_df': 0.92, 'vect__min_df': 2, 'vect__ngram_range': (1, 1)}; mean - 0.70; std - 0.02\n",
      "91 params - {'clf__n_neighbors': 32, 'vect__max_df': 0.92, 'vect__min_df': 2, 'vect__ngram_range': (1, 2)}; mean - 0.70; std - 0.02\n",
      "92 params - {'clf__n_neighbors': 32, 'vect__max_df': 0.92, 'vect__min_df': 2, 'vect__ngram_range': (1, 3)}; mean - 0.71; std - 0.02\n",
      "93 params - {'clf__n_neighbors': 32, 'vect__max_df': 0.92, 'vect__min_df': 3, 'vect__ngram_range': (1, 1)}; mean - 0.71; std - 0.02\n",
      "94 params - {'clf__n_neighbors': 32, 'vect__max_df': 0.92, 'vect__min_df': 3, 'vect__ngram_range': (1, 2)}; mean - 0.70; std - 0.02\n",
      "95 params - {'clf__n_neighbors': 32, 'vect__max_df': 0.92, 'vect__min_df': 3, 'vect__ngram_range': (1, 3)}; mean - 0.70; std - 0.02\n",
      "96 params - {'clf__n_neighbors': 32, 'vect__max_df': 0.92, 'vect__min_df': 4, 'vect__ngram_range': (1, 1)}; mean - 0.71; std - 0.02\n",
      "97 params - {'clf__n_neighbors': 32, 'vect__max_df': 0.92, 'vect__min_df': 4, 'vect__ngram_range': (1, 2)}; mean - 0.69; std - 0.02\n",
      "98 params - {'clf__n_neighbors': 32, 'vect__max_df': 0.92, 'vect__min_df': 4, 'vect__ngram_range': (1, 3)}; mean - 0.69; std - 0.01\n",
      "99 params - {'clf__n_neighbors': 32, 'vect__max_df': 0.9, 'vect__min_df': 2, 'vect__ngram_range': (1, 1)}; mean - 0.70; std - 0.02\n",
      "100 params - {'clf__n_neighbors': 32, 'vect__max_df': 0.9, 'vect__min_df': 2, 'vect__ngram_range': (1, 2)}; mean - 0.70; std - 0.02\n",
      "101 params - {'clf__n_neighbors': 32, 'vect__max_df': 0.9, 'vect__min_df': 2, 'vect__ngram_range': (1, 3)}; mean - 0.71; std - 0.02\n",
      "102 params - {'clf__n_neighbors': 32, 'vect__max_df': 0.9, 'vect__min_df': 3, 'vect__ngram_range': (1, 1)}; mean - 0.71; std - 0.02\n",
      "103 params - {'clf__n_neighbors': 32, 'vect__max_df': 0.9, 'vect__min_df': 3, 'vect__ngram_range': (1, 2)}; mean - 0.70; std - 0.02\n",
      "104 params - {'clf__n_neighbors': 32, 'vect__max_df': 0.9, 'vect__min_df': 3, 'vect__ngram_range': (1, 3)}; mean - 0.70; std - 0.02\n",
      "105 params - {'clf__n_neighbors': 32, 'vect__max_df': 0.9, 'vect__min_df': 4, 'vect__ngram_range': (1, 1)}; mean - 0.71; std - 0.02\n",
      "106 params - {'clf__n_neighbors': 32, 'vect__max_df': 0.9, 'vect__min_df': 4, 'vect__ngram_range': (1, 2)}; mean - 0.69; std - 0.02\n",
      "107 params - {'clf__n_neighbors': 32, 'vect__max_df': 0.9, 'vect__min_df': 4, 'vect__ngram_range': (1, 3)}; mean - 0.69; std - 0.01\n",
      "108 params - {'clf__n_neighbors': 128, 'vect__max_df': 0.98, 'vect__min_df': 2, 'vect__ngram_range': (1, 1)}; mean - 0.73; std - 0.02\n",
      "109 params - {'clf__n_neighbors': 128, 'vect__max_df': 0.98, 'vect__min_df': 2, 'vect__ngram_range': (1, 2)}; mean - 0.75; std - 0.02\n",
      "110 params - {'clf__n_neighbors': 128, 'vect__max_df': 0.98, 'vect__min_df': 2, 'vect__ngram_range': (1, 3)}; mean - 0.75; std - 0.02\n",
      "111 params - {'clf__n_neighbors': 128, 'vect__max_df': 0.98, 'vect__min_df': 3, 'vect__ngram_range': (1, 1)}; mean - 0.74; std - 0.03\n",
      "112 params - {'clf__n_neighbors': 128, 'vect__max_df': 0.98, 'vect__min_df': 3, 'vect__ngram_range': (1, 2)}; mean - 0.75; std - 0.02\n",
      "113 params - {'clf__n_neighbors': 128, 'vect__max_df': 0.98, 'vect__min_df': 3, 'vect__ngram_range': (1, 3)}; mean - 0.75; std - 0.02\n",
      "114 params - {'clf__n_neighbors': 128, 'vect__max_df': 0.98, 'vect__min_df': 4, 'vect__ngram_range': (1, 1)}; mean - 0.74; std - 0.03\n",
      "115 params - {'clf__n_neighbors': 128, 'vect__max_df': 0.98, 'vect__min_df': 4, 'vect__ngram_range': (1, 2)}; mean - 0.75; std - 0.03\n",
      "116 params - {'clf__n_neighbors': 128, 'vect__max_df': 0.98, 'vect__min_df': 4, 'vect__ngram_range': (1, 3)}; mean - 0.75; std - 0.03\n",
      "117 params - {'clf__n_neighbors': 128, 'vect__max_df': 0.95, 'vect__min_df': 2, 'vect__ngram_range': (1, 1)}; mean - 0.73; std - 0.02\n",
      "118 params - {'clf__n_neighbors': 128, 'vect__max_df': 0.95, 'vect__min_df': 2, 'vect__ngram_range': (1, 2)}; mean - 0.75; std - 0.02\n",
      "119 params - {'clf__n_neighbors': 128, 'vect__max_df': 0.95, 'vect__min_df': 2, 'vect__ngram_range': (1, 3)}; mean - 0.75; std - 0.02\n",
      "120 params - {'clf__n_neighbors': 128, 'vect__max_df': 0.95, 'vect__min_df': 3, 'vect__ngram_range': (1, 1)}; mean - 0.74; std - 0.03\n",
      "121 params - {'clf__n_neighbors': 128, 'vect__max_df': 0.95, 'vect__min_df': 3, 'vect__ngram_range': (1, 2)}; mean - 0.75; std - 0.02\n",
      "122 params - {'clf__n_neighbors': 128, 'vect__max_df': 0.95, 'vect__min_df': 3, 'vect__ngram_range': (1, 3)}; mean - 0.75; std - 0.02\n",
      "123 params - {'clf__n_neighbors': 128, 'vect__max_df': 0.95, 'vect__min_df': 4, 'vect__ngram_range': (1, 1)}; mean - 0.74; std - 0.03\n",
      "124 params - {'clf__n_neighbors': 128, 'vect__max_df': 0.95, 'vect__min_df': 4, 'vect__ngram_range': (1, 2)}; mean - 0.75; std - 0.03\n",
      "125 params - {'clf__n_neighbors': 128, 'vect__max_df': 0.95, 'vect__min_df': 4, 'vect__ngram_range': (1, 3)}; mean - 0.75; std - 0.03\n",
      "126 params - {'clf__n_neighbors': 128, 'vect__max_df': 0.92, 'vect__min_df': 2, 'vect__ngram_range': (1, 1)}; mean - 0.73; std - 0.02\n",
      "127 params - {'clf__n_neighbors': 128, 'vect__max_df': 0.92, 'vect__min_df': 2, 'vect__ngram_range': (1, 2)}; mean - 0.75; std - 0.02\n",
      "128 params - {'clf__n_neighbors': 128, 'vect__max_df': 0.92, 'vect__min_df': 2, 'vect__ngram_range': (1, 3)}; mean - 0.75; std - 0.02\n",
      "129 params - {'clf__n_neighbors': 128, 'vect__max_df': 0.92, 'vect__min_df': 3, 'vect__ngram_range': (1, 1)}; mean - 0.74; std - 0.03\n",
      "130 params - {'clf__n_neighbors': 128, 'vect__max_df': 0.92, 'vect__min_df': 3, 'vect__ngram_range': (1, 2)}; mean - 0.75; std - 0.02\n",
      "131 params - {'clf__n_neighbors': 128, 'vect__max_df': 0.92, 'vect__min_df': 3, 'vect__ngram_range': (1, 3)}; mean - 0.75; std - 0.02\n",
      "132 params - {'clf__n_neighbors': 128, 'vect__max_df': 0.92, 'vect__min_df': 4, 'vect__ngram_range': (1, 1)}; mean - 0.74; std - 0.03\n",
      "133 params - {'clf__n_neighbors': 128, 'vect__max_df': 0.92, 'vect__min_df': 4, 'vect__ngram_range': (1, 2)}; mean - 0.75; std - 0.03\n",
      "134 params - {'clf__n_neighbors': 128, 'vect__max_df': 0.92, 'vect__min_df': 4, 'vect__ngram_range': (1, 3)}; mean - 0.75; std - 0.03\n",
      "135 params - {'clf__n_neighbors': 128, 'vect__max_df': 0.9, 'vect__min_df': 2, 'vect__ngram_range': (1, 1)}; mean - 0.73; std - 0.02\n",
      "136 params - {'clf__n_neighbors': 128, 'vect__max_df': 0.9, 'vect__min_df': 2, 'vect__ngram_range': (1, 2)}; mean - 0.75; std - 0.02\n",
      "137 params - {'clf__n_neighbors': 128, 'vect__max_df': 0.9, 'vect__min_df': 2, 'vect__ngram_range': (1, 3)}; mean - 0.75; std - 0.02\n",
      "138 params - {'clf__n_neighbors': 128, 'vect__max_df': 0.9, 'vect__min_df': 3, 'vect__ngram_range': (1, 1)}; mean - 0.74; std - 0.03\n",
      "139 params - {'clf__n_neighbors': 128, 'vect__max_df': 0.9, 'vect__min_df': 3, 'vect__ngram_range': (1, 2)}; mean - 0.75; std - 0.02\n",
      "140 params - {'clf__n_neighbors': 128, 'vect__max_df': 0.9, 'vect__min_df': 3, 'vect__ngram_range': (1, 3)}; mean - 0.75; std - 0.02\n",
      "141 params - {'clf__n_neighbors': 128, 'vect__max_df': 0.9, 'vect__min_df': 4, 'vect__ngram_range': (1, 1)}; mean - 0.74; std - 0.03\n",
      "142 params - {'clf__n_neighbors': 128, 'vect__max_df': 0.9, 'vect__min_df': 4, 'vect__ngram_range': (1, 2)}; mean - 0.75; std - 0.03\n",
      "143 params - {'clf__n_neighbors': 128, 'vect__max_df': 0.9, 'vect__min_df': 4, 'vect__ngram_range': (1, 3)}; mean - 0.75; std - 0.03\n",
      "144 params - {'clf__n_neighbors': 512, 'vect__max_df': 0.98, 'vect__min_df': 2, 'vect__ngram_range': (1, 1)}; mean - 0.75; std - 0.04\n",
      "145 params - {'clf__n_neighbors': 512, 'vect__max_df': 0.98, 'vect__min_df': 2, 'vect__ngram_range': (1, 2)}; mean - 0.77; std - 0.03\n",
      "146 params - {'clf__n_neighbors': 512, 'vect__max_df': 0.98, 'vect__min_df': 2, 'vect__ngram_range': (1, 3)}; mean - 0.77; std - 0.03\n",
      "147 params - {'clf__n_neighbors': 512, 'vect__max_df': 0.98, 'vect__min_df': 3, 'vect__ngram_range': (1, 1)}; mean - 0.74; std - 0.04\n",
      "148 params - {'clf__n_neighbors': 512, 'vect__max_df': 0.98, 'vect__min_df': 3, 'vect__ngram_range': (1, 2)}; mean - 0.76; std - 0.03\n",
      "149 params - {'clf__n_neighbors': 512, 'vect__max_df': 0.98, 'vect__min_df': 3, 'vect__ngram_range': (1, 3)}; mean - 0.76; std - 0.03\n",
      "150 params - {'clf__n_neighbors': 512, 'vect__max_df': 0.98, 'vect__min_df': 4, 'vect__ngram_range': (1, 1)}; mean - 0.74; std - 0.05\n",
      "151 params - {'clf__n_neighbors': 512, 'vect__max_df': 0.98, 'vect__min_df': 4, 'vect__ngram_range': (1, 2)}; mean - 0.75; std - 0.03\n",
      "152 params - {'clf__n_neighbors': 512, 'vect__max_df': 0.98, 'vect__min_df': 4, 'vect__ngram_range': (1, 3)}; mean - 0.76; std - 0.04\n",
      "153 params - {'clf__n_neighbors': 512, 'vect__max_df': 0.95, 'vect__min_df': 2, 'vect__ngram_range': (1, 1)}; mean - 0.75; std - 0.04\n",
      "154 params - {'clf__n_neighbors': 512, 'vect__max_df': 0.95, 'vect__min_df': 2, 'vect__ngram_range': (1, 2)}; mean - 0.77; std - 0.03\n",
      "155 params - {'clf__n_neighbors': 512, 'vect__max_df': 0.95, 'vect__min_df': 2, 'vect__ngram_range': (1, 3)}; mean - 0.77; std - 0.03\n",
      "156 params - {'clf__n_neighbors': 512, 'vect__max_df': 0.95, 'vect__min_df': 3, 'vect__ngram_range': (1, 1)}; mean - 0.74; std - 0.04\n",
      "157 params - {'clf__n_neighbors': 512, 'vect__max_df': 0.95, 'vect__min_df': 3, 'vect__ngram_range': (1, 2)}; mean - 0.76; std - 0.03\n",
      "158 params - {'clf__n_neighbors': 512, 'vect__max_df': 0.95, 'vect__min_df': 3, 'vect__ngram_range': (1, 3)}; mean - 0.76; std - 0.03\n",
      "159 params - {'clf__n_neighbors': 512, 'vect__max_df': 0.95, 'vect__min_df': 4, 'vect__ngram_range': (1, 1)}; mean - 0.74; std - 0.05\n",
      "160 params - {'clf__n_neighbors': 512, 'vect__max_df': 0.95, 'vect__min_df': 4, 'vect__ngram_range': (1, 2)}; mean - 0.75; std - 0.03\n",
      "161 params - {'clf__n_neighbors': 512, 'vect__max_df': 0.95, 'vect__min_df': 4, 'vect__ngram_range': (1, 3)}; mean - 0.76; std - 0.04\n",
      "162 params - {'clf__n_neighbors': 512, 'vect__max_df': 0.92, 'vect__min_df': 2, 'vect__ngram_range': (1, 1)}; mean - 0.75; std - 0.04\n",
      "163 params - {'clf__n_neighbors': 512, 'vect__max_df': 0.92, 'vect__min_df': 2, 'vect__ngram_range': (1, 2)}; mean - 0.77; std - 0.03\n",
      "164 params - {'clf__n_neighbors': 512, 'vect__max_df': 0.92, 'vect__min_df': 2, 'vect__ngram_range': (1, 3)}; mean - 0.77; std - 0.03\n",
      "165 params - {'clf__n_neighbors': 512, 'vect__max_df': 0.92, 'vect__min_df': 3, 'vect__ngram_range': (1, 1)}; mean - 0.74; std - 0.04\n",
      "166 params - {'clf__n_neighbors': 512, 'vect__max_df': 0.92, 'vect__min_df': 3, 'vect__ngram_range': (1, 2)}; mean - 0.76; std - 0.03\n",
      "167 params - {'clf__n_neighbors': 512, 'vect__max_df': 0.92, 'vect__min_df': 3, 'vect__ngram_range': (1, 3)}; mean - 0.76; std - 0.03\n",
      "168 params - {'clf__n_neighbors': 512, 'vect__max_df': 0.92, 'vect__min_df': 4, 'vect__ngram_range': (1, 1)}; mean - 0.74; std - 0.05\n",
      "169 params - {'clf__n_neighbors': 512, 'vect__max_df': 0.92, 'vect__min_df': 4, 'vect__ngram_range': (1, 2)}; mean - 0.75; std - 0.03\n",
      "170 params - {'clf__n_neighbors': 512, 'vect__max_df': 0.92, 'vect__min_df': 4, 'vect__ngram_range': (1, 3)}; mean - 0.76; std - 0.04\n",
      "171 params - {'clf__n_neighbors': 512, 'vect__max_df': 0.9, 'vect__min_df': 2, 'vect__ngram_range': (1, 1)}; mean - 0.75; std - 0.04\n",
      "172 params - {'clf__n_neighbors': 512, 'vect__max_df': 0.9, 'vect__min_df': 2, 'vect__ngram_range': (1, 2)}; mean - 0.77; std - 0.03\n",
      "173 params - {'clf__n_neighbors': 512, 'vect__max_df': 0.9, 'vect__min_df': 2, 'vect__ngram_range': (1, 3)}; mean - 0.77; std - 0.03\n",
      "174 params - {'clf__n_neighbors': 512, 'vect__max_df': 0.9, 'vect__min_df': 3, 'vect__ngram_range': (1, 1)}; mean - 0.74; std - 0.04\n",
      "175 params - {'clf__n_neighbors': 512, 'vect__max_df': 0.9, 'vect__min_df': 3, 'vect__ngram_range': (1, 2)}; mean - 0.76; std - 0.03\n",
      "176 params - {'clf__n_neighbors': 512, 'vect__max_df': 0.9, 'vect__min_df': 3, 'vect__ngram_range': (1, 3)}; mean - 0.76; std - 0.03\n",
      "177 params - {'clf__n_neighbors': 512, 'vect__max_df': 0.9, 'vect__min_df': 4, 'vect__ngram_range': (1, 1)}; mean - 0.74; std - 0.05\n",
      "178 params - {'clf__n_neighbors': 512, 'vect__max_df': 0.9, 'vect__min_df': 4, 'vect__ngram_range': (1, 2)}; mean - 0.75; std - 0.03\n",
      "179 params - {'clf__n_neighbors': 512, 'vect__max_df': 0.9, 'vect__min_df': 4, 'vect__ngram_range': (1, 3)}; mean - 0.76; std - 0.04\n",
      "             precision    recall  f1-score   support\n",
      "\n",
      "        neg       0.79      0.81      0.80       254\n",
      "        pos       0.80      0.78      0.79       246\n",
      "\n",
      "avg / total       0.80      0.80      0.80       500\n",
      "\n"
     ]
    }
   ],
   "source": [
    "# try KNeighbors\n",
    "# -----------------------------------------------------------------------\n",
    "from sklearn.neighbors import KNeighborsClassifier\n",
    "\n",
    "pipeline = Pipeline([\n",
    "        ('vect', TfidfVectorizer(stop_words='english')), \n",
    "        ('clf', KNeighborsClassifier()), \n",
    "    ])\n",
    "\n",
    "parameters = {\n",
    "        'vect__ngram_range': [(1,1), (1, 2), (1, 3)],\n",
    "        'vect__min_df': [2, 3, 4],\n",
    "        'vect__max_df': [0.98, 0.95, 0.92, 0.90],\n",
    "        'clf__n_neighbors': [2, 8, 32, 128, 512],\n",
    "    }\n",
    "\n",
    "grid_search = GridSearchCV(pipeline, parameters, n_jobs=-1)\n",
    "grid_search.fit(docs_train, y_train)\n",
    "\n",
    "n_candidates = len(grid_search.cv_results_['params'])\n",
    "for i in range(n_candidates):\n",
    "    print(i, 'params - %s; mean - %0.2f; std - %0.2f'\n",
    "             % (grid_search.cv_results_['params'][i],\n",
    "                grid_search.cv_results_['mean_test_score'][i],\n",
    "                grid_search.cv_results_['std_test_score'][i]))\n",
    "\n",
    "y_predicted = grid_search.predict(docs_test)\n",
    "print(metrics.classification_report(y_test, y_predicted, \n",
    "                                    target_names=dataset.target_names)) #classification"
   ]
  },
  {
   "cell_type": "code",
   "execution_count": 85,
   "metadata": {},
   "outputs": [
    {
     "name": "stdout",
     "output_type": "stream",
     "text": [
      "[0.64133333333333331, 0.65400000000000003, 0.65866666666666662, 0.65600000000000003, 0.65800000000000003, 0.65533333333333332, 0.65066666666666662, 0.65666666666666662, 0.65733333333333333, 0.64133333333333331, 0.65400000000000003, 0.65866666666666662, 0.65600000000000003, 0.65800000000000003, 0.65533333333333332, 0.65066666666666662, 0.65666666666666662, 0.65733333333333333, 0.64133333333333331, 0.65400000000000003, 0.65866666666666662, 0.65600000000000003, 0.65800000000000003, 0.65533333333333332, 0.65066666666666662, 0.65666666666666662, 0.65733333333333333, 0.64133333333333331, 0.65400000000000003, 0.65866666666666662, 0.65600000000000003, 0.65800000000000003, 0.65533333333333332, 0.65066666666666662, 0.65666666666666662, 0.65733333333333333, 0.65866666666666662, 0.66666666666666663, 0.66866666666666663, 0.66533333333333333, 0.66933333333333334, 0.67733333333333334, 0.66600000000000004, 0.67133333333333334, 0.67866666666666664, 0.65866666666666662, 0.66666666666666663, 0.66866666666666663, 0.66533333333333333, 0.66933333333333334, 0.67733333333333334, 0.66600000000000004, 0.67133333333333334, 0.67866666666666664, 0.65866666666666662, 0.66666666666666663, 0.66866666666666663, 0.66533333333333333, 0.66933333333333334, 0.67733333333333334, 0.66600000000000004, 0.67133333333333334, 0.67866666666666664, 0.65866666666666662, 0.66666666666666663, 0.66866666666666663, 0.66533333333333333, 0.66933333333333334, 0.67733333333333334, 0.66600000000000004, 0.67133333333333334, 0.67866666666666664, 0.69666666666666666, 0.69799999999999995, 0.70599999999999996, 0.70799999999999996, 0.69999999999999996, 0.70466666666666666, 0.70999999999999996, 0.68999999999999995, 0.68933333333333335, 0.69666666666666666, 0.69799999999999995, 0.70599999999999996, 0.70799999999999996, 0.69999999999999996, 0.70466666666666666, 0.70999999999999996, 0.68999999999999995, 0.68933333333333335, 0.69666666666666666, 0.69799999999999995, 0.70599999999999996, 0.70799999999999996, 0.69999999999999996, 0.70466666666666666, 0.70999999999999996, 0.68999999999999995, 0.68933333333333335, 0.69666666666666666, 0.69799999999999995, 0.70599999999999996, 0.70799999999999996, 0.69999999999999996, 0.70466666666666666, 0.70999999999999996, 0.68999999999999995, 0.68933333333333335, 0.72999999999999998, 0.7493333333333333, 0.7533333333333333, 0.74199999999999999, 0.7533333333333333, 0.7533333333333333, 0.7426666666666667, 0.75266666666666671, 0.7513333333333333, 0.72999999999999998, 0.7493333333333333, 0.7533333333333333, 0.74199999999999999, 0.7533333333333333, 0.7533333333333333, 0.7426666666666667, 0.75266666666666671, 0.7513333333333333, 0.72999999999999998, 0.7493333333333333, 0.7533333333333333, 0.74199999999999999, 0.7533333333333333, 0.7533333333333333, 0.7426666666666667, 0.75266666666666671, 0.7513333333333333, 0.72999999999999998, 0.7493333333333333, 0.7533333333333333, 0.74199999999999999, 0.7533333333333333, 0.7533333333333333, 0.7426666666666667, 0.75266666666666671, 0.7513333333333333, 0.7493333333333333, 0.76866666666666672, 0.76933333333333331, 0.73999999999999999, 0.7573333333333333, 0.75666666666666671, 0.73799999999999999, 0.752, 0.7553333333333333, 0.7493333333333333, 0.76866666666666672, 0.76933333333333331, 0.73999999999999999, 0.7573333333333333, 0.75666666666666671, 0.73799999999999999, 0.752, 0.7553333333333333, 0.7493333333333333, 0.76866666666666672, 0.76933333333333331, 0.73999999999999999, 0.7573333333333333, 0.75666666666666671, 0.73799999999999999, 0.752, 0.7553333333333333, 0.7493333333333333, 0.76866666666666672, 0.76933333333333331, 0.73999999999999999, 0.7573333333333333, 0.75666666666666671, 0.73799999999999999, 0.752, 0.7553333333333333]\n"
     ]
    },
    {
     "name": "stderr",
     "output_type": "stream",
     "text": [
      "C:\\Users\\hayfa\\Anaconda3\\lib\\site-packages\\sklearn\\model_selection\\_search.py:761: DeprecationWarning: The grid_scores_ attribute was deprecated in version 0.18 in favor of the more elaborate cv_results_ attribute. The grid_scores_ attribute will not be available from 0.20\n",
      "  DeprecationWarning)\n"
     ]
    },
    {
     "data": {
      "text/plain": [
       "<matplotlib.text.Text at 0x208173ac588>"
      ]
     },
     "execution_count": 85,
     "metadata": {},
     "output_type": "execute_result"
    },
    {
     "data": {
      "image/png": "[encoded data removed]",
      "text/plain": [
       "<matplotlib.figure.Figure at 0x20816b256d8>"
      ]
     },
     "metadata": {},
     "output_type": "display_data"
    }
   ],
   "source": [
    "# graph the results of the parameter combinations for KNeighbors\n",
    "grid_mean_scores = [result.mean_validation_score for result in grid_search.grid_scores_]\n",
    "print(grid_mean_scores)\n",
    "plt.plot( grid_mean_scores)\n",
    "plt.xlabel('Parameter Combo')\n",
    "plt.ylabel('Mean Score from Grid Search')"
   ]
  },
  {
   "cell_type": "code",
   "execution_count": 86,
   "metadata": {},
   "outputs": [
    {
     "data": {
      "text/plain": [
       "0.76933333333333331"
      ]
     },
     "execution_count": 86,
     "metadata": {},
     "output_type": "execute_result"
    }
   ],
   "source": [
    "# find best score from grid search for KNeighbors\n",
    "grid_search.best_score_"
   ]
  },
  {
   "cell_type": "code",
   "execution_count": 87,
   "metadata": {},
   "outputs": [
    {
     "data": {
      "text/plain": [
       "{'clf__n_neighbors': 512,\n",
       " 'vect__max_df': 0.98,\n",
       " 'vect__min_df': 2,\n",
       " 'vect__ngram_range': (1, 3)}"
      ]
     },
     "execution_count": 87,
     "metadata": {},
     "output_type": "execute_result"
    }
   ],
   "source": [
    "# find best parameters from grid search for KNeighbors\n",
    "grid_search.best_params_"
   ]
  },
  {
   "cell_type": "code",
   "execution_count": 88,
   "metadata": {},
   "outputs": [
    {
     "name": "stdout",
     "output_type": "stream",
     "text": [
      "[[207  47]\n",
      " [ 54 192]]\n"
     ]
    }
   ],
   "source": [
    "# confusion matrix for KNeighbors\n",
    "cm = metrics.confusion_matrix(y_test, y_predicted) \n",
    "print(cm)"
   ]
  },
  {
   "cell_type": "code",
   "execution_count": 89,
   "metadata": {},
   "outputs": [
    {
     "data": {
      "image/png": "[encoded data removed]",
      "text/plain": [
       "<matplotlib.figure.Figure at 0x2084c0e8dd8>"
      ]
     },
     "metadata": {},
     "output_type": "display_data"
    }
   ],
   "source": [
    "plt.matshow(cm)\n",
    "plt.show()"
   ]
  },
  {
   "cell_type": "markdown",
   "metadata": {},
   "source": [
    "*------------------------\n",
    "\n",
    "## Problem 4 (20 points): Open Ended Question:  Finding the right plot"
   ]
  },
  {
   "cell_type": "markdown",
   "metadata": {},
   "source": [
    "* Can you find a two dimensional plot in which the positive and negative reviews are separated?\n",
    "    * This problem is hard since you will likely have thousands of features for review, and you will need to transform these thousands of features into just two numbers (so that you can make a 2D plot).\n",
    "* Note, I was not able to find such a plot myself!\n",
    "    * So, this problem is about **trying** but perhaps **not necessarily succeeding**!\n",
    "* I tried two things, neither of which worked very well.\n",
    "    * I first plotted the length of the review versus the number of features we compute that are in that review\n",
    "    * Second I used Principle Component Analysis on a subset of the features.\n",
    "* Can you do better than I did!?"
   ]
  },
  {
   "cell_type": "markdown",
   "metadata": {},
   "source": [
    "# Report: communicate the results (20 points)\n",
    "\n",
    "(1) (5 points) What data you collected?\n",
    "\n",
    "(2) (5 points) Why this topic is interesting or important to you? (Motivations)\n",
    "\n",
    "(3) (5 points) How did you analyse the data?\n",
    "\n",
    "(4) (5 points) What did you find in the data?\n",
    "(please include figures or tables in the report, but no source code)"
   ]
  },
  {
   "cell_type": "code",
   "execution_count": 2,
   "metadata": {
    "collapsed": true
   },
   "outputs": [],
   "source": [
    "import matplotlib.pylab as py\n",
    "from mpl_toolkits.mplot3d import Axes3D"
   ]
  },
  {
   "cell_type": "code",
   "execution_count": 3,
   "metadata": {
    "collapsed": true
   },
   "outputs": [],
   "source": [
    "from sklearn.datasets import load_files\n"
   ]
  },
  {
   "cell_type": "code",
   "execution_count": 4,
   "metadata": {
    "collapsed": true
   },
   "outputs": [],
   "source": [
    "from sklearn import manifold, datasets\n",
    "dataset = load_files('/Users/Mukund Khandelwal/Desktop/CS3/unzip/txt_sentoken', shuffle=False)"
   ]
  },
  {
   "cell_type": "code",
   "execution_count": 5,
   "metadata": {},
   "outputs": [
    {
     "data": {
      "text/plain": [
       "b'so ask yourself what \" 8mm \" ( \" eight millimeter \" ) is really all about . \\r\\nis it about a wholesome surveillance man who loses sight of his values after becoming enmeshed in the seedy , sleazy underworld of hardcore pornography ? \\r\\nis it about the business itself , how , bubbling just beneath the surface of big-town americana , there\\'s a sordid world of sick and depraved people who won\\'t necessarily stop short of murder in order to satisfy their sick and twisted desires ? \\r\\nor is it about those who can , those who are in a position to influence the making of the kinds of films sick and demented people want to see ? \\r\\ni\\'m not talking about snuff films , supposed \" documentaries \" of victims being brutalized and killed on camera . \\r\\ni\\'m talking about films like \" 8mm \" and its director , joel schumacher . \\r\\nwith a recent run of big budget movies to his credit-- \" batman & robin , \" \" a time to kill , \" \" batman forever , \" \" the client \" --schumacher certainly has that kind of influence . \\r\\nis \" 8mm \" something you really want to see ? \\r\\nprobably not . \\r\\nthe first two-thirds of \" 8mm \" unwind as a fairly conventional missing persons drama , albeit with a particularly unsavory core . \\r\\nthen , as it\\'s been threatening all along , the film explodes into violence . \\r\\nand just when you think it\\'s finally over , schumacher tags on a ridiculous self-righteous finale that drags the whole unpleasant experience down even further . \\r\\ntrust me . \\r\\nthere are better ways to waste two hours of your life . \\r\\nnicolas \\' \" snake eyes \" \\' cage plays private investigator tom welles who is hired by a wealthy philadelphia widow to determine whether a reel of film found in her late husband\\'s safe documents a young girl\\'s murder . \\r\\nwelles goes about his assignment rather matter-of-factly , and the pieces of the puzzle fall into place rather neatly , almost as if you don\\'t need any specialized skills or training to do this . \\r\\nwelles certainly makes it look easy . \\r\\nand cops , obviously , never look in toilet tanks for clues . \\r\\nthe deeper welles digs into his investigation the more obsessed he becomes , like george c . scott in paul schrader\\'s \" hardcore . \" \\r\\noccasionally , a little flickering sound whirs in his head like sprockets winding through a film projector , reminding him of his unpleasant task . \\r\\nthere are hints that this is taking its toll on his lovely wife , played by catherine keener , who is frustrated by her husband spending all of his time in cleveland rather than in their ugly split-level home in harrisburg , pa . \\r\\n \" 8mm \" doesn\\'t condemn or condone its subject matter , it just exploits it . \\r\\nthe irony , of course , is that schumacher and \" seven \" scribe andrew kevin walker\\'s vision of life in the snuff lane is limited by what they can show in an r-rated , first-run hollywood product . \\r\\nso we only see snippets of snuff , and a lot more footage of nicolas cage covering his face in horror . \\r\\nlater it\\'s the turn of joaquin phoenix ( who\\'s quite good and by far the film\\'s most interesting character as adult bookstore flunky max california ) to cover his face as the horrid thing is screened over and over again . \\r\\nall this to get to the familiar yet offensive \" revelation \" that sexual deviants are not , indeed , monsters but everyday people like you and me . \\r\\nneither super nor standard , \" 8mm \" is shocking only in its banality . \\r\\n'"
      ]
     },
     "execution_count": 5,
     "metadata": {},
     "output_type": "execute_result"
    }
   ],
   "source": [
    "dataset.data[5]\n"
   ]
  },
  {
   "cell_type": "code",
   "execution_count": 6,
   "metadata": {
    "collapsed": true
   },
   "outputs": [],
   "source": [
    "import matplotlib.pyplot as plt\n",
    "%matplotlib inline"
   ]
  },
  {
   "cell_type": "code",
   "execution_count": 7,
   "metadata": {
    "collapsed": true
   },
   "outputs": [],
   "source": [
    "from sklearn.model_selection import train_test_split\n"
   ]
  },
  {
   "cell_type": "code",
   "execution_count": 8,
   "metadata": {
    "collapsed": true
   },
   "outputs": [],
   "source": [
    "docs_train, docs_test, y_train, y_test = train_test_split(\n",
    "    dataset.data, dataset.target, test_size=0.25, random_state=False)"
   ]
  },
  {
   "cell_type": "code",
   "execution_count": 17,
   "metadata": {
    "collapsed": true
   },
   "outputs": [],
   "source": [
    "from sklearn.manifold import Isomap"
   ]
  },
  {
   "cell_type": "code",
   "execution_count": 50,
   "metadata": {
    "collapsed": true
   },
   "outputs": [],
   "source": [
    "iso = Isomap(n_components=2, n_neighbors=20)"
   ]
  },
  {
   "cell_type": "code",
   "execution_count": 51,
   "metadata": {
    "collapsed": true
   },
   "outputs": [],
   "source": [
    "from sklearn.feature_extraction.text import TfidfVectorizer\n",
    "vectorizer = TfidfVectorizer(ngram_range=(1,2))\n",
    "X=vectorizer.fit_transform(docs_train)\n",
    "z=X.toarray()"
   ]
  },
  {
   "cell_type": "code",
   "execution_count": null,
   "metadata": {
    "collapsed": true
   },
   "outputs": [],
   "source": [
    "iso.fit(z);"
   ]
  },
  {
   "cell_type": "code",
   "execution_count": null,
   "metadata": {
    "collapsed": true
   },
   "outputs": [],
   "source": [
    "X_isomap = iso.transform(z)\n",
    "X_isomap.shape"
   ]
  },
  {
   "cell_type": "code",
   "execution_count": null,
   "metadata": {
    "collapsed": true
   },
   "outputs": [],
   "source": [
    "y=dataset.target"
   ]
  },
  {
   "cell_type": "code",
   "execution_count": null,
   "metadata": {
    "collapsed": true
   },
   "outputs": [],
   "source": [
    "print(y.shape)"
   ]
  },
  {
   "cell_type": "code",
   "execution_count": 48,
   "metadata": {
    "collapsed": true
   },
   "outputs": [],
   "source": [
    "#import matplotlib.colors\n",
    "\n",
    "#points = np.random.uniform(0,10, size = (10,2))\n",
    "\n",
    "#labels = np.random.randint(0,3, size = 10)\n",
    "\n",
    "#extraPoints = np.random.uniform(0,10, size = (3,2))\n",
    "\n",
    "colors=[\"red\", \"gold\"]\n",
    "cmap = matplotlib.colors.ListedColormap(colors)"
   ]
  },
  {
   "cell_type": "code",
   "execution_count": 41,
   "metadata": {
    "collapsed": true
   },
   "outputs": [],
   "source": []
  },
  {
   "cell_type": "code",
   "execution_count": 49,
   "metadata": {},
   "outputs": [
    {
     "data": {
      "text/plain": [
       "<matplotlib.collections.PathCollection at 0x1368c399ba8>"
      ]
     },
     "execution_count": 49,
     "metadata": {},
     "output_type": "execute_result"
    },
    {
     "data": {
      "image/png": "[encoded data removed]",
      "text/plain": [
       "<matplotlib.figure.Figure at 0x1368c3962b0>"
      ]
     },
     "metadata": {},
     "output_type": "display_data"
    }
   ],
   "source": [
    "plt.scatter(X_isomap[:, 0], X_isomap[:, 1], c = colors)"
   ]
  },
  {
   "cell_type": "code",
   "execution_count": null,
   "metadata": {
    "collapsed": true
   },
   "outputs": [],
   "source": []
  },
  {
   "cell_type": "markdown",
   "metadata": {},
   "source": [
    "# Slides (for 10 minutes of presentation) (20 points)\n",
    "\n",
    "\n",
    "1. (5 points) Motivation about the data collection, why the topic is interesting to you. \n",
    "\n",
    "2. (10 points) Communicating Results (figure/table)\n",
    "\n",
    "3. (5 points) Story telling (How all the parts (data, analysis, result) fit together as a story?)"
   ]
  },
  {
   "cell_type": "markdown",
   "metadata": {},
   "source": [
    "*-----------------\n",
    "# Done\n",
    "\n",
    "All set! \n",
    "\n",
    "** What do you need to submit?**\n",
    "\n",
    "* **Notebook File**: Save this IPython notebook, and find the notebook file in your folder (for example, \"filename.ipynb\"). This is the file you need to submit. Please make sure all the plotted tables and figures are in the notebook. If you used \"ipython notebook --pylab=inline\" to open the notebook, all the figures and tables should have shown up in the notebook.\n",
    "\n",
    "\n",
    "* **PPT Slides**: please prepare PPT slides (for 10 minutes' talk) to present about the case study . We will ask two teams which are randomly selected to present their case studies in class for this case study. \n",
    "\n",
    "* ** Report**: please prepare a report (less than 10 pages) to report what you found in the data.\n",
    "    * What is the relationship between this topic and Business Intelligence?\n",
    "    * How did you analyse the data?\n",
    "    * What did you find in the data? \n",
    "    * What conjectures did you make and how did you support or disprove them using data?\n",
    "    * Did you find anything suprising in the data?\n",
    "    * What business decision do you think this data could help answer?  Why?\n",
    "\n",
    "   (please include figures or tables in the report, **but no source code**)\n",
    "\n",
    "*Please compress all the files into a single zipped file.*\n",
    "\n",
    "\n",
    "** How to submit: **\n",
    "\n",
    "        Please submit through email to Prof. Paffenroth (rcpaffenroth@wpi.edu) *and* the TA Yingnan Liu (yliu18@wpi.edu).\n",
    "\n",
    "#### We auto-process the submissions so make sure your subject line is *exactly*:\n",
    "\n",
    "### DS501 Case Study 3 Team ??\n",
    "\n",
    "#### where ?? is your team number.\n",
    "        \n",
    "** Note: Each team just needs to submits one submission **"
   ]
  },
  {
   "cell_type": "code",
   "execution_count": null,
   "metadata": {
    "collapsed": true
   },
   "outputs": [],
   "source": []
  }
 ],
 "metadata": {
  "kernel_info": {
   "name": "python3"
  },
  "kernelspec": {
   "display_name": "Python 3",
   "language": "python",
   "name": "python3"
  },
  "language_info": {
   "codemirror_mode": {
    "name": "ipython",
    "version": 3
   },
   "file_extension": ".py",
   "mimetype": "text/x-python",
   "name": "python",
   "nbconvert_exporter": "python",
   "pygments_lexer": "ipython3",
   "version": "3.6.1"
  },
  "nteract": {
   "version": "0.2.0"
  }
 },
 "nbformat": 4,
 "nbformat_minor": 1
}
