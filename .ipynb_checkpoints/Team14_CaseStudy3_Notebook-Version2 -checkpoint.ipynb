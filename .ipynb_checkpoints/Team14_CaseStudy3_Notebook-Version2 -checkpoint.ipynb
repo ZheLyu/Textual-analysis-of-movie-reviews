{
 "cells": [
  {
   "cell_type": "markdown",
   "metadata": {},
   "source": [
    "# Case Study 3 : Textual analysis of movie reviews\n",
    "\n",
    "** Due Date: November 16, 2017, BEFORE the beginning of class at 6:00pm **\n",
    "\n",
    "NOTE: There are always last minute issues submitting the case studies. DO NOT WAIT UNTIL THE LAST MINUTE!\n",
    "\n",
    "*------------"
   ]
  },
  {
   "cell_type": "markdown",
   "metadata": {},
   "source": [
    "<img src=\"http://www.conversational-technologies.com/nldemos/nlWordle.GIF\">"
   ]
  },
  {
   "cell_type": "markdown",
   "metadata": {},
   "source": [
    "**TEAM Members:** Please EDIT this cell and add the names of all the team members in your team\n",
    "\n",
    "TEAM 14\n",
    "\n",
    "    Mukund Khandelwal\n",
    "    Zhe Lyu\n",
    "    Zeling Lei\n",
    "    Brandon Werner\n",
    "    Todd Hay"
   ]
  },
  {
   "cell_type": "markdown",
   "metadata": {},
   "source": [
    "**Desired outcome of the case study.**\n",
    "* In this case study we will look at movie reviews from the v2.0 polarity dataset comes from\n",
    "the http://www.cs.cornell.edu/people/pabo/movie-review-data.\n",
    "    * It contains written reviews of movies divided into positive and negative reviews.\n",
    "* As in Case Study 2 idea is to *analyze* the data set, make *conjectures*, support or refute those conjectures with *data*, and *tell a story* about the data!\n",
    "    \n",
    "**Required Readings:** \n",
    "* This case study will be based upon the scikit-learn Python library\n",
    "* We will build upon the turtorial \"Working With Text Data\" which can be found at http://scikit-learn.org/stable/tutorial/text_analytics/working_with_text_data.html\n",
    "\n",
    "**Case study assumptions:**\n",
    "* You have access to a python installation\n",
    "\n",
    "**Required Python libraries:**\n",
    "* Numpy (www.numpy.org) (should already be installed from Case Study 2)\n",
    "* Matplotlib (matplotlib.org) (should already be installed from Case Study 2)\n",
    "* Scikit-learn (scikit-learn.org) (avaiable from Anaconda)\n",
    "* You are also welcome to use the Python Natural Language Processing Toolkit (www.nltk.org) (though it is not required).\n",
    "\n",
    "** NOTE **\n",
    "* Please don't forget to save the notebook frequently when working in IPython Notebook, otherwise the changes you made can be lost.\n",
    "\n",
    "*----------------------"
   ]
  },
  {
   "cell_type": "markdown",
   "metadata": {},
   "source": [
    "## Problem 1 (20 points): Complete Exercise 2: Sentiment Analysis on movie reviews from http://scikit-learn.org/stable/tutorial/text_analytics/working_with_text_data.html"
   ]
  },
  {
   "cell_type": "markdown",
   "metadata": {},
   "source": [
    "* Assuming that you have downloaded the scikit-learn source code (depending on your distribution, you may need to download this directly from Gitub at https://github.com/scikit-learn/scikit-learn):\n",
    "    * The data cane be downloaded using doc/tutorial/text_analytics/data/movie_reviews/fetch_data.py\n",
    "    * A skeleton for the solution can be found in doc/tutorial/text_analytics/skeletons/exercise_02_sentiment.py\n",
    "    * A completed solution can be found in doc/tutorial/text_analytics/solutions/exercise_02_sentiment.py\n",
    "* **It is ok to use the solution provided in the scikit-learn distribution as a starting place for your work.**\n",
    "\n",
    "### Modify the solution to Exercise 2 so that it can run in this iPython notebook\n",
    "* This will likely involved moving around data files and/or small modifications to the script."
   ]
  },
  {
   "cell_type": "code",
   "execution_count": 38,
   "metadata": {
    "collapsed": true
   },
   "outputs": [],
   "source": [
    "# script to download the data\n",
    "# ---------------------------\n",
    "# it will create a subfolder called 'txt_sentoken' in the path where this script was executed.\n",
    "# in my case, the full Windows path is 'C:\\Users\\hayfa\\Documents\\DS 501\\Case Study 3\\txt_sentoken'\n",
    "\n",
    "\"\"\"Script to download the movie review dataset\"\"\"\n",
    "import os\n",
    "import tarfile\n",
    "from contextlib import closing\n",
    "try:\n",
    "    from urllib import urlopen\n",
    "except ImportError:\n",
    "    from urllib.request import urlopen\n",
    "\n",
    "\n",
    "URL = (\"http://www.cs.cornell.edu/people/pabo/\"\n",
    "       \"movie-review-data/review_polarity.tar.gz\")\n",
    "\n",
    "ARCHIVE_NAME = URL.rsplit('/', 1)[1]\n",
    "DATA_FOLDER = \"txt_sentoken\"\n",
    "\n",
    "\n",
    "if not os.path.exists(DATA_FOLDER):\n",
    "\n",
    "    if not os.path.exists(ARCHIVE_NAME):\n",
    "        print(\"Downloading dataset from %s (3 MB)\" % URL)\n",
    "        opener = urlopen(URL)\n",
    "        with open(ARCHIVE_NAME, 'wb') as archive:\n",
    "            archive.write(opener.read())\n",
    "\n",
    "    print(\"Decompressing %s\" % ARCHIVE_NAME)\n",
    "    with closing(tarfile.open(ARCHIVE_NAME, \"r:gz\")) as archive:\n",
    "        archive.extractall(path='.')\n",
    "    os.remove(ARCHIVE_NAME)"
   ]
  },
  {
   "cell_type": "code",
   "execution_count": 39,
   "metadata": {
    "collapsed": true
   },
   "outputs": [],
   "source": [
    "# Modify the solution to Exercise 2 so that it can run in this iPython notebook\n",
    "# ------------------------------------------------------------------------------\n",
    "# breaking the code into separate cells for readability\n",
    "# import the required libraries\n",
    "#\n",
    "\"\"\"Build a sentiment analysis / polarity model\n",
    "Sentiment analysis can be casted as a binary text classification problem,\n",
    "that is fitting a linear classifier on features extracted from the text\n",
    "of the user messages so as to guess wether the opinion of the author is\n",
    "positive or negative.\n",
    "In this examples we will use a movie review dataset.\n",
    "\"\"\"\n",
    "# Author: Olivier Grisel <olivier.grisel@ensta.org>\n",
    "# License: Simplified BSD\n",
    "\n",
    "import sys\n",
    "from sklearn.feature_extraction.text import TfidfVectorizer\n",
    "from sklearn.feature_selection import RFE\n",
    "from sklearn.svm import LinearSVC\n",
    "from sklearn import linear_model\n",
    "from sklearn.ensemble import RandomForestClassifier\n",
    "from sklearn.pipeline import Pipeline\n",
    "from sklearn.model_selection import GridSearchCV\n",
    "from sklearn.datasets import load_files\n",
    "from sklearn.model_selection import train_test_split\n",
    "from sklearn import metrics  \n",
    "from sklearn.naive_bayes import MultinomialNB\n",
    "\n",
    "\n",
    "import numpy as np\n",
    "\n",
    "import pandas as pd\n",
    "\n",
    "import matplotlib.pyplot as plt\n",
    "%matplotlib inline"
   ]
  },
  {
   "cell_type": "code",
   "execution_count": 40,
   "metadata": {
    "collapsed": false
   },
   "outputs": [
    {
     "name": "stdout",
     "output_type": "stream",
     "text": [
      "n_samples: 2000\n"
     ]
    }
   ],
   "source": [
    "# the way the data is loaded it ends up in the folder where this script runs so just skip to \"dataset = ...\"\n",
    "dataset = load_files('./txt_sentoken/', shuffle=False)\n",
    "print(\"n_samples: %d\" % len(dataset.data))"
   ]
  },
  {
   "cell_type": "code",
   "execution_count": 41,
   "metadata": {
    "collapsed": true
   },
   "outputs": [],
   "source": [
    "# split the dataset into training and test set:\n",
    "docs_train, docs_test, y_train, y_test = train_test_split(\n",
    "    dataset.data, dataset.target, test_size=0.25, random_state=False)"
   ]
  },
  {
   "cell_type": "code",
   "execution_count": 42,
   "metadata": {
    "collapsed": false
   },
   "outputs": [
    {
     "data": {
      "text/plain": [
       "2000"
      ]
     },
     "execution_count": 42,
     "metadata": {},
     "output_type": "execute_result"
    }
   ],
   "source": [
    "# confirm the source datset contains 2000 reviews\n",
    "len(dataset.data)"
   ]
  },
  {
   "cell_type": "code",
   "execution_count": 43,
   "metadata": {
    "collapsed": false
   },
   "outputs": [
    {
     "name": "stdout",
     "output_type": "stream",
     "text": [
      "1500\n",
      "2000\n"
     ]
    },
    {
     "data": {
      "text/plain": [
       "'75.0%'"
      ]
     },
     "execution_count": 43,
     "metadata": {},
     "output_type": "execute_result"
    }
   ],
   "source": [
    "# confirm that the train size is 75% of the total dataset \n",
    "print(len(docs_train))\n",
    "print(len(dataset.data))\n",
    "str(len(docs_train) / len(dataset.data) * 100) + '%'"
   ]
  },
  {
   "cell_type": "code",
   "execution_count": 7,
   "metadata": {
    "collapsed": false
   },
   "outputs": [
    {
     "name": "stdout",
     "output_type": "stream",
     "text": [
      "500\n",
      "2000\n"
     ]
    },
    {
     "data": {
      "text/plain": [
       "'25.0%'"
      ]
     },
     "execution_count": 7,
     "metadata": {},
     "output_type": "execute_result"
    }
   ],
   "source": [
    "# confirm that the test size is 25% of total dataset\n",
    "print(len(docs_test))\n",
    "print(len(dataset.data))\n",
    "str(len(docs_test) / len(dataset.data) * 100) + '%'"
   ]
  },
  {
   "cell_type": "code",
   "execution_count": 8,
   "metadata": {
    "collapsed": false
   },
   "outputs": [
    {
     "name": "stdout",
     "output_type": "stream",
     "text": [
      "[0, 1]\n",
      "['neg', 'pos']\n"
     ]
    }
   ],
   "source": [
    "# check the index values and names of the target (category label)\n",
    "list = dataset.target; new_list = []; [new_list.append(x) for x in list if x not in new_list]\n",
    "print(new_list)\n",
    "print(dataset.target_names)"
   ]
  },
  {
   "cell_type": "code",
   "execution_count": 9,
   "metadata": {
    "collapsed": false
   },
   "outputs": [
    {
     "name": "stdout",
     "output_type": "stream",
     "text": [
      "1\n",
      "0\n"
     ]
    }
   ],
   "source": [
    "# check the target attribute (integer) of text review #1500\n",
    "print(dataset.target[1500]) \n",
    "# chek the target attribute (integer) of text review #25\n",
    "print(dataset.target[25])"
   ]
  },
  {
   "cell_type": "code",
   "execution_count": 10,
   "metadata": {
    "collapsed": false
   },
   "outputs": [
    {
     "name": "stdout",
     "output_type": "stream",
     "text": [
      "./txt_sentoken/pos/cv500_10251.txt\n",
      "b\"losing a job is not an all too uncommon thing . \\nreacting to such a personal setback by taking a group of small children hostage is a bit more rare . \\nwhile we all might feel the desire to blow someone's head off with a shotg\"\n"
     ]
    }
   ],
   "source": [
    "# Check the filename and text review of text review #1500\n",
    "# The files themselves are loaded in memory in the data attribute. For reference the filenames are also available\n",
    "print(dataset.filenames[1500])\n",
    "print(dataset.data[1500][:225])  #print the first 225 characters of review # 1500"
   ]
  },
  {
   "cell_type": "code",
   "execution_count": 11,
   "metadata": {
    "collapsed": false
   },
   "outputs": [
    {
     "data": {
      "text/plain": [
       "list"
      ]
     },
     "execution_count": 11,
     "metadata": {},
     "output_type": "execute_result"
    }
   ],
   "source": [
    "#check the datatype for docs_train\n",
    "type(docs_train)"
   ]
  },
  {
   "cell_type": "code",
   "execution_count": 12,
   "metadata": {
    "collapsed": false
   },
   "outputs": [
    {
     "name": "stdout",
     "output_type": "stream",
     "text": [
      "First record from docs_train\n",
      "b\"`we run tings . \\ntings don't run we . ' \\n-sound advice from capone ( paul campbell ) to his squaddie ( or partner ) , floyd ( winston bell ) . \\njamaican film , shot entirely on video , featuring a standard cop movie plot mixed with a dash of john woo-styled brotherhood morals ( and a little gunplay ) . \\ncapone , a tough as nails super cop , gets a transfer back to his hometown of kingston after successfully taking down some gangsters that have broken into his home ( while he was with his lady ) and killed his partner in front of him . \\nwhen he arrives , he discovers that the ghetto where he grew up has gotten worse , thanks mainly to the crime boss wonie ( jamaican film veteran carl bradshaw ) , so named because his left hand has been amputated and replaced by a grasping hook ) . \\ncapone discovers that wonie has been smuggling guns inside shipments of charity supplies for the area churches and , much to his disappointment , also finds out his childhood friend ratty ( mark danvers ) has been helping him . \\ntorn between doing his job and protecting his best friend , capone must make some hard decisions in order to make things right again . \\ndirected deftly by first time jamaican filmmaker chris browne ( assistant director for such american films as how stella got her groove back and instinct ) , one hardly notices the film was shot on video after a while . \\nshots are handled so efficiently that they quickly take on the nuances of the aforementioned john woo films , although the action isn't as hyperkinetic as most of woo's films are . \\nthe action scenes are handled with a kind of flair though , and eventually begin to take on a life of their own ( beyond the hong kong films that they are obviously patterned after ) . \\nthe make-up effects are particularly good in these scenes as well , with flawless squib work on display from the effects team . \\nthe cast is superb and listening to their dialogue , spoken with thick jamaican accents ( half of which have to be subtitled because of their extensive use of slang ) , just adds to the interest . \\npaul campbell , as the `loose cannon' capone , essays his role perfectly , displaying the right amount of menace and compassion at the right times . \\nmark danvers evokes sympathy as ratty , the part-time gun smuggler who is also trying to help the community by building football fields and organizing block parties to bring people together . \\nunfortunately , carl bradshaw is given the least to do and his character as the crime boss seems ineffective ( largely because his underlings seem to run all over him ) , but then again , that could be the way his character was intended to be portrayed . \\nthe music in the film is composed of all reggae songs , and the soundtrack was produced by grammy award winning artists , sly and robbie ( who have worked with the likes of the rolling stones , maxi priest , bob dylan , james brown , grace jones , herbie hancock , bootsy collins , and carly simon among others ) . \\nthe end credit song , `we run tings' , by the group red dragon , is pretty decent and carries on the theme of the movie established early on by the quote that opens this review . \\noddly enough , desmond ballentine ( who plays the character deportee ) is well known as a pioneer in the realm of `gangsta' reggae as the performer ninjaman , and he doesn't contribute a single song to the film ( that i could see ) , which is virtually unheard of here in the us . \\nat the time of this writing , third world cop has been put into limited theatrical release in the us , coming off of a six-month box-office breaking run in jamaica , where it holds the position as highest grossing film of all time ( bringing in $21 million in jamaica , which is roughly $500 , 000 us ) . \\npalm pictures ( the company that released the offbeat , but entertaining six-string samurai ) is the company releasing the film and considering that their main focus is the dvd market , i can imagine that a disc will be available once the film has left theaters . \\nchris blackwell , founder of palm pictures , was also involved in the production of another jamaican box-office smash in 1981 entitled countryman , so i'd say he has a pretty good track record . \\noverall , third world cop is a pretty entertaining homage to the films of john woo , ringo lam , tsui hark , and many other action films by directors from hong kong . \\nif action films are your thing and you don't mind intermittent subtitles , then you can't go wrong with this film . \\nthe performances and the story are solid ( if only a little cliched ) and the action is tight . \\ni'm not sure what the other jamaican films released in that country are like , but apparently third world cop's honors are well deserved . \\n\"\n",
      "1500\n",
      "---------------------- \n",
      "\n",
      "First record from docs_test\n",
      "b\"arnold schwarzenegger has been an icon for action enthusiasts , since the late 80's , but lately his films have been very sloppy and the one-liners are getting worse . \\nit's hard seeing arnold as mr . freeze in batman and robin , especially when he says tons of ice jokes , but hey he got 15 million , what's it matter to him ? \\nonce again arnold has signed to do another expensive blockbuster , that can't compare with the likes of the terminator series , true lies and even eraser . \\nin this so called dark thriller , the devil ( gabriel byrne ) has come upon earth , to impregnate a woman ( robin tunney ) which happens every 1000 years , and basically destroy the world , but apparently god has chosen one man , and that one man is jericho cane ( arnold himself ) . \\nwith the help of a trusty sidekick ( kevin pollack ) , they will stop at nothing to let the devil take over the world ! \\nparts of this are actually so absurd , that they would fit right in with dogma . \\nyes , the film is that weak , but it's better than the other blockbuster right now ( sleepy hollow ) , but it makes the world is not enough look like a 4 star film . \\nanyway , this definitely doesn't seem like an arnold movie . \\nit just wasn't the type of film you can see him doing . \\nsure he gave us a few chuckles with his well known one-liners , but he seemed confused as to where his character and the film was going . \\nit's understandable , especially when the ending had to be changed according to some sources . \\naside form that , he still walked through it , much like he has in the past few films . \\ni'm sorry to say this arnold but maybe these are the end of your action days . \\nspeaking of action , where was it in this film ? \\nthere was hardly any explosions or fights . \\nthe devil made a few places explode , but arnold wasn't kicking some devil butt . \\nthe ending was changed to make it more spiritual , which undoubtedly ruined the film . \\ni was at least hoping for a cool ending if nothing else occurred , but once again i was let down . \\ni also don't know why the film took so long and cost so much . \\nthere was really no super affects at all , unless you consider an invisible devil , who was in it for 5 minutes tops , worth the overpriced budget . \\nthe budget should have gone into a better script , where at least audiences could be somewhat entertained instead of facing boredom . \\nit's pitiful to see how scripts like these get bought and made into a movie . \\ndo they even read these things anymore ? \\nit sure doesn't seem like it . \\nthankfully gabriel's performance gave some light to this poor film . \\nwhen he walks down the street searching for robin tunney , you can't help but feel that he looked like a devil . \\nthe guy is creepy looking anyway ! \\nwhen it's all over , you're just glad it's the end of the movie . \\ndon't bother to see this , if you're expecting a solid action flick , because it's neither solid nor does it have action . \\nit's just another movie that we are suckered in to seeing , due to a strategic marketing campaign . \\nsave your money and see the world is not enough for an entertaining experience . \\n\"\n",
      "500\n",
      "---------------------- \n",
      "\n",
      "known category for docs_train which is 1500 reviews\n",
      "[1 0 1 ..., 1 0 0]\n",
      "known category for docs_test which is 500 reviews\n",
      "[0 1 1 0 1 1 1 1 1 0 1 1 0 0 0 1 0 1 1 1 1 1 0 1 1 1 0 1 0 1 1 1 1 1 1 0 1\n",
      " 0 0 0 0 1 1 0 1 0 0 0 1 1 1 1 0 0 0 0 0 1 1 1 0 1 1 1 0 0 0 1 0 0 0 0 1 1\n",
      " 0 1 0 0 1 1 0 0 0 1 1 0 1 0 0 0 0 1 0 1 1 1 1 0 1 0 1 1 0 1 0 0 1 1 1 0 0\n",
      " 1 0 1 1 0 1 0 0 0 0 0 1 0 1 1 0 1 0 1 0 0 0 0 1 0 0 1 0 0 1 0 1 0 0 0 0 0\n",
      " 1 1 0 1 0 1 0 0 0 0 0 1 1 1 1 1 1 0 1 1 0 1 0 1 0 0 0 1 0 0 1 0 1 1 1 0 1\n",
      " 1 1 0 0 1 1 0 0 0 0 1 1 0 1 1 1 0 0 0 1 1 1 1 0 1 0 0 0 1 0 0 1 0 1 0 0 0\n",
      " 0 0 0 1 1 1 0 1 0 0 1 1 1 1 1 1 0 1 0 0 0 0 0 1 0 0 0 0 1 1 1 1 1 0 1 1 1\n",
      " 0 1 0 0 1 0 1 1 1 1 1 0 0 0 0 0 1 0 0 1 1 1 1 1 0 1 0 0 0 1 0 0 1 1 0 0 0\n",
      " 0 0 1 0 1 1 1 0 1 1 0 0 1 1 0 1 0 1 1 0 0 0 1 1 0 1 0 0 1 1 0 1 1 0 1 1 1\n",
      " 1 0 0 0 0 1 0 1 1 0 1 0 1 1 0 1 0 0 1 1 0 0 1 1 1 0 0 1 0 1 1 0 1 0 0 1 1\n",
      " 0 0 0 0 1 1 0 0 1 0 0 0 0 1 0 1 1 0 1 1 0 0 1 1 1 0 0 1 1 0 0 0 1 0 0 0 0\n",
      " 0 1 1 0 1 0 1 0 0 1 1 1 0 1 0 1 0 1 0 0 0 1 0 1 0 0 1 1 0 1 0 0 0 1 1 1 0\n",
      " 0 0 0 0 0 0 0 0 0 1 1 1 1 0 1 1 0 1 0 0 0 0 1 1 1 0 1 0 1 0 1 0 1 1 1 0 1\n",
      " 1 1 1 0 0 0 0 1 1 0 0 0 0 1 0 1 1 1 1]\n"
     ]
    }
   ],
   "source": [
    "# understand what train_test_split does to the original dataset\n",
    "print('First record from docs_train')\n",
    "print(docs_train[0])\n",
    "print(len(docs_train))\n",
    "print('---------------------- \\n')\n",
    "print('First record from docs_test')\n",
    "print(docs_test[0])\n",
    "print(len(docs_test))\n",
    "print('---------------------- \\n')\n",
    "print('known category for docs_train which is 1500 reviews')\n",
    "print(y_train)\n",
    "print('known category for docs_test which is 500 reviews')\n",
    "print(y_test)"
   ]
  },
  {
   "cell_type": "markdown",
   "metadata": {},
   "source": [
    "**Use the solution provided in the scikit-learn distribution as a starting place for your work.**"
   ]
  },
  {
   "cell_type": "code",
   "execution_count": 13,
   "metadata": {
    "collapsed": false
   },
   "outputs": [
    {
     "name": "stdout",
     "output_type": "stream",
     "text": [
      "0 params - {'vect__ngram_range': (1, 1)}; mean - 0.82; std - 0.01\n",
      "1 params - {'vect__ngram_range': (1, 2)}; mean - 0.84; std - 0.01\n",
      "             precision    recall  f1-score   support\n",
      "\n",
      "        neg       0.91      0.88      0.90       254\n",
      "        pos       0.88      0.91      0.90       246\n",
      "\n",
      "avg / total       0.90      0.90      0.90       500\n",
      "\n"
     ]
    }
   ],
   "source": [
    "# TASK: Build a vectorizer / classifier pipeline that filters out tokens\n",
    "# that are too rare or too frequent\n",
    "pipeline = Pipeline([\n",
    "    ('vect', TfidfVectorizer(min_df=3, max_df=0.95)),\n",
    "    ('clf', LinearSVC(C=1000)),\n",
    "])\n",
    "\n",
    "# TASK: Build a grid search to find out whether unigrams or bigrams are\n",
    "# more useful.\n",
    "# Fit the pipeline on the training set using grid search for the parameters\n",
    "parameters = {\n",
    "    'vect__ngram_range': [(1, 1), (1, 2)],\n",
    "    }\n",
    "grid_search = GridSearchCV(pipeline, parameters, n_jobs=-1) #'n_jobs = -1' means use all the CPU cores\n",
    "grid_search.fit(docs_train, y_train)\n",
    "\n",
    "# TASK: print the mean and std for each grid search candidate along with the parameter\n",
    "# settings for all the candidates explored by grid search.\n",
    "n_candidates = len(grid_search.cv_results_['params'])\n",
    "for i in range(n_candidates):\n",
    "    print(i, 'params - %s; mean - %0.2f; std - %0.2f'\n",
    "             % (grid_search.cv_results_['params'][i],\n",
    "                grid_search.cv_results_['mean_test_score'][i],\n",
    "                grid_search.cv_results_['std_test_score'][i]))\n",
    "\n",
    "y_predicted = grid_search.predict(docs_test)\n",
    "\n",
    "print(metrics.classification_report(y_test, y_predicted,\n",
    "                                    target_names=dataset.target_names))"
   ]
  },
  {
   "cell_type": "code",
   "execution_count": 39,
   "metadata": {
    "collapsed": false
   },
   "outputs": [
    {
     "data": {
      "text/plain": [
       "0.83866666666666667"
      ]
     },
     "execution_count": 39,
     "metadata": {},
     "output_type": "execute_result"
    }
   ],
   "source": [
    "# find best score from grid search for LinearSVC\n",
    "grid_search.best_score_"
   ]
  },
  {
   "cell_type": "code",
   "execution_count": 40,
   "metadata": {
    "collapsed": false
   },
   "outputs": [
    {
     "data": {
      "text/plain": [
       "{'vect__ngram_range': (1, 2)}"
      ]
     },
     "execution_count": 40,
     "metadata": {},
     "output_type": "execute_result"
    }
   ],
   "source": [
    "# find best parameters from grid search for LinearSVC\n",
    "grid_search.best_params_"
   ]
  },
  {
   "cell_type": "code",
   "execution_count": 41,
   "metadata": {
    "collapsed": false
   },
   "outputs": [
    {
     "name": "stdout",
     "output_type": "stream",
     "text": [
      "[[224  30]\n",
      " [ 21 225]]\n"
     ]
    }
   ],
   "source": [
    "cm = metrics.confusion_matrix(y_test, y_predicted)\n",
    "print(cm)"
   ]
  },
  {
   "cell_type": "code",
   "execution_count": 42,
   "metadata": {
    "collapsed": false,
    "scrolled": true
   },
   "outputs": [
    {
     "data": {
      "text/plain": [
       "<matplotlib.text.Text at 0x110097240>"
      ]
     },
     "execution_count": 42,
     "metadata": {},
     "output_type": "execute_result"
    },
    {
     "data": {
      "image/png": "[encoded data removed]",
      "text/plain": [
       "<matplotlib.figure.Figure at 0x10b7297f0>"
      ]
     },
     "metadata": {},
     "output_type": "display_data"
    }
   ],
   "source": [
    "labels = ['Neg','Pos']\n",
    "fig = plt.figure()\n",
    "ax = fig.add_subplot(111)\n",
    "cax = ax.matshow(cm)\n",
    "plt.title('Confusion matrix of LinearSVC (severe feature reduction) Classifier')\n",
    "fig.colorbar(cax)\n",
    "ax.set_xticklabels([''] + labels)\n",
    "ax.set_yticklabels([''] + labels)\n",
    "plt.xlabel('Predicted')\n",
    "plt.ylabel('Actual')\n"
   ]
  },
  {
   "cell_type": "code",
   "execution_count": 43,
   "metadata": {
    "collapsed": false
   },
   "outputs": [
    {
     "name": "stdout",
     "output_type": "stream",
     "text": [
      "[1, 2] [0.82333333333333336, 0.83866666666666667]\n"
     ]
    },
    {
     "name": "stderr",
     "output_type": "stream",
     "text": [
      "/Library/Frameworks/Python.framework/Versions/3.6/lib/python3.6/site-packages/sklearn/model_selection/_search.py:761: DeprecationWarning: The grid_scores_ attribute was deprecated in version 0.18 in favor of the more elaborate cv_results_ attribute. The grid_scores_ attribute will not be available from 0.20\n",
      "  DeprecationWarning)\n"
     ]
    },
    {
     "data": {
      "text/plain": [
       "<matplotlib.text.Text at 0x10b497470>"
      ]
     },
     "execution_count": 43,
     "metadata": {},
     "output_type": "execute_result"
    },
    {
     "data": {
      "image/png": "[encoded data removed]",
      "text/plain": [
       "<matplotlib.figure.Figure at 0x10b64b978>"
      ]
     },
     "metadata": {},
     "output_type": "display_data"
    }
   ],
   "source": [
    "# graph the results of different parameters\n",
    "grid_mean_scores = [result.mean_validation_score for result in grid_search.grid_scores_]\n",
    "print([1, 2],grid_mean_scores)\n",
    "plt.plot([1, 2], grid_mean_scores, 'ro')\n",
    "plt.xlabel('Parameter Combo')\n",
    "plt.ylabel('Mean Score from Grid Search')\n",
    "plt.title('Performance of each Parameter')"
   ]
  },
  {
   "cell_type": "code",
   "execution_count": 44,
   "metadata": {
    "collapsed": false
   },
   "outputs": [
    {
     "name": "stdout",
     "output_type": "stream",
     "text": [
      "0 params - {'vect__ngram_range': (1, 1)}; mean - 0.83; std - 0.01\n",
      "1 params - {'vect__ngram_range': (1, 2)}; mean - 0.85; std - 0.01\n",
      "             precision    recall  f1-score   support\n",
      "\n",
      "        neg       0.92      0.89      0.90       254\n",
      "        pos       0.89      0.92      0.90       246\n",
      "\n",
      "avg / total       0.90      0.90      0.90       500\n",
      "\n",
      "[[225  29]\n",
      " [ 19 227]]\n"
     ]
    }
   ],
   "source": [
    "  #Using LogisticRegression to perform classification\n",
    "from sklearn.linear_model import LogisticRegression    \n",
    "pipeline = Pipeline([\n",
    "    ('vect', TfidfVectorizer(min_df=5, max_df=0.85)),\n",
    "    ('lr', LogisticRegression(C=1000)),\n",
    "])\n",
    "\n",
    "# TASK: Build a grid search to find out whether unigrams or bigrams are\n",
    "# more useful.\n",
    "# Fit the pipeline on the training set using grid search for the parameters\n",
    "parameters = {\n",
    "    'vect__ngram_range': [(1,1),(1,2)],\n",
    "}\n",
    "grid_search = GridSearchCV(pipeline, parameters, n_jobs=-1)\n",
    "grid_search.fit(docs_train, y_train) #how does it work with docs train?\n",
    "\n",
    "# TASK: print the mean and std for each candidate along with the parameter\n",
    "# settings for all the candidates explored by grid search.\n",
    "n_candidates = len(grid_search.cv_results_['params']) #what is this step doing here?\n",
    "for i in range(n_candidates):\n",
    "    print(i, 'params - %s; mean - %0.2f; std - %0.2f'\n",
    "             % (grid_search.cv_results_['params'][i],\n",
    "                grid_search.cv_results_['mean_test_score'][i],\n",
    "                grid_search.cv_results_['std_test_score'][i]))\n",
    "\n",
    "# TASK: Predict the outcome on the testing set and store it in a variable\n",
    "# named y_predicted\n",
    "y_predicted = grid_search.predict(docs_test)\n",
    "\n",
    "# Print the classification report\n",
    "print(metrics.classification_report(y_test, y_predicted,\n",
    "                                    target_names=dataset.target_names))\n",
    "\n",
    "# Print and plot the confusion matrix\n",
    "cm1 = metrics.confusion_matrix(y_test, y_predicted)\n",
    "print(cm1)"
   ]
  },
  {
   "cell_type": "markdown",
   "metadata": {},
   "source": [
    "---"
   ]
  },
  {
   "cell_type": "code",
   "execution_count": 45,
   "metadata": {
    "collapsed": false
   },
   "outputs": [
    {
     "data": {
      "text/plain": [
       "<matplotlib.text.Text at 0x10f6b3978>"
      ]
     },
     "execution_count": 45,
     "metadata": {},
     "output_type": "execute_result"
    },
    {
     "data": {
      "image/png": "[encoded data removed]",
      "text/plain": [
       "<matplotlib.figure.Figure at 0x10ecbb780>"
      ]
     },
     "metadata": {},
     "output_type": "display_data"
    }
   ],
   "source": [
    "labels = ['Neg','Pos']\n",
    "fig = plt.figure()\n",
    "ax = fig.add_subplot(111)\n",
    "cax = ax.matshow(cm)\n",
    "plt.title('Confusion matrix of LogisticRegression Classifier')\n",
    "fig.colorbar(cax)\n",
    "ax.set_xticklabels([''] + labels)\n",
    "ax.set_yticklabels([''] + labels)\n",
    "plt.xlabel('Predicted')\n",
    "plt.ylabel('Actual')\n"
   ]
  },
  {
   "cell_type": "code",
   "execution_count": 46,
   "metadata": {
    "collapsed": false
   },
   "outputs": [
    {
     "name": "stdout",
     "output_type": "stream",
     "text": [
      "0 params - {'vect__ngram_range': (1, 1)}; mean - 0.63; std - 0.03\n",
      "1 params - {'vect__ngram_range': (1, 2)}; mean - 0.64; std - 0.01\n",
      "             precision    recall  f1-score   support\n",
      "\n",
      "        neg       0.62      0.58      0.60       254\n",
      "        pos       0.59      0.63      0.61       246\n",
      "\n",
      "avg / total       0.60      0.60      0.60       500\n",
      "\n",
      "[[148 106]\n",
      " [ 92 154]]\n"
     ]
    }
   ],
   "source": [
    "#Using DecisionTreeClassisifier\n",
    "from sklearn.tree import DecisionTreeClassifier\n",
    "pipeline = Pipeline([\n",
    "    ('vect', TfidfVectorizer(min_df=5, max_df=0.85)),\n",
    "    ('lr', DecisionTreeClassifier()),\n",
    "])\n",
    "\n",
    "# TASK: Build a grid search to find out whether unigrams or bigrams are\n",
    "# more useful.\n",
    "# Fit the pipeline on the training set using grid search for the parameters\n",
    "parameters = {\n",
    "    'vect__ngram_range': [(1,1),(1,2)],\n",
    "}\n",
    "grid_search = GridSearchCV(pipeline, parameters, n_jobs=-1)\n",
    "grid_search.fit(docs_train, y_train) #how does it work with docs train?\n",
    "\n",
    "# TASK: print the mean and std for each candidate along with the parameter\n",
    "# settings for all the candidates explored by grid search.\n",
    "n_candidates = len(grid_search.cv_results_['params']) #what is this step doing here?\n",
    "for i in range(n_candidates):\n",
    "    print(i, 'params - %s; mean - %0.2f; std - %0.2f'\n",
    "             % (grid_search.cv_results_['params'][i],\n",
    "                grid_search.cv_results_['mean_test_score'][i],\n",
    "                grid_search.cv_results_['std_test_score'][i]))\n",
    "\n",
    "# TASK: Predict the outcome on the testing set and store it in a variable\n",
    "# named y_predicted\n",
    "y_predicted = grid_search.predict(docs_test)\n",
    "\n",
    "# Print the classification report\n",
    "print(metrics.classification_report(y_test, y_predicted,\n",
    "                                    target_names=dataset.target_names))\n",
    "\n",
    "# Print and plot the confusion matrix\n",
    "cm = metrics.confusion_matrix(y_test, y_predicted)\n",
    "print(cm)"
   ]
  },
  {
   "cell_type": "code",
   "execution_count": 47,
   "metadata": {
    "collapsed": false,
    "scrolled": true
   },
   "outputs": [
    {
     "data": {
      "text/plain": [
       "<matplotlib.text.Text at 0x10f725358>"
      ]
     },
     "execution_count": 47,
     "metadata": {},
     "output_type": "execute_result"
    },
    {
     "data": {
      "image/png": "[encoded data removed]",
      "text/plain": [
       "<matplotlib.figure.Figure at 0x10b761550>"
      ]
     },
     "metadata": {},
     "output_type": "display_data"
    }
   ],
   "source": [
    "labels = ['Neg','Pos']\n",
    "fig = plt.figure()\n",
    "ax = fig.add_subplot(111)\n",
    "cax = ax.matshow(cm)\n",
    "plt.title('Confusion matrix of DecisionTreeClassisifier Classifier')\n",
    "fig.colorbar(cax)\n",
    "ax.set_xticklabels([''] + labels)\n",
    "ax.set_yticklabels([''] + labels)\n",
    "plt.xlabel('Predicted')\n",
    "plt.ylabel('Actual')\n"
   ]
  },
  {
   "cell_type": "markdown",
   "metadata": {},
   "source": [
    "After comparing the result of LinearSVC, LogisticRegression and DecisionTreeClassifier, LinearSVC is the best one."
   ]
  },
  {
   "cell_type": "markdown",
   "metadata": {},
   "source": [
    "## Problem 2 (20 points): Explore the scikit-learn TfidVectorizer class\n",
    "\n",
    "**Read the documentation for the TfidVectorizer class at http://scikit-learn.org/stable/modules/generated/sklearn.feature_extraction.text.TfidfVectorizer.html.** \n",
    "* Define the term frequency–inverse document frequency (TF-IDF) statistic (http://en.wikipedia.org/wiki/Tf%E2%80%93idf will likely help).\n",
    "* Run the TfidVectorizer class on the training data above (docs_train).\n",
    "* Explore the min_df and max_df parameters of TfidVectorizer.  What do they mean? How do they change the features you get?\n",
    "* Explore the ngram_range parameter of TfidVectorizer.  What does it mean? How does it change the features you get? (Note, large values  of ngram_range may take a long time to run!)"
   ]
  },
  {
   "cell_type": "markdown",
   "metadata": {
    "collapsed": true
   },
   "source": [
    "**Q: Define the term frequency–inverse document frequency (TF-IDF) statistic**\n",
    "\n",
    "**A: Term Frequency–Inverse Document Frequency (TF-IDF) Is a numerical statistic that is intended to reflect how important a word is to a document in a collection or corpus. It is often used as a weighting factor in information retrieval, text mining, and user modeling. The tf-idf value increases proportionally to the number of times a word appears in the document, but is often offset by the frequency of the word in the corpus, which helps to adjust for the fact that some words appear more frequently in general.**"
   ]
  },
  {
   "cell_type": "markdown",
   "metadata": {},
   "source": [
    "**Run the TfidfVectorizer class on the training data above (docs_train)**"
   ]
  },
  {
   "cell_type": "code",
   "execution_count": 48,
   "metadata": {
    "collapsed": false
   },
   "outputs": [
    {
     "data": {
      "text/plain": [
       "(1500, 35321)"
      ]
     },
     "execution_count": 48,
     "metadata": {},
     "output_type": "execute_result"
    }
   ],
   "source": [
    "# run thenTfidfVectorizer class on the training data\n",
    "docs_train_tfidf = TfidfVectorizer(analyzer = 'word').fit_transform(docs_train)\n",
    "docs_train_tfidf.shape"
   ]
  },
  {
   "cell_type": "code",
   "execution_count": 49,
   "metadata": {
    "collapsed": false
   },
   "outputs": [
    {
     "data": {
      "text/plain": [
       "scipy.sparse.csr.csr_matrix"
      ]
     },
     "execution_count": 49,
     "metadata": {},
     "output_type": "execute_result"
    }
   ],
   "source": [
    "# check the type returned by the TfidfVectorizer class\n",
    "type(docs_train_tfidf)"
   ]
  },
  {
   "cell_type": "code",
   "execution_count": 50,
   "metadata": {
    "collapsed": false
   },
   "outputs": [
    {
     "name": "stdout",
     "output_type": "stream",
     "text": [
      "  (0, 34287)\t0.033761978762\n",
      "  (0, 26832)\t0.107100974565\n",
      "  (0, 31733)\t0.160225937218\n",
      "  (0, 9283)\t0.0263195873761\n",
      "  (0, 29200)\t0.0231502713954\n",
      "  (0, 1031)\t0.0329599504009\n",
      "  (0, 12551)\t0.0243572460659\n",
      "  (0, 4882)\t0.242754213518\n",
      "  (0, 22722)\t0.0496638489517\n",
      "  (0, 4785)\t0.0655461011377\n",
      "  (0, 31794)\t0.112357594951\n",
      "  (0, 14760)\t0.111470698955\n",
      "  (0, 29580)\t0.0534086457393\n",
      "  (0, 21905)\t0.00950602271053\n",
      "  (0, 22609)\t0.0569831982567\n",
      "  (0, 12090)\t0.0485508427036\n",
      "  (0, 34712)\t0.0505670131275\n",
      "  (0, 3192)\t0.0380097744442\n",
      "  (0, 16722)\t0.274255260551\n",
      "  (0, 11745)\t0.0713715016918\n",
      "  (0, 28171)\t0.0420595133729\n",
      "  (0, 10518)\t0.0265005032512\n",
      "  (0, 21782)\t0.0528273398567\n",
      "  (0, 33764)\t0.0433609621054\n",
      "  (0, 11529)\t0.0294560949324\n",
      "  :\t:\n",
      "  (1499, 7526)\t0.0589620690689\n",
      "  (1499, 29345)\t0.047633493367\n",
      "  (1499, 3707)\t0.0589620690689\n",
      "  (1499, 33289)\t0.0469793971673\n",
      "  (1499, 15284)\t0.0547876838073\n",
      "  (1499, 13927)\t0.0939587943346\n",
      "  (1499, 22428)\t0.0939587943346\n",
      "  (1499, 8487)\t0.053297781218\n",
      "  (1499, 22753)\t0.0547876838073\n",
      "  (1499, 25722)\t0.0566111772041\n",
      "  (1499, 33321)\t0.0547876838073\n",
      "  (1499, 33800)\t0.113222354408\n",
      "  (1499, 20478)\t0.113222354408\n",
      "  (1499, 8951)\t0.0589620690689\n",
      "  (1499, 16570)\t0.062275465055\n",
      "  (1499, 17516)\t0.062275465055\n",
      "  (1499, 20579)\t0.062275465055\n",
      "  (1499, 27924)\t0.062275465055\n",
      "  (1499, 12928)\t0.062275465055\n",
      "  (1499, 30389)\t0.062275465055\n",
      "  (1499, 23605)\t0.062275465055\n",
      "  (1499, 27101)\t0.062275465055\n",
      "  (1499, 5632)\t0.062275465055\n",
      "  (1499, 17161)\t0.062275465055\n",
      "  (1499, 30696)\t0.062275465055\n"
     ]
    }
   ],
   "source": [
    "# check the contents of the object holding the training data \n",
    "# which has been TfidfVectorizer fitted and transformed \n",
    "print(docs_train_tfidf)"
   ]
  },
  {
   "cell_type": "markdown",
   "metadata": {},
   "source": [
    "**Explore the min_df and max_df parameters of TfidVectorizer**\n",
    "\n",
    "**What do they mean?**\n",
    "\n",
    "**How do they change the features you get?**\n",
    "\n",
    "==========================================================\n",
    "\n",
    "**min_df**\n",
    "\n",
    "When building the vocabulary ignore terms that have a document frequency strictly lower \n",
    "than the given threshold. This value is also called cut-off in the literature. \n",
    "\n",
    "If float, the parameter represents a proportion of documents, integer represents absolute counts. \n",
    "\n",
    "This parameter is ignored if vocabulary is not None.\n",
    "\n",
    "The higher the min_df, the more words that are excluded as features. **(see plot below)**"
   ]
  },
  {
   "cell_type": "code",
   "execution_count": 51,
   "metadata": {
    "collapsed": false
   },
   "outputs": [
    {
     "data": {
      "text/plain": [
       "<matplotlib.text.Text at 0x1102966d8>"
      ]
     },
     "execution_count": 51,
     "metadata": {},
     "output_type": "execute_result"
    },
    {
     "data": {
      "image/png": "[encoded data removed]",
      "text/plain": [
       "<matplotlib.figure.Figure at 0x104364e80>"
      ]
     },
     "metadata": {},
     "output_type": "display_data"
    }
   ],
   "source": [
    "# integer - the higher the min_df, it excludes more words \n",
    "# float - the higher the min_df, it excludes more words\n",
    "for i in np.arange(1, 11, 1): \n",
    "    vector = TfidfVectorizer(analyzer = 'word', min_df=i, max_df=0.95)\n",
    "    matrix = vector.fit_transform(docs_train)\n",
    "    plt.plot(i,matrix.shape[1],'ro')  #shape[1] gives the columns\n",
    "plt.xlabel('Value of min_df')\n",
    "plt.ylabel('Num. features')\n",
    "plt.title('How min_df changes the available features')"
   ]
  },
  {
   "cell_type": "markdown",
   "metadata": {},
   "source": [
    "**max_df**\n",
    "\n",
    "When building the vocabulary ignore terms that have a document frequency strictly higher\n",
    "than the given threshold (corpus-specific stop words). \n",
    "\n",
    "If float, the parameter represents a proportion of documents, integer represents absolute counts. \n",
    "\n",
    "This parameter is ignored if vocabulary is not None.\n",
    "\n",
    "The lower the max_df, the more words that are excluded as features. **(see plot below)**"
   ]
  },
  {
   "cell_type": "code",
   "execution_count": 52,
   "metadata": {
    "collapsed": false,
    "scrolled": true
   },
   "outputs": [
    {
     "data": {
      "text/plain": [
       "<matplotlib.text.Text at 0x10efcef28>"
      ]
     },
     "execution_count": 52,
     "metadata": {},
     "output_type": "execute_result"
    },
    {
     "data": {
      "image/png": "[encoded data removed]",
      "text/plain": [
       "<matplotlib.figure.Figure at 0x10cc9e898>"
      ]
     },
     "metadata": {},
     "output_type": "display_data"
    }
   ],
   "source": [
    "#integer - the lower the max_df, excludes more words\n",
    "#float - the lower the max_df, excludes more words\n",
    "\n",
    "for i in np.arange(0.70, 0.99, 0.01): \n",
    "    vector = TfidfVectorizer(analyzer = 'word', min_df=3, max_df=i)\n",
    "    matrix = vector.fit_transform(docs_train)\n",
    "    plt.plot(i,matrix.shape[1],'ro')  #shape[1] gives the columns\n",
    "plt.xlabel('Value of max_df')\n",
    "plt.ylabel('Num. features')\n",
    "plt.title('How max_df changes the available features')"
   ]
  },
  {
   "cell_type": "markdown",
   "metadata": {},
   "source": [
    "**Explore the ngram_range parameter of TfidVectorizer. **\n",
    "\n",
    "**What does it mean? **\n",
    "\n",
    "**How does it change the features you get? **\n",
    "\n",
    "**(Note, large values of ngram_range may take a long time to run!)**\n",
    "\n",
    "==========================================================\n",
    "\n",
    "**ngram range**\n",
    "\n",
    "In the fields of computational linguistics and probability, an n-gram is a contiguous sequence of n items from a given sequence of text or speech. The items can be phonemes, syllables, letters, words or base pairs according to the application. The n-grams typically are collected from a text or speech corpus. When the items are words, n-grams may also be called shingles.\n",
    "[Source: Wikipedia]\n",
    "\n",
    "With the ngram_range used below we’re telling it to generate 2, 3, 4, 5, 6 and 7 word phrases along with the single words from the corpus.**(see plot below)**\n",
    "\n",
    "e.g. if ngram_range=(1,3) and if we had the sentence “Python is cool” we’d end up with 6 phrases – ‘Python’, ‘is’, ‘cool’, ‘Python is’, ‘Python is cool’ and ‘is cool’. "
   ]
  },
  {
   "cell_type": "code",
   "execution_count": 53,
   "metadata": {
    "collapsed": false,
    "scrolled": false
   },
   "outputs": [
    {
     "data": {
      "text/plain": [
       "<matplotlib.text.Text at 0x10fd11518>"
      ]
     },
     "execution_count": 53,
     "metadata": {},
     "output_type": "execute_result"
    },
    {
     "data": {
      "image/png": "[encoded data removed]",
      "text/plain": [
       "<matplotlib.figure.Figure at 0x10b688c88>"
      ]
     },
     "metadata": {},
     "output_type": "display_data"
    }
   ],
   "source": [
    "# ngram_range : tuple (min_n, max_n)\n",
    "# The lower and upper boundary of the range of n-values for different n-grams to be extracted. \n",
    "# All values of n such that min_n <= n <= max_n will be used.\n",
    "ngram_candidate = range(1,7)\n",
    "for ngram in ngram_candidate:\n",
    "    vector = TfidfVectorizer(analyzer='word', min_df=3, max_df=0.95, ngram_range=(1,ngram))\n",
    "    matrix = vector.fit_transform(docs_train)\n",
    "    plt.plot(ngram,matrix.shape[1],'ro')\n",
    "plt.xlabel('Upper boundary of ngram')\n",
    "plt.ylabel('Num. features')\n",
    "plt.title('How ngram_range changes the available features')"
   ]
  },
  {
   "cell_type": "markdown",
   "metadata": {},
   "source": [
    "*------------------------\n",
    "\n",
    "## Problem 3 (20 points): Machine learning algorithms"
   ]
  },
  {
   "cell_type": "markdown",
   "metadata": {},
   "source": [
    "* Based upon Problem 2 pick some parameters for TfidfVectorizer\n",
    "    * \"fit\" your TfidfVectorizer using docs_train\n",
    "    * Compute \"Xtrain\", a Tf-idf-weighted document-term matrix using the transform function on docs_train\n",
    "    * Compute \"Xtest\", a Tf-idf-weighted document-term matrix using the transform function on docs_test\n",
    "    * Note, be sure to use the same Tf-idf-weighted class (**\"fit\" using docs_train**) to transform **both** docs_test and docs_train\n",
    "* Examine two classifiers provided by scikit-learn \n",
    "    * LinearSVC\n",
    "    * KNeighborsClassifier\n",
    "    * Try a number of different parameter settings for each and judge your performance using a confusion matrix (see Problem 1 for an example).\n",
    "* Does one classifier, or one set of parameters work better?\n",
    "    * Why do you think it might be working better?\n",
    "* For a particular choice of parameters and classifier, look at 2 examples where the prediction was incorrect.\n",
    "    * Can you conjecture on why the classifier made a mistake for this prediction?"
   ]
  },
  {
   "cell_type": "code",
   "execution_count": 34,
   "metadata": {
    "collapsed": false
   },
   "outputs": [
    {
     "name": "stdout",
     "output_type": "stream",
     "text": [
      "(1500, 63008)\n",
      "(500, 24345)\n"
     ]
    }
   ],
   "source": [
    "# Based upon Problem 2 pick some parameters for TfidfVectorizer and...\n",
    "\n",
    "# \"fit\" your TfidfVectorizer using docs_train\n",
    "count_vect = TfidfVectorizer(analyzer='word', ngram_range=(1,2),min_df=3, max_df=0.95)\n",
    "\n",
    "# Compute \"Xtrain\"\n",
    "X_train = count_vect.fit_transform(docs_train)\n",
    "\n",
    "# Compute \"Xtest\"\n",
    "X_test = count_vect.fit_transform(docs_test)\n",
    "\n",
    "print(X_train.shape)\n",
    "print(X_test.shape)"
   ]
  },
  {
   "cell_type": "code",
   "execution_count": 72,
   "metadata": {
    "collapsed": false
   },
   "outputs": [
    {
     "name": "stdout",
     "output_type": "stream",
     "text": [
      "  (0, 59820)\t0.0299332268947\n",
      "  (0, 44470)\t0.0949552689104\n",
      "  (0, 15136)\t0.0233348343193\n",
      "  (0, 47995)\t0.0205249322393\n",
      "  (0, 1092)\t0.0292221519581\n",
      "  (0, 20321)\t0.0215950308529\n",
      "  (0, 9864)\t0.215224854091\n",
      "  (0, 39896)\t0.044031757428\n",
      "  (0, 9661)\t0.0581128947225\n",
      "  (0, 24391)\t0.0988294479851\n",
      "  (0, 38750)\t0.00842799933815\n",
      "  (0, 39752)\t0.0505210614173\n",
      "  (0, 19463)\t0.0430449708182\n",
      "  (0, 7457)\t0.033699304495\n",
      "  (0, 29177)\t0.243153548523\n",
      "  (0, 18576)\t0.063277670098\n",
      "  (0, 46490)\t0.0372897858194\n",
      "  (0, 16679)\t0.0234952335654\n",
      "  (0, 38070)\t0.0468364950207\n",
      "  (0, 58821)\t0.038443644735\n",
      "  (0, 18251)\t0.0261156485898\n",
      "  (0, 48473)\t0.0246683157471\n",
      "  (0, 12330)\t0.115849211263\n",
      "  (0, 34564)\t0.01559761998\n",
      "  (0, 40831)\t0.0113189022224\n",
      "  :\t:\n",
      "  (1499, 58296)\t0.0445852877934\n",
      "  (1499, 26627)\t0.0433728303374\n",
      "  (1499, 21385)\t0.0445852877934\n",
      "  (1499, 54449)\t0.0460692157902\n",
      "  (1499, 2587)\t0.0423477121649\n",
      "  (1499, 49885)\t0.0399757864159\n",
      "  (1499, 36942)\t0.0399757864159\n",
      "  (1499, 7040)\t0.0460692157902\n",
      "  (1499, 13693)\t0.0460692157902\n",
      "  (1499, 24410)\t0.0445852877934\n",
      "  (1499, 47203)\t0.0460692157902\n",
      "  (1499, 58909)\t0.0921384315804\n",
      "  (1499, 34319)\t0.0921384315804\n",
      "  (1499, 58910)\t0.0921384315804\n",
      "  (1499, 18165)\t0.0460692157902\n",
      "  (1499, 39585)\t0.0460692157902\n",
      "  (1499, 11735)\t0.0445852877934\n",
      "  (1499, 34991)\t0.0460692157902\n",
      "  (1499, 33471)\t0.0460692157902\n",
      "  (1499, 48569)\t0.0460692157902\n",
      "  (1499, 55326)\t0.0445852877934\n",
      "  (1499, 6)\t0.0460692157902\n",
      "  (1499, 26401)\t0.0445852877934\n",
      "  (1499, 21533)\t0.0433728303374\n",
      "  (1499, 18166)\t0.0460692157902\n"
     ]
    }
   ],
   "source": [
    "# examine contents of X_train\n",
    "print(X_train)"
   ]
  },
  {
   "cell_type": "code",
   "execution_count": 73,
   "metadata": {
    "collapsed": false
   },
   "outputs": [
    {
     "name": "stdout",
     "output_type": "stream",
     "text": [
      "1 params - {'vect__max_df': 0.98, 'vect__min_df': 2, 'vect__ngram_range': (1, 1)}; mean - 0.82; std - 0.01\n",
      "2 params - {'vect__max_df': 0.98, 'vect__min_df': 2, 'vect__ngram_range': (1, 2)}; mean - 0.84; std - 0.02\n",
      "3 params - {'vect__max_df': 0.98, 'vect__min_df': 3, 'vect__ngram_range': (1, 1)}; mean - 0.82; std - 0.01\n",
      "4 params - {'vect__max_df': 0.98, 'vect__min_df': 3, 'vect__ngram_range': (1, 2)}; mean - 0.84; std - 0.01\n",
      "5 params - {'vect__max_df': 0.98, 'vect__min_df': 4, 'vect__ngram_range': (1, 1)}; mean - 0.82; std - 0.01\n",
      "6 params - {'vect__max_df': 0.98, 'vect__min_df': 4, 'vect__ngram_range': (1, 2)}; mean - 0.84; std - 0.02\n",
      "7 params - {'vect__max_df': 0.95, 'vect__min_df': 2, 'vect__ngram_range': (1, 1)}; mean - 0.82; std - 0.01\n",
      "8 params - {'vect__max_df': 0.95, 'vect__min_df': 2, 'vect__ngram_range': (1, 2)}; mean - 0.84; std - 0.01\n",
      "9 params - {'vect__max_df': 0.95, 'vect__min_df': 3, 'vect__ngram_range': (1, 1)}; mean - 0.82; std - 0.01\n",
      "10 params - {'vect__max_df': 0.95, 'vect__min_df': 3, 'vect__ngram_range': (1, 2)}; mean - 0.84; std - 0.01\n",
      "11 params - {'vect__max_df': 0.95, 'vect__min_df': 4, 'vect__ngram_range': (1, 1)}; mean - 0.82; std - 0.01\n",
      "12 params - {'vect__max_df': 0.95, 'vect__min_df': 4, 'vect__ngram_range': (1, 2)}; mean - 0.84; std - 0.02\n",
      "13 params - {'vect__max_df': 0.9, 'vect__min_df': 2, 'vect__ngram_range': (1, 1)}; mean - 0.82; std - 0.01\n",
      "14 params - {'vect__max_df': 0.9, 'vect__min_df': 2, 'vect__ngram_range': (1, 2)}; mean - 0.84; std - 0.02\n",
      "15 params - {'vect__max_df': 0.9, 'vect__min_df': 3, 'vect__ngram_range': (1, 1)}; mean - 0.82; std - 0.01\n",
      "16 params - {'vect__max_df': 0.9, 'vect__min_df': 3, 'vect__ngram_range': (1, 2)}; mean - 0.84; std - 0.02\n",
      "17 params - {'vect__max_df': 0.9, 'vect__min_df': 4, 'vect__ngram_range': (1, 1)}; mean - 0.82; std - 0.01\n",
      "18 params - {'vect__max_df': 0.9, 'vect__min_df': 4, 'vect__ngram_range': (1, 2)}; mean - 0.84; std - 0.02\n",
      "             precision    recall  f1-score   support\n",
      "\n",
      "        neg       0.91      0.89      0.90       254\n",
      "        pos       0.89      0.91      0.90       246\n",
      "\n",
      "avg / total       0.90      0.90      0.90       500\n",
      "\n"
     ]
    }
   ],
   "source": [
    "# try LinearSVC\n",
    "# -----------------------------------------------------------------------\n",
    "# The C parameter tells the SVM optimization how much you want to avoid \n",
    "# misclassifying each training example. For large values of C, the \n",
    "# optimization will choose a smaller-margin hyperplane if that hyperplane \n",
    "# does a better job of getting all the training points classified correctly. \n",
    "# Conversely, a very small value of C will cause the optimizer to look for \n",
    "# a larger-margin separating hyperplane, even if that hyperplane \n",
    "# misclassifies more points.\n",
    "\n",
    "pipeline = Pipeline([\n",
    "    ('vect', TfidfVectorizer(analyzer='word')),\n",
    "    ('clf', LinearSVC(C=1000)),\n",
    "])\n",
    "\n",
    "# TASK: Build a grid search to find out whether unigrams or bigrams are\n",
    "# more useful, whether min_df of 2,3 or 4 is more useful, and whether\n",
    "# max_df of 90%, 95% or 98% is more useful.\n",
    "# Fit the pipeline on the training set using grid search for the parameters\n",
    "parameters = {\n",
    "        'vect__ngram_range': [(1,1), (1, 2)],\n",
    "        'vect__min_df': [2, 3, 4],\n",
    "        'vect__max_df': [0.98, 0.95, 0.90],\n",
    "    }\n",
    "grid_search = GridSearchCV(pipeline, parameters, n_jobs=-1) #'n_jobs = -1' means use all the CPU cores\n",
    "grid_search.fit(docs_train, y_train)\n",
    "\n",
    "# TASK: print the mean and std for each grid search candidate along with the parameter\n",
    "# settings for all the candidates explored by grid search.\n",
    "n_candidates = len(grid_search.cv_results_['params'])\n",
    "for i in range(n_candidates):\n",
    "    print(i+1, 'params - %s; mean - %0.2f; std - %0.2f'\n",
    "             % (grid_search.cv_results_['params'][i],\n",
    "                grid_search.cv_results_['mean_test_score'][i],\n",
    "                grid_search.cv_results_['std_test_score'][i]))\n",
    "    \n",
    "y_predicted = grid_search.predict(docs_test)\n",
    "print(metrics.classification_report(y_test, y_predicted,\n",
    "                                    target_names=dataset.target_names))"
   ]
  },
  {
   "cell_type": "code",
   "execution_count": 74,
   "metadata": {
    "collapsed": false
   },
   "outputs": [
    {
     "name": "stdout",
     "output_type": "stream",
     "text": [
      "[0.82066666666666666, 0.83799999999999997, 0.82199999999999995, 0.83666666666666667, 0.82399999999999995, 0.83999999999999997, 0.82266666666666666, 0.83933333333333338, 0.82333333333333336, 0.83866666666666667, 0.82333333333333336, 0.83866666666666667, 0.82399999999999995, 0.83999999999999997, 0.81999999999999995, 0.84133333333333338, 0.81933333333333336, 0.83599999999999997]\n"
     ]
    },
    {
     "name": "stderr",
     "output_type": "stream",
     "text": [
      "/Library/Frameworks/Python.framework/Versions/3.6/lib/python3.6/site-packages/sklearn/model_selection/_search.py:761: DeprecationWarning: The grid_scores_ attribute was deprecated in version 0.18 in favor of the more elaborate cv_results_ attribute. The grid_scores_ attribute will not be available from 0.20\n",
      "  DeprecationWarning)\n"
     ]
    },
    {
     "data": {
      "text/plain": [
       "<matplotlib.text.Text at 0x11b612c88>"
      ]
     },
     "execution_count": 74,
     "metadata": {},
     "output_type": "execute_result"
    },
    {
     "data": {
      "image/png": "[encoded data removed]",
      "text/plain": [
       "<matplotlib.figure.Figure at 0x12be2c358>"
      ]
     },
     "metadata": {},
     "output_type": "display_data"
    }
   ],
   "source": [
    "# graph the results of the parameter combinations for LinearSVC\n",
    "grid_mean_scores = [result.mean_validation_score for result in grid_search.grid_scores_]\n",
    "print(grid_mean_scores)\n",
    "para = [i for i in range(1, 19)]\n",
    "plt.plot(para, grid_mean_scores, 'ro')\n",
    "plt.xlabel('Parameter Combo')\n",
    "plt.ylabel('Mean Score from Grid Search')\n",
    "plt.title('LinearSVC Classifier')"
   ]
  },
  {
   "cell_type": "code",
   "execution_count": 75,
   "metadata": {
    "collapsed": false
   },
   "outputs": [
    {
     "data": {
      "text/plain": [
       "0.84133333333333338"
      ]
     },
     "execution_count": 75,
     "metadata": {},
     "output_type": "execute_result"
    }
   ],
   "source": [
    "# find best score from grid search for LinearSVC\n",
    "grid_search.best_score_"
   ]
  },
  {
   "cell_type": "code",
   "execution_count": 76,
   "metadata": {
    "collapsed": false
   },
   "outputs": [
    {
     "data": {
      "text/plain": [
       "{'vect__max_df': 0.9, 'vect__min_df': 3, 'vect__ngram_range': (1, 2)}"
      ]
     },
     "execution_count": 76,
     "metadata": {},
     "output_type": "execute_result"
    }
   ],
   "source": [
    "# find best parameters from grid search for LinearSVC\n",
    "grid_search.best_params_"
   ]
  },
  {
   "cell_type": "code",
   "execution_count": 77,
   "metadata": {
    "collapsed": false
   },
   "outputs": [
    {
     "name": "stdout",
     "output_type": "stream",
     "text": [
      "[[226  28]\n",
      " [ 21 225]]\n"
     ]
    }
   ],
   "source": [
    "# confusion matrix for LinearSVC\n",
    "cm = metrics.confusion_matrix(y_test, y_predicted)\n",
    "print(cm)"
   ]
  },
  {
   "cell_type": "code",
   "execution_count": 78,
   "metadata": {
    "collapsed": false
   },
   "outputs": [
    {
     "data": {
      "text/plain": [
       "<matplotlib.text.Text at 0x118bfdef0>"
      ]
     },
     "execution_count": 78,
     "metadata": {},
     "output_type": "execute_result"
    },
    {
     "data": {
      "image/png": "[encoded data removed]",
      "text/plain": [
       "<matplotlib.figure.Figure at 0x137c2beb8>"
      ]
     },
     "metadata": {},
     "output_type": "display_data"
    }
   ],
   "source": [
    "labels = ['Neg','Pos']\n",
    "fig = plt.figure()\n",
    "ax = fig.add_subplot(111)\n",
    "cax = ax.matshow(cm)\n",
    "plt.title('Confusion matrix of LinearSVC Classifier')\n",
    "fig.colorbar(cax)\n",
    "ax.set_xticklabels([''] + labels)\n",
    "ax.set_yticklabels([''] + labels)\n",
    "plt.xlabel('Predicted')\n",
    "plt.ylabel('Actual')"
   ]
  },
  {
   "cell_type": "markdown",
   "metadata": {},
   "source": [
    "---"
   ]
  },
  {
   "cell_type": "code",
   "execution_count": 92,
   "metadata": {
    "collapsed": false,
    "scrolled": true
   },
   "outputs": [
    {
     "name": "stdout",
     "output_type": "stream",
     "text": [
      "0 params - {'clf__n_neighbors': 2, 'vect__max_df': 0.98, 'vect__min_df': 2, 'vect__ngram_range': (1, 1)}; mean - 0.66; std - 0.02\n",
      "1 params - {'clf__n_neighbors': 2, 'vect__max_df': 0.98, 'vect__min_df': 2, 'vect__ngram_range': (1, 2)}; mean - 0.67; std - 0.02\n",
      "2 params - {'clf__n_neighbors': 2, 'vect__max_df': 0.98, 'vect__min_df': 3, 'vect__ngram_range': (1, 1)}; mean - 0.66; std - 0.01\n",
      "3 params - {'clf__n_neighbors': 2, 'vect__max_df': 0.98, 'vect__min_df': 3, 'vect__ngram_range': (1, 2)}; mean - 0.68; std - 0.03\n",
      "4 params - {'clf__n_neighbors': 2, 'vect__max_df': 0.98, 'vect__min_df': 4, 'vect__ngram_range': (1, 1)}; mean - 0.66; std - 0.02\n",
      "5 params - {'clf__n_neighbors': 2, 'vect__max_df': 0.98, 'vect__min_df': 4, 'vect__ngram_range': (1, 2)}; mean - 0.68; std - 0.02\n",
      "6 params - {'clf__n_neighbors': 2, 'vect__max_df': 0.95, 'vect__min_df': 2, 'vect__ngram_range': (1, 1)}; mean - 0.67; std - 0.01\n",
      "7 params - {'clf__n_neighbors': 2, 'vect__max_df': 0.95, 'vect__min_df': 2, 'vect__ngram_range': (1, 2)}; mean - 0.67; std - 0.02\n",
      "8 params - {'clf__n_neighbors': 2, 'vect__max_df': 0.95, 'vect__min_df': 3, 'vect__ngram_range': (1, 1)}; mean - 0.67; std - 0.01\n",
      "9 params - {'clf__n_neighbors': 2, 'vect__max_df': 0.95, 'vect__min_df': 3, 'vect__ngram_range': (1, 2)}; mean - 0.68; std - 0.03\n",
      "10 params - {'clf__n_neighbors': 2, 'vect__max_df': 0.95, 'vect__min_df': 4, 'vect__ngram_range': (1, 1)}; mean - 0.67; std - 0.02\n",
      "11 params - {'clf__n_neighbors': 2, 'vect__max_df': 0.95, 'vect__min_df': 4, 'vect__ngram_range': (1, 2)}; mean - 0.68; std - 0.02\n",
      "12 params - {'clf__n_neighbors': 2, 'vect__max_df': 0.9, 'vect__min_df': 2, 'vect__ngram_range': (1, 1)}; mean - 0.67; std - 0.01\n",
      "13 params - {'clf__n_neighbors': 2, 'vect__max_df': 0.9, 'vect__min_df': 2, 'vect__ngram_range': (1, 2)}; mean - 0.67; std - 0.02\n",
      "14 params - {'clf__n_neighbors': 2, 'vect__max_df': 0.9, 'vect__min_df': 3, 'vect__ngram_range': (1, 1)}; mean - 0.67; std - 0.01\n",
      "15 params - {'clf__n_neighbors': 2, 'vect__max_df': 0.9, 'vect__min_df': 3, 'vect__ngram_range': (1, 2)}; mean - 0.68; std - 0.03\n",
      "16 params - {'clf__n_neighbors': 2, 'vect__max_df': 0.9, 'vect__min_df': 4, 'vect__ngram_range': (1, 1)}; mean - 0.67; std - 0.01\n",
      "17 params - {'clf__n_neighbors': 2, 'vect__max_df': 0.9, 'vect__min_df': 4, 'vect__ngram_range': (1, 2)}; mean - 0.68; std - 0.02\n",
      "18 params - {'clf__n_neighbors': 8, 'vect__max_df': 0.98, 'vect__min_df': 2, 'vect__ngram_range': (1, 1)}; mean - 0.69; std - 0.03\n",
      "19 params - {'clf__n_neighbors': 8, 'vect__max_df': 0.98, 'vect__min_df': 2, 'vect__ngram_range': (1, 2)}; mean - 0.69; std - 0.03\n",
      "20 params - {'clf__n_neighbors': 8, 'vect__max_df': 0.98, 'vect__min_df': 3, 'vect__ngram_range': (1, 1)}; mean - 0.68; std - 0.02\n",
      "21 params - {'clf__n_neighbors': 8, 'vect__max_df': 0.98, 'vect__min_df': 3, 'vect__ngram_range': (1, 2)}; mean - 0.69; std - 0.02\n",
      "22 params - {'clf__n_neighbors': 8, 'vect__max_df': 0.98, 'vect__min_df': 4, 'vect__ngram_range': (1, 1)}; mean - 0.68; std - 0.03\n",
      "23 params - {'clf__n_neighbors': 8, 'vect__max_df': 0.98, 'vect__min_df': 4, 'vect__ngram_range': (1, 2)}; mean - 0.70; std - 0.02\n",
      "24 params - {'clf__n_neighbors': 8, 'vect__max_df': 0.95, 'vect__min_df': 2, 'vect__ngram_range': (1, 1)}; mean - 0.70; std - 0.03\n",
      "25 params - {'clf__n_neighbors': 8, 'vect__max_df': 0.95, 'vect__min_df': 2, 'vect__ngram_range': (1, 2)}; mean - 0.69; std - 0.03\n",
      "26 params - {'clf__n_neighbors': 8, 'vect__max_df': 0.95, 'vect__min_df': 3, 'vect__ngram_range': (1, 1)}; mean - 0.68; std - 0.02\n",
      "27 params - {'clf__n_neighbors': 8, 'vect__max_df': 0.95, 'vect__min_df': 3, 'vect__ngram_range': (1, 2)}; mean - 0.69; std - 0.02\n",
      "28 params - {'clf__n_neighbors': 8, 'vect__max_df': 0.95, 'vect__min_df': 4, 'vect__ngram_range': (1, 1)}; mean - 0.67; std - 0.02\n",
      "29 params - {'clf__n_neighbors': 8, 'vect__max_df': 0.95, 'vect__min_df': 4, 'vect__ngram_range': (1, 2)}; mean - 0.69; std - 0.02\n",
      "30 params - {'clf__n_neighbors': 8, 'vect__max_df': 0.9, 'vect__min_df': 2, 'vect__ngram_range': (1, 1)}; mean - 0.69; std - 0.02\n",
      "31 params - {'clf__n_neighbors': 8, 'vect__max_df': 0.9, 'vect__min_df': 2, 'vect__ngram_range': (1, 2)}; mean - 0.69; std - 0.03\n",
      "32 params - {'clf__n_neighbors': 8, 'vect__max_df': 0.9, 'vect__min_df': 3, 'vect__ngram_range': (1, 1)}; mean - 0.67; std - 0.03\n",
      "33 params - {'clf__n_neighbors': 8, 'vect__max_df': 0.9, 'vect__min_df': 3, 'vect__ngram_range': (1, 2)}; mean - 0.69; std - 0.03\n",
      "34 params - {'clf__n_neighbors': 8, 'vect__max_df': 0.9, 'vect__min_df': 4, 'vect__ngram_range': (1, 1)}; mean - 0.67; std - 0.02\n",
      "35 params - {'clf__n_neighbors': 8, 'vect__max_df': 0.9, 'vect__min_df': 4, 'vect__ngram_range': (1, 2)}; mean - 0.69; std - 0.02\n",
      "36 params - {'clf__n_neighbors': 32, 'vect__max_df': 0.98, 'vect__min_df': 2, 'vect__ngram_range': (1, 1)}; mean - 0.71; std - 0.02\n",
      "37 params - {'clf__n_neighbors': 32, 'vect__max_df': 0.98, 'vect__min_df': 2, 'vect__ngram_range': (1, 2)}; mean - 0.71; std - 0.02\n",
      "38 params - {'clf__n_neighbors': 32, 'vect__max_df': 0.98, 'vect__min_df': 3, 'vect__ngram_range': (1, 1)}; mean - 0.71; std - 0.02\n",
      "39 params - {'clf__n_neighbors': 32, 'vect__max_df': 0.98, 'vect__min_df': 3, 'vect__ngram_range': (1, 2)}; mean - 0.72; std - 0.02\n",
      "40 params - {'clf__n_neighbors': 32, 'vect__max_df': 0.98, 'vect__min_df': 4, 'vect__ngram_range': (1, 1)}; mean - 0.72; std - 0.02\n",
      "41 params - {'clf__n_neighbors': 32, 'vect__max_df': 0.98, 'vect__min_df': 4, 'vect__ngram_range': (1, 2)}; mean - 0.71; std - 0.02\n",
      "42 params - {'clf__n_neighbors': 32, 'vect__max_df': 0.95, 'vect__min_df': 2, 'vect__ngram_range': (1, 1)}; mean - 0.70; std - 0.02\n",
      "43 params - {'clf__n_neighbors': 32, 'vect__max_df': 0.95, 'vect__min_df': 2, 'vect__ngram_range': (1, 2)}; mean - 0.72; std - 0.02\n",
      "44 params - {'clf__n_neighbors': 32, 'vect__max_df': 0.95, 'vect__min_df': 3, 'vect__ngram_range': (1, 1)}; mean - 0.71; std - 0.02\n",
      "45 params - {'clf__n_neighbors': 32, 'vect__max_df': 0.95, 'vect__min_df': 3, 'vect__ngram_range': (1, 2)}; mean - 0.71; std - 0.00\n",
      "46 params - {'clf__n_neighbors': 32, 'vect__max_df': 0.95, 'vect__min_df': 4, 'vect__ngram_range': (1, 1)}; mean - 0.71; std - 0.02\n",
      "47 params - {'clf__n_neighbors': 32, 'vect__max_df': 0.95, 'vect__min_df': 4, 'vect__ngram_range': (1, 2)}; mean - 0.72; std - 0.01\n",
      "48 params - {'clf__n_neighbors': 32, 'vect__max_df': 0.9, 'vect__min_df': 2, 'vect__ngram_range': (1, 1)}; mean - 0.70; std - 0.02\n",
      "49 params - {'clf__n_neighbors': 32, 'vect__max_df': 0.9, 'vect__min_df': 2, 'vect__ngram_range': (1, 2)}; mean - 0.73; std - 0.01\n",
      "50 params - {'clf__n_neighbors': 32, 'vect__max_df': 0.9, 'vect__min_df': 3, 'vect__ngram_range': (1, 1)}; mean - 0.71; std - 0.02\n",
      "51 params - {'clf__n_neighbors': 32, 'vect__max_df': 0.9, 'vect__min_df': 3, 'vect__ngram_range': (1, 2)}; mean - 0.73; std - 0.01\n",
      "52 params - {'clf__n_neighbors': 32, 'vect__max_df': 0.9, 'vect__min_df': 4, 'vect__ngram_range': (1, 1)}; mean - 0.72; std - 0.02\n",
      "53 params - {'clf__n_neighbors': 32, 'vect__max_df': 0.9, 'vect__min_df': 4, 'vect__ngram_range': (1, 2)}; mean - 0.73; std - 0.02\n",
      "54 params - {'clf__n_neighbors': 128, 'vect__max_df': 0.98, 'vect__min_df': 2, 'vect__ngram_range': (1, 1)}; mean - 0.72; std - 0.02\n",
      "55 params - {'clf__n_neighbors': 128, 'vect__max_df': 0.98, 'vect__min_df': 2, 'vect__ngram_range': (1, 2)}; mean - 0.74; std - 0.01\n",
      "56 params - {'clf__n_neighbors': 128, 'vect__max_df': 0.98, 'vect__min_df': 3, 'vect__ngram_range': (1, 1)}; mean - 0.73; std - 0.02\n",
      "57 params - {'clf__n_neighbors': 128, 'vect__max_df': 0.98, 'vect__min_df': 3, 'vect__ngram_range': (1, 2)}; mean - 0.75; std - 0.01\n",
      "58 params - {'clf__n_neighbors': 128, 'vect__max_df': 0.98, 'vect__min_df': 4, 'vect__ngram_range': (1, 1)}; mean - 0.74; std - 0.02\n",
      "59 params - {'clf__n_neighbors': 128, 'vect__max_df': 0.98, 'vect__min_df': 4, 'vect__ngram_range': (1, 2)}; mean - 0.75; std - 0.00\n",
      "60 params - {'clf__n_neighbors': 128, 'vect__max_df': 0.95, 'vect__min_df': 2, 'vect__ngram_range': (1, 1)}; mean - 0.71; std - 0.02\n",
      "61 params - {'clf__n_neighbors': 128, 'vect__max_df': 0.95, 'vect__min_df': 2, 'vect__ngram_range': (1, 2)}; mean - 0.75; std - 0.00\n",
      "62 params - {'clf__n_neighbors': 128, 'vect__max_df': 0.95, 'vect__min_df': 3, 'vect__ngram_range': (1, 1)}; mean - 0.71; std - 0.02\n",
      "63 params - {'clf__n_neighbors': 128, 'vect__max_df': 0.95, 'vect__min_df': 3, 'vect__ngram_range': (1, 2)}; mean - 0.75; std - 0.00\n",
      "64 params - {'clf__n_neighbors': 128, 'vect__max_df': 0.95, 'vect__min_df': 4, 'vect__ngram_range': (1, 1)}; mean - 0.73; std - 0.03\n",
      "65 params - {'clf__n_neighbors': 128, 'vect__max_df': 0.95, 'vect__min_df': 4, 'vect__ngram_range': (1, 2)}; mean - 0.75; std - 0.00\n",
      "66 params - {'clf__n_neighbors': 128, 'vect__max_df': 0.9, 'vect__min_df': 2, 'vect__ngram_range': (1, 1)}; mean - 0.72; std - 0.01\n",
      "67 params - {'clf__n_neighbors': 128, 'vect__max_df': 0.9, 'vect__min_df': 2, 'vect__ngram_range': (1, 2)}; mean - 0.75; std - 0.01\n",
      "68 params - {'clf__n_neighbors': 128, 'vect__max_df': 0.9, 'vect__min_df': 3, 'vect__ngram_range': (1, 1)}; mean - 0.73; std - 0.01\n",
      "69 params - {'clf__n_neighbors': 128, 'vect__max_df': 0.9, 'vect__min_df': 3, 'vect__ngram_range': (1, 2)}; mean - 0.77; std - 0.01\n",
      "70 params - {'clf__n_neighbors': 128, 'vect__max_df': 0.9, 'vect__min_df': 4, 'vect__ngram_range': (1, 1)}; mean - 0.74; std - 0.02\n",
      "71 params - {'clf__n_neighbors': 128, 'vect__max_df': 0.9, 'vect__min_df': 4, 'vect__ngram_range': (1, 2)}; mean - 0.76; std - 0.01\n",
      "             precision    recall  f1-score   support\n",
      "\n",
      "        neg       0.82      0.68      0.74       254\n",
      "        pos       0.72      0.84      0.77       246\n",
      "\n",
      "avg / total       0.77      0.76      0.76       500\n",
      "\n"
     ]
    }
   ],
   "source": [
    "# try KNeighbors\n",
    "# -----------------------------------------------------------------------\n",
    "from sklearn.neighbors import KNeighborsClassifier\n",
    "\n",
    "pipeline = Pipeline([\n",
    "        ('vect', TfidfVectorizer(analyzer='word')), \n",
    "        ('clf', KNeighborsClassifier()), \n",
    "    ])\n",
    "\n",
    "parameters = {\n",
    "        'vect__ngram_range': [(1,1), (1, 2)],\n",
    "        'vect__min_df': [2, 3, 4],\n",
    "        'vect__max_df': [0.98, 0.95, 0.90],\n",
    "        'clf__n_neighbors': [2, 8, 32, 128],\n",
    "    }\n",
    "\n",
    "grid_search = GridSearchCV(pipeline, parameters, n_jobs=-1)\n",
    "grid_search.fit(docs_train, y_train)\n",
    "\n",
    "n_candidates = len(grid_search.cv_results_['params'])\n",
    "for i in range(n_candidates):\n",
    "    print(i, 'params - %s; mean - %0.2f; std - %0.2f'\n",
    "             % (grid_search.cv_results_['params'][i],\n",
    "                grid_search.cv_results_['mean_test_score'][i],\n",
    "                grid_search.cv_results_['std_test_score'][i]))\n",
    "\n",
    "y_predicted = grid_search.predict(docs_test)\n",
    "print(metrics.classification_report(y_test, y_predicted, \n",
    "                                    target_names=dataset.target_names)) #classification"
   ]
  },
  {
   "cell_type": "code",
   "execution_count": 93,
   "metadata": {
    "collapsed": false,
    "scrolled": true
   },
   "outputs": [
    {
     "name": "stderr",
     "output_type": "stream",
     "text": [
      "/Library/Frameworks/Python.framework/Versions/3.6/lib/python3.6/site-packages/sklearn/model_selection/_search.py:761: DeprecationWarning: The grid_scores_ attribute was deprecated in version 0.18 in favor of the more elaborate cv_results_ attribute. The grid_scores_ attribute will not be available from 0.20\n",
      "  DeprecationWarning)\n"
     ]
    },
    {
     "name": "stdout",
     "output_type": "stream",
     "text": [
      "[0.65533333333333332, 0.67066666666666663, 0.66000000000000003, 0.67800000000000005, 0.65733333333333333, 0.67800000000000005, 0.66666666666666663, 0.67200000000000004, 0.66600000000000004, 0.67733333333333334, 0.67200000000000004, 0.68066666666666664, 0.66600000000000004, 0.67066666666666663, 0.67133333333333334, 0.67733333333333334, 0.67333333333333334, 0.68333333333333335, 0.69133333333333336, 0.68999999999999995, 0.68066666666666664, 0.69133333333333336, 0.68333333333333335, 0.69666666666666666, 0.69666666666666666, 0.68999999999999995, 0.67933333333333334, 0.69333333333333336, 0.67333333333333334, 0.69133333333333336, 0.69399999999999995, 0.68999999999999995, 0.66933333333333334, 0.69133333333333336, 0.67266666666666663, 0.69466666666666665, 0.70999999999999996, 0.71399999999999997, 0.71333333333333337, 0.72399999999999998, 0.71599999999999997, 0.70799999999999996, 0.69999999999999996, 0.72199999999999998, 0.71066666666666667, 0.71266666666666667, 0.70999999999999996, 0.72133333333333338, 0.70333333333333337, 0.72666666666666668, 0.70599999999999996, 0.73066666666666669, 0.71599999999999997, 0.72533333333333339, 0.72133333333333338, 0.74199999999999999, 0.72933333333333328, 0.74533333333333329, 0.74199999999999999, 0.7466666666666667, 0.70799999999999996, 0.75266666666666671, 0.71133333333333337, 0.75266666666666671, 0.72666666666666668, 0.75466666666666671, 0.72333333333333338, 0.7533333333333333, 0.72999999999999998, 0.76533333333333331, 0.74133333333333329, 0.75666666666666671]\n"
     ]
    },
    {
     "data": {
      "text/plain": [
       "<matplotlib.text.Text at 0x13689b2e8>"
      ]
     },
     "execution_count": 93,
     "metadata": {},
     "output_type": "execute_result"
    },
    {
     "data": {
      "image/png": "[encoded data removed]",
      "text/plain": [
       "<matplotlib.figure.Figure at 0x135c3aeb8>"
      ]
     },
     "metadata": {},
     "output_type": "display_data"
    }
   ],
   "source": [
    "# graph the results of the parameter combinations for KNeighbors\n",
    "grid_mean_scores = [result.mean_validation_score for result in grid_search.grid_scores_]\n",
    "print(grid_mean_scores)\n",
    "para = [i for i in range(1, 73)]\n",
    "plt.plot(para, grid_mean_scores, 'ro')\n",
    "plt.xlabel('Parameter Combo')\n",
    "plt.ylabel('Mean Score from Grid Search')\n",
    "plt.title('KNeighborsClassifier Classifier')"
   ]
  },
  {
   "cell_type": "code",
   "execution_count": 94,
   "metadata": {
    "collapsed": false
   },
   "outputs": [
    {
     "data": {
      "text/plain": [
       "0.76533333333333331"
      ]
     },
     "execution_count": 94,
     "metadata": {},
     "output_type": "execute_result"
    }
   ],
   "source": [
    "# find best score from grid search for KNeighbors\n",
    "grid_search.best_score_"
   ]
  },
  {
   "cell_type": "code",
   "execution_count": 95,
   "metadata": {
    "collapsed": false
   },
   "outputs": [
    {
     "data": {
      "text/plain": [
       "{'clf__n_neighbors': 128,\n",
       " 'vect__max_df': 0.9,\n",
       " 'vect__min_df': 3,\n",
       " 'vect__ngram_range': (1, 2)}"
      ]
     },
     "execution_count": 95,
     "metadata": {},
     "output_type": "execute_result"
    }
   ],
   "source": [
    "# find best parameters from grid search for KNeighbors\n",
    "grid_search.best_params_"
   ]
  },
  {
   "cell_type": "code",
   "execution_count": 96,
   "metadata": {
    "collapsed": false
   },
   "outputs": [
    {
     "name": "stdout",
     "output_type": "stream",
     "text": [
      "[[172  82]\n",
      " [ 39 207]]\n"
     ]
    }
   ],
   "source": [
    "# confusion matrix for KNeighbors\n",
    "cm = metrics.confusion_matrix(y_test, y_predicted) \n",
    "print(cm)"
   ]
  },
  {
   "cell_type": "code",
   "execution_count": 97,
   "metadata": {
    "collapsed": false
   },
   "outputs": [
    {
     "data": {
      "text/plain": [
       "<matplotlib.text.Text at 0x10b59cc50>"
      ]
     },
     "execution_count": 97,
     "metadata": {},
     "output_type": "execute_result"
    },
    {
     "data": {
      "image/png": "[encoded data removed]",
      "text/plain": [
       "<matplotlib.figure.Figure at 0x11f8904a8>"
      ]
     },
     "metadata": {},
     "output_type": "display_data"
    }
   ],
   "source": [
    "labels = ['Neg','Pos']\n",
    "fig = plt.figure()\n",
    "ax = fig.add_subplot(111)\n",
    "cax = ax.matshow(cm)\n",
    "plt.title('Confusion matrix of KNeighborsClassifier Classifier')\n",
    "fig.colorbar(cax)\n",
    "ax.set_xticklabels([''] + labels)\n",
    "ax.set_yticklabels([''] + labels)\n",
    "plt.xlabel('Predicted')\n",
    "plt.ylabel('Actual')"
   ]
  },
  {
   "cell_type": "markdown",
   "metadata": {},
   "source": [
    "---"
   ]
  },
  {
   "cell_type": "code",
   "execution_count": 14,
   "metadata": {
    "collapsed": false
   },
   "outputs": [
    {
     "name": "stdout",
     "output_type": "stream",
     "text": [
      "0 params - {'clf__n_estimators': 8, 'vect__max_df': 0.98, 'vect__min_df': 2, 'vect__ngram_range': (1, 1)}; mean - 0.65; std - 0.01\n",
      "1 params - {'clf__n_estimators': 8, 'vect__max_df': 0.98, 'vect__min_df': 2, 'vect__ngram_range': (1, 2)}; mean - 0.63; std - 0.00\n",
      "2 params - {'clf__n_estimators': 8, 'vect__max_df': 0.98, 'vect__min_df': 3, 'vect__ngram_range': (1, 1)}; mean - 0.63; std - 0.01\n",
      "3 params - {'clf__n_estimators': 8, 'vect__max_df': 0.98, 'vect__min_df': 3, 'vect__ngram_range': (1, 2)}; mean - 0.65; std - 0.01\n",
      "4 params - {'clf__n_estimators': 8, 'vect__max_df': 0.98, 'vect__min_df': 4, 'vect__ngram_range': (1, 1)}; mean - 0.64; std - 0.01\n",
      "5 params - {'clf__n_estimators': 8, 'vect__max_df': 0.98, 'vect__min_df': 4, 'vect__ngram_range': (1, 2)}; mean - 0.65; std - 0.01\n",
      "6 params - {'clf__n_estimators': 8, 'vect__max_df': 0.95, 'vect__min_df': 2, 'vect__ngram_range': (1, 1)}; mean - 0.62; std - 0.02\n",
      "7 params - {'clf__n_estimators': 8, 'vect__max_df': 0.95, 'vect__min_df': 2, 'vect__ngram_range': (1, 2)}; mean - 0.63; std - 0.02\n",
      "8 params - {'clf__n_estimators': 8, 'vect__max_df': 0.95, 'vect__min_df': 3, 'vect__ngram_range': (1, 1)}; mean - 0.66; std - 0.03\n",
      "9 params - {'clf__n_estimators': 8, 'vect__max_df': 0.95, 'vect__min_df': 3, 'vect__ngram_range': (1, 2)}; mean - 0.63; std - 0.02\n",
      "10 params - {'clf__n_estimators': 8, 'vect__max_df': 0.95, 'vect__min_df': 4, 'vect__ngram_range': (1, 1)}; mean - 0.66; std - 0.00\n",
      "11 params - {'clf__n_estimators': 8, 'vect__max_df': 0.95, 'vect__min_df': 4, 'vect__ngram_range': (1, 2)}; mean - 0.64; std - 0.01\n",
      "12 params - {'clf__n_estimators': 8, 'vect__max_df': 0.9, 'vect__min_df': 2, 'vect__ngram_range': (1, 1)}; mean - 0.63; std - 0.02\n",
      "13 params - {'clf__n_estimators': 8, 'vect__max_df': 0.9, 'vect__min_df': 2, 'vect__ngram_range': (1, 2)}; mean - 0.63; std - 0.00\n",
      "14 params - {'clf__n_estimators': 8, 'vect__max_df': 0.9, 'vect__min_df': 3, 'vect__ngram_range': (1, 1)}; mean - 0.65; std - 0.01\n",
      "15 params - {'clf__n_estimators': 8, 'vect__max_df': 0.9, 'vect__min_df': 3, 'vect__ngram_range': (1, 2)}; mean - 0.64; std - 0.01\n",
      "16 params - {'clf__n_estimators': 8, 'vect__max_df': 0.9, 'vect__min_df': 4, 'vect__ngram_range': (1, 1)}; mean - 0.68; std - 0.01\n",
      "17 params - {'clf__n_estimators': 8, 'vect__max_df': 0.9, 'vect__min_df': 4, 'vect__ngram_range': (1, 2)}; mean - 0.66; std - 0.01\n",
      "18 params - {'clf__n_estimators': 16, 'vect__max_df': 0.98, 'vect__min_df': 2, 'vect__ngram_range': (1, 1)}; mean - 0.68; std - 0.00\n",
      "19 params - {'clf__n_estimators': 16, 'vect__max_df': 0.98, 'vect__min_df': 2, 'vect__ngram_range': (1, 2)}; mean - 0.69; std - 0.01\n",
      "20 params - {'clf__n_estimators': 16, 'vect__max_df': 0.98, 'vect__min_df': 3, 'vect__ngram_range': (1, 1)}; mean - 0.69; std - 0.02\n",
      "21 params - {'clf__n_estimators': 16, 'vect__max_df': 0.98, 'vect__min_df': 3, 'vect__ngram_range': (1, 2)}; mean - 0.68; std - 0.01\n",
      "22 params - {'clf__n_estimators': 16, 'vect__max_df': 0.98, 'vect__min_df': 4, 'vect__ngram_range': (1, 1)}; mean - 0.67; std - 0.02\n",
      "23 params - {'clf__n_estimators': 16, 'vect__max_df': 0.98, 'vect__min_df': 4, 'vect__ngram_range': (1, 2)}; mean - 0.66; std - 0.01\n",
      "24 params - {'clf__n_estimators': 16, 'vect__max_df': 0.95, 'vect__min_df': 2, 'vect__ngram_range': (1, 1)}; mean - 0.68; std - 0.02\n",
      "25 params - {'clf__n_estimators': 16, 'vect__max_df': 0.95, 'vect__min_df': 2, 'vect__ngram_range': (1, 2)}; mean - 0.68; std - 0.01\n",
      "26 params - {'clf__n_estimators': 16, 'vect__max_df': 0.95, 'vect__min_df': 3, 'vect__ngram_range': (1, 1)}; mean - 0.67; std - 0.02\n",
      "27 params - {'clf__n_estimators': 16, 'vect__max_df': 0.95, 'vect__min_df': 3, 'vect__ngram_range': (1, 2)}; mean - 0.69; std - 0.02\n",
      "28 params - {'clf__n_estimators': 16, 'vect__max_df': 0.95, 'vect__min_df': 4, 'vect__ngram_range': (1, 1)}; mean - 0.68; std - 0.01\n",
      "29 params - {'clf__n_estimators': 16, 'vect__max_df': 0.95, 'vect__min_df': 4, 'vect__ngram_range': (1, 2)}; mean - 0.69; std - 0.01\n",
      "30 params - {'clf__n_estimators': 16, 'vect__max_df': 0.9, 'vect__min_df': 2, 'vect__ngram_range': (1, 1)}; mean - 0.71; std - 0.04\n",
      "31 params - {'clf__n_estimators': 16, 'vect__max_df': 0.9, 'vect__min_df': 2, 'vect__ngram_range': (1, 2)}; mean - 0.66; std - 0.01\n",
      "32 params - {'clf__n_estimators': 16, 'vect__max_df': 0.9, 'vect__min_df': 3, 'vect__ngram_range': (1, 1)}; mean - 0.69; std - 0.02\n",
      "33 params - {'clf__n_estimators': 16, 'vect__max_df': 0.9, 'vect__min_df': 3, 'vect__ngram_range': (1, 2)}; mean - 0.67; std - 0.02\n",
      "34 params - {'clf__n_estimators': 16, 'vect__max_df': 0.9, 'vect__min_df': 4, 'vect__ngram_range': (1, 1)}; mean - 0.68; std - 0.01\n",
      "35 params - {'clf__n_estimators': 16, 'vect__max_df': 0.9, 'vect__min_df': 4, 'vect__ngram_range': (1, 2)}; mean - 0.68; std - 0.01\n",
      "36 params - {'clf__n_estimators': 32, 'vect__max_df': 0.98, 'vect__min_df': 2, 'vect__ngram_range': (1, 1)}; mean - 0.73; std - 0.02\n",
      "37 params - {'clf__n_estimators': 32, 'vect__max_df': 0.98, 'vect__min_df': 2, 'vect__ngram_range': (1, 2)}; mean - 0.73; std - 0.01\n",
      "38 params - {'clf__n_estimators': 32, 'vect__max_df': 0.98, 'vect__min_df': 3, 'vect__ngram_range': (1, 1)}; mean - 0.73; std - 0.01\n",
      "39 params - {'clf__n_estimators': 32, 'vect__max_df': 0.98, 'vect__min_df': 3, 'vect__ngram_range': (1, 2)}; mean - 0.72; std - 0.01\n",
      "40 params - {'clf__n_estimators': 32, 'vect__max_df': 0.98, 'vect__min_df': 4, 'vect__ngram_range': (1, 1)}; mean - 0.73; std - 0.02\n",
      "41 params - {'clf__n_estimators': 32, 'vect__max_df': 0.98, 'vect__min_df': 4, 'vect__ngram_range': (1, 2)}; mean - 0.72; std - 0.03\n",
      "42 params - {'clf__n_estimators': 32, 'vect__max_df': 0.95, 'vect__min_df': 2, 'vect__ngram_range': (1, 1)}; mean - 0.73; std - 0.01\n",
      "43 params - {'clf__n_estimators': 32, 'vect__max_df': 0.95, 'vect__min_df': 2, 'vect__ngram_range': (1, 2)}; mean - 0.71; std - 0.02\n",
      "44 params - {'clf__n_estimators': 32, 'vect__max_df': 0.95, 'vect__min_df': 3, 'vect__ngram_range': (1, 1)}; mean - 0.72; std - 0.02\n",
      "45 params - {'clf__n_estimators': 32, 'vect__max_df': 0.95, 'vect__min_df': 3, 'vect__ngram_range': (1, 2)}; mean - 0.71; std - 0.01\n",
      "46 params - {'clf__n_estimators': 32, 'vect__max_df': 0.95, 'vect__min_df': 4, 'vect__ngram_range': (1, 1)}; mean - 0.72; std - 0.01\n",
      "47 params - {'clf__n_estimators': 32, 'vect__max_df': 0.95, 'vect__min_df': 4, 'vect__ngram_range': (1, 2)}; mean - 0.71; std - 0.01\n",
      "48 params - {'clf__n_estimators': 32, 'vect__max_df': 0.9, 'vect__min_df': 2, 'vect__ngram_range': (1, 1)}; mean - 0.73; std - 0.01\n",
      "49 params - {'clf__n_estimators': 32, 'vect__max_df': 0.9, 'vect__min_df': 2, 'vect__ngram_range': (1, 2)}; mean - 0.73; std - 0.03\n",
      "50 params - {'clf__n_estimators': 32, 'vect__max_df': 0.9, 'vect__min_df': 3, 'vect__ngram_range': (1, 1)}; mean - 0.73; std - 0.03\n",
      "51 params - {'clf__n_estimators': 32, 'vect__max_df': 0.9, 'vect__min_df': 3, 'vect__ngram_range': (1, 2)}; mean - 0.74; std - 0.01\n",
      "52 params - {'clf__n_estimators': 32, 'vect__max_df': 0.9, 'vect__min_df': 4, 'vect__ngram_range': (1, 1)}; mean - 0.71; std - 0.01\n",
      "53 params - {'clf__n_estimators': 32, 'vect__max_df': 0.9, 'vect__min_df': 4, 'vect__ngram_range': (1, 2)}; mean - 0.73; std - 0.00\n",
      "54 params - {'clf__n_estimators': 64, 'vect__max_df': 0.98, 'vect__min_df': 2, 'vect__ngram_range': (1, 1)}; mean - 0.75; std - 0.02\n",
      "55 params - {'clf__n_estimators': 64, 'vect__max_df': 0.98, 'vect__min_df': 2, 'vect__ngram_range': (1, 2)}; mean - 0.75; std - 0.02\n",
      "56 params - {'clf__n_estimators': 64, 'vect__max_df': 0.98, 'vect__min_df': 3, 'vect__ngram_range': (1, 1)}; mean - 0.78; std - 0.00\n",
      "57 params - {'clf__n_estimators': 64, 'vect__max_df': 0.98, 'vect__min_df': 3, 'vect__ngram_range': (1, 2)}; mean - 0.76; std - 0.01\n",
      "58 params - {'clf__n_estimators': 64, 'vect__max_df': 0.98, 'vect__min_df': 4, 'vect__ngram_range': (1, 1)}; mean - 0.76; std - 0.02\n",
      "59 params - {'clf__n_estimators': 64, 'vect__max_df': 0.98, 'vect__min_df': 4, 'vect__ngram_range': (1, 2)}; mean - 0.78; std - 0.02\n",
      "60 params - {'clf__n_estimators': 64, 'vect__max_df': 0.95, 'vect__min_df': 2, 'vect__ngram_range': (1, 1)}; mean - 0.75; std - 0.01\n",
      "61 params - {'clf__n_estimators': 64, 'vect__max_df': 0.95, 'vect__min_df': 2, 'vect__ngram_range': (1, 2)}; mean - 0.76; std - 0.01\n",
      "62 params - {'clf__n_estimators': 64, 'vect__max_df': 0.95, 'vect__min_df': 3, 'vect__ngram_range': (1, 1)}; mean - 0.76; std - 0.04\n",
      "63 params - {'clf__n_estimators': 64, 'vect__max_df': 0.95, 'vect__min_df': 3, 'vect__ngram_range': (1, 2)}; mean - 0.77; std - 0.01\n",
      "64 params - {'clf__n_estimators': 64, 'vect__max_df': 0.95, 'vect__min_df': 4, 'vect__ngram_range': (1, 1)}; mean - 0.76; std - 0.02\n",
      "65 params - {'clf__n_estimators': 64, 'vect__max_df': 0.95, 'vect__min_df': 4, 'vect__ngram_range': (1, 2)}; mean - 0.76; std - 0.01\n",
      "66 params - {'clf__n_estimators': 64, 'vect__max_df': 0.9, 'vect__min_df': 2, 'vect__ngram_range': (1, 1)}; mean - 0.77; std - 0.02\n",
      "67 params - {'clf__n_estimators': 64, 'vect__max_df': 0.9, 'vect__min_df': 2, 'vect__ngram_range': (1, 2)}; mean - 0.75; std - 0.00\n",
      "68 params - {'clf__n_estimators': 64, 'vect__max_df': 0.9, 'vect__min_df': 3, 'vect__ngram_range': (1, 1)}; mean - 0.77; std - 0.01\n",
      "69 params - {'clf__n_estimators': 64, 'vect__max_df': 0.9, 'vect__min_df': 3, 'vect__ngram_range': (1, 2)}; mean - 0.76; std - 0.01\n",
      "70 params - {'clf__n_estimators': 64, 'vect__max_df': 0.9, 'vect__min_df': 4, 'vect__ngram_range': (1, 1)}; mean - 0.77; std - 0.00\n",
      "71 params - {'clf__n_estimators': 64, 'vect__max_df': 0.9, 'vect__min_df': 4, 'vect__ngram_range': (1, 2)}; mean - 0.76; std - 0.02\n",
      "             precision    recall  f1-score   support\n",
      "\n",
      "        neg       0.77      0.81      0.79       254\n",
      "        pos       0.80      0.74      0.77       246\n",
      "\n",
      "avg / total       0.78      0.78      0.78       500\n",
      "\n"
     ]
    }
   ],
   "source": [
    "# try random forest classifier\n",
    "pipeline = Pipeline([\n",
    "        ('vect', TfidfVectorizer()), \n",
    "        ('clf', RandomForestClassifier()), \n",
    "    ])\n",
    "\n",
    "parameters = {\n",
    "        'vect__ngram_range': [(1, 1), (1, 2)],\n",
    "        'vect__min_df': [2, 3, 4],\n",
    "        'vect__max_df': [0.98, 0.95, 0.90],\n",
    "        'clf__n_estimators': [8, 16, 32, 64],\n",
    "    }\n",
    "\n",
    "grid_search = GridSearchCV(pipeline, parameters, n_jobs=-1)\n",
    "grid_search.fit(docs_train, y_train)\n",
    "\n",
    "n_candidates = len(grid_search.cv_results_['params'])\n",
    "for i in range(n_candidates):\n",
    "    print(i, 'params - %s; mean - %0.2f; std - %0.2f'\n",
    "             % (grid_search.cv_results_['params'][i],\n",
    "                grid_search.cv_results_['mean_test_score'][i],\n",
    "                grid_search.cv_results_['std_test_score'][i]))\n",
    "\n",
    "y_predicted = grid_search.predict(docs_test)\n",
    "print(metrics.classification_report(y_test, y_predicted, \n",
    "                                    target_names=dataset.target_names))"
   ]
  },
  {
   "cell_type": "code",
   "execution_count": 15,
   "metadata": {
    "collapsed": false,
    "scrolled": true
   },
   "outputs": [
    {
     "name": "stderr",
     "output_type": "stream",
     "text": [
      "/Library/Frameworks/Python.framework/Versions/3.6/lib/python3.6/site-packages/sklearn/model_selection/_search.py:761: DeprecationWarning: The grid_scores_ attribute was deprecated in version 0.18 in favor of the more elaborate cv_results_ attribute. The grid_scores_ attribute will not be available from 0.20\n",
      "  DeprecationWarning)\n"
     ]
    },
    {
     "name": "stdout",
     "output_type": "stream",
     "text": [
      "[0.64800000000000002, 0.63200000000000001, 0.63400000000000001, 0.64800000000000002, 0.64200000000000002, 0.64666666666666661, 0.6226666666666667, 0.6253333333333333, 0.65800000000000003, 0.62866666666666671, 0.66000000000000003, 0.63533333333333331, 0.63400000000000001, 0.626, 0.65333333333333332, 0.64066666666666672, 0.68066666666666664, 0.65733333333333333, 0.68066666666666664, 0.68866666666666665, 0.68600000000000005, 0.68133333333333335, 0.67200000000000004, 0.66333333333333333, 0.67533333333333334, 0.68266666666666664, 0.66800000000000004, 0.69399999999999995, 0.68466666666666665, 0.68799999999999994, 0.70733333333333337, 0.66466666666666663, 0.68866666666666665, 0.67266666666666663, 0.67600000000000005, 0.68333333333333335, 0.73066666666666669, 0.72799999999999998, 0.72599999999999998, 0.72066666666666668, 0.73266666666666669, 0.71533333333333338, 0.72999999999999998, 0.71199999999999997, 0.72466666666666668, 0.70666666666666667, 0.72199999999999998, 0.70999999999999996, 0.73466666666666669, 0.73199999999999998, 0.72733333333333339, 0.73999999999999999, 0.70799999999999996, 0.73199999999999998, 0.7533333333333333, 0.7466666666666667, 0.77933333333333332, 0.76000000000000001, 0.7573333333333333, 0.77666666666666662, 0.7506666666666667, 0.7553333333333333, 0.75866666666666671, 0.76933333333333331, 0.75800000000000001, 0.75800000000000001, 0.76533333333333331, 0.7493333333333333, 0.76800000000000002, 0.76200000000000001, 0.77200000000000002, 0.75800000000000001]\n"
     ]
    },
    {
     "data": {
      "text/plain": [
       "<matplotlib.text.Text at 0x10a71f748>"
      ]
     },
     "execution_count": 15,
     "metadata": {},
     "output_type": "execute_result"
    },
    {
     "data": {
      "image/png": "[encoded data removed]",
      "text/plain": [
       "<matplotlib.figure.Figure at 0x104b91e80>"
      ]
     },
     "metadata": {},
     "output_type": "display_data"
    }
   ],
   "source": [
    "# graph the results of the parameter combinations for Random Forest\n",
    "grid_mean_scores = [result.mean_validation_score for result in grid_search.grid_scores_]\n",
    "print(grid_mean_scores)\n",
    "para = [i for i in range(1, 73)]\n",
    "plt.plot(para, grid_mean_scores, 'ro')\n",
    "plt.xlabel('Parameter Combo')\n",
    "plt.ylabel('Mean Score from Grid Search')\n",
    "plt.title('Random Forest Classifier')"
   ]
  },
  {
   "cell_type": "code",
   "execution_count": 16,
   "metadata": {
    "collapsed": false
   },
   "outputs": [
    {
     "data": {
      "text/plain": [
       "0.77933333333333332"
      ]
     },
     "execution_count": 16,
     "metadata": {},
     "output_type": "execute_result"
    }
   ],
   "source": [
    "# find best score from grid search for Random Forest\n",
    "grid_search.best_score_"
   ]
  },
  {
   "cell_type": "code",
   "execution_count": 17,
   "metadata": {
    "collapsed": false
   },
   "outputs": [
    {
     "data": {
      "text/plain": [
       "{'clf__n_estimators': 64,\n",
       " 'vect__max_df': 0.98,\n",
       " 'vect__min_df': 3,\n",
       " 'vect__ngram_range': (1, 1)}"
      ]
     },
     "execution_count": 17,
     "metadata": {},
     "output_type": "execute_result"
    }
   ],
   "source": [
    "# find best parameters from grid search for Random Forest\n",
    "grid_search.best_params_"
   ]
  },
  {
   "cell_type": "code",
   "execution_count": 18,
   "metadata": {
    "collapsed": false
   },
   "outputs": [
    {
     "name": "stdout",
     "output_type": "stream",
     "text": [
      "[[207  47]\n",
      " [ 63 183]]\n"
     ]
    }
   ],
   "source": [
    "cm = metrics.confusion_matrix(y_test, y_predicted)\n",
    "print(cm)"
   ]
  },
  {
   "cell_type": "code",
   "execution_count": 19,
   "metadata": {
    "collapsed": false
   },
   "outputs": [
    {
     "data": {
      "text/plain": [
       "<matplotlib.text.Text at 0x10d4c7da0>"
      ]
     },
     "execution_count": 19,
     "metadata": {},
     "output_type": "execute_result"
    },
    {
     "data": {
      "image/png": "[encoded data removed]",
      "text/plain": [
       "<matplotlib.figure.Figure at 0x10f199e10>"
      ]
     },
     "metadata": {},
     "output_type": "display_data"
    }
   ],
   "source": [
    "labels = ['Neg','Pos']\n",
    "fig = plt.figure()\n",
    "ax = fig.add_subplot(111)\n",
    "cax = ax.matshow(cm)\n",
    "plt.title('Confusion matrix of Random Forest Classifier')\n",
    "fig.colorbar(cax)\n",
    "ax.set_xticklabels([''] + labels)\n",
    "ax.set_yticklabels([''] + labels)\n",
    "plt.xlabel('Predicted')\n",
    "plt.ylabel('Actual')"
   ]
  },
  {
   "cell_type": "code",
   "execution_count": 20,
   "metadata": {
    "collapsed": false
   },
   "outputs": [
    {
     "name": "stderr",
     "output_type": "stream",
     "text": [
      "/Library/Frameworks/Python.framework/Versions/3.6/lib/python3.6/site-packages/sklearn/naive_bayes.py:472: UserWarning: alpha too small will result in numeric errors, setting alpha = 1.0e-10\n",
      "  'setting alpha = %.1e' % _ALPHA_MIN)\n",
      "/Library/Frameworks/Python.framework/Versions/3.6/lib/python3.6/site-packages/sklearn/naive_bayes.py:472: UserWarning: alpha too small will result in numeric errors, setting alpha = 1.0e-10\n",
      "  'setting alpha = %.1e' % _ALPHA_MIN)\n",
      "/Library/Frameworks/Python.framework/Versions/3.6/lib/python3.6/site-packages/sklearn/naive_bayes.py:472: UserWarning: alpha too small will result in numeric errors, setting alpha = 1.0e-10\n",
      "  'setting alpha = %.1e' % _ALPHA_MIN)\n",
      "/Library/Frameworks/Python.framework/Versions/3.6/lib/python3.6/site-packages/sklearn/naive_bayes.py:472: UserWarning: alpha too small will result in numeric errors, setting alpha = 1.0e-10\n",
      "  'setting alpha = %.1e' % _ALPHA_MIN)\n",
      "/Library/Frameworks/Python.framework/Versions/3.6/lib/python3.6/site-packages/sklearn/naive_bayes.py:472: UserWarning: alpha too small will result in numeric errors, setting alpha = 1.0e-10\n",
      "  'setting alpha = %.1e' % _ALPHA_MIN)\n",
      "/Library/Frameworks/Python.framework/Versions/3.6/lib/python3.6/site-packages/sklearn/naive_bayes.py:472: UserWarning: alpha too small will result in numeric errors, setting alpha = 1.0e-10\n",
      "  'setting alpha = %.1e' % _ALPHA_MIN)\n",
      "/Library/Frameworks/Python.framework/Versions/3.6/lib/python3.6/site-packages/sklearn/naive_bayes.py:472: UserWarning: alpha too small will result in numeric errors, setting alpha = 1.0e-10\n",
      "  'setting alpha = %.1e' % _ALPHA_MIN)\n",
      "/Library/Frameworks/Python.framework/Versions/3.6/lib/python3.6/site-packages/sklearn/naive_bayes.py:472: UserWarning: alpha too small will result in numeric errors, setting alpha = 1.0e-10\n",
      "  'setting alpha = %.1e' % _ALPHA_MIN)\n",
      "/Library/Frameworks/Python.framework/Versions/3.6/lib/python3.6/site-packages/sklearn/naive_bayes.py:472: UserWarning: alpha too small will result in numeric errors, setting alpha = 1.0e-10\n",
      "  'setting alpha = %.1e' % _ALPHA_MIN)\n",
      "/Library/Frameworks/Python.framework/Versions/3.6/lib/python3.6/site-packages/sklearn/naive_bayes.py:472: UserWarning: alpha too small will result in numeric errors, setting alpha = 1.0e-10\n",
      "  'setting alpha = %.1e' % _ALPHA_MIN)\n",
      "/Library/Frameworks/Python.framework/Versions/3.6/lib/python3.6/site-packages/sklearn/naive_bayes.py:472: UserWarning: alpha too small will result in numeric errors, setting alpha = 1.0e-10\n",
      "  'setting alpha = %.1e' % _ALPHA_MIN)\n",
      "/Library/Frameworks/Python.framework/Versions/3.6/lib/python3.6/site-packages/sklearn/naive_bayes.py:472: UserWarning: alpha too small will result in numeric errors, setting alpha = 1.0e-10\n",
      "  'setting alpha = %.1e' % _ALPHA_MIN)\n",
      "/Library/Frameworks/Python.framework/Versions/3.6/lib/python3.6/site-packages/sklearn/naive_bayes.py:472: UserWarning: alpha too small will result in numeric errors, setting alpha = 1.0e-10\n",
      "  'setting alpha = %.1e' % _ALPHA_MIN)\n",
      "/Library/Frameworks/Python.framework/Versions/3.6/lib/python3.6/site-packages/sklearn/naive_bayes.py:472: UserWarning: alpha too small will result in numeric errors, setting alpha = 1.0e-10\n",
      "  'setting alpha = %.1e' % _ALPHA_MIN)\n",
      "/Library/Frameworks/Python.framework/Versions/3.6/lib/python3.6/site-packages/sklearn/naive_bayes.py:472: UserWarning: alpha too small will result in numeric errors, setting alpha = 1.0e-10\n",
      "  'setting alpha = %.1e' % _ALPHA_MIN)\n",
      "/Library/Frameworks/Python.framework/Versions/3.6/lib/python3.6/site-packages/sklearn/naive_bayes.py:472: UserWarning: alpha too small will result in numeric errors, setting alpha = 1.0e-10\n",
      "  'setting alpha = %.1e' % _ALPHA_MIN)\n",
      "/Library/Frameworks/Python.framework/Versions/3.6/lib/python3.6/site-packages/sklearn/naive_bayes.py:472: UserWarning: alpha too small will result in numeric errors, setting alpha = 1.0e-10\n",
      "  'setting alpha = %.1e' % _ALPHA_MIN)\n",
      "/Library/Frameworks/Python.framework/Versions/3.6/lib/python3.6/site-packages/sklearn/naive_bayes.py:472: UserWarning: alpha too small will result in numeric errors, setting alpha = 1.0e-10\n",
      "  'setting alpha = %.1e' % _ALPHA_MIN)\n",
      "/Library/Frameworks/Python.framework/Versions/3.6/lib/python3.6/site-packages/sklearn/naive_bayes.py:472: UserWarning: alpha too small will result in numeric errors, setting alpha = 1.0e-10\n",
      "  'setting alpha = %.1e' % _ALPHA_MIN)\n",
      "/Library/Frameworks/Python.framework/Versions/3.6/lib/python3.6/site-packages/sklearn/naive_bayes.py:472: UserWarning: alpha too small will result in numeric errors, setting alpha = 1.0e-10\n",
      "  'setting alpha = %.1e' % _ALPHA_MIN)\n",
      "/Library/Frameworks/Python.framework/Versions/3.6/lib/python3.6/site-packages/sklearn/naive_bayes.py:472: UserWarning: alpha too small will result in numeric errors, setting alpha = 1.0e-10\n",
      "  'setting alpha = %.1e' % _ALPHA_MIN)\n",
      "/Library/Frameworks/Python.framework/Versions/3.6/lib/python3.6/site-packages/sklearn/naive_bayes.py:472: UserWarning: alpha too small will result in numeric errors, setting alpha = 1.0e-10\n",
      "  'setting alpha = %.1e' % _ALPHA_MIN)\n",
      "/Library/Frameworks/Python.framework/Versions/3.6/lib/python3.6/site-packages/sklearn/naive_bayes.py:472: UserWarning: alpha too small will result in numeric errors, setting alpha = 1.0e-10\n",
      "  'setting alpha = %.1e' % _ALPHA_MIN)\n",
      "/Library/Frameworks/Python.framework/Versions/3.6/lib/python3.6/site-packages/sklearn/naive_bayes.py:472: UserWarning: alpha too small will result in numeric errors, setting alpha = 1.0e-10\n",
      "  'setting alpha = %.1e' % _ALPHA_MIN)\n",
      "/Library/Frameworks/Python.framework/Versions/3.6/lib/python3.6/site-packages/sklearn/naive_bayes.py:472: UserWarning: alpha too small will result in numeric errors, setting alpha = 1.0e-10\n",
      "  'setting alpha = %.1e' % _ALPHA_MIN)\n",
      "/Library/Frameworks/Python.framework/Versions/3.6/lib/python3.6/site-packages/sklearn/naive_bayes.py:472: UserWarning: alpha too small will result in numeric errors, setting alpha = 1.0e-10\n",
      "  'setting alpha = %.1e' % _ALPHA_MIN)\n",
      "/Library/Frameworks/Python.framework/Versions/3.6/lib/python3.6/site-packages/sklearn/naive_bayes.py:472: UserWarning: alpha too small will result in numeric errors, setting alpha = 1.0e-10\n",
      "  'setting alpha = %.1e' % _ALPHA_MIN)\n",
      "/Library/Frameworks/Python.framework/Versions/3.6/lib/python3.6/site-packages/sklearn/naive_bayes.py:472: UserWarning: alpha too small will result in numeric errors, setting alpha = 1.0e-10\n",
      "  'setting alpha = %.1e' % _ALPHA_MIN)\n",
      "/Library/Frameworks/Python.framework/Versions/3.6/lib/python3.6/site-packages/sklearn/naive_bayes.py:472: UserWarning: alpha too small will result in numeric errors, setting alpha = 1.0e-10\n",
      "  'setting alpha = %.1e' % _ALPHA_MIN)\n",
      "/Library/Frameworks/Python.framework/Versions/3.6/lib/python3.6/site-packages/sklearn/naive_bayes.py:472: UserWarning: alpha too small will result in numeric errors, setting alpha = 1.0e-10\n",
      "  'setting alpha = %.1e' % _ALPHA_MIN)\n",
      "/Library/Frameworks/Python.framework/Versions/3.6/lib/python3.6/site-packages/sklearn/naive_bayes.py:472: UserWarning: alpha too small will result in numeric errors, setting alpha = 1.0e-10\n",
      "  'setting alpha = %.1e' % _ALPHA_MIN)\n",
      "/Library/Frameworks/Python.framework/Versions/3.6/lib/python3.6/site-packages/sklearn/naive_bayes.py:472: UserWarning: alpha too small will result in numeric errors, setting alpha = 1.0e-10\n",
      "  'setting alpha = %.1e' % _ALPHA_MIN)\n",
      "/Library/Frameworks/Python.framework/Versions/3.6/lib/python3.6/site-packages/sklearn/naive_bayes.py:472: UserWarning: alpha too small will result in numeric errors, setting alpha = 1.0e-10\n",
      "  'setting alpha = %.1e' % _ALPHA_MIN)\n",
      "/Library/Frameworks/Python.framework/Versions/3.6/lib/python3.6/site-packages/sklearn/naive_bayes.py:472: UserWarning: alpha too small will result in numeric errors, setting alpha = 1.0e-10\n",
      "  'setting alpha = %.1e' % _ALPHA_MIN)\n",
      "/Library/Frameworks/Python.framework/Versions/3.6/lib/python3.6/site-packages/sklearn/naive_bayes.py:472: UserWarning: alpha too small will result in numeric errors, setting alpha = 1.0e-10\n",
      "  'setting alpha = %.1e' % _ALPHA_MIN)\n",
      "/Library/Frameworks/Python.framework/Versions/3.6/lib/python3.6/site-packages/sklearn/naive_bayes.py:472: UserWarning: alpha too small will result in numeric errors, setting alpha = 1.0e-10\n",
      "  'setting alpha = %.1e' % _ALPHA_MIN)\n",
      "/Library/Frameworks/Python.framework/Versions/3.6/lib/python3.6/site-packages/sklearn/naive_bayes.py:472: UserWarning: alpha too small will result in numeric errors, setting alpha = 1.0e-10\n",
      "  'setting alpha = %.1e' % _ALPHA_MIN)\n",
      "/Library/Frameworks/Python.framework/Versions/3.6/lib/python3.6/site-packages/sklearn/naive_bayes.py:472: UserWarning: alpha too small will result in numeric errors, setting alpha = 1.0e-10\n",
      "  'setting alpha = %.1e' % _ALPHA_MIN)\n",
      "/Library/Frameworks/Python.framework/Versions/3.6/lib/python3.6/site-packages/sklearn/naive_bayes.py:472: UserWarning: alpha too small will result in numeric errors, setting alpha = 1.0e-10\n",
      "  'setting alpha = %.1e' % _ALPHA_MIN)\n",
      "/Library/Frameworks/Python.framework/Versions/3.6/lib/python3.6/site-packages/sklearn/naive_bayes.py:472: UserWarning: alpha too small will result in numeric errors, setting alpha = 1.0e-10\n",
      "  'setting alpha = %.1e' % _ALPHA_MIN)\n",
      "/Library/Frameworks/Python.framework/Versions/3.6/lib/python3.6/site-packages/sklearn/naive_bayes.py:472: UserWarning: alpha too small will result in numeric errors, setting alpha = 1.0e-10\n",
      "  'setting alpha = %.1e' % _ALPHA_MIN)\n",
      "/Library/Frameworks/Python.framework/Versions/3.6/lib/python3.6/site-packages/sklearn/naive_bayes.py:472: UserWarning: alpha too small will result in numeric errors, setting alpha = 1.0e-10\n",
      "  'setting alpha = %.1e' % _ALPHA_MIN)\n",
      "/Library/Frameworks/Python.framework/Versions/3.6/lib/python3.6/site-packages/sklearn/naive_bayes.py:472: UserWarning: alpha too small will result in numeric errors, setting alpha = 1.0e-10\n",
      "  'setting alpha = %.1e' % _ALPHA_MIN)\n",
      "/Library/Frameworks/Python.framework/Versions/3.6/lib/python3.6/site-packages/sklearn/naive_bayes.py:472: UserWarning: alpha too small will result in numeric errors, setting alpha = 1.0e-10\n",
      "  'setting alpha = %.1e' % _ALPHA_MIN)\n",
      "/Library/Frameworks/Python.framework/Versions/3.6/lib/python3.6/site-packages/sklearn/naive_bayes.py:472: UserWarning: alpha too small will result in numeric errors, setting alpha = 1.0e-10\n",
      "  'setting alpha = %.1e' % _ALPHA_MIN)\n",
      "/Library/Frameworks/Python.framework/Versions/3.6/lib/python3.6/site-packages/sklearn/naive_bayes.py:472: UserWarning: alpha too small will result in numeric errors, setting alpha = 1.0e-10\n",
      "  'setting alpha = %.1e' % _ALPHA_MIN)\n",
      "/Library/Frameworks/Python.framework/Versions/3.6/lib/python3.6/site-packages/sklearn/naive_bayes.py:472: UserWarning: alpha too small will result in numeric errors, setting alpha = 1.0e-10\n",
      "  'setting alpha = %.1e' % _ALPHA_MIN)\n",
      "/Library/Frameworks/Python.framework/Versions/3.6/lib/python3.6/site-packages/sklearn/naive_bayes.py:472: UserWarning: alpha too small will result in numeric errors, setting alpha = 1.0e-10\n",
      "  'setting alpha = %.1e' % _ALPHA_MIN)\n",
      "/Library/Frameworks/Python.framework/Versions/3.6/lib/python3.6/site-packages/sklearn/naive_bayes.py:472: UserWarning: alpha too small will result in numeric errors, setting alpha = 1.0e-10\n",
      "  'setting alpha = %.1e' % _ALPHA_MIN)\n",
      "/Library/Frameworks/Python.framework/Versions/3.6/lib/python3.6/site-packages/sklearn/naive_bayes.py:472: UserWarning: alpha too small will result in numeric errors, setting alpha = 1.0e-10\n",
      "  'setting alpha = %.1e' % _ALPHA_MIN)\n",
      "/Library/Frameworks/Python.framework/Versions/3.6/lib/python3.6/site-packages/sklearn/naive_bayes.py:472: UserWarning: alpha too small will result in numeric errors, setting alpha = 1.0e-10\n",
      "  'setting alpha = %.1e' % _ALPHA_MIN)\n",
      "/Library/Frameworks/Python.framework/Versions/3.6/lib/python3.6/site-packages/sklearn/naive_bayes.py:472: UserWarning: alpha too small will result in numeric errors, setting alpha = 1.0e-10\n",
      "  'setting alpha = %.1e' % _ALPHA_MIN)\n",
      "/Library/Frameworks/Python.framework/Versions/3.6/lib/python3.6/site-packages/sklearn/naive_bayes.py:472: UserWarning: alpha too small will result in numeric errors, setting alpha = 1.0e-10\n",
      "  'setting alpha = %.1e' % _ALPHA_MIN)\n",
      "/Library/Frameworks/Python.framework/Versions/3.6/lib/python3.6/site-packages/sklearn/naive_bayes.py:472: UserWarning: alpha too small will result in numeric errors, setting alpha = 1.0e-10\n",
      "  'setting alpha = %.1e' % _ALPHA_MIN)\n",
      "/Library/Frameworks/Python.framework/Versions/3.6/lib/python3.6/site-packages/sklearn/naive_bayes.py:472: UserWarning: alpha too small will result in numeric errors, setting alpha = 1.0e-10\n",
      "  'setting alpha = %.1e' % _ALPHA_MIN)\n",
      "/Library/Frameworks/Python.framework/Versions/3.6/lib/python3.6/site-packages/sklearn/naive_bayes.py:472: UserWarning: alpha too small will result in numeric errors, setting alpha = 1.0e-10\n",
      "  'setting alpha = %.1e' % _ALPHA_MIN)\n",
      "/Library/Frameworks/Python.framework/Versions/3.6/lib/python3.6/site-packages/sklearn/naive_bayes.py:472: UserWarning: alpha too small will result in numeric errors, setting alpha = 1.0e-10\n",
      "  'setting alpha = %.1e' % _ALPHA_MIN)\n",
      "/Library/Frameworks/Python.framework/Versions/3.6/lib/python3.6/site-packages/sklearn/naive_bayes.py:472: UserWarning: alpha too small will result in numeric errors, setting alpha = 1.0e-10\n",
      "  'setting alpha = %.1e' % _ALPHA_MIN)\n",
      "/Library/Frameworks/Python.framework/Versions/3.6/lib/python3.6/site-packages/sklearn/naive_bayes.py:472: UserWarning: alpha too small will result in numeric errors, setting alpha = 1.0e-10\n",
      "  'setting alpha = %.1e' % _ALPHA_MIN)\n",
      "/Library/Frameworks/Python.framework/Versions/3.6/lib/python3.6/site-packages/sklearn/naive_bayes.py:472: UserWarning: alpha too small will result in numeric errors, setting alpha = 1.0e-10\n",
      "  'setting alpha = %.1e' % _ALPHA_MIN)\n",
      "/Library/Frameworks/Python.framework/Versions/3.6/lib/python3.6/site-packages/sklearn/naive_bayes.py:472: UserWarning: alpha too small will result in numeric errors, setting alpha = 1.0e-10\n",
      "  'setting alpha = %.1e' % _ALPHA_MIN)\n",
      "/Library/Frameworks/Python.framework/Versions/3.6/lib/python3.6/site-packages/sklearn/naive_bayes.py:472: UserWarning: alpha too small will result in numeric errors, setting alpha = 1.0e-10\n",
      "  'setting alpha = %.1e' % _ALPHA_MIN)\n",
      "/Library/Frameworks/Python.framework/Versions/3.6/lib/python3.6/site-packages/sklearn/naive_bayes.py:472: UserWarning: alpha too small will result in numeric errors, setting alpha = 1.0e-10\n",
      "  'setting alpha = %.1e' % _ALPHA_MIN)\n",
      "/Library/Frameworks/Python.framework/Versions/3.6/lib/python3.6/site-packages/sklearn/naive_bayes.py:472: UserWarning: alpha too small will result in numeric errors, setting alpha = 1.0e-10\n",
      "  'setting alpha = %.1e' % _ALPHA_MIN)\n",
      "/Library/Frameworks/Python.framework/Versions/3.6/lib/python3.6/site-packages/sklearn/naive_bayes.py:472: UserWarning: alpha too small will result in numeric errors, setting alpha = 1.0e-10\n",
      "  'setting alpha = %.1e' % _ALPHA_MIN)\n",
      "/Library/Frameworks/Python.framework/Versions/3.6/lib/python3.6/site-packages/sklearn/naive_bayes.py:472: UserWarning: alpha too small will result in numeric errors, setting alpha = 1.0e-10\n",
      "  'setting alpha = %.1e' % _ALPHA_MIN)\n",
      "/Library/Frameworks/Python.framework/Versions/3.6/lib/python3.6/site-packages/sklearn/naive_bayes.py:472: UserWarning: alpha too small will result in numeric errors, setting alpha = 1.0e-10\n",
      "  'setting alpha = %.1e' % _ALPHA_MIN)\n",
      "/Library/Frameworks/Python.framework/Versions/3.6/lib/python3.6/site-packages/sklearn/naive_bayes.py:472: UserWarning: alpha too small will result in numeric errors, setting alpha = 1.0e-10\n",
      "  'setting alpha = %.1e' % _ALPHA_MIN)\n",
      "/Library/Frameworks/Python.framework/Versions/3.6/lib/python3.6/site-packages/sklearn/naive_bayes.py:472: UserWarning: alpha too small will result in numeric errors, setting alpha = 1.0e-10\n",
      "  'setting alpha = %.1e' % _ALPHA_MIN)\n",
      "/Library/Frameworks/Python.framework/Versions/3.6/lib/python3.6/site-packages/sklearn/naive_bayes.py:472: UserWarning: alpha too small will result in numeric errors, setting alpha = 1.0e-10\n",
      "  'setting alpha = %.1e' % _ALPHA_MIN)\n",
      "/Library/Frameworks/Python.framework/Versions/3.6/lib/python3.6/site-packages/sklearn/naive_bayes.py:472: UserWarning: alpha too small will result in numeric errors, setting alpha = 1.0e-10\n",
      "  'setting alpha = %.1e' % _ALPHA_MIN)\n",
      "/Library/Frameworks/Python.framework/Versions/3.6/lib/python3.6/site-packages/sklearn/naive_bayes.py:472: UserWarning: alpha too small will result in numeric errors, setting alpha = 1.0e-10\n",
      "  'setting alpha = %.1e' % _ALPHA_MIN)\n",
      "/Library/Frameworks/Python.framework/Versions/3.6/lib/python3.6/site-packages/sklearn/naive_bayes.py:472: UserWarning: alpha too small will result in numeric errors, setting alpha = 1.0e-10\n",
      "  'setting alpha = %.1e' % _ALPHA_MIN)\n",
      "/Library/Frameworks/Python.framework/Versions/3.6/lib/python3.6/site-packages/sklearn/naive_bayes.py:472: UserWarning: alpha too small will result in numeric errors, setting alpha = 1.0e-10\n",
      "  'setting alpha = %.1e' % _ALPHA_MIN)\n",
      "/Library/Frameworks/Python.framework/Versions/3.6/lib/python3.6/site-packages/sklearn/naive_bayes.py:472: UserWarning: alpha too small will result in numeric errors, setting alpha = 1.0e-10\n",
      "  'setting alpha = %.1e' % _ALPHA_MIN)\n",
      "/Library/Frameworks/Python.framework/Versions/3.6/lib/python3.6/site-packages/sklearn/naive_bayes.py:472: UserWarning: alpha too small will result in numeric errors, setting alpha = 1.0e-10\n",
      "  'setting alpha = %.1e' % _ALPHA_MIN)\n",
      "/Library/Frameworks/Python.framework/Versions/3.6/lib/python3.6/site-packages/sklearn/naive_bayes.py:472: UserWarning: alpha too small will result in numeric errors, setting alpha = 1.0e-10\n",
      "  'setting alpha = %.1e' % _ALPHA_MIN)\n",
      "/Library/Frameworks/Python.framework/Versions/3.6/lib/python3.6/site-packages/sklearn/naive_bayes.py:472: UserWarning: alpha too small will result in numeric errors, setting alpha = 1.0e-10\n",
      "  'setting alpha = %.1e' % _ALPHA_MIN)\n",
      "/Library/Frameworks/Python.framework/Versions/3.6/lib/python3.6/site-packages/sklearn/naive_bayes.py:472: UserWarning: alpha too small will result in numeric errors, setting alpha = 1.0e-10\n",
      "  'setting alpha = %.1e' % _ALPHA_MIN)\n",
      "/Library/Frameworks/Python.framework/Versions/3.6/lib/python3.6/site-packages/sklearn/naive_bayes.py:472: UserWarning: alpha too small will result in numeric errors, setting alpha = 1.0e-10\n",
      "  'setting alpha = %.1e' % _ALPHA_MIN)\n",
      "/Library/Frameworks/Python.framework/Versions/3.6/lib/python3.6/site-packages/sklearn/naive_bayes.py:472: UserWarning: alpha too small will result in numeric errors, setting alpha = 1.0e-10\n",
      "  'setting alpha = %.1e' % _ALPHA_MIN)\n",
      "/Library/Frameworks/Python.framework/Versions/3.6/lib/python3.6/site-packages/sklearn/naive_bayes.py:472: UserWarning: alpha too small will result in numeric errors, setting alpha = 1.0e-10\n",
      "  'setting alpha = %.1e' % _ALPHA_MIN)\n",
      "/Library/Frameworks/Python.framework/Versions/3.6/lib/python3.6/site-packages/sklearn/naive_bayes.py:472: UserWarning: alpha too small will result in numeric errors, setting alpha = 1.0e-10\n",
      "  'setting alpha = %.1e' % _ALPHA_MIN)\n",
      "/Library/Frameworks/Python.framework/Versions/3.6/lib/python3.6/site-packages/sklearn/naive_bayes.py:472: UserWarning: alpha too small will result in numeric errors, setting alpha = 1.0e-10\n",
      "  'setting alpha = %.1e' % _ALPHA_MIN)\n",
      "/Library/Frameworks/Python.framework/Versions/3.6/lib/python3.6/site-packages/sklearn/naive_bayes.py:472: UserWarning: alpha too small will result in numeric errors, setting alpha = 1.0e-10\n",
      "  'setting alpha = %.1e' % _ALPHA_MIN)\n",
      "/Library/Frameworks/Python.framework/Versions/3.6/lib/python3.6/site-packages/sklearn/naive_bayes.py:472: UserWarning: alpha too small will result in numeric errors, setting alpha = 1.0e-10\n",
      "  'setting alpha = %.1e' % _ALPHA_MIN)\n",
      "/Library/Frameworks/Python.framework/Versions/3.6/lib/python3.6/site-packages/sklearn/naive_bayes.py:472: UserWarning: alpha too small will result in numeric errors, setting alpha = 1.0e-10\n",
      "  'setting alpha = %.1e' % _ALPHA_MIN)\n",
      "/Library/Frameworks/Python.framework/Versions/3.6/lib/python3.6/site-packages/sklearn/naive_bayes.py:472: UserWarning: alpha too small will result in numeric errors, setting alpha = 1.0e-10\n",
      "  'setting alpha = %.1e' % _ALPHA_MIN)\n",
      "/Library/Frameworks/Python.framework/Versions/3.6/lib/python3.6/site-packages/sklearn/naive_bayes.py:472: UserWarning: alpha too small will result in numeric errors, setting alpha = 1.0e-10\n",
      "  'setting alpha = %.1e' % _ALPHA_MIN)\n",
      "/Library/Frameworks/Python.framework/Versions/3.6/lib/python3.6/site-packages/sklearn/naive_bayes.py:472: UserWarning: alpha too small will result in numeric errors, setting alpha = 1.0e-10\n",
      "  'setting alpha = %.1e' % _ALPHA_MIN)\n",
      "/Library/Frameworks/Python.framework/Versions/3.6/lib/python3.6/site-packages/sklearn/naive_bayes.py:472: UserWarning: alpha too small will result in numeric errors, setting alpha = 1.0e-10\n",
      "  'setting alpha = %.1e' % _ALPHA_MIN)\n",
      "/Library/Frameworks/Python.framework/Versions/3.6/lib/python3.6/site-packages/sklearn/naive_bayes.py:472: UserWarning: alpha too small will result in numeric errors, setting alpha = 1.0e-10\n",
      "  'setting alpha = %.1e' % _ALPHA_MIN)\n",
      "/Library/Frameworks/Python.framework/Versions/3.6/lib/python3.6/site-packages/sklearn/naive_bayes.py:472: UserWarning: alpha too small will result in numeric errors, setting alpha = 1.0e-10\n",
      "  'setting alpha = %.1e' % _ALPHA_MIN)\n",
      "/Library/Frameworks/Python.framework/Versions/3.6/lib/python3.6/site-packages/sklearn/naive_bayes.py:472: UserWarning: alpha too small will result in numeric errors, setting alpha = 1.0e-10\n",
      "  'setting alpha = %.1e' % _ALPHA_MIN)\n",
      "/Library/Frameworks/Python.framework/Versions/3.6/lib/python3.6/site-packages/sklearn/naive_bayes.py:472: UserWarning: alpha too small will result in numeric errors, setting alpha = 1.0e-10\n",
      "  'setting alpha = %.1e' % _ALPHA_MIN)\n",
      "/Library/Frameworks/Python.framework/Versions/3.6/lib/python3.6/site-packages/sklearn/naive_bayes.py:472: UserWarning: alpha too small will result in numeric errors, setting alpha = 1.0e-10\n",
      "  'setting alpha = %.1e' % _ALPHA_MIN)\n",
      "/Library/Frameworks/Python.framework/Versions/3.6/lib/python3.6/site-packages/sklearn/naive_bayes.py:472: UserWarning: alpha too small will result in numeric errors, setting alpha = 1.0e-10\n",
      "  'setting alpha = %.1e' % _ALPHA_MIN)\n",
      "/Library/Frameworks/Python.framework/Versions/3.6/lib/python3.6/site-packages/sklearn/naive_bayes.py:472: UserWarning: alpha too small will result in numeric errors, setting alpha = 1.0e-10\n",
      "  'setting alpha = %.1e' % _ALPHA_MIN)\n",
      "/Library/Frameworks/Python.framework/Versions/3.6/lib/python3.6/site-packages/sklearn/naive_bayes.py:472: UserWarning: alpha too small will result in numeric errors, setting alpha = 1.0e-10\n",
      "  'setting alpha = %.1e' % _ALPHA_MIN)\n",
      "/Library/Frameworks/Python.framework/Versions/3.6/lib/python3.6/site-packages/sklearn/naive_bayes.py:472: UserWarning: alpha too small will result in numeric errors, setting alpha = 1.0e-10\n",
      "  'setting alpha = %.1e' % _ALPHA_MIN)\n",
      "/Library/Frameworks/Python.framework/Versions/3.6/lib/python3.6/site-packages/sklearn/naive_bayes.py:472: UserWarning: alpha too small will result in numeric errors, setting alpha = 1.0e-10\n",
      "  'setting alpha = %.1e' % _ALPHA_MIN)\n",
      "/Library/Frameworks/Python.framework/Versions/3.6/lib/python3.6/site-packages/sklearn/naive_bayes.py:472: UserWarning: alpha too small will result in numeric errors, setting alpha = 1.0e-10\n",
      "  'setting alpha = %.1e' % _ALPHA_MIN)\n",
      "/Library/Frameworks/Python.framework/Versions/3.6/lib/python3.6/site-packages/sklearn/naive_bayes.py:472: UserWarning: alpha too small will result in numeric errors, setting alpha = 1.0e-10\n",
      "  'setting alpha = %.1e' % _ALPHA_MIN)\n",
      "/Library/Frameworks/Python.framework/Versions/3.6/lib/python3.6/site-packages/sklearn/naive_bayes.py:472: UserWarning: alpha too small will result in numeric errors, setting alpha = 1.0e-10\n",
      "  'setting alpha = %.1e' % _ALPHA_MIN)\n",
      "/Library/Frameworks/Python.framework/Versions/3.6/lib/python3.6/site-packages/sklearn/naive_bayes.py:472: UserWarning: alpha too small will result in numeric errors, setting alpha = 1.0e-10\n",
      "  'setting alpha = %.1e' % _ALPHA_MIN)\n",
      "/Library/Frameworks/Python.framework/Versions/3.6/lib/python3.6/site-packages/sklearn/naive_bayes.py:472: UserWarning: alpha too small will result in numeric errors, setting alpha = 1.0e-10\n",
      "  'setting alpha = %.1e' % _ALPHA_MIN)\n",
      "/Library/Frameworks/Python.framework/Versions/3.6/lib/python3.6/site-packages/sklearn/naive_bayes.py:472: UserWarning: alpha too small will result in numeric errors, setting alpha = 1.0e-10\n",
      "  'setting alpha = %.1e' % _ALPHA_MIN)\n",
      "/Library/Frameworks/Python.framework/Versions/3.6/lib/python3.6/site-packages/sklearn/naive_bayes.py:472: UserWarning: alpha too small will result in numeric errors, setting alpha = 1.0e-10\n",
      "  'setting alpha = %.1e' % _ALPHA_MIN)\n"
     ]
    },
    {
     "name": "stdout",
     "output_type": "stream",
     "text": [
      "0 params - {'clf__alpha': 0, 'clf__fit_prior': True, 'vect__max_df': 0.98, 'vect__min_df': 2, 'vect__ngram_range': (1, 1)}; mean - 0.70; std - 0.03\n",
      "1 params - {'clf__alpha': 0, 'clf__fit_prior': True, 'vect__max_df': 0.98, 'vect__min_df': 2, 'vect__ngram_range': (1, 2)}; mean - 0.76; std - 0.00\n",
      "2 params - {'clf__alpha': 0, 'clf__fit_prior': True, 'vect__max_df': 0.98, 'vect__min_df': 3, 'vect__ngram_range': (1, 1)}; mean - 0.70; std - 0.02\n",
      "3 params - {'clf__alpha': 0, 'clf__fit_prior': True, 'vect__max_df': 0.98, 'vect__min_df': 3, 'vect__ngram_range': (1, 2)}; mean - 0.75; std - 0.02\n",
      "4 params - {'clf__alpha': 0, 'clf__fit_prior': True, 'vect__max_df': 0.98, 'vect__min_df': 4, 'vect__ngram_range': (1, 1)}; mean - 0.72; std - 0.03\n",
      "5 params - {'clf__alpha': 0, 'clf__fit_prior': True, 'vect__max_df': 0.98, 'vect__min_df': 4, 'vect__ngram_range': (1, 2)}; mean - 0.76; std - 0.02\n",
      "6 params - {'clf__alpha': 0, 'clf__fit_prior': True, 'vect__max_df': 0.95, 'vect__min_df': 2, 'vect__ngram_range': (1, 1)}; mean - 0.70; std - 0.03\n",
      "7 params - {'clf__alpha': 0, 'clf__fit_prior': True, 'vect__max_df': 0.95, 'vect__min_df': 2, 'vect__ngram_range': (1, 2)}; mean - 0.76; std - 0.00\n",
      "8 params - {'clf__alpha': 0, 'clf__fit_prior': True, 'vect__max_df': 0.95, 'vect__min_df': 3, 'vect__ngram_range': (1, 1)}; mean - 0.70; std - 0.02\n",
      "9 params - {'clf__alpha': 0, 'clf__fit_prior': True, 'vect__max_df': 0.95, 'vect__min_df': 3, 'vect__ngram_range': (1, 2)}; mean - 0.75; std - 0.02\n",
      "10 params - {'clf__alpha': 0, 'clf__fit_prior': True, 'vect__max_df': 0.95, 'vect__min_df': 4, 'vect__ngram_range': (1, 1)}; mean - 0.72; std - 0.03\n",
      "11 params - {'clf__alpha': 0, 'clf__fit_prior': True, 'vect__max_df': 0.95, 'vect__min_df': 4, 'vect__ngram_range': (1, 2)}; mean - 0.76; std - 0.02\n",
      "12 params - {'clf__alpha': 0, 'clf__fit_prior': True, 'vect__max_df': 0.9, 'vect__min_df': 2, 'vect__ngram_range': (1, 1)}; mean - 0.70; std - 0.03\n",
      "13 params - {'clf__alpha': 0, 'clf__fit_prior': True, 'vect__max_df': 0.9, 'vect__min_df': 2, 'vect__ngram_range': (1, 2)}; mean - 0.76; std - 0.00\n",
      "14 params - {'clf__alpha': 0, 'clf__fit_prior': True, 'vect__max_df': 0.9, 'vect__min_df': 3, 'vect__ngram_range': (1, 1)}; mean - 0.70; std - 0.02\n",
      "15 params - {'clf__alpha': 0, 'clf__fit_prior': True, 'vect__max_df': 0.9, 'vect__min_df': 3, 'vect__ngram_range': (1, 2)}; mean - 0.75; std - 0.02\n",
      "16 params - {'clf__alpha': 0, 'clf__fit_prior': True, 'vect__max_df': 0.9, 'vect__min_df': 4, 'vect__ngram_range': (1, 1)}; mean - 0.72; std - 0.03\n",
      "17 params - {'clf__alpha': 0, 'clf__fit_prior': True, 'vect__max_df': 0.9, 'vect__min_df': 4, 'vect__ngram_range': (1, 2)}; mean - 0.76; std - 0.02\n",
      "18 params - {'clf__alpha': 0, 'clf__fit_prior': False, 'vect__max_df': 0.98, 'vect__min_df': 2, 'vect__ngram_range': (1, 1)}; mean - 0.70; std - 0.03\n",
      "19 params - {'clf__alpha': 0, 'clf__fit_prior': False, 'vect__max_df': 0.98, 'vect__min_df': 2, 'vect__ngram_range': (1, 2)}; mean - 0.76; std - 0.00\n",
      "20 params - {'clf__alpha': 0, 'clf__fit_prior': False, 'vect__max_df': 0.98, 'vect__min_df': 3, 'vect__ngram_range': (1, 1)}; mean - 0.70; std - 0.02\n",
      "21 params - {'clf__alpha': 0, 'clf__fit_prior': False, 'vect__max_df': 0.98, 'vect__min_df': 3, 'vect__ngram_range': (1, 2)}; mean - 0.75; std - 0.02\n",
      "22 params - {'clf__alpha': 0, 'clf__fit_prior': False, 'vect__max_df': 0.98, 'vect__min_df': 4, 'vect__ngram_range': (1, 1)}; mean - 0.72; std - 0.03\n",
      "23 params - {'clf__alpha': 0, 'clf__fit_prior': False, 'vect__max_df': 0.98, 'vect__min_df': 4, 'vect__ngram_range': (1, 2)}; mean - 0.76; std - 0.02\n",
      "24 params - {'clf__alpha': 0, 'clf__fit_prior': False, 'vect__max_df': 0.95, 'vect__min_df': 2, 'vect__ngram_range': (1, 1)}; mean - 0.70; std - 0.03\n",
      "25 params - {'clf__alpha': 0, 'clf__fit_prior': False, 'vect__max_df': 0.95, 'vect__min_df': 2, 'vect__ngram_range': (1, 2)}; mean - 0.76; std - 0.00\n",
      "26 params - {'clf__alpha': 0, 'clf__fit_prior': False, 'vect__max_df': 0.95, 'vect__min_df': 3, 'vect__ngram_range': (1, 1)}; mean - 0.70; std - 0.02\n",
      "27 params - {'clf__alpha': 0, 'clf__fit_prior': False, 'vect__max_df': 0.95, 'vect__min_df': 3, 'vect__ngram_range': (1, 2)}; mean - 0.75; std - 0.02\n",
      "28 params - {'clf__alpha': 0, 'clf__fit_prior': False, 'vect__max_df': 0.95, 'vect__min_df': 4, 'vect__ngram_range': (1, 1)}; mean - 0.72; std - 0.03\n",
      "29 params - {'clf__alpha': 0, 'clf__fit_prior': False, 'vect__max_df': 0.95, 'vect__min_df': 4, 'vect__ngram_range': (1, 2)}; mean - 0.76; std - 0.02\n",
      "30 params - {'clf__alpha': 0, 'clf__fit_prior': False, 'vect__max_df': 0.9, 'vect__min_df': 2, 'vect__ngram_range': (1, 1)}; mean - 0.70; std - 0.03\n",
      "31 params - {'clf__alpha': 0, 'clf__fit_prior': False, 'vect__max_df': 0.9, 'vect__min_df': 2, 'vect__ngram_range': (1, 2)}; mean - 0.76; std - 0.00\n",
      "32 params - {'clf__alpha': 0, 'clf__fit_prior': False, 'vect__max_df': 0.9, 'vect__min_df': 3, 'vect__ngram_range': (1, 1)}; mean - 0.70; std - 0.02\n",
      "33 params - {'clf__alpha': 0, 'clf__fit_prior': False, 'vect__max_df': 0.9, 'vect__min_df': 3, 'vect__ngram_range': (1, 2)}; mean - 0.75; std - 0.02\n",
      "34 params - {'clf__alpha': 0, 'clf__fit_prior': False, 'vect__max_df': 0.9, 'vect__min_df': 4, 'vect__ngram_range': (1, 1)}; mean - 0.72; std - 0.03\n",
      "35 params - {'clf__alpha': 0, 'clf__fit_prior': False, 'vect__max_df': 0.9, 'vect__min_df': 4, 'vect__ngram_range': (1, 2)}; mean - 0.76; std - 0.02\n",
      "36 params - {'clf__alpha': 0.5, 'clf__fit_prior': True, 'vect__max_df': 0.98, 'vect__min_df': 2, 'vect__ngram_range': (1, 1)}; mean - 0.80; std - 0.03\n",
      "37 params - {'clf__alpha': 0.5, 'clf__fit_prior': True, 'vect__max_df': 0.98, 'vect__min_df': 2, 'vect__ngram_range': (1, 2)}; mean - 0.82; std - 0.02\n",
      "38 params - {'clf__alpha': 0.5, 'clf__fit_prior': True, 'vect__max_df': 0.98, 'vect__min_df': 3, 'vect__ngram_range': (1, 1)}; mean - 0.80; std - 0.03\n",
      "39 params - {'clf__alpha': 0.5, 'clf__fit_prior': True, 'vect__max_df': 0.98, 'vect__min_df': 3, 'vect__ngram_range': (1, 2)}; mean - 0.82; std - 0.02\n",
      "40 params - {'clf__alpha': 0.5, 'clf__fit_prior': True, 'vect__max_df': 0.98, 'vect__min_df': 4, 'vect__ngram_range': (1, 1)}; mean - 0.80; std - 0.02\n",
      "41 params - {'clf__alpha': 0.5, 'clf__fit_prior': True, 'vect__max_df': 0.98, 'vect__min_df': 4, 'vect__ngram_range': (1, 2)}; mean - 0.82; std - 0.02\n",
      "42 params - {'clf__alpha': 0.5, 'clf__fit_prior': True, 'vect__max_df': 0.95, 'vect__min_df': 2, 'vect__ngram_range': (1, 1)}; mean - 0.80; std - 0.03\n",
      "43 params - {'clf__alpha': 0.5, 'clf__fit_prior': True, 'vect__max_df': 0.95, 'vect__min_df': 2, 'vect__ngram_range': (1, 2)}; mean - 0.82; std - 0.02\n",
      "44 params - {'clf__alpha': 0.5, 'clf__fit_prior': True, 'vect__max_df': 0.95, 'vect__min_df': 3, 'vect__ngram_range': (1, 1)}; mean - 0.80; std - 0.03\n",
      "45 params - {'clf__alpha': 0.5, 'clf__fit_prior': True, 'vect__max_df': 0.95, 'vect__min_df': 3, 'vect__ngram_range': (1, 2)}; mean - 0.82; std - 0.02\n",
      "46 params - {'clf__alpha': 0.5, 'clf__fit_prior': True, 'vect__max_df': 0.95, 'vect__min_df': 4, 'vect__ngram_range': (1, 1)}; mean - 0.80; std - 0.02\n",
      "47 params - {'clf__alpha': 0.5, 'clf__fit_prior': True, 'vect__max_df': 0.95, 'vect__min_df': 4, 'vect__ngram_range': (1, 2)}; mean - 0.82; std - 0.02\n",
      "48 params - {'clf__alpha': 0.5, 'clf__fit_prior': True, 'vect__max_df': 0.9, 'vect__min_df': 2, 'vect__ngram_range': (1, 1)}; mean - 0.80; std - 0.03\n",
      "49 params - {'clf__alpha': 0.5, 'clf__fit_prior': True, 'vect__max_df': 0.9, 'vect__min_df': 2, 'vect__ngram_range': (1, 2)}; mean - 0.82; std - 0.02\n",
      "50 params - {'clf__alpha': 0.5, 'clf__fit_prior': True, 'vect__max_df': 0.9, 'vect__min_df': 3, 'vect__ngram_range': (1, 1)}; mean - 0.80; std - 0.03\n",
      "51 params - {'clf__alpha': 0.5, 'clf__fit_prior': True, 'vect__max_df': 0.9, 'vect__min_df': 3, 'vect__ngram_range': (1, 2)}; mean - 0.82; std - 0.02\n",
      "52 params - {'clf__alpha': 0.5, 'clf__fit_prior': True, 'vect__max_df': 0.9, 'vect__min_df': 4, 'vect__ngram_range': (1, 1)}; mean - 0.80; std - 0.02\n",
      "53 params - {'clf__alpha': 0.5, 'clf__fit_prior': True, 'vect__max_df': 0.9, 'vect__min_df': 4, 'vect__ngram_range': (1, 2)}; mean - 0.82; std - 0.02\n",
      "54 params - {'clf__alpha': 0.5, 'clf__fit_prior': False, 'vect__max_df': 0.98, 'vect__min_df': 2, 'vect__ngram_range': (1, 1)}; mean - 0.80; std - 0.03\n",
      "55 params - {'clf__alpha': 0.5, 'clf__fit_prior': False, 'vect__max_df': 0.98, 'vect__min_df': 2, 'vect__ngram_range': (1, 2)}; mean - 0.82; std - 0.02\n",
      "56 params - {'clf__alpha': 0.5, 'clf__fit_prior': False, 'vect__max_df': 0.98, 'vect__min_df': 3, 'vect__ngram_range': (1, 1)}; mean - 0.80; std - 0.02\n",
      "57 params - {'clf__alpha': 0.5, 'clf__fit_prior': False, 'vect__max_df': 0.98, 'vect__min_df': 3, 'vect__ngram_range': (1, 2)}; mean - 0.82; std - 0.02\n",
      "58 params - {'clf__alpha': 0.5, 'clf__fit_prior': False, 'vect__max_df': 0.98, 'vect__min_df': 4, 'vect__ngram_range': (1, 1)}; mean - 0.80; std - 0.03\n",
      "59 params - {'clf__alpha': 0.5, 'clf__fit_prior': False, 'vect__max_df': 0.98, 'vect__min_df': 4, 'vect__ngram_range': (1, 2)}; mean - 0.82; std - 0.02\n",
      "60 params - {'clf__alpha': 0.5, 'clf__fit_prior': False, 'vect__max_df': 0.95, 'vect__min_df': 2, 'vect__ngram_range': (1, 1)}; mean - 0.80; std - 0.03\n",
      "61 params - {'clf__alpha': 0.5, 'clf__fit_prior': False, 'vect__max_df': 0.95, 'vect__min_df': 2, 'vect__ngram_range': (1, 2)}; mean - 0.82; std - 0.02\n",
      "62 params - {'clf__alpha': 0.5, 'clf__fit_prior': False, 'vect__max_df': 0.95, 'vect__min_df': 3, 'vect__ngram_range': (1, 1)}; mean - 0.80; std - 0.02\n",
      "63 params - {'clf__alpha': 0.5, 'clf__fit_prior': False, 'vect__max_df': 0.95, 'vect__min_df': 3, 'vect__ngram_range': (1, 2)}; mean - 0.82; std - 0.02\n",
      "64 params - {'clf__alpha': 0.5, 'clf__fit_prior': False, 'vect__max_df': 0.95, 'vect__min_df': 4, 'vect__ngram_range': (1, 1)}; mean - 0.80; std - 0.03\n",
      "65 params - {'clf__alpha': 0.5, 'clf__fit_prior': False, 'vect__max_df': 0.95, 'vect__min_df': 4, 'vect__ngram_range': (1, 2)}; mean - 0.82; std - 0.02\n",
      "66 params - {'clf__alpha': 0.5, 'clf__fit_prior': False, 'vect__max_df': 0.9, 'vect__min_df': 2, 'vect__ngram_range': (1, 1)}; mean - 0.80; std - 0.03\n",
      "67 params - {'clf__alpha': 0.5, 'clf__fit_prior': False, 'vect__max_df': 0.9, 'vect__min_df': 2, 'vect__ngram_range': (1, 2)}; mean - 0.82; std - 0.02\n",
      "68 params - {'clf__alpha': 0.5, 'clf__fit_prior': False, 'vect__max_df': 0.9, 'vect__min_df': 3, 'vect__ngram_range': (1, 1)}; mean - 0.80; std - 0.02\n",
      "69 params - {'clf__alpha': 0.5, 'clf__fit_prior': False, 'vect__max_df': 0.9, 'vect__min_df': 3, 'vect__ngram_range': (1, 2)}; mean - 0.82; std - 0.02\n",
      "70 params - {'clf__alpha': 0.5, 'clf__fit_prior': False, 'vect__max_df': 0.9, 'vect__min_df': 4, 'vect__ngram_range': (1, 1)}; mean - 0.80; std - 0.02\n",
      "71 params - {'clf__alpha': 0.5, 'clf__fit_prior': False, 'vect__max_df': 0.9, 'vect__min_df': 4, 'vect__ngram_range': (1, 2)}; mean - 0.82; std - 0.02\n",
      "72 params - {'clf__alpha': 1, 'clf__fit_prior': True, 'vect__max_df': 0.98, 'vect__min_df': 2, 'vect__ngram_range': (1, 1)}; mean - 0.80; std - 0.02\n",
      "73 params - {'clf__alpha': 1, 'clf__fit_prior': True, 'vect__max_df': 0.98, 'vect__min_df': 2, 'vect__ngram_range': (1, 2)}; mean - 0.82; std - 0.01\n",
      "74 params - {'clf__alpha': 1, 'clf__fit_prior': True, 'vect__max_df': 0.98, 'vect__min_df': 3, 'vect__ngram_range': (1, 1)}; mean - 0.80; std - 0.02\n",
      "75 params - {'clf__alpha': 1, 'clf__fit_prior': True, 'vect__max_df': 0.98, 'vect__min_df': 3, 'vect__ngram_range': (1, 2)}; mean - 0.82; std - 0.02\n",
      "76 params - {'clf__alpha': 1, 'clf__fit_prior': True, 'vect__max_df': 0.98, 'vect__min_df': 4, 'vect__ngram_range': (1, 1)}; mean - 0.80; std - 0.02\n",
      "77 params - {'clf__alpha': 1, 'clf__fit_prior': True, 'vect__max_df': 0.98, 'vect__min_df': 4, 'vect__ngram_range': (1, 2)}; mean - 0.81; std - 0.02\n",
      "78 params - {'clf__alpha': 1, 'clf__fit_prior': True, 'vect__max_df': 0.95, 'vect__min_df': 2, 'vect__ngram_range': (1, 1)}; mean - 0.80; std - 0.02\n",
      "79 params - {'clf__alpha': 1, 'clf__fit_prior': True, 'vect__max_df': 0.95, 'vect__min_df': 2, 'vect__ngram_range': (1, 2)}; mean - 0.82; std - 0.01\n",
      "80 params - {'clf__alpha': 1, 'clf__fit_prior': True, 'vect__max_df': 0.95, 'vect__min_df': 3, 'vect__ngram_range': (1, 1)}; mean - 0.80; std - 0.02\n",
      "81 params - {'clf__alpha': 1, 'clf__fit_prior': True, 'vect__max_df': 0.95, 'vect__min_df': 3, 'vect__ngram_range': (1, 2)}; mean - 0.82; std - 0.02\n",
      "82 params - {'clf__alpha': 1, 'clf__fit_prior': True, 'vect__max_df': 0.95, 'vect__min_df': 4, 'vect__ngram_range': (1, 1)}; mean - 0.80; std - 0.02\n",
      "83 params - {'clf__alpha': 1, 'clf__fit_prior': True, 'vect__max_df': 0.95, 'vect__min_df': 4, 'vect__ngram_range': (1, 2)}; mean - 0.82; std - 0.02\n",
      "84 params - {'clf__alpha': 1, 'clf__fit_prior': True, 'vect__max_df': 0.9, 'vect__min_df': 2, 'vect__ngram_range': (1, 1)}; mean - 0.80; std - 0.02\n",
      "85 params - {'clf__alpha': 1, 'clf__fit_prior': True, 'vect__max_df': 0.9, 'vect__min_df': 2, 'vect__ngram_range': (1, 2)}; mean - 0.82; std - 0.02\n",
      "86 params - {'clf__alpha': 1, 'clf__fit_prior': True, 'vect__max_df': 0.9, 'vect__min_df': 3, 'vect__ngram_range': (1, 1)}; mean - 0.80; std - 0.02\n",
      "87 params - {'clf__alpha': 1, 'clf__fit_prior': True, 'vect__max_df': 0.9, 'vect__min_df': 3, 'vect__ngram_range': (1, 2)}; mean - 0.82; std - 0.02\n",
      "88 params - {'clf__alpha': 1, 'clf__fit_prior': True, 'vect__max_df': 0.9, 'vect__min_df': 4, 'vect__ngram_range': (1, 1)}; mean - 0.80; std - 0.02\n",
      "89 params - {'clf__alpha': 1, 'clf__fit_prior': True, 'vect__max_df': 0.9, 'vect__min_df': 4, 'vect__ngram_range': (1, 2)}; mean - 0.81; std - 0.02\n",
      "90 params - {'clf__alpha': 1, 'clf__fit_prior': False, 'vect__max_df': 0.98, 'vect__min_df': 2, 'vect__ngram_range': (1, 1)}; mean - 0.80; std - 0.02\n",
      "91 params - {'clf__alpha': 1, 'clf__fit_prior': False, 'vect__max_df': 0.98, 'vect__min_df': 2, 'vect__ngram_range': (1, 2)}; mean - 0.82; std - 0.02\n",
      "92 params - {'clf__alpha': 1, 'clf__fit_prior': False, 'vect__max_df': 0.98, 'vect__min_df': 3, 'vect__ngram_range': (1, 1)}; mean - 0.80; std - 0.02\n",
      "93 params - {'clf__alpha': 1, 'clf__fit_prior': False, 'vect__max_df': 0.98, 'vect__min_df': 3, 'vect__ngram_range': (1, 2)}; mean - 0.81; std - 0.02\n",
      "94 params - {'clf__alpha': 1, 'clf__fit_prior': False, 'vect__max_df': 0.98, 'vect__min_df': 4, 'vect__ngram_range': (1, 1)}; mean - 0.80; std - 0.02\n",
      "95 params - {'clf__alpha': 1, 'clf__fit_prior': False, 'vect__max_df': 0.98, 'vect__min_df': 4, 'vect__ngram_range': (1, 2)}; mean - 0.82; std - 0.02\n",
      "96 params - {'clf__alpha': 1, 'clf__fit_prior': False, 'vect__max_df': 0.95, 'vect__min_df': 2, 'vect__ngram_range': (1, 1)}; mean - 0.80; std - 0.02\n",
      "97 params - {'clf__alpha': 1, 'clf__fit_prior': False, 'vect__max_df': 0.95, 'vect__min_df': 2, 'vect__ngram_range': (1, 2)}; mean - 0.82; std - 0.02\n",
      "98 params - {'clf__alpha': 1, 'clf__fit_prior': False, 'vect__max_df': 0.95, 'vect__min_df': 3, 'vect__ngram_range': (1, 1)}; mean - 0.80; std - 0.02\n",
      "99 params - {'clf__alpha': 1, 'clf__fit_prior': False, 'vect__max_df': 0.95, 'vect__min_df': 3, 'vect__ngram_range': (1, 2)}; mean - 0.81; std - 0.02\n",
      "100 params - {'clf__alpha': 1, 'clf__fit_prior': False, 'vect__max_df': 0.95, 'vect__min_df': 4, 'vect__ngram_range': (1, 1)}; mean - 0.80; std - 0.02\n",
      "101 params - {'clf__alpha': 1, 'clf__fit_prior': False, 'vect__max_df': 0.95, 'vect__min_df': 4, 'vect__ngram_range': (1, 2)}; mean - 0.81; std - 0.02\n",
      "102 params - {'clf__alpha': 1, 'clf__fit_prior': False, 'vect__max_df': 0.9, 'vect__min_df': 2, 'vect__ngram_range': (1, 1)}; mean - 0.80; std - 0.02\n",
      "103 params - {'clf__alpha': 1, 'clf__fit_prior': False, 'vect__max_df': 0.9, 'vect__min_df': 2, 'vect__ngram_range': (1, 2)}; mean - 0.82; std - 0.02\n",
      "104 params - {'clf__alpha': 1, 'clf__fit_prior': False, 'vect__max_df': 0.9, 'vect__min_df': 3, 'vect__ngram_range': (1, 1)}; mean - 0.80; std - 0.02\n",
      "105 params - {'clf__alpha': 1, 'clf__fit_prior': False, 'vect__max_df': 0.9, 'vect__min_df': 3, 'vect__ngram_range': (1, 2)}; mean - 0.81; std - 0.02\n",
      "106 params - {'clf__alpha': 1, 'clf__fit_prior': False, 'vect__max_df': 0.9, 'vect__min_df': 4, 'vect__ngram_range': (1, 1)}; mean - 0.80; std - 0.02\n",
      "107 params - {'clf__alpha': 1, 'clf__fit_prior': False, 'vect__max_df': 0.9, 'vect__min_df': 4, 'vect__ngram_range': (1, 2)}; mean - 0.81; std - 0.02\n",
      "             precision    recall  f1-score   support\n",
      "\n",
      "        neg       0.87      0.83      0.85       254\n",
      "        pos       0.83      0.87      0.85       246\n",
      "\n",
      "avg / total       0.85      0.85      0.85       500\n",
      "\n"
     ]
    }
   ],
   "source": [
    "# BONUS: try multinomial naive bayes\n",
    "#\n",
    "# implements the naive Bayes algorithm for multinomially distributed data, \n",
    "# and is one of the two classic naive Bayes variants used in text \n",
    "# classification (where the data are typically represented as word vector \n",
    "# counts, although tf-idf vectors are also known to work well in practice).\n",
    "#\n",
    "# The multinomial distribution normally requires integer feature counts. \n",
    "# However, in practice, fractional counts such as tf-idf may also work.\n",
    "\n",
    "pipeline = Pipeline([\n",
    "    ('vect', TfidfVectorizer(analyzer='word')),\n",
    "    ('clf', MultinomialNB(class_prior=None)), #use default explicitly\n",
    "])\n",
    "\n",
    "# TASK: Build a grid search to find out whether unigrams or bigrams are\n",
    "# more useful, whether min_df of 2,3 or 4 is more useful, and whether\n",
    "# max_df of 90%, 95% or 98% is more useful.\n",
    "# Fit the pipeline on the training set using grid search for the parameters\n",
    "parameters = {\n",
    "    'vect__ngram_range': [(1, 1), (1, 2)],\n",
    "    'vect__min_df': [2, 3, 4],\n",
    "    'vect__max_df': [0.98, 0.95, 0.90],\n",
    "    'clf__alpha': [0, 0.5, 1],\n",
    "    'clf__fit_prior': [True, False]\n",
    "}\n",
    "grid_search = GridSearchCV(pipeline, parameters, n_jobs=-1) #'n_jobs = -1' means use all the CPU cores\n",
    "grid_search.fit(docs_train, y_train)\n",
    "\n",
    "# TASK: print the mean and std for each grid search candidate along with the parameter\n",
    "# settings for all the candidates explored by grid search.\n",
    "n_candidates = len(grid_search.cv_results_['params'])\n",
    "for i in range(n_candidates):\n",
    "    print(i, 'params - %s; mean - %0.2f; std - %0.2f'\n",
    "             % (grid_search.cv_results_['params'][i],\n",
    "                grid_search.cv_results_['mean_test_score'][i],\n",
    "                grid_search.cv_results_['std_test_score'][i]))\n",
    "    \n",
    "y_predicted = grid_search.predict(docs_test)\n",
    "print(metrics.classification_report(y_test, y_predicted,\n",
    "                                    target_names=dataset.target_names))"
   ]
  },
  {
   "cell_type": "code",
   "execution_count": 21,
   "metadata": {
    "collapsed": false
   },
   "outputs": [
    {
     "data": {
      "text/plain": [
       "0.82133333333333336"
      ]
     },
     "execution_count": 21,
     "metadata": {},
     "output_type": "execute_result"
    }
   ],
   "source": [
    "# find best score from grid search for multinomial naive bayes\n",
    "grid_search.best_score_"
   ]
  },
  {
   "cell_type": "code",
   "execution_count": 22,
   "metadata": {
    "collapsed": false
   },
   "outputs": [
    {
     "data": {
      "text/plain": [
       "{'clf__alpha': 0.5,\n",
       " 'clf__fit_prior': True,\n",
       " 'vect__max_df': 0.98,\n",
       " 'vect__min_df': 3,\n",
       " 'vect__ngram_range': (1, 2)}"
      ]
     },
     "execution_count": 22,
     "metadata": {},
     "output_type": "execute_result"
    }
   ],
   "source": [
    "# find best parameters from grid search for multinomial naive bayes\n",
    "grid_search.best_params_"
   ]
  },
  {
   "cell_type": "code",
   "execution_count": 23,
   "metadata": {
    "collapsed": false
   },
   "outputs": [
    {
     "name": "stdout",
     "output_type": "stream",
     "text": [
      "[[210  44]\n",
      " [ 32 214]]\n"
     ]
    }
   ],
   "source": [
    "cm = metrics.confusion_matrix(y_test, y_predicted)\n",
    "print(cm)"
   ]
  },
  {
   "cell_type": "code",
   "execution_count": 24,
   "metadata": {
    "collapsed": false
   },
   "outputs": [
    {
     "data": {
      "text/plain": [
       "<matplotlib.text.Text at 0x10dd74320>"
      ]
     },
     "execution_count": 24,
     "metadata": {},
     "output_type": "execute_result"
    },
    {
     "data": {
      "image/png": "[encoded data removed]",
      "text/plain": [
       "<matplotlib.figure.Figure at 0x10a6eca20>"
      ]
     },
     "metadata": {},
     "output_type": "display_data"
    }
   ],
   "source": [
    "labels = ['Neg','Pos']\n",
    "fig = plt.figure()\n",
    "ax = fig.add_subplot(111)\n",
    "cax = ax.matshow(cm)\n",
    "plt.title('Confusion matrix of Multinomial Naive Bayes Classifier')\n",
    "fig.colorbar(cax)\n",
    "ax.set_xticklabels([''] + labels)\n",
    "ax.set_yticklabels([''] + labels)\n",
    "plt.xlabel('Predicted')\n",
    "plt.ylabel('Actual')\n"
   ]
  },
  {
   "cell_type": "code",
   "execution_count": 25,
   "metadata": {
    "collapsed": false
   },
   "outputs": [
    {
     "name": "stdout",
     "output_type": "stream",
     "text": [
      "0 params - {'clf__C': 1, 'vect__max_df': 0.98, 'vect__min_df': 2, 'vect__ngram_range': (1, 1)}; mean - 0.50; std - 0.00\n",
      "1 params - {'clf__C': 1, 'vect__max_df': 0.98, 'vect__min_df': 2, 'vect__ngram_range': (1, 2)}; mean - 0.50; std - 0.00\n",
      "2 params - {'clf__C': 1, 'vect__max_df': 0.98, 'vect__min_df': 3, 'vect__ngram_range': (1, 1)}; mean - 0.50; std - 0.00\n",
      "3 params - {'clf__C': 1, 'vect__max_df': 0.98, 'vect__min_df': 3, 'vect__ngram_range': (1, 2)}; mean - 0.50; std - 0.00\n",
      "4 params - {'clf__C': 1, 'vect__max_df': 0.98, 'vect__min_df': 4, 'vect__ngram_range': (1, 1)}; mean - 0.50; std - 0.00\n",
      "5 params - {'clf__C': 1, 'vect__max_df': 0.98, 'vect__min_df': 4, 'vect__ngram_range': (1, 2)}; mean - 0.50; std - 0.00\n",
      "6 params - {'clf__C': 1, 'vect__max_df': 0.95, 'vect__min_df': 2, 'vect__ngram_range': (1, 1)}; mean - 0.50; std - 0.00\n",
      "7 params - {'clf__C': 1, 'vect__max_df': 0.95, 'vect__min_df': 2, 'vect__ngram_range': (1, 2)}; mean - 0.50; std - 0.00\n",
      "8 params - {'clf__C': 1, 'vect__max_df': 0.95, 'vect__min_df': 3, 'vect__ngram_range': (1, 1)}; mean - 0.50; std - 0.00\n",
      "9 params - {'clf__C': 1, 'vect__max_df': 0.95, 'vect__min_df': 3, 'vect__ngram_range': (1, 2)}; mean - 0.50; std - 0.00\n",
      "10 params - {'clf__C': 1, 'vect__max_df': 0.95, 'vect__min_df': 4, 'vect__ngram_range': (1, 1)}; mean - 0.50; std - 0.00\n",
      "11 params - {'clf__C': 1, 'vect__max_df': 0.95, 'vect__min_df': 4, 'vect__ngram_range': (1, 2)}; mean - 0.50; std - 0.00\n",
      "12 params - {'clf__C': 1, 'vect__max_df': 0.9, 'vect__min_df': 2, 'vect__ngram_range': (1, 1)}; mean - 0.50; std - 0.00\n",
      "13 params - {'clf__C': 1, 'vect__max_df': 0.9, 'vect__min_df': 2, 'vect__ngram_range': (1, 2)}; mean - 0.50; std - 0.00\n",
      "14 params - {'clf__C': 1, 'vect__max_df': 0.9, 'vect__min_df': 3, 'vect__ngram_range': (1, 1)}; mean - 0.50; std - 0.00\n",
      "15 params - {'clf__C': 1, 'vect__max_df': 0.9, 'vect__min_df': 3, 'vect__ngram_range': (1, 2)}; mean - 0.50; std - 0.00\n",
      "16 params - {'clf__C': 1, 'vect__max_df': 0.9, 'vect__min_df': 4, 'vect__ngram_range': (1, 1)}; mean - 0.50; std - 0.00\n",
      "17 params - {'clf__C': 1, 'vect__max_df': 0.9, 'vect__min_df': 4, 'vect__ngram_range': (1, 2)}; mean - 0.50; std - 0.00\n",
      "18 params - {'clf__C': 1000, 'vect__max_df': 0.98, 'vect__min_df': 2, 'vect__ngram_range': (1, 1)}; mean - 0.50; std - 0.00\n",
      "19 params - {'clf__C': 1000, 'vect__max_df': 0.98, 'vect__min_df': 2, 'vect__ngram_range': (1, 2)}; mean - 0.50; std - 0.00\n",
      "20 params - {'clf__C': 1000, 'vect__max_df': 0.98, 'vect__min_df': 3, 'vect__ngram_range': (1, 1)}; mean - 0.50; std - 0.00\n",
      "21 params - {'clf__C': 1000, 'vect__max_df': 0.98, 'vect__min_df': 3, 'vect__ngram_range': (1, 2)}; mean - 0.50; std - 0.00\n",
      "22 params - {'clf__C': 1000, 'vect__max_df': 0.98, 'vect__min_df': 4, 'vect__ngram_range': (1, 1)}; mean - 0.50; std - 0.00\n",
      "23 params - {'clf__C': 1000, 'vect__max_df': 0.98, 'vect__min_df': 4, 'vect__ngram_range': (1, 2)}; mean - 0.50; std - 0.00\n",
      "24 params - {'clf__C': 1000, 'vect__max_df': 0.95, 'vect__min_df': 2, 'vect__ngram_range': (1, 1)}; mean - 0.50; std - 0.00\n",
      "25 params - {'clf__C': 1000, 'vect__max_df': 0.95, 'vect__min_df': 2, 'vect__ngram_range': (1, 2)}; mean - 0.50; std - 0.00\n",
      "26 params - {'clf__C': 1000, 'vect__max_df': 0.95, 'vect__min_df': 3, 'vect__ngram_range': (1, 1)}; mean - 0.50; std - 0.00\n",
      "27 params - {'clf__C': 1000, 'vect__max_df': 0.95, 'vect__min_df': 3, 'vect__ngram_range': (1, 2)}; mean - 0.50; std - 0.00\n",
      "28 params - {'clf__C': 1000, 'vect__max_df': 0.95, 'vect__min_df': 4, 'vect__ngram_range': (1, 1)}; mean - 0.50; std - 0.00\n",
      "29 params - {'clf__C': 1000, 'vect__max_df': 0.95, 'vect__min_df': 4, 'vect__ngram_range': (1, 2)}; mean - 0.50; std - 0.00\n",
      "30 params - {'clf__C': 1000, 'vect__max_df': 0.9, 'vect__min_df': 2, 'vect__ngram_range': (1, 1)}; mean - 0.50; std - 0.00\n",
      "31 params - {'clf__C': 1000, 'vect__max_df': 0.9, 'vect__min_df': 2, 'vect__ngram_range': (1, 2)}; mean - 0.50; std - 0.00\n",
      "32 params - {'clf__C': 1000, 'vect__max_df': 0.9, 'vect__min_df': 3, 'vect__ngram_range': (1, 1)}; mean - 0.50; std - 0.00\n",
      "33 params - {'clf__C': 1000, 'vect__max_df': 0.9, 'vect__min_df': 3, 'vect__ngram_range': (1, 2)}; mean - 0.50; std - 0.00\n",
      "34 params - {'clf__C': 1000, 'vect__max_df': 0.9, 'vect__min_df': 4, 'vect__ngram_range': (1, 1)}; mean - 0.50; std - 0.00\n",
      "35 params - {'clf__C': 1000, 'vect__max_df': 0.9, 'vect__min_df': 4, 'vect__ngram_range': (1, 2)}; mean - 0.50; std - 0.00\n",
      "36 params - {'clf__C': 10000, 'vect__max_df': 0.98, 'vect__min_df': 2, 'vect__ngram_range': (1, 1)}; mean - 0.50; std - 0.00\n",
      "37 params - {'clf__C': 10000, 'vect__max_df': 0.98, 'vect__min_df': 2, 'vect__ngram_range': (1, 2)}; mean - 0.50; std - 0.00\n",
      "38 params - {'clf__C': 10000, 'vect__max_df': 0.98, 'vect__min_df': 3, 'vect__ngram_range': (1, 1)}; mean - 0.50; std - 0.00\n",
      "39 params - {'clf__C': 10000, 'vect__max_df': 0.98, 'vect__min_df': 3, 'vect__ngram_range': (1, 2)}; mean - 0.50; std - 0.00\n",
      "40 params - {'clf__C': 10000, 'vect__max_df': 0.98, 'vect__min_df': 4, 'vect__ngram_range': (1, 1)}; mean - 0.50; std - 0.00\n",
      "41 params - {'clf__C': 10000, 'vect__max_df': 0.98, 'vect__min_df': 4, 'vect__ngram_range': (1, 2)}; mean - 0.50; std - 0.00\n",
      "42 params - {'clf__C': 10000, 'vect__max_df': 0.95, 'vect__min_df': 2, 'vect__ngram_range': (1, 1)}; mean - 0.50; std - 0.00\n",
      "43 params - {'clf__C': 10000, 'vect__max_df': 0.95, 'vect__min_df': 2, 'vect__ngram_range': (1, 2)}; mean - 0.50; std - 0.00\n",
      "44 params - {'clf__C': 10000, 'vect__max_df': 0.95, 'vect__min_df': 3, 'vect__ngram_range': (1, 1)}; mean - 0.50; std - 0.00\n",
      "45 params - {'clf__C': 10000, 'vect__max_df': 0.95, 'vect__min_df': 3, 'vect__ngram_range': (1, 2)}; mean - 0.50; std - 0.00\n",
      "46 params - {'clf__C': 10000, 'vect__max_df': 0.95, 'vect__min_df': 4, 'vect__ngram_range': (1, 1)}; mean - 0.50; std - 0.00\n",
      "47 params - {'clf__C': 10000, 'vect__max_df': 0.95, 'vect__min_df': 4, 'vect__ngram_range': (1, 2)}; mean - 0.50; std - 0.00\n",
      "48 params - {'clf__C': 10000, 'vect__max_df': 0.9, 'vect__min_df': 2, 'vect__ngram_range': (1, 1)}; mean - 0.50; std - 0.00\n",
      "49 params - {'clf__C': 10000, 'vect__max_df': 0.9, 'vect__min_df': 2, 'vect__ngram_range': (1, 2)}; mean - 0.50; std - 0.00\n",
      "50 params - {'clf__C': 10000, 'vect__max_df': 0.9, 'vect__min_df': 3, 'vect__ngram_range': (1, 1)}; mean - 0.50; std - 0.00\n",
      "51 params - {'clf__C': 10000, 'vect__max_df': 0.9, 'vect__min_df': 3, 'vect__ngram_range': (1, 2)}; mean - 0.50; std - 0.00\n",
      "52 params - {'clf__C': 10000, 'vect__max_df': 0.9, 'vect__min_df': 4, 'vect__ngram_range': (1, 1)}; mean - 0.50; std - 0.00\n",
      "53 params - {'clf__C': 10000, 'vect__max_df': 0.9, 'vect__min_df': 4, 'vect__ngram_range': (1, 2)}; mean - 0.50; std - 0.00\n",
      "             precision    recall  f1-score   support\n",
      "\n",
      "        neg       0.00      0.00      0.00       254\n",
      "        pos       0.49      1.00      0.66       246\n",
      "\n",
      "avg / total       0.24      0.49      0.32       500\n",
      "\n"
     ]
    },
    {
     "name": "stderr",
     "output_type": "stream",
     "text": [
      "/Library/Frameworks/Python.framework/Versions/3.6/lib/python3.6/site-packages/sklearn/metrics/classification.py:1135: UndefinedMetricWarning: Precision and F-score are ill-defined and being set to 0.0 in labels with no predicted samples.\n",
      "  'precision', 'predicted', average, warn_for)\n"
     ]
    }
   ],
   "source": [
    "# BONUS: try LinearSVC with Polynomial kernel\n",
    "#\n",
    "# Classes are not always linearly separable in feature space. The solution \n",
    "# is to build a decision function that is not linear but may be polynomial\n",
    "# instead. This is done using the kernel trick that can be seen as creating \n",
    "# a decision energy by positioning kernels on observations:\n",
    "from sklearn.svm import SVC\n",
    "pipeline = Pipeline([\n",
    "    ('vect', TfidfVectorizer(analyzer='word')),\n",
    "    ('clf', SVC(kernel='poly')),\n",
    "])\n",
    "\n",
    "# TASK: Build a grid search to find out whether unigrams or bigrams are\n",
    "# more useful, whether min_df of 2,3 or 4 is more useful, and whether\n",
    "# max_df of 90%, 95% or 98% is more useful.\n",
    "# Fit the pipeline on the training set using grid search for the parameters\n",
    "parameters = {\n",
    "    'vect__ngram_range': [(1, 1), (1, 2)],\n",
    "    'vect__min_df': [2, 3, 4],\n",
    "    'vect__max_df': [0.98, 0.95, 0.90],\n",
    "    'clf__C': [1, 1000, 10000],\n",
    "}\n",
    "grid_search = GridSearchCV(pipeline, parameters, n_jobs=-1) #'n_jobs = -1' means use all the CPU cores\n",
    "grid_search.fit(docs_train, y_train)\n",
    "\n",
    "# TASK: print the mean and std for each grid search candidate along with the parameter\n",
    "# settings for all the candidates explored by grid search.\n",
    "n_candidates = len(grid_search.cv_results_['params'])\n",
    "for i in range(n_candidates):\n",
    "    print(i, 'params - %s; mean - %0.2f; std - %0.2f'\n",
    "             % (grid_search.cv_results_['params'][i],\n",
    "                grid_search.cv_results_['mean_test_score'][i],\n",
    "                grid_search.cv_results_['std_test_score'][i]))\n",
    "    \n",
    "y_predicted = grid_search.predict(docs_test)\n",
    "print(metrics.classification_report(y_test, y_predicted,\n",
    "                                    target_names=dataset.target_names))"
   ]
  },
  {
   "cell_type": "code",
   "execution_count": 26,
   "metadata": {
    "collapsed": false
   },
   "outputs": [
    {
     "name": "stdout",
     "output_type": "stream",
     "text": [
      "[0.50266666666666671, 0.50266666666666671, 0.50266666666666671, 0.50266666666666671, 0.50266666666666671, 0.50266666666666671, 0.50266666666666671, 0.50266666666666671, 0.50266666666666671, 0.50266666666666671, 0.50266666666666671, 0.50266666666666671, 0.50266666666666671, 0.50266666666666671, 0.50266666666666671, 0.50266666666666671, 0.50266666666666671, 0.50266666666666671, 0.50266666666666671, 0.50266666666666671, 0.50266666666666671, 0.50266666666666671, 0.50266666666666671, 0.50266666666666671, 0.50266666666666671, 0.50266666666666671, 0.50266666666666671, 0.50266666666666671, 0.50266666666666671, 0.50266666666666671, 0.50266666666666671, 0.50266666666666671, 0.50266666666666671, 0.50266666666666671, 0.50266666666666671, 0.50266666666666671, 0.50266666666666671, 0.50266666666666671, 0.50266666666666671, 0.50266666666666671, 0.50266666666666671, 0.50266666666666671, 0.50266666666666671, 0.50266666666666671, 0.50266666666666671, 0.50266666666666671, 0.50266666666666671, 0.50266666666666671, 0.50266666666666671, 0.50266666666666671, 0.50266666666666671, 0.50266666666666671, 0.50266666666666671, 0.50266666666666671]\n"
     ]
    },
    {
     "name": "stderr",
     "output_type": "stream",
     "text": [
      "/Library/Frameworks/Python.framework/Versions/3.6/lib/python3.6/site-packages/sklearn/model_selection/_search.py:761: DeprecationWarning: The grid_scores_ attribute was deprecated in version 0.18 in favor of the more elaborate cv_results_ attribute. The grid_scores_ attribute will not be available from 0.20\n",
      "  DeprecationWarning)\n"
     ]
    },
    {
     "data": {
      "text/plain": [
       "<matplotlib.text.Text at 0x10eb4ec50>"
      ]
     },
     "execution_count": 26,
     "metadata": {},
     "output_type": "execute_result"
    },
    {
     "data": {
      "image/png": "[encoded data removed]",
      "text/plain": [
       "<matplotlib.figure.Figure at 0x10d8d0668>"
      ]
     },
     "metadata": {},
     "output_type": "display_data"
    }
   ],
   "source": [
    "# graph the results of the parameter combinations for LinearSVC using polynomial kernel\n",
    "grid_mean_scores = [result.mean_validation_score for result in grid_search.grid_scores_]\n",
    "print(grid_mean_scores)\n",
    "para = [i for i in range(1, 55)]\n",
    "plt.plot(para, grid_mean_scores, 'ro')\n",
    "plt.xlabel('Parameter Combo')\n",
    "plt.ylabel('Mean Score from Grid Search')\n",
    "plt.title('LinearSVC w/ polynomial kernel Classifier')"
   ]
  },
  {
   "cell_type": "code",
   "execution_count": 27,
   "metadata": {
    "collapsed": false
   },
   "outputs": [
    {
     "data": {
      "text/plain": [
       "0.50266666666666671"
      ]
     },
     "execution_count": 27,
     "metadata": {},
     "output_type": "execute_result"
    }
   ],
   "source": [
    "# find best score from grid search for LinearSVC using polynomial kernel\n",
    "grid_search.best_score_"
   ]
  },
  {
   "cell_type": "code",
   "execution_count": 28,
   "metadata": {
    "collapsed": false
   },
   "outputs": [
    {
     "data": {
      "text/plain": [
       "{'clf__C': 1,\n",
       " 'vect__max_df': 0.98,\n",
       " 'vect__min_df': 2,\n",
       " 'vect__ngram_range': (1, 1)}"
      ]
     },
     "execution_count": 28,
     "metadata": {},
     "output_type": "execute_result"
    }
   ],
   "source": [
    "# find best parameters from grid search for LinearSVC using polynomial kernel\n",
    "grid_search.best_params_"
   ]
  },
  {
   "cell_type": "code",
   "execution_count": 29,
   "metadata": {
    "collapsed": false
   },
   "outputs": [
    {
     "name": "stdout",
     "output_type": "stream",
     "text": [
      "[[  0 254]\n",
      " [  0 246]]\n"
     ]
    }
   ],
   "source": [
    "cm = metrics.confusion_matrix(y_test, y_predicted)\n",
    "print(cm)"
   ]
  },
  {
   "cell_type": "code",
   "execution_count": 30,
   "metadata": {
    "collapsed": false
   },
   "outputs": [
    {
     "data": {
      "text/plain": [
       "<matplotlib.text.Text at 0x10b957f60>"
      ]
     },
     "execution_count": 30,
     "metadata": {},
     "output_type": "execute_result"
    },
    {
     "data": {
      "image/png": "[encoded data removed]",
      "text/plain": [
       "<matplotlib.figure.Figure at 0x10f56bc88>"
      ]
     },
     "metadata": {},
     "output_type": "display_data"
    }
   ],
   "source": [
    "labels = ['Neg','Pos']\n",
    "fig = plt.figure()\n",
    "ax = fig.add_subplot(111)\n",
    "cax = ax.matshow(cm)\n",
    "plt.title('Confusion matrix of LinearSVC w/ Polynomial Kernel Classifier')\n",
    "fig.colorbar(cax)\n",
    "ax.set_xticklabels([''] + labels)\n",
    "ax.set_yticklabels([''] + labels)\n",
    "plt.xlabel('Predicted')\n",
    "plt.ylabel('Actual')\n",
    "\n",
    "#plt.matshow(cm)\n",
    "#plt.show()"
   ]
  },
  {
   "cell_type": "code",
   "execution_count": 75,
   "metadata": {
    "collapsed": false
   },
   "outputs": [
    {
     "name": "stdout",
     "output_type": "stream",
     "text": [
      "0 params - {'vect__max_df': 0.5, 'clf__max_iter': 1000, 'vect__ngram_range': (1, 2), 'vect__min_df': 1, 'clf__C': 1}; mean - 0.81; std - 0.01\n",
      "1 params - {'vect__max_df': 0.5, 'clf__max_iter': 10000, 'vect__ngram_range': (1, 2), 'vect__min_df': 1, 'clf__C': 1}; mean - 0.81; std - 0.01\n",
      "2 params - {'vect__max_df': 0.5, 'clf__max_iter': 1000, 'vect__ngram_range': (1, 2), 'vect__min_df': 1, 'clf__C': 100}; mean - 0.81; std - 0.02\n",
      "3 params - {'vect__max_df': 0.5, 'clf__max_iter': 10000, 'vect__ngram_range': (1, 2), 'vect__min_df': 1, 'clf__C': 100}; mean - 0.81; std - 0.02\n",
      "4 params - {'vect__max_df': 0.5, 'clf__max_iter': 1000, 'vect__ngram_range': (1, 2), 'vect__min_df': 1, 'clf__C': 1000}; mean - 0.81; std - 0.02\n",
      "5 params - {'vect__max_df': 0.5, 'clf__max_iter': 10000, 'vect__ngram_range': (1, 2), 'vect__min_df': 1, 'clf__C': 1000}; mean - 0.81; std - 0.02\n",
      "6 params - {'vect__max_df': 0.5, 'clf__max_iter': 1000, 'vect__ngram_range': (1, 2), 'vect__min_df': 1, 'clf__C': 10000}; mean - 0.81; std - 0.02\n",
      "7 params - {'vect__max_df': 0.5, 'clf__max_iter': 10000, 'vect__ngram_range': (1, 2), 'vect__min_df': 1, 'clf__C': 10000}; mean - 0.81; std - 0.02\n",
      "8 params - {'vect__max_df': 0.5, 'clf__max_iter': 1000, 'vect__ngram_range': (1, 2), 'vect__min_df': 1, 'clf__C': 100000}; mean - 0.81; std - 0.02\n",
      "9 params - {'vect__max_df': 0.5, 'clf__max_iter': 10000, 'vect__ngram_range': (1, 2), 'vect__min_df': 1, 'clf__C': 100000}; mean - 0.81; std - 0.02\n",
      "             precision    recall  f1-score   support\n",
      "\n",
      "        neg       0.87      0.81      0.84       254\n",
      "        pos       0.82      0.88      0.85       246\n",
      "\n",
      "avg / total       0.84      0.84      0.84       500\n",
      "\n"
     ]
    }
   ],
   "source": [
    "# BONUS: LinearSVC with severe feature/dimension reduction\n",
    "# ---------------------------------------------------\n",
    "# conjecture - Use best classifier (LinearSVC) with severe dimension reduction:\n",
    "#  stop_words='english', (exclude words too common to all documents)\n",
    "#  min_df=1, (keep unique words; may be used for emphasis in written reviews)\n",
    "#  max_df=0.5  (exclude words that show up in more than half of all documents)\n",
    "\n",
    "pipeline = Pipeline([\n",
    "    ('vect', TfidfVectorizer(analyzer='word', stop_words='english')),\n",
    "    ('clf', LinearSVC()),\n",
    "])\n",
    "\n",
    "# TASK: Build a grid search to find out whether unigrams or bigrams are\n",
    "# more useful... \n",
    "# Fit the pipeline on the training set using grid search for the parameters\n",
    "parameters = {\n",
    "    'vect__ngram_range': [(1, 2)],\n",
    "    'vect__min_df': [1],\n",
    "    'vect__max_df': [0.50],\n",
    "    'clf__C': [1, 100, 1000, 10000, 100000],\n",
    "    'clf__max_iter': [1000, 10000]\n",
    "    \n",
    "}\n",
    "grid_search = GridSearchCV(pipeline, parameters, n_jobs=-1) #'n_jobs = -1' means use all the CPU cores\n",
    "grid_search.fit(docs_train, y_train)\n",
    "\n",
    "# TASK: print the mean and std for each grid search candidate along with the parameter\n",
    "# settings for all the candidates explored by grid search.\n",
    "n_candidates = len(grid_search.cv_results_['params'])\n",
    "for i in range(n_candidates):\n",
    "    print(i, 'params - %s; mean - %0.2f; std - %0.2f'\n",
    "             % (grid_search.cv_results_['params'][i],\n",
    "                grid_search.cv_results_['mean_test_score'][i],\n",
    "                grid_search.cv_results_['std_test_score'][i]))\n",
    "    \n",
    "y_predicted = grid_search.predict(docs_test)\n",
    "print(metrics.classification_report(y_test, y_predicted,\n",
    "                                    target_names=dataset.target_names))"
   ]
  },
  {
   "cell_type": "code",
   "execution_count": 76,
   "metadata": {
    "collapsed": false
   },
   "outputs": [
    {
     "name": "stderr",
     "output_type": "stream",
     "text": [
      "c:\\program files\\python35\\lib\\site-packages\\sklearn\\model_selection\\_search.py:747: DeprecationWarning: The grid_scores_ attribute was deprecated in version 0.18 in favor of the more elaborate cv_results_ attribute. The grid_scores_ attribute will not be available from 0.20\n",
      "  DeprecationWarning)\n"
     ]
    },
    {
     "name": "stdout",
     "output_type": "stream",
     "text": [
      "[0.81266666666666665, 0.81266666666666665, 0.81066666666666665, 0.81066666666666665, 0.81000000000000005, 0.81000000000000005, 0.80933333333333335, 0.80933333333333335, 0.80933333333333335, 0.80933333333333335]\n"
     ]
    },
    {
     "data": {
      "text/plain": [
       "<matplotlib.text.Text at 0x213601842e8>"
      ]
     },
     "execution_count": 76,
     "metadata": {},
     "output_type": "execute_result"
    },
    {
     "data": {
      "image/png": "[encoded data removed]",
      "text/plain": [
       "<matplotlib.figure.Figure at 0x21361ac8eb8>"
      ]
     },
     "metadata": {},
     "output_type": "display_data"
    }
   ],
   "source": [
    "# graph the results of the parameter combinations for LinearSVC w/ severe feature reduction\n",
    "grid_mean_scores = [result.mean_validation_score for result in grid_search.grid_scores_]\n",
    "print(grid_mean_scores)\n",
    "para = [i for i in range(1, 11)]\n",
    "plt.plot(para, grid_mean_scores, 'ro')\n",
    "plt.xlabel('Parameter Combo')\n",
    "plt.ylabel('Mean Score from Grid Search')\n",
    "plt.title('LinearSVC Classifier - severe feature reduction')"
   ]
  },
  {
   "cell_type": "code",
   "execution_count": 77,
   "metadata": {
    "collapsed": false
   },
   "outputs": [
    {
     "data": {
      "text/plain": [
       "0.81266666666666665"
      ]
     },
     "execution_count": 77,
     "metadata": {},
     "output_type": "execute_result"
    }
   ],
   "source": [
    "# find best score from grid search for LinearSVC Classifier w/ severe feature reduction\n",
    "grid_search.best_score_"
   ]
  },
  {
   "cell_type": "code",
   "execution_count": 78,
   "metadata": {
    "collapsed": false
   },
   "outputs": [
    {
     "data": {
      "text/plain": [
       "{'clf__C': 1,\n",
       " 'clf__max_iter': 1000,\n",
       " 'vect__max_df': 0.5,\n",
       " 'vect__min_df': 1,\n",
       " 'vect__ngram_range': (1, 2)}"
      ]
     },
     "execution_count": 78,
     "metadata": {},
     "output_type": "execute_result"
    }
   ],
   "source": [
    "# find best parameters from grid search for LinearSVC Classifier w/ severe feature reduction\n",
    "grid_search.best_params_"
   ]
  },
  {
   "cell_type": "code",
   "execution_count": 79,
   "metadata": {
    "collapsed": false
   },
   "outputs": [
    {
     "name": "stdout",
     "output_type": "stream",
     "text": [
      "[[205  49]\n",
      " [ 30 216]]\n"
     ]
    }
   ],
   "source": [
    "cm = metrics.confusion_matrix(y_test, y_predicted)\n",
    "print(cm)"
   ]
  },
  {
   "cell_type": "code",
   "execution_count": 80,
   "metadata": {
    "collapsed": false
   },
   "outputs": [
    {
     "data": {
      "text/plain": [
       "<matplotlib.text.Text at 0x21361d93748>"
      ]
     },
     "execution_count": 80,
     "metadata": {},
     "output_type": "execute_result"
    },
    {
     "data": {
      "image/png": "[encoded data removed]",
      "text/plain": [
       "<matplotlib.figure.Figure at 0x21360497978>"
      ]
     },
     "metadata": {},
     "output_type": "display_data"
    }
   ],
   "source": [
    "labels = ['Neg','Pos']\n",
    "fig = plt.figure()\n",
    "ax = fig.add_subplot(111)\n",
    "cax = ax.matshow(cm)\n",
    "plt.title('Confusion matrix of LinearSVC (severe feature reduction) Classifier')\n",
    "fig.colorbar(cax)\n",
    "ax.set_xticklabels([''] + labels)\n",
    "ax.set_yticklabels([''] + labels)\n",
    "plt.xlabel('Predicted')\n",
    "plt.ylabel('Actual')\n"
   ]
  },
  {
   "cell_type": "code",
   "execution_count": null,
   "metadata": {
    "collapsed": true
   },
   "outputs": [],
   "source": []
  },
  {
   "cell_type": "code",
   "execution_count": 81,
   "metadata": {
    "collapsed": false
   },
   "outputs": [
    {
     "name": "stdout",
     "output_type": "stream",
     "text": [
      "0.66\n",
      "Example1:\n",
      " b'we could paraphrase michelle pfieffer\\'s character in dangerous minds and say that beyond rangoon starts with an \" a . \" \\nthat\\'s fair enough . \\nall movies , like all school children , should be given the benefit of the doubt . \\nthe chance to succeed . \\nafter all , we like to think that the right combination of talent and effort can do wonders . \\nmountains can be moved , and good movies can be made . \\nyeah right . \\nchildren fail , as do films . \\nas does director john boorman\\'s latest . \\nthe success of beyond rangoon hinges on the believability of patricia arquette ( ed wood , true romance ) as the busty westerner-in-peril wandering about 1988 burma without a passport . \\nthough we can stomach the mild plot contrivances that get her there , it\\'s a tougher task to overlook the actress . \\nshe\\'s a lightweight . \\nas the first scene ( with narration ! ) \\ndemonstrates , she doesn\\'t have * nearly * enough range for the emotions that her character--a mother fleeing the memories of a murdered husband and son--is supposed to show . \\nshe may give a stronger performance than , say , keanu reeves in a walk in the clouds , by not by much . \\nbeyond rangoon is a very physically appealing film , thanks to the practiced craftsmanship of john boorman ( deliverance , excalibur , hope and glory ) . \\nhe keeps the narrative moving , no matter how muddy the story--or the heroine--gets . \\nwhy he chose arquette remains a mystery , though . \\nmaybe he was thinking that the dramatic weight of the story would overcome any casting deficiencies . \\nbut even after an hour of half-stated political statements and murky mass killings , we * still * don\\'t know enough of what\\'s happening in this country to feel distressed for the characters or their situations . \\nempty exoticism . \\nthe technical credits in beyond rangoon are a curious mix , combining lush jungle photography with bad blue-screen work . \\nalso odd is the obvious dubbing . \\ndone to make some of the foreign characters sound less foreign ? \\nand , is it my mistake , or do the same extras keep reappearing as different soldiers ? ? \\ndoo doo doo doo . \\n[ \" twilight zone \" theme , or opinion of movie . \\nyou be the judge . ] \\n'\n",
      "\n",
      "Example2:\n",
      " b'tim burton has now completed his evolution from the brilliant director of macabre stories about outcast individuals yearning for acceptance , and into a studio monkey whose name is used as part of multi-tiered marketing materials for crap movies . \\nand here he hits rock bottom , with planet of the apes . \\ni didn\\'t expect much from this latest \" interpretation \" of pierre boulle\\'s classic novel planet of the apes . \\ni mean , how could you top the force and impact of the original film , intelligently co-scripted by rod serling ( of twilight zone fame ) combined with the overbearing chuck heston growling and yelling at those \" damn dirty apes , \" in one of his best roles of his career ? \\nsadly , i sat down to watch burton\\'s version of planet of the apes and within the first 20 minutes , i was checking my watch and my girlfriend ( a big fan of the original film ) started to nod off . \\nthis time around , the story plays out like a cross between enemy mine , braveheart , and project x . marky mark wahlberg , who was enjoyable in boogie nights and the corrupter , plays leo davidson , a hot shot u . s . air force pilot . \\nleo and his crew are in search of some mysterious magnetic storms ( no real explanation given in the film ) and leo sends one of his genetically altered \" smart \" chimps into the storms to collect data . \\nleo and his crew lose communication with the chimp , leo hops in another ship to find the monkey , and then he\\'s thrown through some type of time-space wormhole which crashes lands on the twentieth century fox studio backlot , all mocked up to look like the amazon jungle . \\nleo ends up getting captured by a group of talking apes and is sold to a slave trader named limbo ( paul giamatti ) who in turn sells leo to a chimpanzee named ari ( helena bonham carter ) . \\nthe kind ari then helps leo and his fellow humans escape to the mountains to find leo\\'s ship . \\nalong the way , monkeys played by tim roth ( overacting his role of a vicious general named thade ) and michael clarke duncan ( who further enhances his career by playing another heavy in a bad action movie ) strive out to hunt down leo and his band of human savages , just like battlefield earth ! \\nin the end , it all culminates into another braveheart rip-off human versus ape battle scene . \\nwhile rick baker\\'s makeup work is amazing , the script is a pathetic hodgepodge ( courtesy of three writers ) , the acting is horrible , and the \" surprise \" ending feels like a swing from a ball-peen hammer into the temple . \\nwahlberg does not have the physical or mental presence of a chuck heston to carry the film or any of its action sequences . \\nthis remake , or re-interpretation , as tim burton has proclaimed it , is an insult to the intelligence and wit of the original film . \\nthe ethical arguments about the equality of species , fascism , and military buildup have been replaced by tremendous amounts of ridiculous dialogue , an unimaginative narrative structure , and a romance between a monkey and a human . \\neven chuck heston\\'s anti-gun tirade ( in the de rigeur cameo ) seems shallow and jokey . \\nbut the main element missing from this tim burton film is tim burton . \\neven though his name is plastered across every billboard in america , john badham could have directed this film . \\neven joel schumacher could have directed this film . \\nhe probably should have . \\nburton\\'s predominant themes of rejection , isolation , and the search for one\\'s place in the universe , as seen in ed wood , edward scissorshands , and pee-wee\\'s big adventure , are completely absent in this planet . \\ni suppose that\\'s what happen when a great director gets sucked through a wormhole . \\n'\n"
     ]
    }
   ],
   "source": [
    "# For a particular choice of parameters and classifier, look at 2 examples where the prediction was incorrect.\n",
    "\n",
    "pipeline = Pipeline([\n",
    "                ('vect', TfidfVectorizer(min_df=3, max_df=0.95,ngram_range=(1,2),binary=False, decode_error='ignore')),\n",
    "                ('clf', KNeighborsClassifier(n_neighbors=5)),\n",
    "                    ])\n",
    "_ = pipeline.fit(docs_train, y_train)\n",
    "pipeline_result = pipeline.predict(docs_test)\n",
    "print(np.mean(pipeline_result == y_test))\n",
    "cm = metrics.confusion_matrix(y_test, pipeline_result)\n",
    "diff_idx = np.where((pipeline_result != y_test) & (pipeline_result==1))\n",
    "ex1 = docs_test[diff_idx[0][0]]\n",
    "ex2 = docs_test[diff_idx[0][1]]\n",
    "print (\"Example1:\\n\",ex1)\n",
    "print (\"\\nExample2:\\n\",ex2)"
   ]
  },
  {
   "cell_type": "markdown",
   "metadata": {},
   "source": [
    "On the condition, we picked two examples with wrong answers and the right answer is negative.As we can see, there are lots of \"postive\" words in the texts, so we believe that machine can make wrong decisions. We think the reason is that a large portion of the review is written about how good of other moives."
   ]
  },
  {
   "cell_type": "markdown",
   "metadata": {},
   "source": [
    "*------------------------\n",
    "\n",
    "## Problem 4 (20 points): Open Ended Question:  Finding the right plot"
   ]
  },
  {
   "cell_type": "markdown",
   "metadata": {},
   "source": [
    "* Can you find a two dimensional plot in which the positive and negative reviews are separated?\n",
    "    * This problem is hard since you will likely have thousands of features for review, and you will need to transform these thousands of features into just two numbers (so that you can make a 2D plot).\n",
    "* Note, I was not able to find such a plot myself!\n",
    "    * So, this problem is about **trying** but perhaps **not necessarily succeeding**!\n",
    "* I tried two things, neither of which worked very well.\n",
    "    * I first plotted the length of the review versus the number of features we compute that are in that review\n",
    "    * Second I used Principle Component Analysis on a subset of the features.\n",
    "* Can you do better than I did!?"
   ]
  },
  {
   "cell_type": "markdown",
   "metadata": {},
   "source": [
    "**Q: Can you find a two dimensional plot in which the positive and negative reviews are separated?**\n",
    "\n",
    "**A: No. Manifold and PCA do not reduce the high dimensionality to point where a meaningful 2D plot can be constructed **"
   ]
  },
  {
   "cell_type": "markdown",
   "metadata": {},
   "source": [
    "---"
   ]
  },
  {
   "cell_type": "code",
   "execution_count": 31,
   "metadata": {
    "collapsed": false
   },
   "outputs": [
    {
     "data": {
      "text/plain": [
       "['_long_',\n",
       " '_lot_',\n",
       " '_mafia_',\n",
       " '_many_',\n",
       " '_matewan_',\n",
       " '_matrix_',\n",
       " '_melvin',\n",
       " '_mind',\n",
       " '_moby',\n",
       " '_more_',\n",
       " '_must_',\n",
       " '_never',\n",
       " '_no',\n",
       " '_not_',\n",
       " '_october',\n",
       " '_offscreen_',\n",
       " '_onegin_',\n",
       " '_original_',\n",
       " '_patlabor',\n",
       " '_patlabor_',\n",
       " '_pecker_',\n",
       " '_people_',\n",
       " '_pick_chucky_up_',\n",
       " '_polish_wedding_',\n",
       " '_pollock_',\n",
       " '_poltergeist_',\n",
       " '_porky',\n",
       " '_reach_the_rock_',\n",
       " '_real_',\n",
       " '_reality',\n",
       " '_really_',\n",
       " '_red',\n",
       " '_remains',\n",
       " '_require_',\n",
       " '_rushmore_',\n",
       " '_saved_by_the_bell_',\n",
       " '_saving',\n",
       " '_scarface_',\n",
       " '_schindler',\n",
       " '_scream',\n",
       " '_scream_',\n",
       " '_scream_2_',\n",
       " '_so',\n",
       " '_some_',\n",
       " '_somewhere_',\n",
       " '_star',\n",
       " '_still_',\n",
       " '_survives_',\n",
       " '_that_',\n",
       " '_the',\n",
       " '_the_',\n",
       " '_the_broadway_musical_',\n",
       " '_the_lion_king',\n",
       " '_the_quest_',\n",
       " '_their_',\n",
       " '_there_',\n",
       " '_they',\n",
       " '_this_',\n",
       " '_titanic_',\n",
       " '_titus_',\n",
       " '_titus_andronicus_',\n",
       " '_today_',\n",
       " '_twice_',\n",
       " '_two_',\n",
       " '_urban',\n",
       " '_urban_legend_',\n",
       " '_vampires_',\n",
       " '_very_small_',\n",
       " '_wag',\n",
       " '_waiting_to_exhale_',\n",
       " '_wartime',\n",
       " '_what',\n",
       " '_whole_',\n",
       " '_will_',\n",
       " '_william_shakespeare',\n",
       " '_wishmaster_',\n",
       " 'aa',\n",
       " 'aaa',\n",
       " 'aaaaaaaahhhh',\n",
       " 'aaaaaah',\n",
       " 'aahs',\n",
       " 'aaliyah',\n",
       " 'aalyah',\n",
       " 'aamir',\n",
       " 'aardman',\n",
       " 'aaron',\n",
       " 'aatish',\n",
       " 'aback',\n",
       " 'abandon',\n",
       " 'abandoned',\n",
       " 'abandoning',\n",
       " 'abandonment',\n",
       " 'abandons',\n",
       " 'abating',\n",
       " 'abba',\n",
       " 'abbe',\n",
       " 'abberation',\n",
       " 'abberline',\n",
       " 'abbots',\n",
       " 'abbott',\n",
       " 'abbotts',\n",
       " 'abby',\n",
       " 'abc',\n",
       " 'abdomen',\n",
       " 'abducted',\n",
       " 'abductees',\n",
       " 'abduction',\n",
       " 'abductions',\n",
       " 'abdul',\n",
       " 'abe',\n",
       " 'abel',\n",
       " 'aberdeen',\n",
       " 'aberration',\n",
       " 'abetted',\n",
       " 'abetting',\n",
       " 'abeyance',\n",
       " 'abiding',\n",
       " 'abigail',\n",
       " 'abiility',\n",
       " 'abilities',\n",
       " 'ability',\n",
       " 'ablaze',\n",
       " 'able',\n",
       " 'ably',\n",
       " 'abnormal',\n",
       " 'abnormally',\n",
       " 'aboard',\n",
       " 'abode',\n",
       " 'abolish',\n",
       " 'abolitionist',\n",
       " 'abolitionists',\n",
       " 'abominable',\n",
       " 'abort',\n",
       " 'aborted',\n",
       " 'abortion',\n",
       " 'abortionist',\n",
       " 'abortions',\n",
       " 'abortive',\n",
       " 'aboslutely',\n",
       " 'abound',\n",
       " 'abounded',\n",
       " 'abounding',\n",
       " 'abounds',\n",
       " 'abouts',\n",
       " 'abraded',\n",
       " 'abraham',\n",
       " 'abrahams',\n",
       " 'abrams',\n",
       " 'abrasive',\n",
       " 'abril',\n",
       " 'abroad',\n",
       " 'abrupt',\n",
       " 'abruptly',\n",
       " 'abs',\n",
       " 'absconded',\n",
       " 'absence',\n",
       " 'absences',\n",
       " 'absense',\n",
       " 'absent',\n",
       " 'absentee',\n",
       " 'absinthe',\n",
       " 'absoloute',\n",
       " 'absoltuely',\n",
       " 'absolut',\n",
       " 'absolute',\n",
       " 'absolutely',\n",
       " 'absolutes',\n",
       " 'absolution',\n",
       " 'absolutist',\n",
       " 'absolved',\n",
       " 'absorb',\n",
       " 'absorbant',\n",
       " 'absorbed',\n",
       " 'absorbing',\n",
       " 'absorbs',\n",
       " 'absorption',\n",
       " 'abstract',\n",
       " 'abstraction',\n",
       " 'absurd',\n",
       " 'absurdism',\n",
       " 'absurdist',\n",
       " 'absurdities',\n",
       " 'absurdity',\n",
       " 'absurdly',\n",
       " 'abu',\n",
       " 'abundance',\n",
       " 'abundant',\n",
       " 'abundantly',\n",
       " 'abundence',\n",
       " 'abuse',\n",
       " 'abused',\n",
       " 'abuser',\n",
       " 'abusers',\n",
       " 'abuses',\n",
       " 'abusing',\n",
       " 'abusive',\n",
       " 'abuzz',\n",
       " 'abysmal',\n",
       " 'abysmally',\n",
       " 'abyss',\n",
       " 'abyssinian',\n",
       " 'ac3',\n",
       " 'academe',\n",
       " 'academia',\n",
       " 'academic',\n",
       " 'academics',\n",
       " 'academy',\n",
       " 'accelerate',\n",
       " 'accelerated',\n",
       " 'accelerates',\n",
       " 'accelerating',\n",
       " 'accelerator',\n",
       " 'accent',\n",
       " 'accented',\n",
       " 'accents',\n",
       " 'accentuate',\n",
       " 'accentuated',\n",
       " 'accentuates',\n",
       " 'accentuating',\n",
       " 'accept',\n",
       " 'acceptable',\n",
       " 'acceptance',\n",
       " 'accepted',\n",
       " 'accepting',\n",
       " 'accepts',\n",
       " 'access',\n",
       " 'accessibility',\n",
       " 'accessible',\n",
       " 'accessorize',\n",
       " 'accessory',\n",
       " 'accident',\n",
       " 'accidental',\n",
       " 'accidentally',\n",
       " 'accidentlly',\n",
       " 'accidently',\n",
       " 'accidents',\n",
       " 'acclaim',\n",
       " 'acclaimed',\n",
       " 'acclimatize',\n",
       " 'accolade',\n",
       " 'accolades',\n",
       " 'accommodates',\n",
       " 'accommodating',\n",
       " 'accommodations',\n",
       " 'accompanied',\n",
       " 'accompanies',\n",
       " 'accompaniment',\n",
       " 'accompany',\n",
       " 'accompanying',\n",
       " 'accomplice',\n",
       " 'accomplices',\n",
       " 'accomplish',\n",
       " 'accomplished',\n",
       " 'accomplishes',\n",
       " 'accomplishing',\n",
       " 'accomplishment',\n",
       " 'accomplishments',\n",
       " 'accord',\n",
       " 'accordance',\n",
       " 'according',\n",
       " 'accordingly',\n",
       " 'accordion',\n",
       " 'accost',\n",
       " 'accosted',\n",
       " 'accosts',\n",
       " 'account',\n",
       " 'accountability',\n",
       " 'accountable',\n",
       " 'accountant',\n",
       " 'accountants',\n",
       " 'accounted',\n",
       " 'accounts',\n",
       " 'accumulate',\n",
       " 'accumulated',\n",
       " 'accumulation',\n",
       " 'accuracy',\n",
       " 'accurate',\n",
       " 'accurately',\n",
       " 'accusation',\n",
       " 'accusations',\n",
       " 'accuse',\n",
       " 'accused',\n",
       " 'accuser',\n",
       " 'accuses',\n",
       " 'accusing',\n",
       " 'accustomed',\n",
       " 'ace',\n",
       " 'acerbic',\n",
       " 'ache',\n",
       " 'acheivement',\n",
       " 'acheives',\n",
       " 'aches',\n",
       " 'achievable',\n",
       " 'achieve',\n",
       " 'achieved',\n",
       " 'achieveing',\n",
       " 'achievement',\n",
       " 'achievements',\n",
       " 'achiever',\n",
       " 'achieves',\n",
       " 'achieving',\n",
       " 'achilles',\n",
       " 'achingly',\n",
       " 'achoo',\n",
       " 'acid',\n",
       " 'aciton',\n",
       " 'acknowledge',\n",
       " 'acknowledgeable',\n",
       " 'acknowledged',\n",
       " 'acknowledgement',\n",
       " 'acknowledges',\n",
       " 'acknowledging',\n",
       " 'acknowledgment',\n",
       " 'acore',\n",
       " 'acquaintance',\n",
       " 'acquaintances',\n",
       " 'acquainted',\n",
       " 'acquaints',\n",
       " 'acquiescence',\n",
       " 'acquire',\n",
       " 'acquired',\n",
       " 'acquisition',\n",
       " 'acquit',\n",
       " 'acquits',\n",
       " 'acquittal',\n",
       " 'acquitted',\n",
       " 'acres',\n",
       " 'acrimonious',\n",
       " 'acrimony',\n",
       " 'acrobat',\n",
       " 'acrobatic',\n",
       " 'acrobatics',\n",
       " 'acrobats',\n",
       " 'acronym',\n",
       " 'acrylic',\n",
       " 'act',\n",
       " 'acted',\n",
       " 'acting',\n",
       " 'action',\n",
       " 'actioner',\n",
       " 'actioners',\n",
       " 'actionfest',\n",
       " 'actionless',\n",
       " 'actions',\n",
       " 'activated',\n",
       " 'active',\n",
       " 'actively',\n",
       " 'activist',\n",
       " 'activists',\n",
       " 'activites',\n",
       " 'activities',\n",
       " 'activity',\n",
       " 'actor',\n",
       " 'actors',\n",
       " 'actosta',\n",
       " 'actress',\n",
       " 'actresses',\n",
       " 'acts',\n",
       " 'actual',\n",
       " 'actualisation',\n",
       " 'actuality',\n",
       " 'actualization',\n",
       " 'actualizing',\n",
       " 'actually',\n",
       " 'actualy',\n",
       " 'acumen',\n",
       " 'acupuncture',\n",
       " 'acute',\n",
       " 'acutely',\n",
       " 'ad',\n",
       " 'ad2am',\n",
       " 'adafarasin',\n",
       " 'adage',\n",
       " 'adagio',\n",
       " 'adair',\n",
       " 'adam',\n",
       " 'adams',\n",
       " 'adamson',\n",
       " 'adandon',\n",
       " 'adapt',\n",
       " 'adaptable',\n",
       " 'adaptation',\n",
       " 'adaptations',\n",
       " 'adapted',\n",
       " 'adapters',\n",
       " 'adapting',\n",
       " 'adaption',\n",
       " 'adaptions',\n",
       " 'add',\n",
       " 'addams',\n",
       " 'added',\n",
       " 'addendum',\n",
       " 'addict',\n",
       " 'addicted',\n",
       " 'addiction',\n",
       " 'addictions',\n",
       " 'addictive',\n",
       " 'addictively',\n",
       " 'addicts',\n",
       " 'adding',\n",
       " 'addition',\n",
       " 'additional',\n",
       " 'additionally',\n",
       " 'additions',\n",
       " 'addled',\n",
       " 'address',\n",
       " 'addressed',\n",
       " 'addresses',\n",
       " 'addressing',\n",
       " 'adds',\n",
       " 'addy',\n",
       " 'ade',\n",
       " 'adefarasin',\n",
       " 'adept',\n",
       " 'adeptness',\n",
       " 'adequate',\n",
       " 'adequately',\n",
       " 'adhere',\n",
       " 'adhered',\n",
       " 'adherence',\n",
       " 'adheres',\n",
       " 'adhesive',\n",
       " 'adian',\n",
       " 'aditi',\n",
       " 'aditya',\n",
       " 'adjacent',\n",
       " 'adjani',\n",
       " 'adjective',\n",
       " 'adjectives',\n",
       " 'adjoining',\n",
       " 'adjust',\n",
       " 'adjuster',\n",
       " 'adjusting',\n",
       " 'adjustment',\n",
       " 'adjustments',\n",
       " 'adjusts',\n",
       " 'adlai',\n",
       " 'administered',\n",
       " 'administration',\n",
       " 'administrator',\n",
       " 'admirable',\n",
       " 'admirably',\n",
       " 'admiral',\n",
       " 'admirals',\n",
       " 'admiration',\n",
       " 'admire',\n",
       " 'admired',\n",
       " 'admirer',\n",
       " 'admirers',\n",
       " 'admires',\n",
       " 'admiring',\n",
       " 'admission',\n",
       " 'admit',\n",
       " 'admitedly',\n",
       " 'admits',\n",
       " 'admittance',\n",
       " 'admitted',\n",
       " 'admittedly',\n",
       " 'admitting',\n",
       " 'admittingly',\n",
       " 'admonition',\n",
       " 'ado',\n",
       " 'adolescence',\n",
       " 'adolescent',\n",
       " 'adolescents',\n",
       " 'adolf',\n",
       " 'adolph',\n",
       " 'adopt',\n",
       " 'adopted',\n",
       " 'adopter',\n",
       " 'adopting',\n",
       " 'adoption',\n",
       " 'adoptive',\n",
       " 'adopts',\n",
       " 'adorable',\n",
       " 'adorableness',\n",
       " 'adorably',\n",
       " 'adoration',\n",
       " 'adore',\n",
       " 'adored',\n",
       " 'adores',\n",
       " 'adoring',\n",
       " 'adorn',\n",
       " 'adorned',\n",
       " 'adorning',\n",
       " 'adornments',\n",
       " 'adrenalin',\n",
       " 'adrenaline',\n",
       " 'adrian',\n",
       " 'adriana',\n",
       " 'adrien',\n",
       " 'adrienne',\n",
       " 'adrift',\n",
       " 'adroit',\n",
       " 'adroitly',\n",
       " 'ads',\n",
       " 'adult',\n",
       " 'adulterer',\n",
       " 'adulterous',\n",
       " 'adultery']"
      ]
     },
     "execution_count": 31,
     "metadata": {},
     "output_type": "execute_result"
    }
   ],
   "source": [
    "# explore the feature_names of our vectorized list\n",
    "docs_train_tfidf = TfidfVectorizer(analyzer='word', stop_words='english')\n",
    "tfidf_matrix =  docs_train_tfidf.fit_transform(docs_train)\n",
    "feature_names = docs_train_tfidf.get_feature_names() \n",
    "# explore some sample features indexed 500 to 1000\n",
    "feature_names[500:1000]"
   ]
  },
  {
   "cell_type": "markdown",
   "metadata": {},
   "source": [
    "---"
   ]
  },
  {
   "cell_type": "code",
   "execution_count": 35,
   "metadata": {
    "collapsed": false
   },
   "outputs": [
    {
     "name": "stdout",
     "output_type": "stream",
     "text": [
      "[False False False ..., False False False]\n",
      "63008\n",
      "[10  7  6 ...,  8  4  7]\n",
      "63008\n"
     ]
    }
   ],
   "source": [
    "# --------------------------------------------\n",
    "# learn to use RFE on movie review dataset\n",
    "# --------------------------------------------\n",
    "svm = LinearSVC()\n",
    "rfe = RFE(svm, n_features_to_select = 2, step = 0.10)\n",
    "rfe = rfe.fit(X_train, y_train)\n",
    "\n",
    "#print(dataset.feature_names)\n",
    "print(rfe.support_)\n",
    "print(len(rfe.support_))\n",
    "\n",
    "print(rfe.ranking_)\n",
    "print(len(rfe.ranking_))"
   ]
  },
  {
   "cell_type": "code",
   "execution_count": 36,
   "metadata": {
    "collapsed": false
   },
   "outputs": [
    {
     "name": "stdout",
     "output_type": "stream",
     "text": [
      "Optimal number of features : 20168\n"
     ]
    },
    {
     "data": {
      "image/png": "[encoded data removed]",
      "text/plain": [
       "<matplotlib.figure.Figure at 0x10697bcf8>"
      ]
     },
     "metadata": {},
     "output_type": "display_data"
    }
   ],
   "source": [
    "# -------------------------\n",
    "# RFE with visualization\n",
    "# -------------------------\n",
    "import matplotlib.pyplot as plt\n",
    "from sklearn.svm import SVC\n",
    "from sklearn.model_selection import StratifiedKFold\n",
    "from sklearn.feature_selection import RFECV\n",
    "from sklearn.datasets import make_classification\n",
    "\n",
    "# Create the RFE object and compute a cross-validated score.\n",
    "svc = LinearSVC()\n",
    "# The \"accuracy\" scoring is proportional to the number of correct classifications\n",
    "rfecv = RFECV(estimator=svc, step=0.01, cv=StratifiedKFold(2),\n",
    "              scoring='accuracy')\n",
    "rfecv.fit(X_train, y_train)\n",
    "\n",
    "print(\"Optimal number of features : %d\" % rfecv.n_features_)\n",
    "\n",
    "# Plot number of features VS. cross-validation scores\n",
    "plt.figure()\n",
    "plt.xlabel(\"Number of features selected\")\n",
    "plt.ylabel(\"Cross validation score (% correct classifications)\")\n",
    "plt.plot(range(1, len(rfecv.grid_scores_) + 1), rfecv.grid_scores_)\n",
    "plt.show()"
   ]
  },
  {
   "cell_type": "markdown",
   "metadata": {},
   "source": [
    "---"
   ]
  },
  {
   "cell_type": "code",
   "execution_count": 44,
   "metadata": {
    "collapsed": false,
    "scrolled": true
   },
   "outputs": [
    {
     "data": {
      "image/png": "[encoded data removed]",
      "text/plain": [
       "<matplotlib.figure.Figure at 0x110078be0>"
      ]
     },
     "metadata": {},
     "output_type": "display_data"
    }
   ],
   "source": [
    "# ----------------------------------------\n",
    "# learn to use manifold learning, isomap\n",
    "# ----------------------------------------\n",
    "# For high-dimensional data from real-world sources, LLE often produces poor \n",
    "# results, and isometric mapping (IsoMap) seems to generally lead to more \n",
    "# meaningful embeddings. This is implemented in sklearn.manifold.Isomap\n",
    "from sklearn.manifold import Isomap\n",
    "\n",
    "vector = TfidfVectorizer(min_df=3, max_df=0.95, ngram_range=(1,2))\n",
    "word_vector = vector.fit_transform(dataset.data)\n",
    "\n",
    "iso = Isomap(n_neighbors=8, n_components=2)\n",
    "low_d_feature = iso.fit_transform(word_vector.todense())\n",
    "\n",
    "for value, target in zip(low_d_feature, dataset.target):\n",
    "    if target == 0:\n",
    "        x, = plt.plot(value[0], value[1], 'gx', label = 'negative review')\n",
    "    else:\n",
    "        y, = plt.plot(value[0], value[1], 'ro', label = 'positive review')\n",
    "plt.legend(handles = [x, y])\n",
    "plt.xlabel('feature value (of the respective Manifold )')\n",
    "plt.ylabel('classification (0 = neg,  1 = pos)')\n",
    "plt.show()"
   ]
  },
  {
   "cell_type": "code",
   "execution_count": 45,
   "metadata": {
    "collapsed": true
   },
   "outputs": [],
   "source": [
    "from sklearn.manifold import Isomap\n",
    "\n",
    "vector = TfidfVectorizer(min_df=3, max_df=0.95, ngram_range=(1,2))\n",
    "word_vector = vector.fit_transform(dataset.data)"
   ]
  },
  {
   "cell_type": "code",
   "execution_count": 47,
   "metadata": {
    "collapsed": false
   },
   "outputs": [
    {
     "data": {
      "image/png": "[encoded data removed]",
      "text/plain": [
       "<matplotlib.figure.Figure at 0x10e9589e8>"
      ]
     },
     "metadata": {},
     "output_type": "display_data"
    }
   ],
   "source": [
    "# ----------------------------------------\n",
    "# learn to use manifold learning, LLE\n",
    "# -----------------------------------------\n",
    "# locally linear embedding (LLE): rather than preserving all distances, \n",
    "# it instead tries to preserve only the distances between neighboring \n",
    "# points: in this case, the nearest 8 neighbors of each point.\n",
    "# ----------------------------------------\n",
    "from sklearn.manifold import locally_linear_embedding\n",
    "\n",
    "low_d_feature = locally_linear_embedding(n_neighbors=8, n_components=2, X=word_vector.todense())\n",
    "\n",
    "features = low_d_feature[0]\n",
    "\n",
    "for value, target in zip(features, dataset.target):\n",
    "    if target == 0:\n",
    "        x, = plt.plot(value[0], value[1], 'gx', label = 'negative review')\n",
    "    else:\n",
    "        y, = plt.plot(value[0], value[1], 'ro', label = 'positive review')\n",
    "plt.legend(handles = [x, y])\n",
    "plt.xlabel('feature value (of the respective Manifold )')\n",
    "plt.ylabel('classification (0 = neg,  1 = pos)')\n",
    "plt.show()"
   ]
  },
  {
   "cell_type": "code",
   "execution_count": 48,
   "metadata": {
    "collapsed": false
   },
   "outputs": [
    {
     "data": {
      "image/png": "[encoded data removed]",
      "text/plain": [
       "<matplotlib.figure.Figure at 0x1137da550>"
      ]
     },
     "metadata": {},
     "output_type": "display_data"
    }
   ],
   "source": [
    "# ----------------------------------------\n",
    "# learn to use manifold learning, spectral embedding\n",
    "# -----------------------------------------\n",
    "# Forms an affinity matrix given by the specified function and applies spectral \n",
    "# decomposition to the corresponding graph laplacian. The resulting \n",
    "# transformation is given by the value of the eigenvectors for each data point.\n",
    "#\n",
    "# Note: Laplacian Eigenmaps is the actual algorithm implemented here.\n",
    "# ----------------------------------------\n",
    "from sklearn.manifold import SpectralEmbedding\n",
    "\n",
    "se = SpectralEmbedding(n_components=2, affinity='nearest_neighbors', n_neighbors=8)\n",
    "low_d_feature = se.fit_transform(word_vector.todense())\n",
    "\n",
    "for value, target in zip(low_d_feature, dataset.target):\n",
    "    if target == 0:\n",
    "        x, = plt.plot(value[0], value[1], 'gx', label = 'negative review')\n",
    "    else:\n",
    "        y, =  plt.plot(value[0], value[1], 'ro', alpha=0.5, label = 'positive review')\n",
    "plt.legend(handles = [x, y])\n",
    "plt.xlabel('feature value (of the respective Manifold )')\n",
    "plt.ylabel('classification (0 = neg,  1 = pos)')\n",
    "plt.show()"
   ]
  },
  {
   "cell_type": "code",
   "execution_count": 91,
   "metadata": {
    "collapsed": false
   },
   "outputs": [
    {
     "data": {
      "text/plain": [
       "<matplotlib.text.Text at 0x10f1d1470>"
      ]
     },
     "execution_count": 91,
     "metadata": {},
     "output_type": "execute_result"
    },
    {
     "data": {
      "image/png": "[encoded data removed]",
      "text/plain": [
       "<matplotlib.figure.Figure at 0x12c1a4ef0>"
      ]
     },
     "metadata": {},
     "output_type": "display_data"
    }
   ],
   "source": [
    "# why is this data hard to plot?\n",
    "#\n",
    "# One useful way to start is to compute a PCA, and examine the explained \n",
    "# variance ratio, which will give us an idea of how many linear features \n",
    "# are required to describe the data:\n",
    "#\n",
    "# We see that for this data, nearly 1000 components are required to preserve \n",
    "# 90% of the variance: this tells us that the data is intrinsically very \n",
    "# high dimensional — it can't be described linearly with just a few components.\n",
    "# Source: https://jakevdp.github.io/PythonDataScienceHandbook\n",
    "\n",
    "from sklearn.decomposition import PCA\n",
    "\n",
    "count_vect = TfidfVectorizer(analyzer='word', stop_words='english', ngram_range=(1,2), min_df=0.01, max_df=0.95)\n",
    "\n",
    "# Compute \"Xtrain\"\n",
    "X = count_vect.fit_transform(docs_train)\n",
    "\n",
    "model = PCA(svd_solver='randomized').fit(X.todense())\n",
    "plt.plot(np.cumsum(model.explained_variance_ratio_))\n",
    "plt.xlabel('n components')\n",
    "plt.ylabel('cumulative variance')"
   ]
  },
  {
   "cell_type": "markdown",
   "metadata": {},
   "source": [
    "# Report: communicate the results (20 points)\n",
    "\n",
    "(1) (5 points) What data you collected?\n",
    "\n",
    "(2) (5 points) Why this topic is interesting or important to you? (Motivations)\n",
    "\n",
    "(3) (5 points) How did you analyse the data?\n",
    "\n",
    "(4) (5 points) What did you find in the data?\n",
    "(please include figures or tables in the report, but no source code)"
   ]
  },
  {
   "cell_type": "markdown",
   "metadata": {},
   "source": [
    "# Slides (for 10 minutes of presentation) (20 points)\n",
    "\n",
    "\n",
    "1. (5 points) Motivation about the data collection, why the topic is interesting to you. \n",
    "\n",
    "2. (10 points) Communicating Results (figure/table)\n",
    "\n",
    "3. (5 points) Story telling (How all the parts (data, analysis, result) fit together as a story?)"
   ]
  },
  {
   "cell_type": "markdown",
   "metadata": {},
   "source": [
    "*-----------------\n",
    "# Done\n",
    "\n",
    "All set! \n",
    "\n",
    "** What do you need to submit?**\n",
    "\n",
    "* **Notebook File**: Save this IPython notebook, and find the notebook file in your folder (for example, \"filename.ipynb\"). This is the file you need to submit. Please make sure all the plotted tables and figures are in the notebook. If you used \"ipython notebook --pylab=inline\" to open the notebook, all the figures and tables should have shown up in the notebook.\n",
    "\n",
    "\n",
    "* **PPT Slides**: please prepare PPT slides (for 10 minutes' talk) to present about the case study . We will ask two teams which are randomly selected to present their case studies in class for this case study. \n",
    "\n",
    "* ** Report**: please prepare a report (less than 10 pages) to report what you found in the data.\n",
    "    * What is the relationship between this topic and Business Intelligence?\n",
    "    * How did you analyse the data?\n",
    "    * What did you find in the data? \n",
    "    * What conjectures did you make and how did you support or disprove them using data?\n",
    "    * Did you find anything suprising in the data?\n",
    "    * What business decision do you think this data could help answer?  Why?\n",
    "\n",
    "   (please include figures or tables in the report, **but no source code**)\n",
    "\n",
    "*Please compress all the files into a single zipped file.*\n",
    "\n",
    "\n",
    "** How to submit: **\n",
    "\n",
    "        Please submit through email to Prof. Paffenroth (rcpaffenroth@wpi.edu) *and* the TA Yingnan Liu (yliu18@wpi.edu).\n",
    "\n",
    "#### We auto-process the submissions so make sure your subject line is *exactly*:\n",
    "\n",
    "### DS501 Case Study 3 Team ??\n",
    "\n",
    "#### where ?? is your team number.\n",
    "        \n",
    "** Note: Each team just needs to submits one submission **"
   ]
  },
  {
   "cell_type": "code",
   "execution_count": null,
   "metadata": {
    "collapsed": true
   },
   "outputs": [],
   "source": []
  }
 ],
 "metadata": {
  "kernel_info": {
   "name": "python3"
  },
  "kernelspec": {
   "display_name": "Python 3",
   "language": "python",
   "name": "python3"
  },
  "language_info": {
   "codemirror_mode": {
    "name": "ipython",
    "version": 3
   },
   "file_extension": ".py",
   "mimetype": "text/x-python",
   "name": "python",
   "nbconvert_exporter": "python",
   "pygments_lexer": "ipython3",
   "version": "3.5.2"
  },
  "nteract": {
   "version": "0.2.0"
  }
 },
 "nbformat": 4,
 "nbformat_minor": 1
}
