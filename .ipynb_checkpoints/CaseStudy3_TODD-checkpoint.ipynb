{
 "cells": [
  {
   "cell_type": "markdown",
   "metadata": {},
   "source": [
    "\n",
    "\n",
    "\n",
    "\n",
    "\n",
    "\n",
    "# Case Study 3 : Textual analysis of movie reviews\n",
    "\n",
    "** Due Date: November 16, 2017, BEFORE the beginning of class at 6:00pm **\n",
    "\n",
    "NOTE: There are always last minute issues submitting the case studies. DO NOT WAIT UNTIL THE LAST MINUTE!\n"
   ]
  },
  {
   "cell_type": "markdown",
   "metadata": {},
   "source": [
    "<img src=\"http://www.conversational-technologies.com/nldemos/nlWordle.GIF\">"
   ]
  },
  {
   "cell_type": "markdown",
   "metadata": {},
   "source": [
    "**TEAM Members:** Please EDIT this cell and add the names of all the team members in your team\n",
    "\n",
    "TEAM 14\n",
    "\n",
    "Mickey K.\n",
    "Andrew L.\n",
    "Robin L.\n",
    "Brandon W.\n",
    "Todd H."
   ]
  },
  {
   "cell_type": "markdown",
   "metadata": {},
   "source": [
    "**Desired outcome of the case study.**\n",
    "* In this case study we will look at movie reviews from the v2.0 polarity dataset comes from\n",
    "the http://www.cs.cornell.edu/people/pabo/movie-review-data.\n",
    "    * It contains written reviews of movies divided into positive and negative reviews.\n",
    "* As in Case Study 2 idea is to *analyze* the data set, make *conjectures*, support or refute those conjectures with *data*, and *tell a story* about the data!\n",
    "    \n",
    "**Required Readings:** \n",
    "* This case study will be based upon the scikit-learn Python library\n",
    "* We will build upon the turtorial \"Working With Text Data\" which can be found at http://scikit-learn.org/stable/tutorial/text_analytics/working_with_text_data.html\n",
    "\n",
    "**Case study assumptions:**\n",
    "* You have access to a python installation\n",
    "\n",
    "**Required Python libraries:**\n",
    "* Numpy (www.numpy.org) (should already be installed from Case Study 2)\n",
    "* Matplotlib (matplotlib.org) (should already be installed from Case Study 2)\n",
    "* Scikit-learn (scikit-learn.org) (avaiable from Anaconda)\n",
    "* You are also welcome to use the Python Natural Language Processing Toolkit (www.nltk.org) (though it is not required).\n",
    "\n",
    "** NOTE **\n",
    "* Please don't forget to save the notebook frequently when working in IPython Notebook, otherwise the changes you made can be lost.\n",
    "\n",
    "*----------------------"
   ]
  },
  {
   "cell_type": "markdown",
   "metadata": {},
   "source": [
    "## Problem 1 (20 points): Complete Exercise 2: Sentiment Analysis on movie reviews from http://scikit-learn.org/stable/tutorial/text_analytics/working_with_text_data.html"
   ]
  },
  {
   "cell_type": "markdown",
   "metadata": {},
   "source": [
    "* Assuming that you have downloaded the scikit-learn source code (depending on your distribution, you may need to download this directly from Gitub at https://github.com/scikit-learn/scikit-learn):\n",
    "    * The data cane be downloaded using doc/tutorial/text_analytics/data/movie_reviews/fetch_data.py\n",
    "    * A skeleton for the solution can be found in doc/tutorial/text_analytics/skeletons/exercise_02_sentiment.py\n",
    "    * A completed solution can be found in doc/tutorial/text_analytics/solutions/exercise_02_sentiment.py\n",
    "* **It is ok to use the solution provided in the scikit-learn distribution as a starting place for your work.**\n",
    "\n",
    "### Modify the solution to Exercise 2 so that it can run in this iPython notebook\n",
    "* This will likely involved moving around data files and/or small modifications to the script."
   ]
  },
  {
   "cell_type": "code",
   "execution_count": 1,
   "metadata": {
    "collapsed": false
   },
   "outputs": [],
   "source": [
    "# script to download the data\n",
    "# ---------------------------\n",
    "# it will create a subfolder called 'txt_sentoken' in the path where this script was executed.\n",
    "# in my case, the full Windows path is 'C:\\Users\\hayfa\\Documents\\DS 501\\Case Study 3\\txt_sentoken'\n",
    "\n",
    "\"\"\"Script to download the movie review dataset\"\"\"\n",
    "\n",
    "import os\n",
    "import tarfile\n",
    "from contextlib import closing\n",
    "try:\n",
    "    from urllib import urlopen\n",
    "except ImportError:\n",
    "    from urllib.request import urlopen\n",
    "\n",
    "\n",
    "URL = (\"http://www.cs.cornell.edu/people/pabo/\"\n",
    "       \"movie-review-data/review_polarity.tar.gz\")\n",
    "\n",
    "ARCHIVE_NAME = URL.rsplit('/', 1)[1]\n",
    "DATA_FOLDER = \"txt_sentoken\"\n",
    "\n",
    "\n",
    "if not os.path.exists(DATA_FOLDER):\n",
    "\n",
    "    if not os.path.exists(ARCHIVE_NAME):\n",
    "        print(\"Downloading dataset from %s (3 MB)\" % URL)\n",
    "        opener = urlopen(URL)\n",
    "        with open(ARCHIVE_NAME, 'wb') as archive:\n",
    "            archive.write(opener.read())\n",
    "\n",
    "    print(\"Decompressing %s\" % ARCHIVE_NAME)\n",
    "    with closing(tarfile.open(ARCHIVE_NAME, \"r:gz\")) as archive:\n",
    "        archive.extractall(path='.')\n",
    "    os.remove(ARCHIVE_NAME)"
   ]
  },
  {
   "cell_type": "markdown",
   "metadata": {},
   "source": [
    "---"
   ]
  },
  {
   "cell_type": "code",
   "execution_count": 2,
   "metadata": {
    "collapsed": false
   },
   "outputs": [
    {
     "name": "stdout",
     "output_type": "stream",
     "text": [
      "C:\\Users\\dell\\Documents\\GitHub\\Case-Study-3\n"
     ]
    }
   ],
   "source": [
    "# get path of current working directory to confirm I am where I think I am...\n",
    "import os\n",
    "sdir=os.getcwd()\n",
    "print(sdir)"
   ]
  },
  {
   "cell_type": "code",
   "execution_count": 3,
   "metadata": {
    "collapsed": true
   },
   "outputs": [],
   "source": [
    "# Modify the solution to Exercise 2 so that it can run in this iPython notebook\n",
    "# ------------------------------------------------------------------------------\n",
    "# breaking the code into separate cells for readability\n",
    "# import the required libraries\n",
    "#\n",
    "\"\"\"Build a sentiment analysis / polarity model\n",
    "Sentiment analysis can be casted as a binary text classification problem,\n",
    "that is fitting a linear classifier on features extracted from the text\n",
    "of the user messages so as to guess wether the opinion of the author is\n",
    "positive or negative.\n",
    "In this examples we will use a movie review dataset.\n",
    "\"\"\"\n",
    "# Author: Olivier Grisel <olivier.grisel@ensta.org>\n",
    "# License: Simplified BSD\n",
    "\n",
    "import sys\n",
    "from sklearn.feature_extraction.text import TfidfVectorizer\n",
    "from sklearn.svm import LinearSVC\n",
    "from sklearn.pipeline import Pipeline\n",
    "from sklearn.model_selection import GridSearchCV\n",
    "from sklearn.datasets import load_files\n",
    "from sklearn.model_selection import train_test_split\n",
    "from sklearn import metrics  \n",
    "\n",
    "import numpy as np"
   ]
  },
  {
   "cell_type": "code",
   "execution_count": 4,
   "metadata": {
    "collapsed": true
   },
   "outputs": [],
   "source": [
    "# not required\n",
    "# ------------\n",
    "#\n",
    "#if __name__ == \"__main__\":\n",
    "    # NOTE: we put the following in a 'if __name__ == \"__main__\"' protected\n",
    "    # block to be able to use a multi-core grid search that also works under\n",
    "    # Windows, see: http://docs.python.org/library/multiprocessing.html#windows\n",
    "    # The multiprocessing module is used as the backend of joblib.Parallel\n",
    "    # that is used when n_jobs != 1 in GridSearchCV"
   ]
  },
  {
   "cell_type": "code",
   "execution_count": 5,
   "metadata": {
    "collapsed": false
   },
   "outputs": [
    {
     "name": "stdout",
     "output_type": "stream",
     "text": [
      "n_samples: 2000\n"
     ]
    }
   ],
   "source": [
    "# the training data folder must be passed as first argument\n",
    "# ---------------------------------------------------------\n",
    "# they way the data is loaded it ends up in the folder where this script runs so just skip to \"dataset = ...\"\n",
    "\n",
    "#movie_reviews_data_folder = sys.argv[1]\n",
    "\n",
    "# read in data\n",
    "dataset = load_files('./txt_sentoken/', shuffle=False)\n",
    "print(\"n_samples: %d\" % len(dataset.data))\n",
    "\n",
    "#dataset = load_files(movie_reviews_data_folder, shuffle=False)\n",
    "#print(\"n_samples: %d\" % len(dataset.data))"
   ]
  },
  {
   "cell_type": "code",
   "execution_count": 6,
   "metadata": {
    "collapsed": true
   },
   "outputs": [],
   "source": [
    "# split the dataset in training and test set:\n",
    "docs_train, docs_test, y_train, y_test = train_test_split(\n",
    "    dataset.data, dataset.target, test_size=0.25, random_state=None)"
   ]
  },
  {
   "cell_type": "code",
   "execution_count": 7,
   "metadata": {
    "collapsed": true
   },
   "outputs": [],
   "source": [
    "# These two steps [fit() an transform() methods] can be combined to achieve the same end result faster by skipping redundant \n",
    "# processing. This is done through using the fit_transform(..) method as shown below, and as \n",
    "# mentioned in the note in the previous section:\n",
    "\n",
    "# CANT GET CODE BELOW TO WORK\n",
    "#tfidf_transformer = TfidfTransformer()\n",
    "#X_train_tfidf = tfidf_transformer.fit_transform(docs_train)\n",
    "#X_train_tfidf.shape"
   ]
  },
  {
   "cell_type": "code",
   "execution_count": 8,
   "metadata": {
    "collapsed": true
   },
   "outputs": [],
   "source": [
    "# TASK: Build a vectorizer / classifier pipeline that filters out tokens\n",
    "# that are too rare or too frequent\n",
    "pipeline = Pipeline([\n",
    "    ('vect', TfidfVectorizer(min_df=3, max_df=0.95)),\n",
    "    ('clf', LinearSVC(C=1000)),\n",
    "])"
   ]
  },
  {
   "cell_type": "code",
   "execution_count": 9,
   "metadata": {
    "collapsed": false
   },
   "outputs": [
    {
     "data": {
      "text/plain": [
       "0.86599999999999999"
      ]
     },
     "execution_count": 9,
     "metadata": {},
     "output_type": "execute_result"
    }
   ],
   "source": [
    "# testing some code\n",
    "_ = pipeline.fit(docs_train, y_train)\n",
    "pipeline_result = pipeline.predict(docs_test)\n",
    "np.mean(pipeline_result == y_test)"
   ]
  },
  {
   "cell_type": "code",
   "execution_count": 10,
   "metadata": {
    "collapsed": false
   },
   "outputs": [
    {
     "data": {
      "text/plain": [
       "GridSearchCV(cv=None, error_score='raise',\n",
       "       estimator=Pipeline(memory=None,\n",
       "     steps=[('vect', TfidfVectorizer(analyzer='word', binary=False, decode_error='strict',\n",
       "        dtype=<class 'numpy.int64'>, encoding='utf-8', input='content',\n",
       "        lowercase=True, max_df=0.95, max_features=None, min_df=3,\n",
       "        ngram_range=(1, 1), norm='l2', preprocessor=None, smooth_idf=True,\n",
       " ...ax_iter=1000,\n",
       "     multi_class='ovr', penalty='l2', random_state=None, tol=0.0001,\n",
       "     verbose=0))]),\n",
       "       fit_params=None, iid=True, n_jobs=-1,\n",
       "       param_grid={'vect__ngram_range': [(1, 1), (1, 2)]},\n",
       "       pre_dispatch='2*n_jobs', refit=True, return_train_score=True,\n",
       "       scoring=None, verbose=0)"
      ]
     },
     "execution_count": 10,
     "metadata": {},
     "output_type": "execute_result"
    }
   ],
   "source": [
    "# TASK: Build a grid search to find out whether unigrams or bigrams are\n",
    "# more useful.\n",
    "# Fit the pipeline on the training set using grid search for the parameters\n",
    "parameters = {\n",
    "    'vect__ngram_range': [(1, 1), (1, 2)],\n",
    "}\n",
    "grid_search = GridSearchCV(pipeline, parameters, n_jobs=-1)\n",
    "grid_search.fit(docs_train, y_train)"
   ]
  },
  {
   "cell_type": "code",
   "execution_count": 11,
   "metadata": {
    "collapsed": false
   },
   "outputs": [
    {
     "data": {
      "text/plain": [
       "0.88400000000000001"
      ]
     },
     "execution_count": 11,
     "metadata": {},
     "output_type": "execute_result"
    }
   ],
   "source": [
    "# testing some code\n",
    "np.mean(grid_search.fit(docs_train,y_train).predict(docs_test)== y_test)"
   ]
  },
  {
   "cell_type": "code",
   "execution_count": 12,
   "metadata": {
    "collapsed": false
   },
   "outputs": [
    {
     "name": "stdout",
     "output_type": "stream",
     "text": [
      "0 params - {'vect__ngram_range': (1, 1)}; mean - 0.82; std - 0.02\n",
      "1 params - {'vect__ngram_range': (1, 2)}; mean - 0.84; std - 0.02\n"
     ]
    }
   ],
   "source": [
    "# TASK: print the mean and std for each candidate along with the parameter\n",
    "# settings for all the candidates explored by grid search.\n",
    "n_candidates = len(grid_search.cv_results_['params'])\n",
    "for i in range(n_candidates):\n",
    "    print(i, 'params - %s; mean - %0.2f; std - %0.2f'\n",
    "             % (grid_search.cv_results_['params'][i],\n",
    "                grid_search.cv_results_['mean_test_score'][i],\n",
    "                grid_search.cv_results_['std_test_score'][i]))"
   ]
  },
  {
   "cell_type": "code",
   "execution_count": 13,
   "metadata": {
    "collapsed": true
   },
   "outputs": [],
   "source": [
    "# TASK: Predict the outcome on the testing set and store it in a variable\n",
    "# named y_predicted\n",
    "y_predicted = grid_search.predict(docs_test)"
   ]
  },
  {
   "cell_type": "code",
   "execution_count": 14,
   "metadata": {
    "collapsed": false
   },
   "outputs": [
    {
     "name": "stdout",
     "output_type": "stream",
     "text": [
      "             precision    recall  f1-score   support\n",
      "\n",
      "        neg       0.88      0.88      0.88       242\n",
      "        pos       0.88      0.89      0.89       258\n",
      "\n",
      "avg / total       0.88      0.88      0.88       500\n",
      "\n"
     ]
    }
   ],
   "source": [
    "# Print the classification report\n",
    "print(metrics.classification_report(y_test, y_predicted,\n",
    "                                    target_names=dataset.target_names))"
   ]
  },
  {
   "cell_type": "code",
   "execution_count": 15,
   "metadata": {
    "collapsed": false
   },
   "outputs": [
    {
     "name": "stdout",
     "output_type": "stream",
     "text": [
      "[[212  30]\n",
      " [ 28 230]]\n"
     ]
    },
    {
     "data": {
      "image/png": "[encoded data removed]",
      "text/plain": [
       "<matplotlib.figure.Figure at 0x15f019d98d0>"
      ]
     },
     "metadata": {},
     "output_type": "display_data"
    }
   ],
   "source": [
    "# Print and plot the confusion matrix\n",
    "cm = metrics.confusion_matrix(y_test, y_predicted)\n",
    "print(cm)\n",
    "\n",
    "import matplotlib.pyplot as plt\n",
    "plt.matshow(cm)\n",
    "plt.show()"
   ]
  },
  {
   "cell_type": "markdown",
   "metadata": {},
   "source": [
    "## Problem 2 (20 points): Explore the scikit-learn TfidVectorizer class\n",
    "\n",
    "**Read the documentation for the TfidVectorizer class at http://scikit-learn.org/stable/modules/generated/sklearn.feature_extraction.text.TfidfVectorizer.html.** \n",
    "* Define the term frequency–inverse document frequency (TF-IDF) statistic (http://en.wikipedia.org/wiki/Tf%E2%80%93idf will likely help).\n",
    "* Run the TfidVectorizer class on the training data above (docs_train).\n",
    "* Explore the min_df and max_df parameters of TfidVectorizer.  What do they mean? How do they change the features you get?\n",
    "* Explore the ngram_range parameter of TfidVectorizer.  What does it mean? How does it change the features you get? (Note, large values  of ngram_range may take a long time to run!)"
   ]
  },
  {
   "cell_type": "code",
   "execution_count": 16,
   "metadata": {
    "collapsed": true
   },
   "outputs": [],
   "source": [
    "# Term Frequency–Inverse Document Frequency (TF-IDF)\n",
    "# --------------------------------------------------\n",
    "# is a numerical statistic that is intended to reflect how important a word is to a document in a \n",
    "# collection or corpus. It is often used as a weighting factor in information retrieval, text \n",
    "# mining, and user modeling. \n",
    "#\n",
    "# The tf-idf value increases proportionally to the number of times a word appears in the document,\n",
    "# but is often offset by the frequency of the word in the corpus, which helps to adjust for the \n",
    "# fact that some words appear more frequently in general."
   ]
  },
  {
   "cell_type": "code",
   "execution_count": 17,
   "metadata": {
    "collapsed": false
   },
   "outputs": [
    {
     "data": {
      "text/plain": [
       "(1500, 35350)"
      ]
     },
     "execution_count": 17,
     "metadata": {},
     "output_type": "execute_result"
    }
   ],
   "source": [
    "# Text preprocessing, tokenizing and filtering of stopwords are included in a high level component \n",
    "# that is able to build a dictionary of features and transform documents to feature vectors:\n",
    "from sklearn.feature_extraction.text import CountVectorizer\n",
    "count_vect = CountVectorizer()\n",
    "X_train_counts = count_vect.fit_transform(docs_train)\n",
    "X_train_counts.shape"
   ]
  },
  {
   "cell_type": "code",
   "execution_count": 18,
   "metadata": {
    "collapsed": false
   },
   "outputs": [
    {
     "data": {
      "text/plain": [
       "20601"
      ]
     },
     "execution_count": 18,
     "metadata": {},
     "output_type": "execute_result"
    }
   ],
   "source": [
    "# CountVectorizer supports counts of N-grams of words or consecutive characters. Once fitted, the \n",
    "# vectorizer has built a dictionary of feature indices.\n",
    "#\n",
    "# The index value of a word in the vocabulary is linked to its frequency in the whole training corpus. \n",
    "count_vect.vocabulary_.get(u'movie')"
   ]
  },
  {
   "cell_type": "code",
   "execution_count": 19,
   "metadata": {
    "collapsed": true
   },
   "outputs": [],
   "source": [
    "# Occurrence count is a good start but there is an issue: longer documents will have higher average \n",
    "# count values than shorter documents, even though they might talk about the same topics.\n",
    "# To avoid these potential discrepancies it suffices to divide the number of occurrences of each word\n",
    "# in a document by the total number of words in the document: these new features are called tf for \n",
    "# Term Frequencies.\n",
    "#\n",
    "# Another refinement on top of tf is to downscale weights for words that occur in many documents in \n",
    "# the corpus and are therefore less informative than those that occur only in a smaller portion of \n",
    "# the corpus.\n",
    "# This downscaling is called tf–idf for “Term Frequency times Inverse Document Frequency”.\n",
    "#\n",
    "# Both tf and tf–idf can be computed as follows:\n",
    "\n",
    "# CANT GET CODE BELOW TO WORK\n",
    "#from sklearn.feature_extraction.text import TfidfTransformer\n",
    "#tf_transformer = TfidfTransformer(use_idf=False).fit(docs_train)\n",
    "#X_train_tf = tf_transformer.transform(docs_train)\n",
    "#X_train_tf.shape"
   ]
  },
  {
   "cell_type": "code",
   "execution_count": 20,
   "metadata": {
    "collapsed": true
   },
   "outputs": [],
   "source": [
    "import matplotlib.pyplot as plt\n",
    "%matplotlib inline"
   ]
  },
  {
   "cell_type": "code",
   "execution_count": 21,
   "metadata": {
    "collapsed": true
   },
   "outputs": [],
   "source": [
    "# numpy.arange([start, ]stop, [step, ]dtype=None)\n",
    "#\n",
    "# https://docs.scipy.org/doc/numpy-1.13.0/reference/generated/numpy.arange.html \n",
    "# Values are generated within the half-open interval [start, stop) \n",
    "# (in other words, the interval including start but excluding stop). \n",
    "# For integer arguments the function is equivalent to the Python built-in range \n",
    "# function, but returns an ndarray rather than a list."
   ]
  },
  {
   "cell_type": "code",
   "execution_count": 22,
   "metadata": {
    "collapsed": false
   },
   "outputs": [
    {
     "data": {
      "text/plain": [
       "<matplotlib.text.Text at 0x15f01cbcf60>"
      ]
     },
     "execution_count": 22,
     "metadata": {},
     "output_type": "execute_result"
    },
    {
     "data": {
      "image/png": "[encoded data removed]",
      "text/plain": [
       "<matplotlib.figure.Figure at 0x15f0075fcf8>"
      ]
     },
     "metadata": {},
     "output_type": "display_data"
    }
   ],
   "source": [
    "# Run the TfidVectorizer class on the training data above (docs_train).\n",
    "#\n",
    "# Explore the min_df and max_df parameters of TfidVectorizer. \n",
    "#\n",
    "# What do they mean? How do they change the features you get?\n",
    "# ----------------------------------------------------------------\n",
    "# min_df : float in range [0.0, 1.0] or int, default=1\n",
    "# When building the vocabulary ignore terms that have a document frequency strictly lower \n",
    "# than the given threshold. This value is also called cut-off in the literature. If float,\n",
    "# the parameter represents a proportion of documents, integer absolute counts. This \n",
    "# parameter is ignored if vocabulary is not None.\n",
    "# ----------------------------------------------------------------\n",
    "# EXPLORING THE MIN_DF PARAMETER...set the min_df parameter to start at 0.05, stop at 0.31, step by 0.02\n",
    "\n",
    "for i in np.arange(0.05, 0.31, 0.02):  #(0.05, 0.3, 0.05)\n",
    "    vector = TfidfVectorizer(min_df=i, max_df=0.9)\n",
    "    matrix = vector.fit_transform(docs_train)\n",
    "    plt.plot(i,matrix.shape[1],'ro')\n",
    "\n",
    "plt.xlabel('Value of min_df')\n",
    "plt.ylabel('Num. features')"
   ]
  },
  {
   "cell_type": "code",
   "execution_count": 23,
   "metadata": {
    "collapsed": false
   },
   "outputs": [
    {
     "data": {
      "text/plain": [
       "<matplotlib.text.Text at 0x15f0054df98>"
      ]
     },
     "execution_count": 23,
     "metadata": {},
     "output_type": "execute_result"
    },
    {
     "data": {
      "image/png": "[encoded data removed]",
      "text/plain": [
       "<matplotlib.figure.Figure at 0x15f7973ada0>"
      ]
     },
     "metadata": {},
     "output_type": "display_data"
    }
   ],
   "source": [
    "# Run the TfidVectorizer class on the training data above (docs_train).\n",
    "#\n",
    "# Explore the min_df and max_df parameters of TfidVectorizer. \n",
    "#\n",
    "# What do they mean? How do they change the features you get?\n",
    "# ----------------------------------------------------------------\n",
    "# max_df : float in range [0.0, 1.0] or int, default=1.0\n",
    "# When building the vocabulary ignore terms that have a document frequency strictly higher\n",
    "# than the given threshold (corpus-specific stop words). If float, the parameter represents\n",
    "# a proportion of documents, integer absolute counts. This parameter is ignored if \n",
    "# vocabulary is not None.\n",
    "# ----------------------------------------------------------------\n",
    "# EXPLORING THE MAX_DF PARAMETER...set the max_df parameter to start at 0.96, stop at 0.6, step down by 0.02\n",
    "\n",
    "for i in np.arange(0.96, 0.6, -0.02):  #(0.95, 0.7, -0.05)\n",
    "    vector = TfidfVectorizer(min_df=0.1, max_df=i)\n",
    "    matrix = vector.fit_transform(docs_train)\n",
    "    plt.plot(i,matrix.shape[1],'ro')\n",
    "\n",
    "plt.xlabel('Value of max_df')\n",
    "plt.ylabel('Num. features')"
   ]
  },
  {
   "cell_type": "code",
   "execution_count": 24,
   "metadata": {
    "collapsed": false
   },
   "outputs": [
    {
     "data": {
      "text/plain": [
       "<matplotlib.text.Text at 0x15f7bb06b70>"
      ]
     },
     "execution_count": 24,
     "metadata": {},
     "output_type": "execute_result"
    },
    {
     "data": {
      "image/png": "[encoded data removed]",
      "text/plain": [
       "<matplotlib.figure.Figure at 0x15f00ceb748>"
      ]
     },
     "metadata": {},
     "output_type": "display_data"
    }
   ],
   "source": [
    "# Explore the ngram_range parameter of TfidVectorizer. \n",
    "#\n",
    "# What does it mean?\n",
    "#\n",
    "# How does it change the features you get? \n",
    "# (Note, large values of ngram_range may take a long time to run!)\n",
    "# ----------------------------------------------------------------\n",
    "# ngram_range : tuple (min_n, max_n)\n",
    "# The lower and upper boundary of the range of n-values for different n-grams to be extracted. \n",
    "# All values of n such that min_n <= n <= max_n will be used.\n",
    "\n",
    "ngram_candidate = range(1,7)\n",
    "for ngram in ngram_candidate:\n",
    "    vector = TfidfVectorizer(min_df=0.1, max_df=0.9, ngram_range=(1,ngram))\n",
    "    matrix = vector.fit_transform(docs_train)\n",
    "    plt.plot(ngram,matrix.shape[1],'ro')\n",
    "\n",
    "plt.xlabel('Upper bound of ngram')\n",
    "plt.ylabel('Num. features')"
   ]
  },
  {
   "cell_type": "code",
   "execution_count": null,
   "metadata": {
    "collapsed": true
   },
   "outputs": [],
   "source": []
  },
  {
   "cell_type": "code",
   "execution_count": null,
   "metadata": {
    "collapsed": true
   },
   "outputs": [],
   "source": []
  },
  {
   "cell_type": "code",
   "execution_count": null,
   "metadata": {
    "collapsed": true
   },
   "outputs": [],
   "source": []
  },
  {
   "cell_type": "code",
   "execution_count": null,
   "metadata": {
    "collapsed": true
   },
   "outputs": [],
   "source": []
  },
  {
   "cell_type": "markdown",
   "metadata": {},
   "source": [
    "*------------------------\n",
    "\n",
    "## Problem 3 (20 points): Machine learning algorithms\n"
   ]
  },
  {
   "cell_type": "markdown",
   "metadata": {},
   "source": [
    "* Based upon Problem 2 pick some parameters for TfidfVectorizer\n",
    "    * \"fit\" your TfidfVectorizer using docs_train\n",
    "    * Compute \"Xtrain\", a Tf-idf-weighted document-term matrix using the transform function on docs_train\n",
    "    * Compute \"Xtest\", a Tf-idf-weighted document-term matrix using the transform function on docs_test\n",
    "    * Note, be sure to use the same Tf-idf-weighted class (**\"fit\" using docs_train**) to transform **both** docs_test and docs_train\n",
    "* Examine two classifiers provided by scikit-learn \n",
    "    * LinearSVC\n",
    "    * KNeighborsClassifier\n",
    "    * Try a number of different parameter settings for each and judge your performance using a confusion matrix (see Problem 1 for an example).\n",
    "* Does one classifier, or one set of parameters work better?\n",
    "    * Why do you think it might be working better?\n",
    "* For a particular choice of parameters and classifier, look at 2 examples where the prediction was incorrect.\n",
    "    * Can you conjecture on why the classifier made a mistake for this prediction?"
   ]
  },
  {
   "cell_type": "code",
   "execution_count": 25,
   "metadata": {
    "collapsed": false
   },
   "outputs": [
    {
     "name": "stdout",
     "output_type": "stream",
     "text": [
      "(1500, 434036)\n",
      "(500, 188929)\n"
     ]
    }
   ],
   "source": [
    "from sklearn.feature_extraction.text import CountVectorizer\n",
    "count_vect =TfidfVectorizer(decode_error='ignore',ngram_range=(1,2),min_df=1, max_df=0.75)\n",
    "X_train= count_vect.fit_transform(docs_train)\n",
    "X_test = count_vect.fit_transform(docs_test)\n",
    "print(X_train.shape)\n",
    "print(X_test.shape)"
   ]
  },
  {
   "cell_type": "code",
   "execution_count": 26,
   "metadata": {
    "collapsed": false
   },
   "outputs": [
    {
     "name": "stdout",
     "output_type": "stream",
     "text": [
      "0.876\n",
      "[[208  34]\n",
      " [ 28 230]]\n"
     ]
    }
   ],
   "source": [
    "pipeline = Pipeline([\n",
    "                ('vect', TfidfVectorizer(min_df=2, max_df=0.95,ngram_range=(1,2),binary=False, decode_error='ignore')),\n",
    "                ('clf', LinearSVC(C=1000)),\n",
    "                    ])\n",
    "pipeline.fit(docs_train, y_train)\n",
    "pipeline_result = pipeline.predict(docs_test)\n",
    "print(np.mean(pipeline_result == y_test))\n",
    "cm = metrics.confusion_matrix(y_test, pipeline_result)\n",
    "print(cm)"
   ]
  },
  {
   "cell_type": "code",
   "execution_count": 27,
   "metadata": {
    "collapsed": false
   },
   "outputs": [
    {
     "name": "stdout",
     "output_type": "stream",
     "text": [
      "0.696\n",
      "[[145  97]\n",
      " [ 55 203]]\n"
     ]
    }
   ],
   "source": [
    "from sklearn.neighbors import KNeighborsClassifier\n",
    "pipeline = Pipeline([\n",
    "                ('vect', TfidfVectorizer(min_df=3, max_df=0.95,ngram_range=(1,2),binary=False, decode_error='ignore')),\n",
    "                ('clf', KNeighborsClassifier(n_neighbors=5)),\n",
    "                    ])\n",
    "_ = pipeline.fit(docs_train, y_train)\n",
    "pipeline_result = pipeline.predict(docs_test)\n",
    "print(np.mean(pipeline_result == y_test))\n",
    "cm = metrics.confusion_matrix(y_test, pipeline_result)\n",
    "print(cm)"
   ]
  },
  {
   "cell_type": "code",
   "execution_count": 28,
   "metadata": {
    "collapsed": false
   },
   "outputs": [],
   "source": [
    "import pandas as pd\n",
    "k_range = np.concatenate((np.arange(0,10,1),np.arange(10,200,10),np.arange(200,1100,100)))\n",
    "df_k = pd.DataFrame(index=['k_n'], columns=k_range)\n",
    "df_k = df_k.fillna(0.0)"
   ]
  },
  {
   "cell_type": "code",
   "execution_count": 29,
   "metadata": {
    "collapsed": true
   },
   "outputs": [],
   "source": [
    "%matplotlib inline\n",
    "for n in df_k:\n",
    "    pipeline = Pipeline([\n",
    "                ('vect', TfidfVectorizer(min_df=5, max_df=0.95,ngram_range=(1,2),binary=False, decode_error='ignore')),\n",
    "                ('clf', KNeighborsClassifier(n_neighbors=n)),\n",
    "                        ])\n",
    "    try:\n",
    "        _ = pipeline.fit(docs_train, y_train)\n",
    "        pipeline = pipeline.predict(docs_test)\n",
    "        out_come = np.mean(pipeline == y_test)\n",
    "        df_k[n][0] = out_come\n",
    "    except:\n",
    "        pass"
   ]
  },
  {
   "cell_type": "code",
   "execution_count": 30,
   "metadata": {
    "collapsed": false
   },
   "outputs": [
    {
     "data": {
      "text/plain": [
       "<matplotlib.text.Text at 0x15f17f96eb8>"
      ]
     },
     "execution_count": 30,
     "metadata": {},
     "output_type": "execute_result"
    },
    {
     "data": {
      "image/png": "[encoded data removed]",
      "text/plain": [
       "<matplotlib.figure.Figure at 0x15f12605048>"
      ]
     },
     "metadata": {},
     "output_type": "display_data"
    }
   ],
   "source": [
    "df_k = df_k.transpose()\n",
    "ax = df_k.plot()\n",
    "ax.set_ylabel('Upper bound of ngram')\n",
    "ax.set_xlabel('Num. features')"
   ]
  },
  {
   "cell_type": "code",
   "execution_count": 31,
   "metadata": {
    "collapsed": false
   },
   "outputs": [
    {
     "name": "stdout",
     "output_type": "stream",
     "text": [
      "0.8\n",
      "[[195  47]\n",
      " [ 53 205]]\n"
     ]
    }
   ],
   "source": [
    "optimal_k = df_k.idxmax()[\"k_n\"]\n",
    "pipeline = Pipeline([\n",
    "                ('vect', TfidfVectorizer(min_df=3, max_df=0.95,ngram_range=(1,2))),\n",
    "                ('clf', KNeighborsClassifier(n_neighbors=optimal_k)),\n",
    "                    ])\n",
    "_ = pipeline.fit(docs_train, y_train)\n",
    "pipeline_result = pipeline.predict(docs_test)\n",
    "print(np.mean(pipeline_result == y_test))\n",
    "cm = metrics.confusion_matrix(y_test, pipeline_result)\n",
    "print(cm)"
   ]
  },
  {
   "cell_type": "code",
   "execution_count": 41,
   "metadata": {
    "collapsed": false
   },
   "outputs": [
    {
     "data": {
      "text/plain": [
       "0.88800000000000001"
      ]
     },
     "execution_count": 41,
     "metadata": {},
     "output_type": "execute_result"
    }
   ],
   "source": [
    "parameters = {\n",
    "        'vect__max_df': [0.5, 0.75],\n",
    "        'vect__ngram_range': [(1, 1), (2, 2),(1,2),(1,3),(1,4),(2,4)], \n",
    "        'vect__min_df': [1,2,4,8,16]\n",
    "        }\n",
    "pipeline = Pipeline([\n",
    "                ('vect', TfidfVectorizer(min_df=3, max_df=0.95,\n",
    "                                         ngram_range=(1,2), binary=False, \n",
    "                                         decode_error='ignore')),\n",
    "                ('clf', LinearSVC(C=1000)),\n",
    "                    ])\n",
    "\n",
    "grid_search = GridSearchCV(pipeline, parameters, n_jobs=-1)\n",
    "np.mean(grid_search.fit(docs_train,y_train).predict(docs_test)== y_test)"
   ]
  },
  {
   "cell_type": "code",
   "execution_count": 42,
   "metadata": {
    "collapsed": false
   },
   "outputs": [
    {
     "name": "stdout",
     "output_type": "stream",
     "text": [
      "0 params - {'vect__max_df': 0.5, 'vect__min_df': 1, 'vect__ngram_range': (1, 1)}; mean - 0.82; std - 0.01\n",
      "1 params - {'vect__max_df': 0.5, 'vect__min_df': 1, 'vect__ngram_range': (2, 2)}; mean - 0.82; std - 0.00\n",
      "2 params - {'vect__max_df': 0.5, 'vect__min_df': 1, 'vect__ngram_range': (1, 2)}; mean - 0.84; std - 0.01\n",
      "3 params - {'vect__max_df': 0.5, 'vect__min_df': 1, 'vect__ngram_range': (1, 3)}; mean - 0.83; std - 0.01\n",
      "4 params - {'vect__max_df': 0.5, 'vect__min_df': 1, 'vect__ngram_range': (1, 4)}; mean - 0.82; std - 0.01\n",
      "5 params - {'vect__max_df': 0.5, 'vect__min_df': 1, 'vect__ngram_range': (2, 4)}; mean - 0.82; std - 0.01\n",
      "6 params - {'vect__max_df': 0.5, 'vect__min_df': 2, 'vect__ngram_range': (1, 1)}; mean - 0.83; std - 0.01\n",
      "7 params - {'vect__max_df': 0.5, 'vect__min_df': 2, 'vect__ngram_range': (2, 2)}; mean - 0.81; std - 0.01\n",
      "8 params - {'vect__max_df': 0.5, 'vect__min_df': 2, 'vect__ngram_range': (1, 2)}; mean - 0.85; std - 0.01\n",
      "9 params - {'vect__max_df': 0.5, 'vect__min_df': 2, 'vect__ngram_range': (1, 3)}; mean - 0.85; std - 0.01\n",
      "10 params - {'vect__max_df': 0.5, 'vect__min_df': 2, 'vect__ngram_range': (1, 4)}; mean - 0.85; std - 0.02\n",
      "11 params - {'vect__max_df': 0.5, 'vect__min_df': 2, 'vect__ngram_range': (2, 4)}; mean - 0.81; std - 0.01\n",
      "12 params - {'vect__max_df': 0.5, 'vect__min_df': 4, 'vect__ngram_range': (1, 1)}; mean - 0.82; std - 0.02\n",
      "13 params - {'vect__max_df': 0.5, 'vect__min_df': 4, 'vect__ngram_range': (2, 2)}; mean - 0.80; std - 0.01\n",
      "14 params - {'vect__max_df': 0.5, 'vect__min_df': 4, 'vect__ngram_range': (1, 2)}; mean - 0.85; std - 0.01\n",
      "15 params - {'vect__max_df': 0.5, 'vect__min_df': 4, 'vect__ngram_range': (1, 3)}; mean - 0.85; std - 0.02\n",
      "16 params - {'vect__max_df': 0.5, 'vect__min_df': 4, 'vect__ngram_range': (1, 4)}; mean - 0.85; std - 0.02\n",
      "17 params - {'vect__max_df': 0.5, 'vect__min_df': 4, 'vect__ngram_range': (2, 4)}; mean - 0.80; std - 0.02\n",
      "18 params - {'vect__max_df': 0.5, 'vect__min_df': 8, 'vect__ngram_range': (1, 1)}; mean - 0.81; std - 0.02\n",
      "19 params - {'vect__max_df': 0.5, 'vect__min_df': 8, 'vect__ngram_range': (2, 2)}; mean - 0.77; std - 0.01\n",
      "20 params - {'vect__max_df': 0.5, 'vect__min_df': 8, 'vect__ngram_range': (1, 2)}; mean - 0.83; std - 0.03\n",
      "21 params - {'vect__max_df': 0.5, 'vect__min_df': 8, 'vect__ngram_range': (1, 3)}; mean - 0.84; std - 0.03\n",
      "22 params - {'vect__max_df': 0.5, 'vect__min_df': 8, 'vect__ngram_range': (1, 4)}; mean - 0.84; std - 0.03\n",
      "23 params - {'vect__max_df': 0.5, 'vect__min_df': 8, 'vect__ngram_range': (2, 4)}; mean - 0.77; std - 0.01\n",
      "24 params - {'vect__max_df': 0.5, 'vect__min_df': 16, 'vect__ngram_range': (1, 1)}; mean - 0.80; std - 0.01\n",
      "25 params - {'vect__max_df': 0.5, 'vect__min_df': 16, 'vect__ngram_range': (2, 2)}; mean - 0.73; std - 0.01\n",
      "26 params - {'vect__max_df': 0.5, 'vect__min_df': 16, 'vect__ngram_range': (1, 2)}; mean - 0.82; std - 0.02\n",
      "27 params - {'vect__max_df': 0.5, 'vect__min_df': 16, 'vect__ngram_range': (1, 3)}; mean - 0.82; std - 0.03\n",
      "28 params - {'vect__max_df': 0.5, 'vect__min_df': 16, 'vect__ngram_range': (1, 4)}; mean - 0.82; std - 0.03\n",
      "29 params - {'vect__max_df': 0.5, 'vect__min_df': 16, 'vect__ngram_range': (2, 4)}; mean - 0.74; std - 0.01\n",
      "30 params - {'vect__max_df': 0.75, 'vect__min_df': 1, 'vect__ngram_range': (1, 1)}; mean - 0.83; std - 0.02\n",
      "31 params - {'vect__max_df': 0.75, 'vect__min_df': 1, 'vect__ngram_range': (2, 2)}; mean - 0.81; std - 0.01\n",
      "32 params - {'vect__max_df': 0.75, 'vect__min_df': 1, 'vect__ngram_range': (1, 2)}; mean - 0.84; std - 0.01\n",
      "33 params - {'vect__max_df': 0.75, 'vect__min_df': 1, 'vect__ngram_range': (1, 3)}; mean - 0.84; std - 0.01\n",
      "34 params - {'vect__max_df': 0.75, 'vect__min_df': 1, 'vect__ngram_range': (1, 4)}; mean - 0.83; std - 0.01\n",
      "35 params - {'vect__max_df': 0.75, 'vect__min_df': 1, 'vect__ngram_range': (2, 4)}; mean - 0.81; std - 0.02\n",
      "36 params - {'vect__max_df': 0.75, 'vect__min_df': 2, 'vect__ngram_range': (1, 1)}; mean - 0.83; std - 0.02\n",
      "37 params - {'vect__max_df': 0.75, 'vect__min_df': 2, 'vect__ngram_range': (2, 2)}; mean - 0.81; std - 0.01\n",
      "38 params - {'vect__max_df': 0.75, 'vect__min_df': 2, 'vect__ngram_range': (1, 2)}; mean - 0.84; std - 0.01\n",
      "39 params - {'vect__max_df': 0.75, 'vect__min_df': 2, 'vect__ngram_range': (1, 3)}; mean - 0.85; std - 0.01\n",
      "40 params - {'vect__max_df': 0.75, 'vect__min_df': 2, 'vect__ngram_range': (1, 4)}; mean - 0.84; std - 0.01\n",
      "41 params - {'vect__max_df': 0.75, 'vect__min_df': 2, 'vect__ngram_range': (2, 4)}; mean - 0.81; std - 0.01\n",
      "42 params - {'vect__max_df': 0.75, 'vect__min_df': 4, 'vect__ngram_range': (1, 1)}; mean - 0.83; std - 0.01\n",
      "43 params - {'vect__max_df': 0.75, 'vect__min_df': 4, 'vect__ngram_range': (2, 2)}; mean - 0.80; std - 0.01\n",
      "44 params - {'vect__max_df': 0.75, 'vect__min_df': 4, 'vect__ngram_range': (1, 2)}; mean - 0.85; std - 0.02\n",
      "45 params - {'vect__max_df': 0.75, 'vect__min_df': 4, 'vect__ngram_range': (1, 3)}; mean - 0.85; std - 0.02\n",
      "46 params - {'vect__max_df': 0.75, 'vect__min_df': 4, 'vect__ngram_range': (1, 4)}; mean - 0.84; std - 0.02\n",
      "47 params - {'vect__max_df': 0.75, 'vect__min_df': 4, 'vect__ngram_range': (2, 4)}; mean - 0.80; std - 0.02\n",
      "48 params - {'vect__max_df': 0.75, 'vect__min_df': 8, 'vect__ngram_range': (1, 1)}; mean - 0.81; std - 0.03\n",
      "49 params - {'vect__max_df': 0.75, 'vect__min_df': 8, 'vect__ngram_range': (2, 2)}; mean - 0.78; std - 0.02\n",
      "50 params - {'vect__max_df': 0.75, 'vect__min_df': 8, 'vect__ngram_range': (1, 2)}; mean - 0.83; std - 0.02\n",
      "51 params - {'vect__max_df': 0.75, 'vect__min_df': 8, 'vect__ngram_range': (1, 3)}; mean - 0.83; std - 0.03\n",
      "52 params - {'vect__max_df': 0.75, 'vect__min_df': 8, 'vect__ngram_range': (1, 4)}; mean - 0.83; std - 0.03\n",
      "53 params - {'vect__max_df': 0.75, 'vect__min_df': 8, 'vect__ngram_range': (2, 4)}; mean - 0.77; std - 0.02\n",
      "54 params - {'vect__max_df': 0.75, 'vect__min_df': 16, 'vect__ngram_range': (1, 1)}; mean - 0.81; std - 0.02\n",
      "55 params - {'vect__max_df': 0.75, 'vect__min_df': 16, 'vect__ngram_range': (2, 2)}; mean - 0.74; std - 0.01\n",
      "56 params - {'vect__max_df': 0.75, 'vect__min_df': 16, 'vect__ngram_range': (1, 2)}; mean - 0.82; std - 0.03\n",
      "57 params - {'vect__max_df': 0.75, 'vect__min_df': 16, 'vect__ngram_range': (1, 3)}; mean - 0.82; std - 0.03\n",
      "58 params - {'vect__max_df': 0.75, 'vect__min_df': 16, 'vect__ngram_range': (1, 4)}; mean - 0.82; std - 0.03\n",
      "59 params - {'vect__max_df': 0.75, 'vect__min_df': 16, 'vect__ngram_range': (2, 4)}; mean - 0.75; std - 0.01\n"
     ]
    }
   ],
   "source": [
    "n_candidates = len(grid_search.cv_results_['params'])\n",
    "for i in range(n_candidates):\n",
    "    print(i, 'params - %s; mean - %0.2f; std - %0.2f'\n",
    "          % (grid_search.cv_results_['params'][i],\n",
    "             grid_search.cv_results_['mean_test_score'][i],\n",
    "             grid_search.cv_results_['std_test_score'][i]))"
   ]
  },
  {
   "cell_type": "code",
   "execution_count": 45,
   "metadata": {
    "collapsed": false
   },
   "outputs": [
    {
     "data": {
      "text/plain": [
       "0.71199999999999997"
      ]
     },
     "execution_count": 45,
     "metadata": {},
     "output_type": "execute_result"
    }
   ],
   "source": [
    "parameters = {\n",
    "        'vect__max_df': [0.5, 0.75],\n",
    "        'vect__ngram_range': [(1, 1), (2, 2),(1,2),(1,3),(1,4),(2,4)],  \n",
    "        'vect__min_df': [1,2,4,8,16]\n",
    "        }\n",
    "\n",
    "pipeline_KNC = Pipeline([\n",
    "        ('vect', TfidfVectorizer(decode_error='ignore')),\n",
    "        ('clf', KNeighborsClassifier(n_neighbors = 5)),\n",
    "        ])\n",
    "grid_search_KNC = GridSearchCV(pipeline_KNC, parameters, n_jobs=1)    \n",
    "np.mean(grid_search_KNC.fit(docs_train,y_train).predict(docs_test)== y_test)"
   ]
  },
  {
   "cell_type": "code",
   "execution_count": 46,
   "metadata": {
    "collapsed": false
   },
   "outputs": [
    {
     "name": "stdout",
     "output_type": "stream",
     "text": [
      "0 params - {'vect__max_df': 0.5, 'vect__min_df': 1, 'vect__ngram_range': (1, 1)}; mean - 0.82; std - 0.01\n",
      "1 params - {'vect__max_df': 0.5, 'vect__min_df': 1, 'vect__ngram_range': (2, 2)}; mean - 0.82; std - 0.00\n",
      "2 params - {'vect__max_df': 0.5, 'vect__min_df': 1, 'vect__ngram_range': (1, 2)}; mean - 0.84; std - 0.01\n",
      "3 params - {'vect__max_df': 0.5, 'vect__min_df': 1, 'vect__ngram_range': (1, 3)}; mean - 0.83; std - 0.01\n",
      "4 params - {'vect__max_df': 0.5, 'vect__min_df': 1, 'vect__ngram_range': (1, 4)}; mean - 0.82; std - 0.01\n",
      "5 params - {'vect__max_df': 0.5, 'vect__min_df': 1, 'vect__ngram_range': (2, 4)}; mean - 0.82; std - 0.01\n",
      "6 params - {'vect__max_df': 0.5, 'vect__min_df': 2, 'vect__ngram_range': (1, 1)}; mean - 0.83; std - 0.01\n",
      "7 params - {'vect__max_df': 0.5, 'vect__min_df': 2, 'vect__ngram_range': (2, 2)}; mean - 0.81; std - 0.01\n",
      "8 params - {'vect__max_df': 0.5, 'vect__min_df': 2, 'vect__ngram_range': (1, 2)}; mean - 0.85; std - 0.01\n",
      "9 params - {'vect__max_df': 0.5, 'vect__min_df': 2, 'vect__ngram_range': (1, 3)}; mean - 0.85; std - 0.01\n",
      "10 params - {'vect__max_df': 0.5, 'vect__min_df': 2, 'vect__ngram_range': (1, 4)}; mean - 0.85; std - 0.02\n",
      "11 params - {'vect__max_df': 0.5, 'vect__min_df': 2, 'vect__ngram_range': (2, 4)}; mean - 0.81; std - 0.01\n",
      "12 params - {'vect__max_df': 0.5, 'vect__min_df': 4, 'vect__ngram_range': (1, 1)}; mean - 0.82; std - 0.02\n",
      "13 params - {'vect__max_df': 0.5, 'vect__min_df': 4, 'vect__ngram_range': (2, 2)}; mean - 0.80; std - 0.01\n",
      "14 params - {'vect__max_df': 0.5, 'vect__min_df': 4, 'vect__ngram_range': (1, 2)}; mean - 0.85; std - 0.01\n",
      "15 params - {'vect__max_df': 0.5, 'vect__min_df': 4, 'vect__ngram_range': (1, 3)}; mean - 0.85; std - 0.02\n",
      "16 params - {'vect__max_df': 0.5, 'vect__min_df': 4, 'vect__ngram_range': (1, 4)}; mean - 0.85; std - 0.02\n",
      "17 params - {'vect__max_df': 0.5, 'vect__min_df': 4, 'vect__ngram_range': (2, 4)}; mean - 0.80; std - 0.02\n",
      "18 params - {'vect__max_df': 0.5, 'vect__min_df': 8, 'vect__ngram_range': (1, 1)}; mean - 0.81; std - 0.02\n",
      "19 params - {'vect__max_df': 0.5, 'vect__min_df': 8, 'vect__ngram_range': (2, 2)}; mean - 0.77; std - 0.01\n",
      "20 params - {'vect__max_df': 0.5, 'vect__min_df': 8, 'vect__ngram_range': (1, 2)}; mean - 0.83; std - 0.03\n",
      "21 params - {'vect__max_df': 0.5, 'vect__min_df': 8, 'vect__ngram_range': (1, 3)}; mean - 0.84; std - 0.03\n",
      "22 params - {'vect__max_df': 0.5, 'vect__min_df': 8, 'vect__ngram_range': (1, 4)}; mean - 0.84; std - 0.03\n",
      "23 params - {'vect__max_df': 0.5, 'vect__min_df': 8, 'vect__ngram_range': (2, 4)}; mean - 0.77; std - 0.01\n",
      "24 params - {'vect__max_df': 0.5, 'vect__min_df': 16, 'vect__ngram_range': (1, 1)}; mean - 0.80; std - 0.01\n",
      "25 params - {'vect__max_df': 0.5, 'vect__min_df': 16, 'vect__ngram_range': (2, 2)}; mean - 0.73; std - 0.01\n",
      "26 params - {'vect__max_df': 0.5, 'vect__min_df': 16, 'vect__ngram_range': (1, 2)}; mean - 0.82; std - 0.02\n",
      "27 params - {'vect__max_df': 0.5, 'vect__min_df': 16, 'vect__ngram_range': (1, 3)}; mean - 0.82; std - 0.03\n",
      "28 params - {'vect__max_df': 0.5, 'vect__min_df': 16, 'vect__ngram_range': (1, 4)}; mean - 0.82; std - 0.03\n",
      "29 params - {'vect__max_df': 0.5, 'vect__min_df': 16, 'vect__ngram_range': (2, 4)}; mean - 0.74; std - 0.01\n",
      "30 params - {'vect__max_df': 0.75, 'vect__min_df': 1, 'vect__ngram_range': (1, 1)}; mean - 0.83; std - 0.02\n",
      "31 params - {'vect__max_df': 0.75, 'vect__min_df': 1, 'vect__ngram_range': (2, 2)}; mean - 0.81; std - 0.01\n",
      "32 params - {'vect__max_df': 0.75, 'vect__min_df': 1, 'vect__ngram_range': (1, 2)}; mean - 0.84; std - 0.01\n",
      "33 params - {'vect__max_df': 0.75, 'vect__min_df': 1, 'vect__ngram_range': (1, 3)}; mean - 0.84; std - 0.01\n",
      "34 params - {'vect__max_df': 0.75, 'vect__min_df': 1, 'vect__ngram_range': (1, 4)}; mean - 0.83; std - 0.01\n",
      "35 params - {'vect__max_df': 0.75, 'vect__min_df': 1, 'vect__ngram_range': (2, 4)}; mean - 0.81; std - 0.02\n",
      "36 params - {'vect__max_df': 0.75, 'vect__min_df': 2, 'vect__ngram_range': (1, 1)}; mean - 0.83; std - 0.02\n",
      "37 params - {'vect__max_df': 0.75, 'vect__min_df': 2, 'vect__ngram_range': (2, 2)}; mean - 0.81; std - 0.01\n",
      "38 params - {'vect__max_df': 0.75, 'vect__min_df': 2, 'vect__ngram_range': (1, 2)}; mean - 0.84; std - 0.01\n",
      "39 params - {'vect__max_df': 0.75, 'vect__min_df': 2, 'vect__ngram_range': (1, 3)}; mean - 0.85; std - 0.01\n",
      "40 params - {'vect__max_df': 0.75, 'vect__min_df': 2, 'vect__ngram_range': (1, 4)}; mean - 0.84; std - 0.01\n",
      "41 params - {'vect__max_df': 0.75, 'vect__min_df': 2, 'vect__ngram_range': (2, 4)}; mean - 0.81; std - 0.01\n",
      "42 params - {'vect__max_df': 0.75, 'vect__min_df': 4, 'vect__ngram_range': (1, 1)}; mean - 0.83; std - 0.01\n",
      "43 params - {'vect__max_df': 0.75, 'vect__min_df': 4, 'vect__ngram_range': (2, 2)}; mean - 0.80; std - 0.01\n",
      "44 params - {'vect__max_df': 0.75, 'vect__min_df': 4, 'vect__ngram_range': (1, 2)}; mean - 0.85; std - 0.02\n",
      "45 params - {'vect__max_df': 0.75, 'vect__min_df': 4, 'vect__ngram_range': (1, 3)}; mean - 0.85; std - 0.02\n",
      "46 params - {'vect__max_df': 0.75, 'vect__min_df': 4, 'vect__ngram_range': (1, 4)}; mean - 0.84; std - 0.02\n",
      "47 params - {'vect__max_df': 0.75, 'vect__min_df': 4, 'vect__ngram_range': (2, 4)}; mean - 0.80; std - 0.02\n",
      "48 params - {'vect__max_df': 0.75, 'vect__min_df': 8, 'vect__ngram_range': (1, 1)}; mean - 0.81; std - 0.03\n",
      "49 params - {'vect__max_df': 0.75, 'vect__min_df': 8, 'vect__ngram_range': (2, 2)}; mean - 0.78; std - 0.02\n",
      "50 params - {'vect__max_df': 0.75, 'vect__min_df': 8, 'vect__ngram_range': (1, 2)}; mean - 0.83; std - 0.02\n",
      "51 params - {'vect__max_df': 0.75, 'vect__min_df': 8, 'vect__ngram_range': (1, 3)}; mean - 0.83; std - 0.03\n",
      "52 params - {'vect__max_df': 0.75, 'vect__min_df': 8, 'vect__ngram_range': (1, 4)}; mean - 0.83; std - 0.03\n",
      "53 params - {'vect__max_df': 0.75, 'vect__min_df': 8, 'vect__ngram_range': (2, 4)}; mean - 0.77; std - 0.02\n",
      "54 params - {'vect__max_df': 0.75, 'vect__min_df': 16, 'vect__ngram_range': (1, 1)}; mean - 0.81; std - 0.02\n",
      "55 params - {'vect__max_df': 0.75, 'vect__min_df': 16, 'vect__ngram_range': (2, 2)}; mean - 0.74; std - 0.01\n",
      "56 params - {'vect__max_df': 0.75, 'vect__min_df': 16, 'vect__ngram_range': (1, 2)}; mean - 0.82; std - 0.03\n",
      "57 params - {'vect__max_df': 0.75, 'vect__min_df': 16, 'vect__ngram_range': (1, 3)}; mean - 0.82; std - 0.03\n",
      "58 params - {'vect__max_df': 0.75, 'vect__min_df': 16, 'vect__ngram_range': (1, 4)}; mean - 0.82; std - 0.03\n",
      "59 params - {'vect__max_df': 0.75, 'vect__min_df': 16, 'vect__ngram_range': (2, 4)}; mean - 0.75; std - 0.01\n"
     ]
    }
   ],
   "source": [
    "n_candidates = len(grid_search_KNC.cv_results_['params'])\n",
    "for i in range(n_candidates):\n",
    "    print(i, 'params - %s; mean - %0.2f; std - %0.2f'\n",
    "             % (grid_search.cv_results_['params'][i],\n",
    "                grid_search.cv_results_['mean_test_score'][i],\n",
    "                grid_search.cv_results_['std_test_score'][i]))"
   ]
  },
  {
   "cell_type": "code",
   "execution_count": 47,
   "metadata": {
    "collapsed": false
   },
   "outputs": [
    {
     "name": "stdout",
     "output_type": "stream",
     "text": [
      "0.888\n",
      "[[212  30]\n",
      " [ 26 232]]\n",
      "Best parameters set:\n",
      "\tvect__max_df: 0.5\n",
      "\tvect__min_df: 4\n",
      "\tvect__ngram_range: (1, 2)\n"
     ]
    }
   ],
   "source": [
    "y_predicted = grid_search.predict(docs_test)\n",
    "print(np.mean(y_predicted == y_test))\n",
    "cm = metrics.confusion_matrix(y_test, y_predicted)\n",
    "print(cm)\n",
    "print(\"Best parameters set:\")\n",
    "best_parameters = grid_search.best_estimator_.get_params()\n",
    "for param_name in sorted(parameters.keys()):\n",
    "    print(\"\\t%s: %r\" % (param_name, best_parameters[param_name]))"
   ]
  },
  {
   "cell_type": "code",
   "execution_count": 48,
   "metadata": {
    "collapsed": false
   },
   "outputs": [
    {
     "name": "stdout",
     "output_type": "stream",
     "text": [
      "Example1:\n",
      " b'the lives of older people in the twilight of their years attempting to come to grips with their shared histories and possible futures is a fascinating topic . \\nfinding an all-star cast for such a film is a stroke of genius . \\ncombining all that with a three-time oscar-winning director ( robert benton of \" kramer vs . \\nkramer \" ) and creating a decidedly mediocre movie is the stuff of disappointment . \\nin yet another noir mystery set in hollywood -- how many of these have we seen during the past few years ? \\n-- the atmosphere is moody , the actors enjoyable to watch and the story goes nowhere . \\nover-70 harry ross ( paul newman ) is a washed up cop-turned-private eye-turned man friday trying to figure out how to live what remains of his life . \\nhe\\'s screwed up things pretty well ( \" i had a wife and daughter . \\nnow , i\\'m a drunk ) and is at a crossroads . \\na couple of years ago , he traveled to mexico to bring back mel ( reese witherspoon ) , the under-age daughter of jack ( gene hackman ) and catherine ( susan sarandon ) ames and now lives with them . \\nthe ames are former movie stars , past their prime and the three have become fast friends . \\none gets the impression that ross is just hanging out waiting for something to wake him up . \\nto fill his time , he does odd jobs for jack and falls in love with catherine . \\njack is in even worse shape than harry . \\nhe\\'s dying of cancer with only a year to live . \\nthings do turn more exciting when jack asks harry to drop off a sealed manila envelope for him . \\ninstead of the routine errand that ross expects , he walks into a barrage of bullets from the gun of another ex-cop who is , himself , full of bloody holes . \\nthis unsettling event gives the former detective a project to throw himself into and launches an investigation that revolves around the mysterious disappearance of catherine\\'s first husband 20 years before . \\nthrough a series of very complex and convoluted plot devices that involve murder ; blackmail ; guns ; mel\\'s mexico traveling partner and his parole officer ; ross\\'s former cop buddies , ex-lover and would-be sidekick , the tale finally ends up exactly where everyone expects it to . \\nit\\'s a film noir tradition that the story twists and turns down side roads for an unexpected finale , but here the journey meanders towards an ending that no one cares about . \\nthe only surprises are exactly whose face fits which role in the scenario . \\nby the time they show you , it doesn\\'t matter . \\nthe storyline gets goofier and goofier exemplified in ross\\'s relationship with rubin ( giancarlo esposito ) , a partner wannabe . \\nthese scenes are obviously designed to be comic relief , however they are neither . \\nrubin and ross have some past relationship but either it\\'s not explained or i didn\\'t care enough at that point to remember . \\na running joke about where harry was supposedly shot while in mexico is probably meant to mirror his questions about whether he is still able to perform . \\nit\\'s also not funny , doesn\\'t connect and keeps on showing up long after it has run its course . \\non the positive side , it\\'s often enjoyable to watch the seasoned actors on the screen . \\nthe three leads all have well-deserved academy awards and turn in accomplished , if not extraordinary jobs . \\nnewman is a grand actor , but doesn\\'t seem quite suited to the dark film style . \\nhe is a bit too clean and understated to come across as desperate and down and out . \\nhackman , also low-key , is believable but lacks sparkle . \\nsarandon comes across well as an sultry older babe although she is one-dimensional . \\nthe actors do what they can with lame dialog , but they can\\'t pull the film out of the hole it\\'s dug for itself . \\njames garner who plays ross\\'s old buddy ex-cop raymond hope is always a treat , but even he half-heartedly struggles through lines like \" i\\'m glad they didn\\'t shoot your pecker off . \" \\nthe best part of the film is the look at old friends , how their relationships change over the years and the difficult choices they must make . \\nthe genuinely easy and casual interactions among the actors hint that being on the set was much more interesting than what ended up on the screen \\nthe film doesn\\'t run very long before the audience realizes that it\\'s hopeless . \\nthe only reason for watching is the actors . \\nit reminds me of disaster movies such as \" towering inferno \" where the star power is supposed to make everyone ignore the film\\'s problems . \\nin a better world , there would have been second-rate actors in this second-rate movie and the ones here would have been saved for something better . \\nof course , we don\\'t live in that better world , but you could make yours a little nicer by choosing a different movie . \\n'\n",
      "\n",
      "Example2:\n",
      " b\"according to hitchcock and various other filmmakers , isolated motels , diners , gas stations and similar establishments in american southwest can be rather dangerous place for weary travellers . \\nat the beginning of eye of the storm , 1991 german- american thriller directed by yuri zeltser , one of such places becomes deadly for their owners who get murdered during the stick up . \\nten years later their son steven ( played by bradley gregg ) , who was blinded during the incident , still runs motel together with his older brother ray ( played by craig sheffer ) . \\nhardly anything happens there until alcoholic and abusive william gladstone ( played by dennis hopper ) gets stranded there with his attractive wife sandra ( played by lara flynn boyle ) . \\ntheir unexpected presence creates the chain of the events that would end in bloodshed . \\nyuri zeltser , author of this film , was obviously inspired by hitchcock's psycho , but he chose to add some new and potentially interesting elements to the original plot . \\ninstead of norman bates we have two brothers - one of them traumatised physically , another mentally . \\nsexual tension between beautiful female patron and shy motel clerk is heightened with the presence of alcoholic husband . \\neye of the storm is impressive in visual sense , with photography by karl walter lindenlaub providing a lot of claustrophobic atmosphere . \\nthe acting is fine - hopper , gregg and boyle are comfortable with their roles , but sheffer at times overacts his psycho routine . \\nunfortunately , eye of the storm , which was supposed to be intense psychological drama , deteriorates into cheap and predictable slasher flick during melodramatic finale . \\nin the end , this film reminds us that original approach can't prevent filmmakers from wasting too many opportunities . \\n ( special note to the profiler fans : ally walker appears in the beginning of the film in the small role of killer's girlfriend . ) \\n\"\n"
     ]
    }
   ],
   "source": [
    "diff_idx = np.where((pipeline_result != y_test) & (pipeline_result==1))\n",
    "ex1 = docs_test[diff_idx[0][0]]\n",
    "ex2 = docs_test[diff_idx[0][1]]\n",
    "print (\"Example1:\\n\",ex1)\n",
    "print (\"\\nExample2:\\n\",ex2)"
   ]
  },
  {
   "cell_type": "markdown",
   "metadata": {},
   "source": [
    "*------------------------\n",
    "\n",
    "## Problem 4 (20 points): Open Ended Question:  Finding the right plot"
   ]
  },
  {
   "cell_type": "code",
   "execution_count": null,
   "metadata": {
    "collapsed": true
   },
   "outputs": [],
   "source": []
  },
  {
   "cell_type": "code",
   "execution_count": null,
   "metadata": {
    "collapsed": true
   },
   "outputs": [],
   "source": []
  },
  {
   "cell_type": "markdown",
   "metadata": {},
   "source": [
    "* Can you find a two dimensional plot in which the positive and negative reviews are separated?\n",
    "    * This problem is hard since you will likely have thousands of features for review, and you will need to transform these thousands of features into just two numbers (so that you can make a 2D plot).\n",
    "* Note, I was not able to find such a plot myself!\n",
    "    * So, this problem is about **trying** but perhaps **not necessarily succeeding**!\n",
    "* I tried two things, neither of which worked very well.\n",
    "    * I first plotted the length of the review versus the number of features we compute that are in that review\n",
    "    * Second I used Principle Component Analysis on a subset of the features.\n",
    "* Can you do better than I did!?"
   ]
  },
  {
   "cell_type": "code",
   "execution_count": null,
   "metadata": {
    "collapsed": true
   },
   "outputs": [],
   "source": []
  },
  {
   "cell_type": "markdown",
   "metadata": {},
   "source": [
    "# Report: communicate the results (20 points)\n",
    "\n",
    "(1) (5 points) What data you collected?\n",
    "\n",
    "(2) (5 points) Why this topic is interesting or important to you? (Motivations)\n",
    "\n",
    "(3) (5 points) How did you analyse the data?\n",
    "\n",
    "(4) (5 points) What did you find in the data?\n",
    "(please include figures or tables in the report, but no source code)"
   ]
  },
  {
   "cell_type": "markdown",
   "metadata": {},
   "source": [
    "# Slides (for 10 minutes of presentation) (20 points)\n",
    "\n",
    "\n",
    "1. (5 points) Motivation about the data collection, why the topic is interesting to you. \n",
    "\n",
    "2. (10 points) Communicating Results (figure/table)\n",
    "\n",
    "3. (5 points) Story telling (How all the parts (data, analysis, result) fit together as a story?)"
   ]
  },
  {
   "cell_type": "markdown",
   "metadata": {},
   "source": [
    "*-----------------\n",
    "# Done\n",
    "\n",
    "All set! \n",
    "\n",
    "** What do you need to submit?**\n",
    "\n",
    "* **Notebook File**: Save this IPython notebook, and find the notebook file in your folder (for example, \"filename.ipynb\"). This is the file you need to submit. Please make sure all the plotted tables and figures are in the notebook. If you used \"ipython notebook --pylab=inline\" to open the notebook, all the figures and tables should have shown up in the notebook.\n",
    "\n",
    "\n",
    "* **PPT Slides**: please prepare PPT slides (for 10 minutes' talk) to present about the case study . We will ask two teams which are randomly selected to present their case studies in class for this case study. \n",
    "\n",
    "* ** Report**: please prepare a report (less than 10 pages) to report what you found in the data.\n",
    "    * What is the relationship between this topic and Business Intelligence?\n",
    "    * How did you analyse the data?\n",
    "    * What did you find in the data? \n",
    "    * What conjectures did you make and how did you support or disprove them using data?\n",
    "    * Did you find anything suprising in the data?\n",
    "    * What business decision do you think this data could help answer?  Why?\n",
    "\n",
    "   (please include figures or tables in the report, **but no source code**)\n",
    "\n",
    "*Please compress all the files into a single zipped file.*\n",
    "\n",
    "\n",
    "** How to submit: **\n",
    "\n",
    "        Please submit through email to Prof. Paffenroth (rcpaffenroth@wpi.edu) *and* the TA Yingnan Liu (yliu18@wpi.edu).\n",
    "\n",
    "#### We auto-process the submissions so make sure your subject line is *exactly*:\n",
    "\n",
    "### DS501 Case Study 3 Team ??\n",
    "\n",
    "#### where ?? is your team number.\n",
    "        \n",
    "** Note: Each team just needs to submits one submission **"
   ]
  },
  {
   "cell_type": "code",
   "execution_count": null,
   "metadata": {
    "collapsed": true
   },
   "outputs": [],
   "source": []
  }
 ],
 "metadata": {
  "kernel_info": {
   "name": "python3"
  },
  "kernelspec": {
   "display_name": "Python 3",
   "language": "python",
   "name": "python3"
  },
  "language_info": {
   "codemirror_mode": {
    "name": "ipython",
    "version": 3
   },
   "file_extension": ".py",
   "mimetype": "text/x-python",
   "name": "python",
   "nbconvert_exporter": "python",
   "pygments_lexer": "ipython3",
   "version": "3.5.2"
  },
  "nteract": {
   "version": "0.2.0"
  }
 },
 "nbformat": 4,
 "nbformat_minor": 1
}
